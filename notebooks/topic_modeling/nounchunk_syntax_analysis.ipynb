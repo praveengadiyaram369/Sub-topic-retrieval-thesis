{
 "cells": [
  {
   "cell_type": "markdown",
   "id": "3de55421",
   "metadata": {},
   "source": [
    "## 1. Spacy pos-tagging example"
   ]
  },
  {
   "cell_type": "code",
   "execution_count": 1,
   "id": "ba28cf30",
   "metadata": {},
   "outputs": [
    {
     "name": "stderr",
     "output_type": "stream",
     "text": [
      "C:\\Users\\sri.sai.praveen.gadi\\.virtualenvs\\xxx-eAHl9Gue\\lib\\site-packages\\tqdm\\auto.py:22: TqdmWarning: IProgress not found. Please update jupyter and ipywidgets. See https://ipywidgets.readthedocs.io/en/stable/user_install.html\n",
      "  from .autonotebook import tqdm as notebook_tqdm\n",
      "C:\\Users\\sri.sai.praveen.gadi\\.virtualenvs\\xxx-eAHl9Gue\\lib\\site-packages\\spacy\\util.py:865: UserWarning: [W095] Model 'en_core_web_sm' (3.2.0) was trained with spaCy v3.2 and may not be 100% compatible with the current version (3.4.1). If you see errors or degraded performance, download a newer compatible model or retrain your custom model with the current spaCy version. For more details and available updates, run: python -m spacy validate\n",
      "  warnings.warn(warn_msg)\n"
     ]
    }
   ],
   "source": [
    "import spacy\n",
    "from spacy.matcher import Matcher\n",
    "nlp = spacy.load(\"en_core_web_sm\")"
   ]
  },
  {
   "cell_type": "code",
   "execution_count": 2,
   "id": "3d0e550b",
   "metadata": {},
   "outputs": [],
   "source": [
    "test = \"We anaylse innovations in car recycling industries\"\n",
    "matcher = Matcher(nlp.vocab)\n",
    "\n",
    "pattern1 = [{'POS': 'NOUN'}, {'POS': 'NOUN'}, {'POS': 'NOUN'}]\n",
    "pattern2 = [{'POS': 'PROPN'}, {'POS': 'NOUN'}, {'POS': 'PROPN'}, {'POS': 'PROPN'}]\n",
    "pattern3 = [{'POS': 'NOUN'}, {'POS': 'DET'}, {'POS': 'NOUN'}]\n",
    "\n",
    "\n",
    "pattern4 = [{'TAG': 'NN'}, {'TAG': 'VBG'}]\n",
    "\n",
    "matcher.add(\"TrigramNCs\", [pattern1, pattern2, pattern3, pattern4])"
   ]
  },
  {
   "cell_type": "code",
   "execution_count": 3,
   "id": "e777302b",
   "metadata": {},
   "outputs": [],
   "source": [
    "doc = nlp(test)\n",
    "matches = matcher(doc)"
   ]
  },
  {
   "cell_type": "code",
   "execution_count": 4,
   "id": "aba3ec1e",
   "metadata": {},
   "outputs": [
    {
     "name": "stdout",
     "output_type": "stream",
     "text": [
      "We anaylse innovations\n",
      "car recycling industries\n",
      "######\n"
     ]
    }
   ],
   "source": [
    "for nc in doc.noun_chunks:\n",
    "    print(nc.text)\n",
    "print(\"######\")"
   ]
  },
  {
   "cell_type": "code",
   "execution_count": 5,
   "id": "20cc529f",
   "metadata": {},
   "outputs": [
    {
     "name": "stdout",
     "output_type": "stream",
     "text": [
      "car recycling industries\n"
     ]
    }
   ],
   "source": [
    "for match_id, start, end in matches:\n",
    "    span = doc[start:end]\n",
    "    print(span.text)"
   ]
  },
  {
   "cell_type": "code",
   "execution_count": 6,
   "id": "1194edbe",
   "metadata": {},
   "outputs": [
    {
     "name": "stdout",
     "output_type": "stream",
     "text": [
      "text     POS    TAG    Dep    POS explained        tag explained \n",
      "We       PRON   PRP    compound pronoun              pronoun, personal\n",
      "anaylse  VERB   VBP    compound verb                 verb, non-3rd person singular present\n",
      "innovations NOUN   NNS    ROOT   noun                 noun, plural\n",
      "in       ADP    IN     prep   adposition           conjunction, subordinating or preposition\n",
      "vehicle  NOUN   NN     compound noun                 noun, singular or mass\n",
      "sensing  VERB   VBG    compound verb                 verb, gerund or present participle\n",
      "capabilities NOUN   NNS    pobj   noun                 noun, plural\n"
     ]
    }
   ],
   "source": [
    "test = \"We anaylse innovations in vehicle sensing capabilities\"\n",
    "doc = nlp(test)\n",
    "\n",
    "print(f\"{'text':{8}} {'POS':{6}} {'TAG':{6}} {'Dep':{6}} {'POS explained':{20}} {'tag explained'} \")\n",
    "\n",
    "for token in doc:\n",
    "    print(f'{token.text:{8}} {token.pos_:{6}} {token.tag_:{6}} {token.dep_:{6}} {spacy.explain(token.pos_):{20}} {spacy.explain(token.tag_)}')"
   ]
  },
  {
   "cell_type": "markdown",
   "id": "b0633bf5",
   "metadata": {},
   "source": [
    "## 2. POS - Tag analysis"
   ]
  },
  {
   "cell_type": "code",
   "execution_count": 15,
   "id": "a110f93c",
   "metadata": {},
   "outputs": [],
   "source": [
    "import pandas as pd"
   ]
  },
  {
   "cell_type": "code",
   "execution_count": 7,
   "id": "5068b439",
   "metadata": {},
   "outputs": [],
   "source": [
    "pos_text = \"\"\"Das Programmieren der Bewegungen eines Roboters ist eine aufwendige und komplexe Angelegenheit. Mit seinem TracePen möchte das Dresdener Unternehmen Wandelbots diese Aufgabe erleichtern: Statt jedes Detail eines Bewegungsablaufs in Programmcode zu beschreiben, führt man mit dem TracePen am zu bearbeitenden Werkstück den gewünschten Bewegungsablauf des Roboters vor. Die Sensoren im  TracePen  erfassen die Bewegungen und übertragen sie an eine iPad-Software, mit der sich der Bewegungspfad nachbearbeiten lässt. Schließlich soll die App roboterspezifischen Programmcode für verschiedene Robotersysteme generieren und auf den Controller des Roboters übertragen, verspricht Hersteller Wandelbots – darunter KUKA (LBR iiwa und KRC-4), Universal Robots (CB Series und E Series) und ABB (IRC-5). Wandelbots , entstanden als Ausgründung aus der TU Dresden, startete 2017 mit der Idee, Roboter über intelligente Kleidung zu steuern. Bislang ist die Technik in Projekten bei Industriekunden, unter anderem bei Volkswagen, im Einsatz. Mit dem TracePen möchte das Unternehmen jetzt auch mittelständische Kunden erreichen. Das Produkt soll ab Mitte des Jahres ausgeliefert werden.\"\"\"\n",
    "neg_text = \"\"\"Die automatica, die nach eigener Aussage \"internationale Leitmesse für intelligente Automation und Robotik\", und die Munich School of Robotics and Machine Intelligence (MSRM) der Technischen Universität München (TUM) wollen im Dezember auf der automatica 2020 eine neue und \"weltweit einzigartige\" KI-Plattform ins Leben rufen. munich_i soll dabei \"unter dem Leitmotiv intelligence empowering tomorrow Antworten auf wirtschaftlich und gesellschaftlich dringende Fragen geben\". KI und Robotik stünden schließlich vor einem Quantensprung, erklärt munich_i-Direktor Prof. Dr. Sami Haddadin. Der Hightech Summit vom 8. bis 11. Dezember auf der automatica fokussiert sich dabei vor allem auf die Bereiche der modernen Arbeitswelt, Gesundheit und Mobilität. Falk Senger, Geschäftsführer der Messe München,  ist überzeugt , dass die automatica durch die neue KI-Plattform an gesellschaftlicher Relevanz gewinnt: „Gemeinsam initiieren wir die Debatte über den Nutzen von Technologie als Helfer des Menschen in den relevanten Bereichen Gesundheit, Arbeit und Mobilität. Mit munich_i führen wir (...) zusammen, was zueinander gehört (...) – die automatica als treibende Kraft für KI und Robotik, auf der anderen Seite die MSRM als Europas führende Deep-Tech-Schmiede.“ Neben dem Hightech Summit am 8. Dezember bietet munich_i mit der AI.Society auf über 1.000 Quadratmetern das, \"was morgen in Gesundheit, Arbeit und Mobilität Realität sein wird\". Ein Robothon-Wettbewerb soll die Fähigkeiten der internationalen akademischen Nachwuchselite unter Beweis stellen und beim Roboter-Führerschein können Messebesucher selbst die Zusammenarbeit zwischen Mensch und Roboter am eigenen Leib erfahren, so die Presseerklärung.\"\"\""
   ]
  },
  {
   "cell_type": "code",
   "execution_count": 8,
   "id": "af88f4ed",
   "metadata": {},
   "outputs": [
    {
     "data": {
      "text/plain": [
       "'Das Programmieren der Bewegungen eines Roboters ist eine aufwendige und komplexe Angelegenheit. Mit seinem TracePen möchte das Dresdener Unternehmen Wandelbots diese Aufgabe erleichtern: Statt jedes Detail eines Bewegungsablaufs in Programmcode zu beschreiben, führt man mit dem TracePen am zu bearbeitenden Werkstück den gewünschten Bewegungsablauf des Roboters vor. Die Sensoren im  TracePen  erfassen die Bewegungen und übertragen sie an eine iPad-Software, mit der sich der Bewegungspfad nachbearbeiten lässt. Schließlich soll die App roboterspezifischen Programmcode für verschiedene Robotersysteme generieren und auf den Controller des Roboters übertragen, verspricht Hersteller Wandelbots – darunter KUKA (LBR iiwa und KRC-4), Universal Robots (CB Series und E Series) und ABB (IRC-5). Wandelbots , entstanden als Ausgründung aus der TU Dresden, startete 2017 mit der Idee, Roboter über intelligente Kleidung zu steuern. Bislang ist die Technik in Projekten bei Industriekunden, unter anderem bei Volkswagen, im Einsatz. Mit dem TracePen möchte das Unternehmen jetzt auch mittelständische Kunden erreichen. Das Produkt soll ab Mitte des Jahres ausgeliefert werden.'"
      ]
     },
     "execution_count": 8,
     "metadata": {},
     "output_type": "execute_result"
    }
   ],
   "source": [
    "pos_text"
   ]
  },
  {
   "cell_type": "code",
   "execution_count": 9,
   "id": "3f59f86e",
   "metadata": {},
   "outputs": [
    {
     "data": {
      "text/plain": [
       "'Die automatica, die nach eigener Aussage \"internationale Leitmesse für intelligente Automation und Robotik\", und die Munich School of Robotics and Machine Intelligence (MSRM) der Technischen Universität München (TUM) wollen im Dezember auf der automatica 2020 eine neue und \"weltweit einzigartige\" KI-Plattform ins Leben rufen. munich_i soll dabei \"unter dem Leitmotiv intelligence empowering tomorrow Antworten auf wirtschaftlich und gesellschaftlich dringende Fragen geben\". KI und Robotik stünden schließlich vor einem Quantensprung, erklärt munich_i-Direktor Prof. Dr. Sami Haddadin. Der Hightech Summit vom 8. bis 11. Dezember auf der automatica fokussiert sich dabei vor allem auf die Bereiche der modernen Arbeitswelt, Gesundheit und Mobilität. Falk Senger, Geschäftsführer der Messe München,  ist überzeugt , dass die automatica durch die neue KI-Plattform an gesellschaftlicher Relevanz gewinnt: „Gemeinsam initiieren wir die Debatte über den Nutzen von Technologie als Helfer des Menschen in den relevanten Bereichen Gesundheit, Arbeit und Mobilität. Mit munich_i führen wir (...) zusammen, was zueinander gehört (...) – die automatica als treibende Kraft für KI und Robotik, auf der anderen Seite die MSRM als Europas führende Deep-Tech-Schmiede.“ Neben dem Hightech Summit am 8. Dezember bietet munich_i mit der AI.Society auf über 1.000 Quadratmetern das, \"was morgen in Gesundheit, Arbeit und Mobilität Realität sein wird\". Ein Robothon-Wettbewerb soll die Fähigkeiten der internationalen akademischen Nachwuchselite unter Beweis stellen und beim Roboter-Führerschein können Messebesucher selbst die Zusammenarbeit zwischen Mensch und Roboter am eigenen Leib erfahren, so die Presseerklärung.'"
      ]
     },
     "execution_count": 9,
     "metadata": {},
     "output_type": "execute_result"
    }
   ],
   "source": [
    "neg_text"
   ]
  },
  {
   "cell_type": "code",
   "execution_count": 10,
   "id": "87b2e2c6",
   "metadata": {},
   "outputs": [
    {
     "name": "stderr",
     "output_type": "stream",
     "text": [
      "C:\\Users\\sri.sai.praveen.gadi\\.virtualenvs\\xxx-eAHl9Gue\\lib\\site-packages\\spacy\\util.py:865: UserWarning: [W095] Model 'de_core_news_sm' (3.2.0) was trained with spaCy v3.2 and may not be 100% compatible with the current version (3.4.1). If you see errors or degraded performance, download a newer compatible model or retrain your custom model with the current spaCy version. For more details and available updates, run: python -m spacy validate\n",
      "  warnings.warn(warn_msg)\n"
     ]
    }
   ],
   "source": [
    "nlp_de = spacy.load(\"de_core_news_sm\")"
   ]
  },
  {
   "cell_type": "code",
   "execution_count": 16,
   "id": "4501c1cd",
   "metadata": {},
   "outputs": [],
   "source": [
    "columns = ['token text', 'POS', 'TAG', 'Dep', 'POS explained', 'tag explained']"
   ]
  },
  {
   "cell_type": "code",
   "execution_count": 22,
   "id": "910e38ba",
   "metadata": {},
   "outputs": [],
   "source": [
    "def print_pos_tagging(text):\n",
    "    \n",
    "    doc = nlp_de(text)\n",
    "    token_list = []\n",
    "    \n",
    "#     print(f\"{'text':{8}} {'POS':{6}} {'TAG':{6}} {'Dep':{6}} {'POS explained':{20}} {'tag explained'} \")\n",
    "\n",
    "    for token in doc:\n",
    "        token_list.append((token.text,token.pos_, token.tag_, token.dep_, spacy.explain(token.pos_), spacy.explain(token.tag_).replace(',', ';')))\n",
    "#         print(f'{token.text:{8}} {token.pos_:{6}} {token.tag_:{6}} {token.dep_:{6}} {spacy.explain(token.pos_):{20}} {spacy.explain(token.tag_)}')\n",
    "\n",
    "    return token_list"
   ]
  },
  {
   "cell_type": "code",
   "execution_count": 25,
   "id": "f99ee12a",
   "metadata": {},
   "outputs": [
    {
     "data": {
      "text/html": [
       "<div>\n",
       "<style scoped>\n",
       "    .dataframe tbody tr th:only-of-type {\n",
       "        vertical-align: middle;\n",
       "    }\n",
       "\n",
       "    .dataframe tbody tr th {\n",
       "        vertical-align: top;\n",
       "    }\n",
       "\n",
       "    .dataframe thead th {\n",
       "        text-align: right;\n",
       "    }\n",
       "</style>\n",
       "<table border=\"1\" class=\"dataframe\">\n",
       "  <thead>\n",
       "    <tr style=\"text-align: right;\">\n",
       "      <th></th>\n",
       "      <th>token text</th>\n",
       "      <th>POS</th>\n",
       "      <th>TAG</th>\n",
       "      <th>Dep</th>\n",
       "      <th>POS explained</th>\n",
       "      <th>tag explained</th>\n",
       "    </tr>\n",
       "  </thead>\n",
       "  <tbody>\n",
       "    <tr>\n",
       "      <th>0</th>\n",
       "      <td>Das</td>\n",
       "      <td>DET</td>\n",
       "      <td>ART</td>\n",
       "      <td>nk</td>\n",
       "      <td>determiner</td>\n",
       "      <td>definite or indefinite article</td>\n",
       "    </tr>\n",
       "    <tr>\n",
       "      <th>1</th>\n",
       "      <td>Programmieren</td>\n",
       "      <td>NOUN</td>\n",
       "      <td>NN</td>\n",
       "      <td>sb</td>\n",
       "      <td>noun</td>\n",
       "      <td>noun; singular or mass</td>\n",
       "    </tr>\n",
       "    <tr>\n",
       "      <th>2</th>\n",
       "      <td>der</td>\n",
       "      <td>DET</td>\n",
       "      <td>ART</td>\n",
       "      <td>nk</td>\n",
       "      <td>determiner</td>\n",
       "      <td>definite or indefinite article</td>\n",
       "    </tr>\n",
       "    <tr>\n",
       "      <th>3</th>\n",
       "      <td>Bewegungen</td>\n",
       "      <td>NOUN</td>\n",
       "      <td>NN</td>\n",
       "      <td>ag</td>\n",
       "      <td>noun</td>\n",
       "      <td>noun; singular or mass</td>\n",
       "    </tr>\n",
       "    <tr>\n",
       "      <th>4</th>\n",
       "      <td>eines</td>\n",
       "      <td>DET</td>\n",
       "      <td>ART</td>\n",
       "      <td>nk</td>\n",
       "      <td>determiner</td>\n",
       "      <td>definite or indefinite article</td>\n",
       "    </tr>\n",
       "    <tr>\n",
       "      <th>...</th>\n",
       "      <td>...</td>\n",
       "      <td>...</td>\n",
       "      <td>...</td>\n",
       "      <td>...</td>\n",
       "      <td>...</td>\n",
       "      <td>...</td>\n",
       "    </tr>\n",
       "    <tr>\n",
       "      <th>178</th>\n",
       "      <td>des</td>\n",
       "      <td>DET</td>\n",
       "      <td>ART</td>\n",
       "      <td>nk</td>\n",
       "      <td>determiner</td>\n",
       "      <td>definite or indefinite article</td>\n",
       "    </tr>\n",
       "    <tr>\n",
       "      <th>179</th>\n",
       "      <td>Jahres</td>\n",
       "      <td>NOUN</td>\n",
       "      <td>NN</td>\n",
       "      <td>ag</td>\n",
       "      <td>noun</td>\n",
       "      <td>noun; singular or mass</td>\n",
       "    </tr>\n",
       "    <tr>\n",
       "      <th>180</th>\n",
       "      <td>ausgeliefert</td>\n",
       "      <td>VERB</td>\n",
       "      <td>VVPP</td>\n",
       "      <td>oc</td>\n",
       "      <td>verb</td>\n",
       "      <td>perfect participle; full</td>\n",
       "    </tr>\n",
       "    <tr>\n",
       "      <th>181</th>\n",
       "      <td>werden</td>\n",
       "      <td>AUX</td>\n",
       "      <td>VAINF</td>\n",
       "      <td>oc</td>\n",
       "      <td>auxiliary</td>\n",
       "      <td>infinitive; auxiliary</td>\n",
       "    </tr>\n",
       "    <tr>\n",
       "      <th>182</th>\n",
       "      <td>.</td>\n",
       "      <td>PUNCT</td>\n",
       "      <td>$.</td>\n",
       "      <td>punct</td>\n",
       "      <td>punctuation</td>\n",
       "      <td>sentence-final punctuation mark</td>\n",
       "    </tr>\n",
       "  </tbody>\n",
       "</table>\n",
       "<p>183 rows × 6 columns</p>\n",
       "</div>"
      ],
      "text/plain": [
       "        token text    POS    TAG    Dep POS explained  \\\n",
       "0              Das    DET    ART     nk    determiner   \n",
       "1    Programmieren   NOUN     NN     sb          noun   \n",
       "2              der    DET    ART     nk    determiner   \n",
       "3       Bewegungen   NOUN     NN     ag          noun   \n",
       "4            eines    DET    ART     nk    determiner   \n",
       "..             ...    ...    ...    ...           ...   \n",
       "178            des    DET    ART     nk    determiner   \n",
       "179         Jahres   NOUN     NN     ag          noun   \n",
       "180   ausgeliefert   VERB   VVPP     oc          verb   \n",
       "181         werden    AUX  VAINF     oc     auxiliary   \n",
       "182              .  PUNCT     $.  punct   punctuation   \n",
       "\n",
       "                       tag explained  \n",
       "0     definite or indefinite article  \n",
       "1             noun; singular or mass  \n",
       "2     definite or indefinite article  \n",
       "3             noun; singular or mass  \n",
       "4     definite or indefinite article  \n",
       "..                               ...  \n",
       "178   definite or indefinite article  \n",
       "179           noun; singular or mass  \n",
       "180         perfect participle; full  \n",
       "181            infinitive; auxiliary  \n",
       "182  sentence-final punctuation mark  \n",
       "\n",
       "[183 rows x 6 columns]"
      ]
     },
     "execution_count": 25,
     "metadata": {},
     "output_type": "execute_result"
    }
   ],
   "source": [
    "token_list = print_pos_tagging(pos_text)\n",
    "pos_df = pd.DataFrame(token_list, columns= columns)\n",
    "pos_df.to_csv('pos_doc_pos_data.csv', encoding='utf-8', index=False)\n",
    "pos_df"
   ]
  },
  {
   "cell_type": "code",
   "execution_count": 26,
   "id": "dd074789",
   "metadata": {},
   "outputs": [
    {
     "data": {
      "text/html": [
       "<div>\n",
       "<style scoped>\n",
       "    .dataframe tbody tr th:only-of-type {\n",
       "        vertical-align: middle;\n",
       "    }\n",
       "\n",
       "    .dataframe tbody tr th {\n",
       "        vertical-align: top;\n",
       "    }\n",
       "\n",
       "    .dataframe thead th {\n",
       "        text-align: right;\n",
       "    }\n",
       "</style>\n",
       "<table border=\"1\" class=\"dataframe\">\n",
       "  <thead>\n",
       "    <tr style=\"text-align: right;\">\n",
       "      <th></th>\n",
       "      <th>token text</th>\n",
       "      <th>POS</th>\n",
       "      <th>TAG</th>\n",
       "      <th>Dep</th>\n",
       "      <th>POS explained</th>\n",
       "      <th>tag explained</th>\n",
       "    </tr>\n",
       "  </thead>\n",
       "  <tbody>\n",
       "    <tr>\n",
       "      <th>0</th>\n",
       "      <td>Die</td>\n",
       "      <td>DET</td>\n",
       "      <td>ART</td>\n",
       "      <td>nk</td>\n",
       "      <td>determiner</td>\n",
       "      <td>definite or indefinite article</td>\n",
       "    </tr>\n",
       "    <tr>\n",
       "      <th>1</th>\n",
       "      <td>automatica</td>\n",
       "      <td>PROPN</td>\n",
       "      <td>NE</td>\n",
       "      <td>sb</td>\n",
       "      <td>proper noun</td>\n",
       "      <td>proper noun</td>\n",
       "    </tr>\n",
       "    <tr>\n",
       "      <th>2</th>\n",
       "      <td>,</td>\n",
       "      <td>PUNCT</td>\n",
       "      <td>$,</td>\n",
       "      <td>punct</td>\n",
       "      <td>punctuation</td>\n",
       "      <td>comma</td>\n",
       "    </tr>\n",
       "    <tr>\n",
       "      <th>3</th>\n",
       "      <td>die</td>\n",
       "      <td>PRON</td>\n",
       "      <td>PRELS</td>\n",
       "      <td>sb</td>\n",
       "      <td>pronoun</td>\n",
       "      <td>substituting relative pronoun</td>\n",
       "    </tr>\n",
       "    <tr>\n",
       "      <th>4</th>\n",
       "      <td>nach</td>\n",
       "      <td>ADP</td>\n",
       "      <td>APPR</td>\n",
       "      <td>mnr</td>\n",
       "      <td>adposition</td>\n",
       "      <td>preposition; circumposition left</td>\n",
       "    </tr>\n",
       "    <tr>\n",
       "      <th>...</th>\n",
       "      <td>...</td>\n",
       "      <td>...</td>\n",
       "      <td>...</td>\n",
       "      <td>...</td>\n",
       "      <td>...</td>\n",
       "      <td>...</td>\n",
       "    </tr>\n",
       "    <tr>\n",
       "      <th>265</th>\n",
       "      <td>,</td>\n",
       "      <td>PUNCT</td>\n",
       "      <td>$,</td>\n",
       "      <td>punct</td>\n",
       "      <td>punctuation</td>\n",
       "      <td>comma</td>\n",
       "    </tr>\n",
       "    <tr>\n",
       "      <th>266</th>\n",
       "      <td>so</td>\n",
       "      <td>ADV</td>\n",
       "      <td>ADV</td>\n",
       "      <td>mo</td>\n",
       "      <td>adverb</td>\n",
       "      <td>adverb</td>\n",
       "    </tr>\n",
       "    <tr>\n",
       "      <th>267</th>\n",
       "      <td>die</td>\n",
       "      <td>DET</td>\n",
       "      <td>ART</td>\n",
       "      <td>nk</td>\n",
       "      <td>determiner</td>\n",
       "      <td>definite or indefinite article</td>\n",
       "    </tr>\n",
       "    <tr>\n",
       "      <th>268</th>\n",
       "      <td>Presseerklärung</td>\n",
       "      <td>NOUN</td>\n",
       "      <td>NN</td>\n",
       "      <td>mo</td>\n",
       "      <td>noun</td>\n",
       "      <td>noun; singular or mass</td>\n",
       "    </tr>\n",
       "    <tr>\n",
       "      <th>269</th>\n",
       "      <td>.</td>\n",
       "      <td>PUNCT</td>\n",
       "      <td>$.</td>\n",
       "      <td>punct</td>\n",
       "      <td>punctuation</td>\n",
       "      <td>sentence-final punctuation mark</td>\n",
       "    </tr>\n",
       "  </tbody>\n",
       "</table>\n",
       "<p>270 rows × 6 columns</p>\n",
       "</div>"
      ],
      "text/plain": [
       "          token text    POS    TAG    Dep POS explained  \\\n",
       "0                Die    DET    ART     nk    determiner   \n",
       "1         automatica  PROPN     NE     sb   proper noun   \n",
       "2                  ,  PUNCT     $,  punct   punctuation   \n",
       "3                die   PRON  PRELS     sb       pronoun   \n",
       "4               nach    ADP   APPR    mnr    adposition   \n",
       "..               ...    ...    ...    ...           ...   \n",
       "265                ,  PUNCT     $,  punct   punctuation   \n",
       "266               so    ADV    ADV     mo        adverb   \n",
       "267              die    DET    ART     nk    determiner   \n",
       "268  Presseerklärung   NOUN     NN     mo          noun   \n",
       "269                .  PUNCT     $.  punct   punctuation   \n",
       "\n",
       "                        tag explained  \n",
       "0      definite or indefinite article  \n",
       "1                         proper noun  \n",
       "2                               comma  \n",
       "3       substituting relative pronoun  \n",
       "4    preposition; circumposition left  \n",
       "..                                ...  \n",
       "265                             comma  \n",
       "266                            adverb  \n",
       "267    definite or indefinite article  \n",
       "268            noun; singular or mass  \n",
       "269   sentence-final punctuation mark  \n",
       "\n",
       "[270 rows x 6 columns]"
      ]
     },
     "execution_count": 26,
     "metadata": {},
     "output_type": "execute_result"
    }
   ],
   "source": [
    "token_list = print_pos_tagging(neg_text)\n",
    "pos_df = pd.DataFrame(token_list, columns= columns)\n",
    "pos_df.to_csv('neg_doc_pos_data.csv', encoding='utf-8', index=False)\n",
    "pos_df"
   ]
  }
 ],
 "metadata": {
  "kernelspec": {
   "display_name": "Python 3 (ipykernel)",
   "language": "python",
   "name": "python3"
  },
  "language_info": {
   "codemirror_mode": {
    "name": "ipython",
    "version": 3
   },
   "file_extension": ".py",
   "mimetype": "text/x-python",
   "name": "python",
   "nbconvert_exporter": "python",
   "pygments_lexer": "ipython3",
   "version": "3.7.9"
  }
 },
 "nbformat": 4,
 "nbformat_minor": 5
}
