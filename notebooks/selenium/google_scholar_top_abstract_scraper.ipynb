{
 "cells": [
  {
   "cell_type": "code",
   "execution_count": 2,
   "id": "49536da1",
   "metadata": {},
   "outputs": [],
   "source": [
    "from selenium import webdriver\n",
    "from selenium.webdriver.support.ui import WebDriverWait\n",
    "from selenium.webdriver.support import expected_conditions as EC\n",
    "from selenium.webdriver.common.by import By\n",
    "\n",
    "from bs4 import BeautifulSoup\n",
    "import time\n",
    "\n",
    "import pandas as pd"
   ]
  },
  {
   "cell_type": "code",
   "execution_count": 3,
   "id": "f87af617",
   "metadata": {},
   "outputs": [],
   "source": [
    "chrome_driver_path = 'C:/Users/sri.sai.praveen.gadi/Downloads/apps/chromedriver_win32/chromedriver.exe'\n",
    "\n",
    "query_1 = 'AI advancements and innovations in military'\n",
    "query_2 = 'AI technology advertisements'"
   ]
  },
  {
   "cell_type": "code",
   "execution_count": 4,
   "id": "a59153c5",
   "metadata": {},
   "outputs": [],
   "source": [
    "keywords_list_tech = {\n",
    "    'en': ['Social media', 'DesInformation Campaigns', 'Cyber Attack', 'Artificial Intelligence', 'AI', 'Cryptology', 'Postquantum', 'Quantum Technology', 'Public Key Infrastructure', 'Predictive Analysis', '5G', 'Cell-based Mobile Communications', 'Optical Communication', 'Waveform development', 'Satellite communications', 'tactical routing', 'Resilient communication networks', 'Data links', 'Tactical data links', 'Man-machine interfaces', 'Big Data, AI for analysis', 'Multi-robot deployment', 'IT standards', 'Interoperability', 'tactical de-networking', 'edge computing', '3D models', 'mixed reality', 'Geospatial information', 'Trafficability modeling', 'Weather data fusion', 'Sensor data fusion', 'change detection', 'Architecture analysis', 'Data discovery and analysis', 'cloud computing', 'Digital Radio', 'FPGA', 'IT threat analysis', 'Technology screening', 'IT security for embedded IT', 'IT security requirements', 'IT technologies', 'Communication networks', 'Communication services', 'Communication technologies', 'Cryptography', 'LTE', 'Method Architecture', 'Mobile Computing', 'Mobile Communication', 'Process support', 'Radar', 'Robotics', 'Satellite communication', 'Semantic Technologies', 'Software Defined Networking', 'Software Development', 'Tactical Data Links', 'tactical routing', 'networked systems', 'virtualization', 'visualization', 'Waveforms and propagation', 'Character-oriented information exchange'],\n",
    "    'de': ['Soziale Medien', 'DesInformationskampagnen', 'Cyber Attack', 'Künstliche Intelligenz', 'KI', 'Kryptologie', 'Postquantum', 'Quantentechnologie', 'Public Key Infrastructure', 'Predictive Analysis', '5G', 'Zellenbasierter Mobilfunk', 'Optische Kommunikation', 'Wellenformentwicklung', 'Satellitenkommunikation', 'taktisches Routing', 'Resiliente Kommunikationsverbünde', 'Datenlinks', 'Taktische Datenlinks', 'Mensch-Maschine Schnittstellen', 'Big Data, KI für Analyse', 'Multirobotereinsatz', 'IT-Standards', 'Interoperabilität', 'taktische Entnetzung', 'Edge computing', '3D-Modelle', 'Mixed Reality', 'Geoinformationen', 'Befahrbarkeitsmodellierung', 'Wetterdatenfusion', 'Sensordatenfusion', 'Change Detektion', 'Architekturanalyse', 'Datenermittlung und -analyse', 'Cloud Computing', 'Digitalfunk', 'FPGA', 'IT-Bedrohungsanalyse', 'Technologie-Screening', 'IT-Sicherheit bei embedded IT', 'IT-Sicherheitsvorgaben', 'IT-Technologien', 'Kommunikationsnetze', 'Kommunikations-Services', 'Kommunikationstechnologien', 'Kryptographie', 'LTE', 'Methode Architektur', 'Mobile Computing', 'Mobile Kommunikation', 'Prozessunterstützung', 'Radar', 'Robotik', 'Satellitenkommunikation', 'Semantische Technologien', 'Software Defined Networking', 'Softwareentwicklung', 'Taktische Datenlinks', 'Taktisches Routing', 'vernetzte Systeme', 'Virtualisierung', 'Visualisierung', 'Wellenformen und -ausbreitung', 'Zeichenorientierter InfoAustausch']\n",
    "}\n",
    "\n",
    "keywords_list_milt = {\n",
    "    'en': ['Protection of unmanned systems', 'Vulnerability analysis of own weapon systems', 'Weapons Systems', 'Defense', 'Cyber Information Room', 'Multi Range Cyber Information Room', 'military decision making', 'Unmanned Weapon Systems', 'Data Centric Warfare', 'Combat Cloud', 'Cyber Defense', 'Military Communications', 'Unmanned Land Systems', 'Multifunctional Radar Systems', 'Main Ground Combat System (MGCS)', 'Protection against Navigation Warfare', 'GeoInfo specific'],\n",
    "    'de': ['Schutz von unbemannten Systemen', 'Schwachstellenanalyse eigene Waffen-Systeme', 'Waffen Systeme', 'Defense', 'Cyberinformationsraum', 'Multi Range Cyberinformationsraum', 'militärische Entscheidungsfindung', 'unbemannte Wirksysteme', 'Data Centric Warfare', 'Combat Cloud', 'Cyber-Verteidigung', 'Militärische Kommunikation', 'Unbemannte Landsysteme', 'Multifunktionale Radarsysteme', 'Main Ground Combat System (MGCS)', 'Schutz gegen Navigation Warfare', 'GeoInfo spezifisch']\n",
    "}\n",
    "\n",
    "question_templates_tech = {\n",
    "    'en': ['XXX technology advancements and innovations', 'XXX technology advancements and innovations in military'],\n",
    "    'de': ['Fortschritte und Innovationen in der XXX-Technologie', 'Fortschritte und Innovationen bei der XXX-Technologie im Militär']\n",
    "}\n",
    "\n",
    "question_templates_milt = {\n",
    "    'en': ['XXX military advancements and innovations'],\n",
    "    'de': ['XXX Militärische Fortschritte und Innovationen']\n",
    "}\n",
    "\n",
    "question_templates_ads = {\n",
    "    'en': ['XXX technology advertisements and commercials'],\n",
    "    'de': ['XXX Technologie-Anzeigen und -Werbespots']\n",
    "}"
   ]
  },
  {
   "cell_type": "code",
   "execution_count": 5,
   "id": "8c283820",
   "metadata": {},
   "outputs": [],
   "source": [
    "def question_generator(lang, tech_or_milt):\n",
    "    \n",
    "    if tech_or_milt == 'milt':\n",
    "        keywords_list = keywords_list_milt[lang]\n",
    "        question_templates = question_templates_milt[lang]\n",
    "    elif tech_or_milt == 'tech':\n",
    "        keywords_list = keywords_list_tech[lang]\n",
    "        question_templates = question_templates_tech[lang]\n",
    "    elif tech_or_milt == 'ads':\n",
    "        keywords_list = keywords_list_milt[lang] + keywords_list_tech[lang]\n",
    "        question_templates = question_templates_ads[lang]\n",
    "        \n",
    "    questions_list = []\n",
    "    for question in question_templates:\n",
    "        for keyword in keywords_list:\n",
    "            questions_list.append(question.replace('XXX', keyword))\n",
    "        \n",
    "    return questions_list"
   ]
  },
  {
   "cell_type": "code",
   "execution_count": 6,
   "id": "fd91e4d5",
   "metadata": {},
   "outputs": [],
   "source": [
    "possible_query_combinations = [('en', 'tech'), ('en', 'milt'), ('de', 'tech'), ('de', 'milt')]\n",
    "all_questions = []\n",
    "\n",
    "for comb in possible_query_combinations:\n",
    "    \n",
    "    comb_questions = question_generator(comb[0], comb[1])\n",
    "    for question in comb_questions:\n",
    "        all_questions.append((comb[0], comb[1], question))"
   ]
  },
  {
   "cell_type": "code",
   "execution_count": 7,
   "id": "ed111ab0",
   "metadata": {},
   "outputs": [
    {
     "data": {
      "text/html": [
       "<div>\n",
       "<style scoped>\n",
       "    .dataframe tbody tr th:only-of-type {\n",
       "        vertical-align: middle;\n",
       "    }\n",
       "\n",
       "    .dataframe tbody tr th {\n",
       "        vertical-align: top;\n",
       "    }\n",
       "\n",
       "    .dataframe thead th {\n",
       "        text-align: right;\n",
       "    }\n",
       "</style>\n",
       "<table border=\"1\" class=\"dataframe\">\n",
       "  <thead>\n",
       "    <tr style=\"text-align: right;\">\n",
       "      <th></th>\n",
       "      <th>lang</th>\n",
       "      <th>ques_type</th>\n",
       "      <th>question</th>\n",
       "    </tr>\n",
       "  </thead>\n",
       "  <tbody>\n",
       "    <tr>\n",
       "      <th>0</th>\n",
       "      <td>en</td>\n",
       "      <td>tech</td>\n",
       "      <td>Social media technology advancements and innov...</td>\n",
       "    </tr>\n",
       "    <tr>\n",
       "      <th>1</th>\n",
       "      <td>en</td>\n",
       "      <td>tech</td>\n",
       "      <td>DesInformation Campaigns technology advancemen...</td>\n",
       "    </tr>\n",
       "    <tr>\n",
       "      <th>2</th>\n",
       "      <td>en</td>\n",
       "      <td>tech</td>\n",
       "      <td>Cyber Attack technology advancements and innov...</td>\n",
       "    </tr>\n",
       "    <tr>\n",
       "      <th>3</th>\n",
       "      <td>en</td>\n",
       "      <td>tech</td>\n",
       "      <td>Artificial Intelligence technology advancement...</td>\n",
       "    </tr>\n",
       "    <tr>\n",
       "      <th>4</th>\n",
       "      <td>en</td>\n",
       "      <td>tech</td>\n",
       "      <td>AI technology advancements and innovations</td>\n",
       "    </tr>\n",
       "    <tr>\n",
       "      <th>...</th>\n",
       "      <td>...</td>\n",
       "      <td>...</td>\n",
       "      <td>...</td>\n",
       "    </tr>\n",
       "    <tr>\n",
       "      <th>289</th>\n",
       "      <td>de</td>\n",
       "      <td>milt</td>\n",
       "      <td>Unbemannte Landsysteme Militärische Fortschrit...</td>\n",
       "    </tr>\n",
       "    <tr>\n",
       "      <th>290</th>\n",
       "      <td>de</td>\n",
       "      <td>milt</td>\n",
       "      <td>Multifunktionale Radarsysteme Militärische For...</td>\n",
       "    </tr>\n",
       "    <tr>\n",
       "      <th>291</th>\n",
       "      <td>de</td>\n",
       "      <td>milt</td>\n",
       "      <td>Main Ground Combat System (MGCS) Militärische ...</td>\n",
       "    </tr>\n",
       "    <tr>\n",
       "      <th>292</th>\n",
       "      <td>de</td>\n",
       "      <td>milt</td>\n",
       "      <td>Schutz gegen Navigation Warfare Militärische F...</td>\n",
       "    </tr>\n",
       "    <tr>\n",
       "      <th>293</th>\n",
       "      <td>de</td>\n",
       "      <td>milt</td>\n",
       "      <td>GeoInfo spezifisch Militärische Fortschritte u...</td>\n",
       "    </tr>\n",
       "  </tbody>\n",
       "</table>\n",
       "<p>288 rows × 3 columns</p>\n",
       "</div>"
      ],
      "text/plain": [
       "    lang ques_type                                           question\n",
       "0     en      tech  Social media technology advancements and innov...\n",
       "1     en      tech  DesInformation Campaigns technology advancemen...\n",
       "2     en      tech  Cyber Attack technology advancements and innov...\n",
       "3     en      tech  Artificial Intelligence technology advancement...\n",
       "4     en      tech         AI technology advancements and innovations\n",
       "..   ...       ...                                                ...\n",
       "289   de      milt  Unbemannte Landsysteme Militärische Fortschrit...\n",
       "290   de      milt  Multifunktionale Radarsysteme Militärische For...\n",
       "291   de      milt  Main Ground Combat System (MGCS) Militärische ...\n",
       "292   de      milt  Schutz gegen Navigation Warfare Militärische F...\n",
       "293   de      milt  GeoInfo spezifisch Militärische Fortschritte u...\n",
       "\n",
       "[288 rows x 3 columns]"
      ]
     },
     "execution_count": 7,
     "metadata": {},
     "output_type": "execute_result"
    }
   ],
   "source": [
    "ques_df = pd.DataFrame(all_questions, columns=['lang', 'ques_type', 'question'])\n",
    "ques_df = ques_df.drop_duplicates(subset=['lang', 'ques_type', 'question'])\n",
    "ques_df"
   ]
  },
  {
   "cell_type": "code",
   "execution_count": 8,
   "id": "f176d601",
   "metadata": {},
   "outputs": [
    {
     "data": {
      "text/plain": [
       "en    145\n",
       "de    143\n",
       "Name: lang, dtype: int64"
      ]
     },
     "execution_count": 8,
     "metadata": {},
     "output_type": "execute_result"
    }
   ],
   "source": [
    "ques_df.lang.value_counts()"
   ]
  },
  {
   "cell_type": "code",
   "execution_count": 9,
   "id": "086508b1",
   "metadata": {},
   "outputs": [
    {
     "data": {
      "text/plain": [
       "tech    254\n",
       "milt     34\n",
       "Name: ques_type, dtype: int64"
      ]
     },
     "execution_count": 9,
     "metadata": {},
     "output_type": "execute_result"
    }
   ],
   "source": [
    "ques_df.ques_type.value_counts()"
   ]
  },
  {
   "cell_type": "code",
   "execution_count": 10,
   "id": "56f117bb",
   "metadata": {},
   "outputs": [],
   "source": [
    "def run_selenium_simulation(final_query):\n",
    "    \n",
    "    driver = webdriver.Chrome(chrome_driver_path)\n",
    "    web_query = driver.get(final_query)\n",
    "    wait = WebDriverWait(driver, 5)\n",
    "    driver.find_element(\"xpath\", '//button[@id = \"L2AGLb\"]').click()\n",
    "    \n",
    "    result_list = []\n",
    "    \n",
    "    for idx, element in enumerate(driver.find_elements(\"xpath\",'//div[@class=\"jtfYYd UK95Uc\"]')):\n",
    "        title = element.find_element(\"xpath\",'.//h3').text\n",
    "        link = element.find_element(\"xpath\",'.//div[@class=\"yuRUbf\"]/a').get_attribute('href')\n",
    "        \n",
    "#         print(f'{title} -- {link}')\n",
    "        result_list.append((title, link, idx+1))\n",
    "\n",
    "#     driver.quit()\n",
    "    \n",
    "    return result_list\n",
    "\n",
    "def run_search_template(lang, ques_type, question, search_query_template):\n",
    "    \n",
    "    final_top_url_list = []\n",
    "    \n",
    "    top_links = run_selenium_simulation(search_query_template)\n",
    "    \n",
    "    for link in top_links:\n",
    "        final_top_url_list.append((lang, ques_type, question, link[0], link[1], link[2]))\n",
    "        \n",
    "    return final_top_url_list"
   ]
  },
  {
   "cell_type": "code",
   "execution_count": 16,
   "id": "421e7c08",
   "metadata": {},
   "outputs": [
    {
     "data": {
      "text/plain": [
       "0.385"
      ]
     },
     "execution_count": 16,
     "metadata": {},
     "output_type": "execute_result"
    }
   ],
   "source": [
    "(0.53+0.24)/2"
   ]
  },
  {
   "cell_type": "code",
   "execution_count": 17,
   "id": "0610d67d",
   "metadata": {},
   "outputs": [
    {
     "data": {
      "text/plain": [
       "0.79"
      ]
     },
     "execution_count": 17,
     "metadata": {},
     "output_type": "execute_result"
    }
   ],
   "source": [
    "(0.83+0.75)/2"
   ]
  },
  {
   "cell_type": "code",
   "execution_count": 18,
   "id": "4b112844",
   "metadata": {},
   "outputs": [
    {
     "data": {
      "text/plain": [
       "0.5222033898305085"
      ]
     },
     "execution_count": 18,
     "metadata": {},
     "output_type": "execute_result"
    }
   ],
   "source": [
    "(2*0.39*0.79)/(0.39+0.79)"
   ]
  },
  {
   "cell_type": "code",
   "execution_count": 12,
   "id": "2c24e61b",
   "metadata": {},
   "outputs": [
    {
     "name": "stderr",
     "output_type": "stream",
     "text": [
      "C:\\Users\\sri.sai.praveen.gadi\\.virtualenvs\\xxx-eAHl9Gue\\lib\\site-packages\\ipykernel_launcher.py:3: DeprecationWarning: executable_path has been deprecated, please pass in a Service object\n",
      "  This is separate from the ipykernel package so we can avoid doing imports until\n"
     ]
    },
    {
     "ename": "NoSuchElementException",
     "evalue": "Message: no such element: Unable to locate element: {\"method\":\"xpath\",\"selector\":\"//button[@id = \"L2AGLb\"]\"}\n  (Session info: chrome=103.0.5060.134)\nStacktrace:\nBacktrace:\n\tOrdinal0 [0x004E5FD3+2187219]\n\tOrdinal0 [0x0047E6D1+1763025]\n\tOrdinal0 [0x00393E78+802424]\n\tOrdinal0 [0x003C1C10+990224]\n\tOrdinal0 [0x003C1EAB+990891]\n\tOrdinal0 [0x003EEC92+1174674]\n\tOrdinal0 [0x003DCBD4+1100756]\n\tOrdinal0 [0x003ECFC2+1167298]\n\tOrdinal0 [0x003DC9A6+1100198]\n\tOrdinal0 [0x003B6F80+946048]\n\tOrdinal0 [0x003B7E76+949878]\n\tGetHandleVerifier [0x007890C2+2721218]\n\tGetHandleVerifier [0x0077AAF0+2662384]\n\tGetHandleVerifier [0x0057137A+526458]\n\tGetHandleVerifier [0x00570416+522518]\n\tOrdinal0 [0x00484EAB+1789611]\n\tOrdinal0 [0x004897A8+1808296]\n\tOrdinal0 [0x00489895+1808533]\n\tOrdinal0 [0x004926C1+1844929]\n\tBaseThreadInitThunk [0x767FFA29+25]\n\tRtlGetAppContainerNamedObjectPath [0x77367A9E+286]\n\tRtlGetAppContainerNamedObjectPath [0x77367A6E+238]\n",
     "output_type": "error",
     "traceback": [
      "\u001b[1;31m---------------------------------------------------------------------------\u001b[0m",
      "\u001b[1;31mNoSuchElementException\u001b[0m                    Traceback (most recent call last)",
      "\u001b[1;32m~\\AppData\\Local\\Temp\\ipykernel_48504\\2383116014.py\u001b[0m in \u001b[0;36m<module>\u001b[1;34m\u001b[0m\n\u001b[0;32m     13\u001b[0m \u001b[1;33m\u001b[0m\u001b[0m\n\u001b[0;32m     14\u001b[0m     \u001b[0msearch_query_template_1\u001b[0m \u001b[1;33m=\u001b[0m \u001b[1;34mf\"https://www.scholar.google.{host}/\"\u001b[0m\u001b[1;33m\u001b[0m\u001b[1;33m\u001b[0m\u001b[0m\n\u001b[1;32m---> 15\u001b[1;33m     \u001b[0mfinal_top_url_list\u001b[0m\u001b[1;33m.\u001b[0m\u001b[0mextend\u001b[0m\u001b[1;33m(\u001b[0m\u001b[0mrun_search_template\u001b[0m\u001b[1;33m(\u001b[0m\u001b[0mlang\u001b[0m\u001b[1;33m,\u001b[0m \u001b[0mques_type\u001b[0m\u001b[1;33m,\u001b[0m \u001b[0mquestion\u001b[0m\u001b[1;33m,\u001b[0m \u001b[0msearch_query_template_1\u001b[0m\u001b[1;33m)\u001b[0m\u001b[1;33m)\u001b[0m\u001b[1;33m\u001b[0m\u001b[1;33m\u001b[0m\u001b[0m\n\u001b[0m\u001b[0;32m     16\u001b[0m \u001b[1;33m\u001b[0m\u001b[0m\n\u001b[0;32m     17\u001b[0m     \u001b[1;32mif\u001b[0m \u001b[0mques_type\u001b[0m \u001b[1;33m==\u001b[0m \u001b[1;34m'ads'\u001b[0m\u001b[1;33m:\u001b[0m\u001b[1;33m\u001b[0m\u001b[1;33m\u001b[0m\u001b[0m\n",
      "\u001b[1;32m~\\AppData\\Local\\Temp\\ipykernel_48504\\4217776105.py\u001b[0m in \u001b[0;36mrun_search_template\u001b[1;34m(lang, ques_type, question, search_query_template)\u001b[0m\n\u001b[0;32m     23\u001b[0m     \u001b[0mfinal_top_url_list\u001b[0m \u001b[1;33m=\u001b[0m \u001b[1;33m[\u001b[0m\u001b[1;33m]\u001b[0m\u001b[1;33m\u001b[0m\u001b[1;33m\u001b[0m\u001b[0m\n\u001b[0;32m     24\u001b[0m \u001b[1;33m\u001b[0m\u001b[0m\n\u001b[1;32m---> 25\u001b[1;33m     \u001b[0mtop_links\u001b[0m \u001b[1;33m=\u001b[0m \u001b[0mrun_selenium_simulation\u001b[0m\u001b[1;33m(\u001b[0m\u001b[0msearch_query_template\u001b[0m\u001b[1;33m)\u001b[0m\u001b[1;33m\u001b[0m\u001b[1;33m\u001b[0m\u001b[0m\n\u001b[0m\u001b[0;32m     26\u001b[0m \u001b[1;33m\u001b[0m\u001b[0m\n\u001b[0;32m     27\u001b[0m     \u001b[1;32mfor\u001b[0m \u001b[0mlink\u001b[0m \u001b[1;32min\u001b[0m \u001b[0mtop_links\u001b[0m\u001b[1;33m:\u001b[0m\u001b[1;33m\u001b[0m\u001b[1;33m\u001b[0m\u001b[0m\n",
      "\u001b[1;32m~\\AppData\\Local\\Temp\\ipykernel_48504\\4217776105.py\u001b[0m in \u001b[0;36mrun_selenium_simulation\u001b[1;34m(final_query)\u001b[0m\n\u001b[0;32m      4\u001b[0m     \u001b[0mweb_query\u001b[0m \u001b[1;33m=\u001b[0m \u001b[0mdriver\u001b[0m\u001b[1;33m.\u001b[0m\u001b[0mget\u001b[0m\u001b[1;33m(\u001b[0m\u001b[0mfinal_query\u001b[0m\u001b[1;33m)\u001b[0m\u001b[1;33m\u001b[0m\u001b[1;33m\u001b[0m\u001b[0m\n\u001b[0;32m      5\u001b[0m     \u001b[0mwait\u001b[0m \u001b[1;33m=\u001b[0m \u001b[0mWebDriverWait\u001b[0m\u001b[1;33m(\u001b[0m\u001b[0mdriver\u001b[0m\u001b[1;33m,\u001b[0m \u001b[1;36m5\u001b[0m\u001b[1;33m)\u001b[0m\u001b[1;33m\u001b[0m\u001b[1;33m\u001b[0m\u001b[0m\n\u001b[1;32m----> 6\u001b[1;33m     \u001b[0mdriver\u001b[0m\u001b[1;33m.\u001b[0m\u001b[0mfind_element\u001b[0m\u001b[1;33m(\u001b[0m\u001b[1;34m\"xpath\"\u001b[0m\u001b[1;33m,\u001b[0m \u001b[1;34m'//button[@id = \"L2AGLb\"]'\u001b[0m\u001b[1;33m)\u001b[0m\u001b[1;33m.\u001b[0m\u001b[0mclick\u001b[0m\u001b[1;33m(\u001b[0m\u001b[1;33m)\u001b[0m\u001b[1;33m\u001b[0m\u001b[1;33m\u001b[0m\u001b[0m\n\u001b[0m\u001b[0;32m      7\u001b[0m \u001b[1;33m\u001b[0m\u001b[0m\n\u001b[0;32m      8\u001b[0m     \u001b[0mresult_list\u001b[0m \u001b[1;33m=\u001b[0m \u001b[1;33m[\u001b[0m\u001b[1;33m]\u001b[0m\u001b[1;33m\u001b[0m\u001b[1;33m\u001b[0m\u001b[0m\n",
      "\u001b[1;32m~\\.virtualenvs\\xxx-eAHl9Gue\\lib\\site-packages\\selenium\\webdriver\\remote\\webdriver.py\u001b[0m in \u001b[0;36mfind_element\u001b[1;34m(self, by, value)\u001b[0m\n\u001b[0;32m    857\u001b[0m         return self.execute(Command.FIND_ELEMENT, {\n\u001b[0;32m    858\u001b[0m             \u001b[1;34m'using'\u001b[0m\u001b[1;33m:\u001b[0m \u001b[0mby\u001b[0m\u001b[1;33m,\u001b[0m\u001b[1;33m\u001b[0m\u001b[1;33m\u001b[0m\u001b[0m\n\u001b[1;32m--> 859\u001b[1;33m             'value': value})['value']\n\u001b[0m\u001b[0;32m    860\u001b[0m \u001b[1;33m\u001b[0m\u001b[0m\n\u001b[0;32m    861\u001b[0m     \u001b[1;32mdef\u001b[0m \u001b[0mfind_elements\u001b[0m\u001b[1;33m(\u001b[0m\u001b[0mself\u001b[0m\u001b[1;33m,\u001b[0m \u001b[0mby\u001b[0m\u001b[1;33m=\u001b[0m\u001b[0mBy\u001b[0m\u001b[1;33m.\u001b[0m\u001b[0mID\u001b[0m\u001b[1;33m,\u001b[0m \u001b[0mvalue\u001b[0m\u001b[1;33m=\u001b[0m\u001b[1;32mNone\u001b[0m\u001b[1;33m)\u001b[0m \u001b[1;33m->\u001b[0m \u001b[0mList\u001b[0m\u001b[1;33m[\u001b[0m\u001b[0mWebElement\u001b[0m\u001b[1;33m]\u001b[0m\u001b[1;33m:\u001b[0m\u001b[1;33m\u001b[0m\u001b[1;33m\u001b[0m\u001b[0m\n",
      "\u001b[1;32m~\\.virtualenvs\\xxx-eAHl9Gue\\lib\\site-packages\\selenium\\webdriver\\remote\\webdriver.py\u001b[0m in \u001b[0;36mexecute\u001b[1;34m(self, driver_command, params)\u001b[0m\n\u001b[0;32m    433\u001b[0m         \u001b[0mresponse\u001b[0m \u001b[1;33m=\u001b[0m \u001b[0mself\u001b[0m\u001b[1;33m.\u001b[0m\u001b[0mcommand_executor\u001b[0m\u001b[1;33m.\u001b[0m\u001b[0mexecute\u001b[0m\u001b[1;33m(\u001b[0m\u001b[0mdriver_command\u001b[0m\u001b[1;33m,\u001b[0m \u001b[0mparams\u001b[0m\u001b[1;33m)\u001b[0m\u001b[1;33m\u001b[0m\u001b[1;33m\u001b[0m\u001b[0m\n\u001b[0;32m    434\u001b[0m         \u001b[1;32mif\u001b[0m \u001b[0mresponse\u001b[0m\u001b[1;33m:\u001b[0m\u001b[1;33m\u001b[0m\u001b[1;33m\u001b[0m\u001b[0m\n\u001b[1;32m--> 435\u001b[1;33m             \u001b[0mself\u001b[0m\u001b[1;33m.\u001b[0m\u001b[0merror_handler\u001b[0m\u001b[1;33m.\u001b[0m\u001b[0mcheck_response\u001b[0m\u001b[1;33m(\u001b[0m\u001b[0mresponse\u001b[0m\u001b[1;33m)\u001b[0m\u001b[1;33m\u001b[0m\u001b[1;33m\u001b[0m\u001b[0m\n\u001b[0m\u001b[0;32m    436\u001b[0m             response['value'] = self._unwrap_value(\n\u001b[0;32m    437\u001b[0m                 response.get('value', None))\n",
      "\u001b[1;32m~\\.virtualenvs\\xxx-eAHl9Gue\\lib\\site-packages\\selenium\\webdriver\\remote\\errorhandler.py\u001b[0m in \u001b[0;36mcheck_response\u001b[1;34m(self, response)\u001b[0m\n\u001b[0;32m    245\u001b[0m                 \u001b[0malert_text\u001b[0m \u001b[1;33m=\u001b[0m \u001b[0mvalue\u001b[0m\u001b[1;33m[\u001b[0m\u001b[1;34m'alert'\u001b[0m\u001b[1;33m]\u001b[0m\u001b[1;33m.\u001b[0m\u001b[0mget\u001b[0m\u001b[1;33m(\u001b[0m\u001b[1;34m'text'\u001b[0m\u001b[1;33m)\u001b[0m\u001b[1;33m\u001b[0m\u001b[1;33m\u001b[0m\u001b[0m\n\u001b[0;32m    246\u001b[0m             \u001b[1;32mraise\u001b[0m \u001b[0mexception_class\u001b[0m\u001b[1;33m(\u001b[0m\u001b[0mmessage\u001b[0m\u001b[1;33m,\u001b[0m \u001b[0mscreen\u001b[0m\u001b[1;33m,\u001b[0m \u001b[0mstacktrace\u001b[0m\u001b[1;33m,\u001b[0m \u001b[0malert_text\u001b[0m\u001b[1;33m)\u001b[0m  \u001b[1;31m# type: ignore[call-arg]  # mypy is not smart enough here\u001b[0m\u001b[1;33m\u001b[0m\u001b[1;33m\u001b[0m\u001b[0m\n\u001b[1;32m--> 247\u001b[1;33m         \u001b[1;32mraise\u001b[0m \u001b[0mexception_class\u001b[0m\u001b[1;33m(\u001b[0m\u001b[0mmessage\u001b[0m\u001b[1;33m,\u001b[0m \u001b[0mscreen\u001b[0m\u001b[1;33m,\u001b[0m \u001b[0mstacktrace\u001b[0m\u001b[1;33m)\u001b[0m\u001b[1;33m\u001b[0m\u001b[1;33m\u001b[0m\u001b[0m\n\u001b[0m\u001b[0;32m    248\u001b[0m \u001b[1;33m\u001b[0m\u001b[0m\n\u001b[0;32m    249\u001b[0m     \u001b[1;32mdef\u001b[0m \u001b[0m_value_or_default\u001b[0m\u001b[1;33m(\u001b[0m\u001b[0mself\u001b[0m\u001b[1;33m,\u001b[0m \u001b[0mobj\u001b[0m\u001b[1;33m:\u001b[0m \u001b[0mMapping\u001b[0m\u001b[1;33m[\u001b[0m\u001b[0m_KT\u001b[0m\u001b[1;33m,\u001b[0m \u001b[0m_VT\u001b[0m\u001b[1;33m]\u001b[0m\u001b[1;33m,\u001b[0m \u001b[0mkey\u001b[0m\u001b[1;33m:\u001b[0m \u001b[0m_KT\u001b[0m\u001b[1;33m,\u001b[0m \u001b[0mdefault\u001b[0m\u001b[1;33m:\u001b[0m \u001b[0m_VT\u001b[0m\u001b[1;33m)\u001b[0m \u001b[1;33m->\u001b[0m \u001b[0m_VT\u001b[0m\u001b[1;33m:\u001b[0m\u001b[1;33m\u001b[0m\u001b[1;33m\u001b[0m\u001b[0m\n",
      "\u001b[1;31mNoSuchElementException\u001b[0m: Message: no such element: Unable to locate element: {\"method\":\"xpath\",\"selector\":\"//button[@id = \"L2AGLb\"]\"}\n  (Session info: chrome=103.0.5060.134)\nStacktrace:\nBacktrace:\n\tOrdinal0 [0x004E5FD3+2187219]\n\tOrdinal0 [0x0047E6D1+1763025]\n\tOrdinal0 [0x00393E78+802424]\n\tOrdinal0 [0x003C1C10+990224]\n\tOrdinal0 [0x003C1EAB+990891]\n\tOrdinal0 [0x003EEC92+1174674]\n\tOrdinal0 [0x003DCBD4+1100756]\n\tOrdinal0 [0x003ECFC2+1167298]\n\tOrdinal0 [0x003DC9A6+1100198]\n\tOrdinal0 [0x003B6F80+946048]\n\tOrdinal0 [0x003B7E76+949878]\n\tGetHandleVerifier [0x007890C2+2721218]\n\tGetHandleVerifier [0x0077AAF0+2662384]\n\tGetHandleVerifier [0x0057137A+526458]\n\tGetHandleVerifier [0x00570416+522518]\n\tOrdinal0 [0x00484EAB+1789611]\n\tOrdinal0 [0x004897A8+1808296]\n\tOrdinal0 [0x00489895+1808533]\n\tOrdinal0 [0x004926C1+1844929]\n\tBaseThreadInitThunk [0x767FFA29+25]\n\tRtlGetAppContainerNamedObjectPath [0x77367A9E+286]\n\tRtlGetAppContainerNamedObjectPath [0x77367A6E+238]\n"
     ]
    }
   ],
   "source": [
    "final_top_url_list = []\n",
    "\n",
    "for idx, row in ques_df.iterrows():\n",
    "    \n",
    "    lang = row['lang']\n",
    "    ques_type = row['ques_type']\n",
    "    question = row['question']\n",
    "    \n",
    "    if lang == 'en':\n",
    "        host = 'com'\n",
    "    elif lang == 'de':\n",
    "        host = 'de'\n",
    "\n",
    "    search_query_template_1 = f\"https://www.scholar.google.{host}/\"\n",
    "    final_top_url_list.extend(run_search_template(lang, ques_type, question, search_query_template_1))\n",
    "    \n",
    "    if ques_type == 'ads':\n",
    "        search_query_template_2 = f\"https://www.scholar.google.{host}/scholar?as_ylo=2020&q={question}&lr=lang_{lang}&start=10\"\n",
    "        final_top_url_list.extend(run_search_template(lang, ques_type, question, search_query_template_2))"
   ]
  },
  {
   "cell_type": "code",
   "execution_count": 13,
   "id": "20394f50",
   "metadata": {},
   "outputs": [
    {
     "data": {
      "text/html": [
       "<div>\n",
       "<style scoped>\n",
       "    .dataframe tbody tr th:only-of-type {\n",
       "        vertical-align: middle;\n",
       "    }\n",
       "\n",
       "    .dataframe tbody tr th {\n",
       "        vertical-align: top;\n",
       "    }\n",
       "\n",
       "    .dataframe thead th {\n",
       "        text-align: right;\n",
       "    }\n",
       "</style>\n",
       "<table border=\"1\" class=\"dataframe\">\n",
       "  <thead>\n",
       "    <tr style=\"text-align: right;\">\n",
       "      <th></th>\n",
       "      <th>lang</th>\n",
       "      <th>ques_type</th>\n",
       "      <th>question</th>\n",
       "      <th>title</th>\n",
       "      <th>url_link</th>\n",
       "      <th>url_rank</th>\n",
       "    </tr>\n",
       "  </thead>\n",
       "  <tbody>\n",
       "    <tr>\n",
       "      <th>0</th>\n",
       "      <td>en</td>\n",
       "      <td>tech</td>\n",
       "      <td>Social media technology advancements and innov...</td>\n",
       "      <td>5 Technologies Taking Social Media Towards Its...</td>\n",
       "      <td>https://appinventiv.com/blog/technologies-maki...</td>\n",
       "      <td>1</td>\n",
       "    </tr>\n",
       "    <tr>\n",
       "      <th>1</th>\n",
       "      <td>en</td>\n",
       "      <td>tech</td>\n",
       "      <td>Social media technology advancements and innov...</td>\n",
       "      <td>New Technological Development in Social Media</td>\n",
       "      <td>https://makeanapplike.com/disruptive-technolog...</td>\n",
       "      <td>2</td>\n",
       "    </tr>\n",
       "    <tr>\n",
       "      <th>2</th>\n",
       "      <td>en</td>\n",
       "      <td>tech</td>\n",
       "      <td>Social media technology advancements and innov...</td>\n",
       "      <td>Influence of Technology on Social Media - Azce...</td>\n",
       "      <td>https://yourbusiness.azcentral.com/influence-t...</td>\n",
       "      <td>3</td>\n",
       "    </tr>\n",
       "    <tr>\n",
       "      <th>3</th>\n",
       "      <td>en</td>\n",
       "      <td>tech</td>\n",
       "      <td>Social media technology advancements and innov...</td>\n",
       "      <td>The importance of social networks for innovati...</td>\n",
       "      <td>https://ourworldindata.org/social-networks-inn...</td>\n",
       "      <td>4</td>\n",
       "    </tr>\n",
       "    <tr>\n",
       "      <th>4</th>\n",
       "      <td>en</td>\n",
       "      <td>tech</td>\n",
       "      <td>Social media technology advancements and innov...</td>\n",
       "      <td>10 examples of emerging technologies that are ...</td>\n",
       "      <td>https://www.wibbitz.com/blog/examples-of-emerg...</td>\n",
       "      <td>5</td>\n",
       "    </tr>\n",
       "    <tr>\n",
       "      <th>...</th>\n",
       "      <td>...</td>\n",
       "      <td>...</td>\n",
       "      <td>...</td>\n",
       "      <td>...</td>\n",
       "      <td>...</td>\n",
       "      <td>...</td>\n",
       "    </tr>\n",
       "    <tr>\n",
       "      <th>5896</th>\n",
       "      <td>de</td>\n",
       "      <td>ads</td>\n",
       "      <td>Zeichenorientierter InfoAustausch Technologie-...</td>\n",
       "      <td>Bitdefender Internet Security 2013</td>\n",
       "      <td>http://download.bitdefender.com/resources/medi...</td>\n",
       "      <td>6</td>\n",
       "    </tr>\n",
       "    <tr>\n",
       "      <th>5897</th>\n",
       "      <td>de</td>\n",
       "      <td>ads</td>\n",
       "      <td>Zeichenorientierter InfoAustausch Technologie-...</td>\n",
       "      <td>Dissertation</td>\n",
       "      <td>https://d-nb.info/1013464508/34</td>\n",
       "      <td>7</td>\n",
       "    </tr>\n",
       "    <tr>\n",
       "      <th>5898</th>\n",
       "      <td>de</td>\n",
       "      <td>ads</td>\n",
       "      <td>Zeichenorientierter InfoAustausch Technologie-...</td>\n",
       "      <td>Debian-Referenz</td>\n",
       "      <td>https://www.debian.org/doc/manuals/debian-refe...</td>\n",
       "      <td>8</td>\n",
       "    </tr>\n",
       "    <tr>\n",
       "      <th>5899</th>\n",
       "      <td>de</td>\n",
       "      <td>ads</td>\n",
       "      <td>Zeichenorientierter InfoAustausch Technologie-...</td>\n",
       "      <td>Metrologische IT - Physikalisch-Technische Bun...</td>\n",
       "      <td>https://www.ptb.de/cms/fileadmin/internet/fach...</td>\n",
       "      <td>9</td>\n",
       "    </tr>\n",
       "    <tr>\n",
       "      <th>5900</th>\n",
       "      <td>de</td>\n",
       "      <td>ads</td>\n",
       "      <td>Zeichenorientierter InfoAustausch Technologie-...</td>\n",
       "      <td>CMX V6.0 (Solaris) - BS2000 Documentation</td>\n",
       "      <td>https://bs2manuals.ts.fujitsu.com/download/man...</td>\n",
       "      <td>10</td>\n",
       "    </tr>\n",
       "  </tbody>\n",
       "</table>\n",
       "<p>5899 rows × 6 columns</p>\n",
       "</div>"
      ],
      "text/plain": [
       "     lang ques_type                                           question  \\\n",
       "0      en      tech  Social media technology advancements and innov...   \n",
       "1      en      tech  Social media technology advancements and innov...   \n",
       "2      en      tech  Social media technology advancements and innov...   \n",
       "3      en      tech  Social media technology advancements and innov...   \n",
       "4      en      tech  Social media technology advancements and innov...   \n",
       "...   ...       ...                                                ...   \n",
       "5896   de       ads  Zeichenorientierter InfoAustausch Technologie-...   \n",
       "5897   de       ads  Zeichenorientierter InfoAustausch Technologie-...   \n",
       "5898   de       ads  Zeichenorientierter InfoAustausch Technologie-...   \n",
       "5899   de       ads  Zeichenorientierter InfoAustausch Technologie-...   \n",
       "5900   de       ads  Zeichenorientierter InfoAustausch Technologie-...   \n",
       "\n",
       "                                                  title  \\\n",
       "0     5 Technologies Taking Social Media Towards Its...   \n",
       "1         New Technological Development in Social Media   \n",
       "2     Influence of Technology on Social Media - Azce...   \n",
       "3     The importance of social networks for innovati...   \n",
       "4     10 examples of emerging technologies that are ...   \n",
       "...                                                 ...   \n",
       "5896                 Bitdefender Internet Security 2013   \n",
       "5897                                       Dissertation   \n",
       "5898                                    Debian-Referenz   \n",
       "5899  Metrologische IT - Physikalisch-Technische Bun...   \n",
       "5900          CMX V6.0 (Solaris) - BS2000 Documentation   \n",
       "\n",
       "                                               url_link  url_rank  \n",
       "0     https://appinventiv.com/blog/technologies-maki...         1  \n",
       "1     https://makeanapplike.com/disruptive-technolog...         2  \n",
       "2     https://yourbusiness.azcentral.com/influence-t...         3  \n",
       "3     https://ourworldindata.org/social-networks-inn...         4  \n",
       "4     https://www.wibbitz.com/blog/examples-of-emerg...         5  \n",
       "...                                                 ...       ...  \n",
       "5896  http://download.bitdefender.com/resources/medi...         6  \n",
       "5897                    https://d-nb.info/1013464508/34         7  \n",
       "5898  https://www.debian.org/doc/manuals/debian-refe...         8  \n",
       "5899  https://www.ptb.de/cms/fileadmin/internet/fach...         9  \n",
       "5900  https://bs2manuals.ts.fujitsu.com/download/man...        10  \n",
       "\n",
       "[5899 rows x 6 columns]"
      ]
     },
     "execution_count": 13,
     "metadata": {},
     "output_type": "execute_result"
    }
   ],
   "source": [
    "top_links_df = pd.DataFrame(final_top_url_list, columns=['lang', 'ques_type', 'question', 'title', 'url_link', 'url_rank'])\n",
    "top_links_df = top_links_df.drop_duplicates()\n",
    "top_links_df"
   ]
  },
  {
   "cell_type": "code",
   "execution_count": 1,
   "id": "27d566ef",
   "metadata": {},
   "outputs": [],
   "source": [
    "# top_links_df['toplink_id'] = list(range(1, 5564, 1))\n",
    "# top_links_df"
   ]
  },
  {
   "cell_type": "code",
   "execution_count": null,
   "id": "ddd66954",
   "metadata": {},
   "outputs": [],
   "source": [
    "top_links_df.to_csv('top_links_df.csv', encoding='utf-8', index=False, sep='|')"
   ]
  },
  {
   "cell_type": "code",
   "execution_count": null,
   "id": "5693e285",
   "metadata": {},
   "outputs": [],
   "source": [
    "final_query = f\"https://www.google.com/search?q={query_1}&lr=lang_de&start=0\"\n",
    "run_selenium_simulation(final_query)"
   ]
  }
 ],
 "metadata": {
  "kernelspec": {
   "display_name": "Python 3 (ipykernel)",
   "language": "python",
   "name": "python3"
  },
  "language_info": {
   "codemirror_mode": {
    "name": "ipython",
    "version": 3
   },
   "file_extension": ".py",
   "mimetype": "text/x-python",
   "name": "python",
   "nbconvert_exporter": "python",
   "pygments_lexer": "ipython3",
   "version": "3.7.9"
  }
 },
 "nbformat": 4,
 "nbformat_minor": 5
}
