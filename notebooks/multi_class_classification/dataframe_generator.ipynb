{
 "cells": [
  {
   "cell_type": "code",
   "execution_count": 2,
   "id": "3cad7f5f",
   "metadata": {},
   "outputs": [],
   "source": [
    "import os\n",
    "import json\n",
    "\n",
    "import numpy as np\n",
    "import pandas as pd\n",
    "\n",
    "import tensorflow as tf\n",
    "import tensorflow_text"
   ]
  },
  {
   "cell_type": "code",
   "execution_count": 3,
   "id": "d40ae5ad",
   "metadata": {},
   "outputs": [
    {
     "name": "stdout",
     "output_type": "stream",
     "text": [
      "WARNING:tensorflow:SavedModel saved prior to TF 2.5 detected when loading Keras model. Please ensure that you are saving the model with model.save() or tf.keras.models.save_model(), *NOT* tf.saved_model.save(). To confirm, there should be a file named \"keras_metadata.pb\" in the SavedModel directory.\n"
     ]
    }
   ],
   "source": [
    "tf.saved_model.LoadOptions(\n",
    "    allow_partial_checkpoint=False,\n",
    "    experimental_io_device='/job:localhost',\n",
    "    experimental_skip_checkpoint=False\n",
    ")\n",
    "\n",
    "tf_model = tf.keras.models.load_model(\n",
    "    os.getcwd() + '/../../models/USE_model/'\n",
    ")"
   ]
  },
  {
   "cell_type": "code",
   "execution_count": 4,
   "id": "d5691692",
   "metadata": {},
   "outputs": [],
   "source": [
    "train_path = os.getcwd() + '/../../input_data/dataset_train.json'\n",
    "test_path = os.getcwd() + '/../../input_data/dataset_test.json'\n",
    "\n",
    "unlabeled_path = os.getcwd() + '/../../input_data/dataset_unlabeled.json'"
   ]
  },
  {
   "cell_type": "code",
   "execution_count": 6,
   "id": "df54dbca",
   "metadata": {},
   "outputs": [],
   "source": [
    "def read_json_data(filepath):\n",
    "    \n",
    "    with open(filepath, 'r') as f:\n",
    "        data_dict = json.load(f)\n",
    "        \n",
    "    return data_dict\n",
    "\n",
    "def get_values_list_from_dict(data_dict):\n",
    "    \n",
    "    data_list = []\n",
    "    for key, value in data_dict.items():\n",
    "        data_list.append(value)\n",
    "        \n",
    "    return data_list"
   ]
  },
  {
   "cell_type": "code",
   "execution_count": 6,
   "id": "bc6ac6ca",
   "metadata": {},
   "outputs": [],
   "source": [
    "training_data = get_values_list_from_dict(read_json_data(train_path))\n",
    "test_data = get_values_list_from_dict(read_json_data(test_path))"
   ]
  },
  {
   "cell_type": "code",
   "execution_count": 8,
   "id": "b00a44f9",
   "metadata": {},
   "outputs": [],
   "source": [
    "train_df = pd.DataFrame(training_data)\n",
    "test_df = pd.DataFrame(test_data)"
   ]
  },
  {
   "cell_type": "code",
   "execution_count": 14,
   "id": "04d951ed",
   "metadata": {},
   "outputs": [
    {
     "data": {
      "text/html": [
       "<div>\n",
       "<style scoped>\n",
       "    .dataframe tbody tr th:only-of-type {\n",
       "        vertical-align: middle;\n",
       "    }\n",
       "\n",
       "    .dataframe tbody tr th {\n",
       "        vertical-align: top;\n",
       "    }\n",
       "\n",
       "    .dataframe thead th {\n",
       "        text-align: right;\n",
       "    }\n",
       "</style>\n",
       "<table border=\"1\" class=\"dataframe\">\n",
       "  <thead>\n",
       "    <tr style=\"text-align: right;\">\n",
       "      <th></th>\n",
       "      <th>id</th>\n",
       "      <th>text</th>\n",
       "      <th>label</th>\n",
       "      <th>lang</th>\n",
       "      <th>label_name</th>\n",
       "    </tr>\n",
       "  </thead>\n",
       "  <tbody>\n",
       "    <tr>\n",
       "      <th>41</th>\n",
       "      <td>210705_news_131860</td>\n",
       "      <td>Saab hat das “Artilleriejagd Radar” ARTHUR ART...</td>\n",
       "      <td>2</td>\n",
       "      <td>de</td>\n",
       "      <td>military</td>\n",
       "    </tr>\n",
       "    <tr>\n",
       "      <th>35</th>\n",
       "      <td>210705_news_75148</td>\n",
       "      <td>Auch die US-Regierung setzt nun auf \"vertrauen...</td>\n",
       "      <td>1</td>\n",
       "      <td>de</td>\n",
       "      <td>technology</td>\n",
       "    </tr>\n",
       "    <tr>\n",
       "      <th>212</th>\n",
       "      <td>210705_news_492092</td>\n",
       "      <td>Redner der Opposition und der Koalitionsfrakti...</td>\n",
       "      <td>0</td>\n",
       "      <td>de</td>\n",
       "      <td>negative</td>\n",
       "    </tr>\n",
       "  </tbody>\n",
       "</table>\n",
       "</div>"
      ],
      "text/plain": [
       "                     id                                               text  \\\n",
       "41   210705_news_131860  Saab hat das “Artilleriejagd Radar” ARTHUR ART...   \n",
       "35    210705_news_75148  Auch die US-Regierung setzt nun auf \"vertrauen...   \n",
       "212  210705_news_492092  Redner der Opposition und der Koalitionsfrakti...   \n",
       "\n",
       "     label lang  label_name  \n",
       "41       2   de    military  \n",
       "35       1   de  technology  \n",
       "212      0   de    negative  "
      ]
     },
     "execution_count": 14,
     "metadata": {},
     "output_type": "execute_result"
    }
   ],
   "source": [
    "train_df.sample(3)"
   ]
  },
  {
   "cell_type": "code",
   "execution_count": 15,
   "id": "2fb637df",
   "metadata": {},
   "outputs": [],
   "source": [
    "train_df['doc_vec'] = train_df.apply(lambda x:tf_model(x['text'])['outputs'].numpy()[0].reshape(1, -1), axis=1)\n",
    "test_df['doc_vec'] = test_df.apply(lambda x:tf_model(x['text'])['outputs'].numpy()[0].reshape(1, -1), axis=1)"
   ]
  },
  {
   "cell_type": "code",
   "execution_count": 17,
   "id": "dfa0acfb",
   "metadata": {},
   "outputs": [],
   "source": [
    "train_df.to_pickle(os.getcwd() + '/../dataframes/train_df.pkl')\n",
    "test_df.to_pickle(os.getcwd() + '/../dataframes/test_df.pkl')"
   ]
  },
  {
   "cell_type": "code",
   "execution_count": null,
   "id": "f9085afe",
   "metadata": {},
   "outputs": [],
   "source": []
  },
  {
   "cell_type": "code",
   "execution_count": 7,
   "id": "7ada3e3f",
   "metadata": {},
   "outputs": [],
   "source": [
    "unlabeled_data = get_values_list_from_dict(read_json_data(unlabeled_path))\n",
    "unlabeled_df = pd.DataFrame(unlabeled_data)\n",
    "unlabeled_df['doc_vec'] = unlabeled_df.apply(lambda x:tf_model(x['text'])['outputs'].numpy()[0].reshape(1, -1), axis=1)\n",
    "unlabeled_df.to_pickle(os.getcwd() + '/../dataframes/unlabeled_df.pkl')"
   ]
  }
 ],
 "metadata": {
  "kernelspec": {
   "display_name": "Python 3 (ipykernel)",
   "language": "python",
   "name": "python3"
  },
  "language_info": {
   "codemirror_mode": {
    "name": "ipython",
    "version": 3
   },
   "file_extension": ".py",
   "mimetype": "text/x-python",
   "name": "python",
   "nbconvert_exporter": "python",
   "pygments_lexer": "ipython3",
   "version": "3.7.9"
  }
 },
 "nbformat": 4,
 "nbformat_minor": 5
}
