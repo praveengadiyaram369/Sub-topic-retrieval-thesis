{
 "cells": [
  {
   "cell_type": "code",
   "execution_count": 8,
   "id": "c543180f",
   "metadata": {},
   "outputs": [],
   "source": [
    "import os\n",
    "import pickle\n",
    "import pandas as pd"
   ]
  },
  {
   "cell_type": "code",
   "execution_count": 39,
   "id": "15bb19ab",
   "metadata": {},
   "outputs": [],
   "source": [
    "retriever_folderpath = os.getcwd() + '/../dataframes/retriever_output/candidate_pool/'"
   ]
  },
  {
   "cell_type": "code",
   "execution_count": 40,
   "id": "a48245b5",
   "metadata": {},
   "outputs": [],
   "source": [
    "with open(retriever_folderpath+'mixed_reality.pickle', 'rb') as file2:         \n",
    "    candidate_data = pickle.load(file2)"
   ]
  },
  {
   "cell_type": "code",
   "execution_count": 44,
   "id": "6a9fd78c",
   "metadata": {},
   "outputs": [
    {
     "data": {
      "text/plain": [
       "[0.171, 0.132, 0.19]"
      ]
     },
     "execution_count": 44,
     "metadata": {},
     "output_type": "execute_result"
    }
   ],
   "source": [
    "with open(os.getcwd()+'/../dataframes/map_output_data.pickle', 'rb') as file2:         \n",
    "    candidate_data = pickle.load(file2)\n",
    "    \n",
    "candidate_data"
   ]
  },
  {
   "cell_type": "code",
   "execution_count": 46,
   "id": "d4cd1b81",
   "metadata": {},
   "outputs": [
    {
     "data": {
      "text/plain": [
       "[0.174]"
      ]
     },
     "execution_count": 46,
     "metadata": {},
     "output_type": "execute_result"
    }
   ],
   "source": [
    "with open(os.getcwd()+'/../dataframes/map_output_data.pickle', 'rb') as file2:         \n",
    "    candidate_data = pickle.load(file2)\n",
    "    \n",
    "candidate_data"
   ]
  },
  {
   "cell_type": "code",
   "execution_count": 45,
   "id": "5fc285d8",
   "metadata": {},
   "outputs": [
    {
     "data": {
      "text/plain": [
       "[0.114, 0.081, 0.263]"
      ]
     },
     "execution_count": 45,
     "metadata": {},
     "output_type": "execute_result"
    }
   ],
   "source": [
    "with open(os.getcwd()+'/../dataframes/map_output_data_cks.pickle', 'rb') as file2:         \n",
    "    candidate_data_cks = pickle.load(file2)\n",
    "    \n",
    "candidate_data_cks"
   ]
  },
  {
   "cell_type": "code",
   "execution_count": 47,
   "id": "e66eb314",
   "metadata": {},
   "outputs": [
    {
     "data": {
      "text/plain": [
       "[0.265]"
      ]
     },
     "execution_count": 47,
     "metadata": {},
     "output_type": "execute_result"
    }
   ],
   "source": [
    "with open(os.getcwd()+'/../dataframes/map_output_data_cks.pickle', 'rb') as file2:         \n",
    "    candidate_data_cks = pickle.load(file2)\n",
    "    \n",
    "candidate_data_cks"
   ]
  },
  {
   "cell_type": "code",
   "execution_count": 42,
   "id": "85305f61",
   "metadata": {},
   "outputs": [
    {
     "data": {
      "text/plain": [
       "100"
      ]
     },
     "execution_count": 42,
     "metadata": {},
     "output_type": "execute_result"
    }
   ],
   "source": [
    "len(candidate_data)"
   ]
  },
  {
   "cell_type": "code",
   "execution_count": 43,
   "id": "143e3b7c",
   "metadata": {},
   "outputs": [
    {
     "data": {
      "text/plain": [
       "89"
      ]
     },
     "execution_count": 43,
     "metadata": {},
     "output_type": "execute_result"
    }
   ],
   "source": [
    "len(set(candidate_data))"
   ]
  },
  {
   "cell_type": "code",
   "execution_count": 5,
   "id": "72c98764",
   "metadata": {},
   "outputs": [
    {
     "data": {
      "text/plain": [
       "100"
      ]
     },
     "execution_count": 5,
     "metadata": {},
     "output_type": "execute_result"
    }
   ],
   "source": [
    "len(bm25_data)"
   ]
  },
  {
   "cell_type": "code",
   "execution_count": 21,
   "id": "6ce29bf0",
   "metadata": {},
   "outputs": [
    {
     "data": {
      "text/plain": [
       "100"
      ]
     },
     "execution_count": 21,
     "metadata": {},
     "output_type": "execute_result"
    }
   ],
   "source": [
    "len(semantic_data)"
   ]
  },
  {
   "cell_type": "code",
   "execution_count": 24,
   "id": "2af93bb1",
   "metadata": {},
   "outputs": [
    {
     "data": {
      "text/plain": [
       "100"
      ]
     },
     "execution_count": 24,
     "metadata": {},
     "output_type": "execute_result"
    }
   ],
   "source": [
    "len(candidate_data)"
   ]
  },
  {
   "cell_type": "code",
   "execution_count": 25,
   "id": "f72f61a7",
   "metadata": {},
   "outputs": [
    {
     "data": {
      "text/plain": [
       "set()"
      ]
     },
     "execution_count": 25,
     "metadata": {},
     "output_type": "execute_result"
    }
   ],
   "source": [
    "set(bm25_data).intersection(semantic_data)"
   ]
  },
  {
   "cell_type": "code",
   "execution_count": 27,
   "id": "62bf7f9e",
   "metadata": {},
   "outputs": [
    {
     "data": {
      "text/plain": [
       "50"
      ]
     },
     "execution_count": 27,
     "metadata": {},
     "output_type": "execute_result"
    }
   ],
   "source": [
    "len(set(bm25_data).intersection(candidate_data))"
   ]
  },
  {
   "cell_type": "code",
   "execution_count": 28,
   "id": "c122fade",
   "metadata": {},
   "outputs": [
    {
     "data": {
      "text/plain": [
       "50"
      ]
     },
     "execution_count": 28,
     "metadata": {},
     "output_type": "execute_result"
    }
   ],
   "source": [
    "len(set(semantic_data).intersection(candidate_data))"
   ]
  },
  {
   "cell_type": "code",
   "execution_count": 13,
   "id": "73cc2158",
   "metadata": {},
   "outputs": [],
   "source": [
    "df = pd.read_pickle(os.getcwd()+'/../dataframes/retrieval_dataset/final_dataframe.pkl')\n",
    "passages = []\n",
    "\n",
    "for text in df.text.values:\n",
    "    passages.append(text)"
   ]
  },
  {
   "cell_type": "code",
   "execution_count": 14,
   "id": "81ed5c72",
   "metadata": {},
   "outputs": [
    {
     "data": {
      "text/plain": [
       "26954"
      ]
     },
     "execution_count": 14,
     "metadata": {},
     "output_type": "execute_result"
    }
   ],
   "source": [
    "len(passages)"
   ]
  },
  {
   "cell_type": "code",
   "execution_count": 15,
   "id": "f9e8204a",
   "metadata": {},
   "outputs": [],
   "source": [
    "result_list = [passages[i] for i in bm25_data]"
   ]
  },
  {
   "cell_type": "code",
   "execution_count": 34,
   "id": "9cbcf3a8",
   "metadata": {},
   "outputs": [],
   "source": [
    "reranker_folderpath = os.getcwd() + '/../dataframes/reranker_output/bm25/'\n",
    "\n",
    "with open(reranker_folderpath+'architekturanalyse.pickle', 'rb') as file2:         \n",
    "    bm25_data_reranker = pickle.load(file2)"
   ]
  },
  {
   "cell_type": "code",
   "execution_count": 36,
   "id": "b7a2bca0",
   "metadata": {},
   "outputs": [
    {
     "data": {
      "text/plain": [
       "[73,\n",
       " 59,\n",
       " 27,\n",
       " 70,\n",
       " 10,\n",
       " 35,\n",
       " 13,\n",
       " 39,\n",
       " 42,\n",
       " 2,\n",
       " 24,\n",
       " 20,\n",
       " 56,\n",
       " 18,\n",
       " 72,\n",
       " 82,\n",
       " 28,\n",
       " 49,\n",
       " 3,\n",
       " 8,\n",
       " 16,\n",
       " 83,\n",
       " 19,\n",
       " 48,\n",
       " 90,\n",
       " 75,\n",
       " 29,\n",
       " 37,\n",
       " 64,\n",
       " 62,\n",
       " 96,\n",
       " 69,\n",
       " 55,\n",
       " 58,\n",
       " 97,\n",
       " 93,\n",
       " 31,\n",
       " 6,\n",
       " 52,\n",
       " 74,\n",
       " 5,\n",
       " 89,\n",
       " 38,\n",
       " 92,\n",
       " 21,\n",
       " 98,\n",
       " 68,\n",
       " 7,\n",
       " 47,\n",
       " 60,\n",
       " 44,\n",
       " 43,\n",
       " 12,\n",
       " 79,\n",
       " 45,\n",
       " 78,\n",
       " 1,\n",
       " 65,\n",
       " 85,\n",
       " 0,\n",
       " 22,\n",
       " 36,\n",
       " 41,\n",
       " 51,\n",
       " 15,\n",
       " 94,\n",
       " 88,\n",
       " 53,\n",
       " 84,\n",
       " 34,\n",
       " 4,\n",
       " 54,\n",
       " 23,\n",
       " 17,\n",
       " 71,\n",
       " 50,\n",
       " 81,\n",
       " 95,\n",
       " 33,\n",
       " 66,\n",
       " 57,\n",
       " 26,\n",
       " 9,\n",
       " 80,\n",
       " 91,\n",
       " 99,\n",
       " 63,\n",
       " 32,\n",
       " 86,\n",
       " 40,\n",
       " 61,\n",
       " 11,\n",
       " 30,\n",
       " 25,\n",
       " 67,\n",
       " 87,\n",
       " 77,\n",
       " 14,\n",
       " 46,\n",
       " 76]"
      ]
     },
     "execution_count": 36,
     "metadata": {},
     "output_type": "execute_result"
    }
   ],
   "source": [
    "bm25_data_reranker"
   ]
  },
  {
   "cell_type": "code",
   "execution_count": 35,
   "id": "cb69c350",
   "metadata": {},
   "outputs": [
    {
     "data": {
      "text/plain": [
       "[9020,\n",
       " 9016,\n",
       " 9022,\n",
       " 9015,\n",
       " 9024,\n",
       " 9025,\n",
       " 9026,\n",
       " 9017,\n",
       " 9028,\n",
       " 9029,\n",
       " 9014,\n",
       " 9013,\n",
       " 9012,\n",
       " 9011,\n",
       " 9010,\n",
       " 9009,\n",
       " 9008,\n",
       " 9007,\n",
       " 9006,\n",
       " 9005,\n",
       " 9027,\n",
       " 9003,\n",
       " 9001,\n",
       " 9030,\n",
       " 9031,\n",
       " 9032,\n",
       " 9033,\n",
       " 9034,\n",
       " 9035,\n",
       " 9036,\n",
       " 9037,\n",
       " 9038,\n",
       " 9039,\n",
       " 9040,\n",
       " 9041,\n",
       " 9042,\n",
       " 9043,\n",
       " 9044,\n",
       " 9045,\n",
       " 9046,\n",
       " 9047,\n",
       " 9048,\n",
       " 9049,\n",
       " 9050,\n",
       " 9051,\n",
       " 9052,\n",
       " 9004,\n",
       " 9053,\n",
       " 9002,\n",
       " 8951,\n",
       " 9000,\n",
       " 8999,\n",
       " 8998,\n",
       " 8997,\n",
       " 8996,\n",
       " 8995,\n",
       " 8994,\n",
       " 8993,\n",
       " 8992,\n",
       " 8991,\n",
       " 8990,\n",
       " 8989,\n",
       " 8988,\n",
       " 8987,\n",
       " 8986,\n",
       " 8985,\n",
       " 8984,\n",
       " 8983,\n",
       " 8982,\n",
       " 8981,\n",
       " 8980,\n",
       " 8979,\n",
       " 8978,\n",
       " 8977,\n",
       " 8976,\n",
       " 8975,\n",
       " 8974,\n",
       " 8973,\n",
       " 8972,\n",
       " 8971,\n",
       " 8970,\n",
       " 8969,\n",
       " 8968,\n",
       " 8967,\n",
       " 8966,\n",
       " 8965,\n",
       " 8964,\n",
       " 8963,\n",
       " 8962,\n",
       " 8961,\n",
       " 8960,\n",
       " 8959,\n",
       " 8958,\n",
       " 8957,\n",
       " 8956,\n",
       " 8955,\n",
       " 8954,\n",
       " 8953,\n",
       " 8952,\n",
       " 26953]"
      ]
     },
     "execution_count": 35,
     "metadata": {},
     "output_type": "execute_result"
    }
   ],
   "source": [
    "bm25_data"
   ]
  }
 ],
 "metadata": {
  "kernelspec": {
   "display_name": "Python 3 (ipykernel)",
   "language": "python",
   "name": "python3"
  },
  "language_info": {
   "codemirror_mode": {
    "name": "ipython",
    "version": 3
   },
   "file_extension": ".py",
   "mimetype": "text/x-python",
   "name": "python",
   "nbconvert_exporter": "python",
   "pygments_lexer": "ipython3",
   "version": "3.7.9"
  }
 },
 "nbformat": 4,
 "nbformat_minor": 5
}
