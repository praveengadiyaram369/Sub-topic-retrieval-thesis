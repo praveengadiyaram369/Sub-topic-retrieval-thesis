{
 "cells": [
  {
   "cell_type": "code",
   "execution_count": 1,
   "id": "9ceddaad",
   "metadata": {},
   "outputs": [],
   "source": [
    "import os\n",
    "import json\n",
    "import numpy as np\n",
    "import pandas as pd\n",
    "import sqlite3\n",
    "from nltk.corpus import stopwords\n",
    "\n",
    "import faiss\n",
    "from elasticsearch import helpers, Elasticsearch"
   ]
  },
  {
   "cell_type": "code",
   "execution_count": 2,
   "id": "18903848",
   "metadata": {},
   "outputs": [],
   "source": [
    "stopwords_de = stopwords.words('german')\n",
    "stopwords_en = stopwords.words('english')\n",
    "\n",
    "stopwords_all = stopwords_de + stopwords_en\n",
    "stopwords_all = list(set(stopwords_all))"
   ]
  },
  {
   "cell_type": "code",
   "execution_count": 3,
   "id": "cb244bf2",
   "metadata": {},
   "outputs": [],
   "source": [
    "def get_label_name(label):\n",
    "    \n",
    "    if label == 1:\n",
    "        return 'technology'\n",
    "    elif label == 2:\n",
    "        return 'military'\n",
    "    \n",
    "def get_modified_vectors(vec_data):\n",
    "    \n",
    "    new_data = []\n",
    "    for val in vec_data:\n",
    "        new_data.append(val)\n",
    "    \n",
    "    new_data = np.array(new_data).reshape(-1, 512)\n",
    "    return new_data\n",
    "\n",
    "def doc_actions(data):\n",
    "\n",
    "    for row in data:\n",
    "        yield {\n",
    "                '_index': index,\n",
    "                'pipeline': pipeline,\n",
    "                '_source': row,\n",
    "                '_id': row['id']\n",
    "            }"
   ]
  },
  {
   "cell_type": "code",
   "execution_count": 4,
   "id": "20c6b6c9",
   "metadata": {},
   "outputs": [],
   "source": [
    "tech_df = pd.read_pickle(os.getcwd() + '/../dataframes/tech_df_final.pkl')\n",
    "tech_df = tech_df.drop('milt_label', axis=1)\n",
    "\n",
    "milt_df = pd.read_pickle(os.getcwd() + '/../dataframes/milt_df_final.pkl')\n",
    "\n",
    "rssitem_df = pd.read_pickle(os.getcwd()+'/../dataframes/rss_cache_df.pkl')"
   ]
  },
  {
   "cell_type": "code",
   "execution_count": 5,
   "id": "de91e7d0",
   "metadata": {},
   "outputs": [
    {
     "data": {
      "text/plain": [
       "510469"
      ]
     },
     "execution_count": 5,
     "metadata": {},
     "output_type": "execute_result"
    }
   ],
   "source": [
    "len(rssitem_df.index)"
   ]
  },
  {
   "cell_type": "code",
   "execution_count": 121,
   "id": "061cff3f",
   "metadata": {},
   "outputs": [],
   "source": [
    "tech_df = tech_df.rename(columns={'tech_label': 'label'})\n",
    "milt_df = milt_df.rename(columns={'milt_label': 'label'})"
   ]
  },
  {
   "cell_type": "code",
   "execution_count": 122,
   "id": "02500e48",
   "metadata": {},
   "outputs": [
    {
     "data": {
      "text/html": [
       "<div>\n",
       "<style scoped>\n",
       "    .dataframe tbody tr th:only-of-type {\n",
       "        vertical-align: middle;\n",
       "    }\n",
       "\n",
       "    .dataframe tbody tr th {\n",
       "        vertical-align: top;\n",
       "    }\n",
       "\n",
       "    .dataframe thead th {\n",
       "        text-align: right;\n",
       "    }\n",
       "</style>\n",
       "<table border=\"1\" class=\"dataframe\">\n",
       "  <thead>\n",
       "    <tr style=\"text-align: right;\">\n",
       "      <th></th>\n",
       "      <th>id</th>\n",
       "      <th>text</th>\n",
       "      <th>text_len</th>\n",
       "      <th>lang</th>\n",
       "      <th>text_tokens</th>\n",
       "      <th>nc_vec</th>\n",
       "      <th>label</th>\n",
       "    </tr>\n",
       "  </thead>\n",
       "  <tbody>\n",
       "    <tr>\n",
       "      <th>1</th>\n",
       "      <td>210705_news_328064.txt</td>\n",
       "      <td>PRESS STATEMENT \\nMICHAEL R. POMPEO, SECRETARY...</td>\n",
       "      <td>320</td>\n",
       "      <td>en</td>\n",
       "      <td>[PRESS STATEMENT \\nMICHAEL R. POMPEO, SECRETAR...</td>\n",
       "      <td>[[-0.004804640542715788, 1.7863454559119418e-0...</td>\n",
       "      <td>1</td>\n",
       "    </tr>\n",
       "    <tr>\n",
       "      <th>28</th>\n",
       "      <td>210705_news_476111.txt</td>\n",
       "      <td>Thanks to a two-year grant commitment from Blo...</td>\n",
       "      <td>483</td>\n",
       "      <td>en</td>\n",
       "      <td>[a two-year grant commitment, Bloomberg, our s...</td>\n",
       "      <td>[[-0.00989371258765459, -0.0012395973317325115...</td>\n",
       "      <td>1</td>\n",
       "    </tr>\n",
       "  </tbody>\n",
       "</table>\n",
       "</div>"
      ],
      "text/plain": [
       "                        id                                               text  \\\n",
       "1   210705_news_328064.txt  PRESS STATEMENT \\nMICHAEL R. POMPEO, SECRETARY...   \n",
       "28  210705_news_476111.txt  Thanks to a two-year grant commitment from Blo...   \n",
       "\n",
       "    text_len lang                                        text_tokens  \\\n",
       "1        320   en  [PRESS STATEMENT \\nMICHAEL R. POMPEO, SECRETAR...   \n",
       "28       483   en  [a two-year grant commitment, Bloomberg, our s...   \n",
       "\n",
       "                                               nc_vec  label  \n",
       "1   [[-0.004804640542715788, 1.7863454559119418e-0...      1  \n",
       "28  [[-0.00989371258765459, -0.0012395973317325115...      1  "
      ]
     },
     "execution_count": 122,
     "metadata": {},
     "output_type": "execute_result"
    }
   ],
   "source": [
    "df = pd.concat([tech_df, milt_df])\n",
    "df.head(2)"
   ]
  },
  {
   "cell_type": "code",
   "execution_count": 123,
   "id": "58edcb50",
   "metadata": {},
   "outputs": [
    {
     "data": {
      "text/plain": [
       "1    9574\n",
       "2    1939\n",
       "Name: label, dtype: int64"
      ]
     },
     "execution_count": 123,
     "metadata": {},
     "output_type": "execute_result"
    }
   ],
   "source": [
    "df.label.value_counts()"
   ]
  },
  {
   "cell_type": "code",
   "execution_count": 124,
   "id": "5430cf66",
   "metadata": {},
   "outputs": [],
   "source": [
    "df['label_name'] = df.apply(lambda x:get_label_name(x['label']), axis=1)\n",
    "df['id'] = df.apply(lambda x:x['id'][:-4], axis=1)"
   ]
  },
  {
   "cell_type": "code",
   "execution_count": 125,
   "id": "c7de944d",
   "metadata": {},
   "outputs": [],
   "source": [
    "df = df.merge(rssitem_df, how='left', on='id')"
   ]
  },
  {
   "cell_type": "code",
   "execution_count": 126,
   "id": "3617ce37",
   "metadata": {},
   "outputs": [
    {
     "data": {
      "text/html": [
       "<div>\n",
       "<style scoped>\n",
       "    .dataframe tbody tr th:only-of-type {\n",
       "        vertical-align: middle;\n",
       "    }\n",
       "\n",
       "    .dataframe tbody tr th {\n",
       "        vertical-align: top;\n",
       "    }\n",
       "\n",
       "    .dataframe thead th {\n",
       "        text-align: right;\n",
       "    }\n",
       "</style>\n",
       "<table border=\"1\" class=\"dataframe\">\n",
       "  <thead>\n",
       "    <tr style=\"text-align: right;\">\n",
       "      <th></th>\n",
       "      <th>id</th>\n",
       "      <th>text</th>\n",
       "      <th>text_len</th>\n",
       "      <th>lang</th>\n",
       "      <th>text_tokens</th>\n",
       "      <th>nc_vec</th>\n",
       "      <th>label</th>\n",
       "      <th>label_name</th>\n",
       "      <th>title</th>\n",
       "      <th>pubDate</th>\n",
       "      <th>url</th>\n",
       "    </tr>\n",
       "  </thead>\n",
       "  <tbody>\n",
       "    <tr>\n",
       "      <th>742</th>\n",
       "      <td>210705_news_13798</td>\n",
       "      <td>Roll up! Roll up! The world’s biggest climate ...</td>\n",
       "      <td>1133</td>\n",
       "      <td>en</td>\n",
       "      <td>[the world’s big climate polluter, the world’s...</td>\n",
       "      <td>[[-0.0036311428993940353, -0.02412171103060245...</td>\n",
       "      <td>1</td>\n",
       "      <td>technology</td>\n",
       "      <td>Saudi Aramco IPO: the ultimate marriage betwee...</td>\n",
       "      <td>2019-11-03 12:49:41</td>\n",
       "      <td>https://www.theguardian.com/business/2019/nov/...</td>\n",
       "    </tr>\n",
       "    <tr>\n",
       "      <th>4337</th>\n",
       "      <td>210705_news_227416</td>\n",
       "      <td>A large, multinational technology company got ...</td>\n",
       "      <td>516</td>\n",
       "      <td>en</td>\n",
       "      <td>[a large, multinational technology company, a ...</td>\n",
       "      <td>[[-0.01047287043184042, -0.00840772595256567, ...</td>\n",
       "      <td>1</td>\n",
       "      <td>technology</td>\n",
       "      <td>Chinese bank requires foreign firm to install ...</td>\n",
       "      <td>2020-06-26 12:00:49</td>\n",
       "      <td>https://arstechnica.com/?p=1687527</td>\n",
       "    </tr>\n",
       "    <tr>\n",
       "      <th>4446</th>\n",
       "      <td>210705_news_198526</td>\n",
       "      <td>Questions have been raised by Australian infec...</td>\n",
       "      <td>1310</td>\n",
       "      <td>en</td>\n",
       "      <td>[question, australian infectious disease resea...</td>\n",
       "      <td>[[-0.010538739152252674, 0.0062672751955688, -...</td>\n",
       "      <td>1</td>\n",
       "      <td>technology</td>\n",
       "      <td>Questions raised over hydroxychloroquine study...</td>\n",
       "      <td>2020-05-28 02:27:34</td>\n",
       "      <td>https://www.theguardian.com/science/2020/may/2...</td>\n",
       "    </tr>\n",
       "  </tbody>\n",
       "</table>\n",
       "</div>"
      ],
      "text/plain": [
       "                      id                                               text  \\\n",
       "742    210705_news_13798  Roll up! Roll up! The world’s biggest climate ...   \n",
       "4337  210705_news_227416  A large, multinational technology company got ...   \n",
       "4446  210705_news_198526  Questions have been raised by Australian infec...   \n",
       "\n",
       "      text_len lang                                        text_tokens  \\\n",
       "742       1133   en  [the world’s big climate polluter, the world’s...   \n",
       "4337       516   en  [a large, multinational technology company, a ...   \n",
       "4446      1310   en  [question, australian infectious disease resea...   \n",
       "\n",
       "                                                 nc_vec  label  label_name  \\\n",
       "742   [[-0.0036311428993940353, -0.02412171103060245...      1  technology   \n",
       "4337  [[-0.01047287043184042, -0.00840772595256567, ...      1  technology   \n",
       "4446  [[-0.010538739152252674, 0.0062672751955688, -...      1  technology   \n",
       "\n",
       "                                                  title             pubDate  \\\n",
       "742   Saudi Aramco IPO: the ultimate marriage betwee... 2019-11-03 12:49:41   \n",
       "4337  Chinese bank requires foreign firm to install ... 2020-06-26 12:00:49   \n",
       "4446  Questions raised over hydroxychloroquine study... 2020-05-28 02:27:34   \n",
       "\n",
       "                                                    url  \n",
       "742   https://www.theguardian.com/business/2019/nov/...  \n",
       "4337                 https://arstechnica.com/?p=1687527  \n",
       "4446  https://www.theguardian.com/science/2020/may/2...  "
      ]
     },
     "execution_count": 126,
     "metadata": {},
     "output_type": "execute_result"
    }
   ],
   "source": [
    "df['pubDate'] = pd.to_datetime(df['pubDate'],unit='s')\n",
    "df.sample(3)"
   ]
  },
  {
   "cell_type": "code",
   "execution_count": 25,
   "id": "02201248",
   "metadata": {},
   "outputs": [],
   "source": [
    "# df.to_pickle(os.getcwd()+'/../dataframes/final_dataframe.pkl')\n",
    "df = pd.read_pickle(os.getcwd()+'/../dataframes/final_dataframe.pkl')"
   ]
  },
  {
   "cell_type": "code",
   "execution_count": 35,
   "id": "1ba4699c",
   "metadata": {},
   "outputs": [],
   "source": [
    "df['autocomplete'] = df['text']"
   ]
  },
  {
   "cell_type": "markdown",
   "id": "7019003b",
   "metadata": {},
   "source": [
    "## Elastic search index creation and ingestion"
   ]
  },
  {
   "cell_type": "code",
   "execution_count": 27,
   "id": "6e86850c",
   "metadata": {},
   "outputs": [],
   "source": [
    "index = 'xxx_scraped_docs'\n",
    "pipeline = 'multilang_pipe'\n",
    "\n",
    "username = 'elastic'\n",
    "password = 'mit22yyy!'\n",
    "\n",
    "hostname = 'localhost'\n",
    "port = '9200'\n",
    "\n",
    "es = Elasticsearch(f\"http://{username}:{password}@{hostname}:{port}\")"
   ]
  },
  {
   "cell_type": "code",
   "execution_count": 36,
   "id": "549266d7",
   "metadata": {},
   "outputs": [],
   "source": [
    "with open('config/lpf_index_mappings.json', 'r') as f:\n",
    "    index_mapping_lpf = json.load(f)\n",
    "    \n",
    "with open('config/lpf_pipeline.json', 'r') as f:\n",
    "    pipeline_lpf = json.load(f)"
   ]
  },
  {
   "cell_type": "code",
   "execution_count": 37,
   "id": "d965b929",
   "metadata": {},
   "outputs": [
    {
     "name": "stderr",
     "output_type": "stream",
     "text": [
      "C:\\Users\\sri.sai.praveen.gadi\\.virtualenvs\\xxx-eAHl9Gue\\lib\\site-packages\\ipykernel_launcher.py:1: DeprecationWarning: Passing transport options in the API method is deprecated. Use 'Elasticsearch.options()' instead.\n",
      "  \"\"\"Entry point for launching an IPython kernel.\n",
      "C:\\Users\\sri.sai.praveen.gadi\\.virtualenvs\\xxx-eAHl9Gue\\lib\\site-packages\\ipykernel_launcher.py:2: DeprecationWarning: The 'body' parameter is deprecated and will be removed in a future version. Instead use individual parameters.\n",
      "  \n",
      "C:\\Users\\sri.sai.praveen.gadi\\.virtualenvs\\xxx-eAHl9Gue\\lib\\site-packages\\ipykernel_launcher.py:4: DeprecationWarning: Passing transport options in the API method is deprecated. Use 'Elasticsearch.options()' instead.\n",
      "  after removing the cwd from sys.path.\n",
      "C:\\Users\\sri.sai.praveen.gadi\\.virtualenvs\\xxx-eAHl9Gue\\lib\\site-packages\\ipykernel_launcher.py:5: DeprecationWarning: The 'body' parameter is deprecated and will be removed in a future version. Instead use individual parameters.\n",
      "  \"\"\"\n"
     ]
    },
    {
     "data": {
      "text/plain": [
       "ObjectApiResponse({'acknowledged': True})"
      ]
     },
     "execution_count": 37,
     "metadata": {},
     "output_type": "execute_result"
    }
   ],
   "source": [
    "es.indices.delete(index=index, ignore=404)\n",
    "es.indices.create(index=index, body=index_mapping_lpf)\n",
    "\n",
    "es.ingest.delete_pipeline(id=pipeline, ignore=404)\n",
    "es.ingest.put_pipeline(id=pipeline, body=pipeline_lpf)"
   ]
  },
  {
   "cell_type": "code",
   "execution_count": 38,
   "id": "e75e4ae7",
   "metadata": {},
   "outputs": [],
   "source": [
    "df_es = df[['id', 'text', 'label_name', 'title', 'pubDate', 'url', 'autocomplete']]\n",
    "df_es = df_es.rename(columns={'text': 'contents', 'label_name':'label', 'pubDate':'published_date', 'url':'page_url'})\n",
    "doc_dict = df_es.to_dict(orient='records')"
   ]
  },
  {
   "cell_type": "code",
   "execution_count": 39,
   "id": "c1a012bd",
   "metadata": {},
   "outputs": [
    {
     "name": "stderr",
     "output_type": "stream",
     "text": [
      "C:\\Users\\sri.sai.praveen.gadi\\.virtualenvs\\xxx-eAHl9Gue\\lib\\site-packages\\ipykernel_launcher.py:1: DeprecationWarning: Passing transport options in the API method is deprecated. Use 'Elasticsearch.options()' instead.\n",
      "  \"\"\"Entry point for launching an IPython kernel.\n"
     ]
    },
    {
     "data": {
      "text/plain": [
       "(11513, [])"
      ]
     },
     "execution_count": 39,
     "metadata": {},
     "output_type": "execute_result"
    }
   ],
   "source": [
    "helpers.bulk(es, doc_actions(doc_dict), chunk_size=1000, request_timeout=600, refresh='wait_for')"
   ]
  },
  {
   "cell_type": "code",
   "execution_count": 34,
   "id": "caca1696",
   "metadata": {},
   "outputs": [
    {
     "data": {
      "text/plain": [
       "ObjectApiResponse({'_shards': {'total': 1, 'successful': 1, 'failed': 0}})"
      ]
     },
     "execution_count": 34,
     "metadata": {},
     "output_type": "execute_result"
    }
   ],
   "source": [
    "es.indices.refresh(index=index)"
   ]
  },
  {
   "cell_type": "markdown",
   "id": "06ef1142",
   "metadata": {},
   "source": [
    "## Faiss index creation and ingestion"
   ]
  },
  {
   "cell_type": "code",
   "execution_count": 14,
   "id": "1b2fac68",
   "metadata": {},
   "outputs": [
    {
     "data": {
      "text/plain": [
       "(11513, 512)"
      ]
     },
     "execution_count": 14,
     "metadata": {},
     "output_type": "execute_result"
    }
   ],
   "source": [
    "doc_embeddings = get_modified_vectors(df.nc_vec.values)\n",
    "doc_embeddings = np.float32(doc_embeddings)\n",
    "doc_embeddings.shape"
   ]
  },
  {
   "cell_type": "code",
   "execution_count": 15,
   "id": "be983fb8",
   "metadata": {},
   "outputs": [],
   "source": [
    "index = faiss.IndexFlatL2(doc_embeddings.shape[1])"
   ]
  },
  {
   "cell_type": "code",
   "execution_count": 16,
   "id": "f9823f55",
   "metadata": {},
   "outputs": [],
   "source": [
    "index.add(doc_embeddings)"
   ]
  },
  {
   "cell_type": "code",
   "execution_count": 17,
   "id": "652f2e92",
   "metadata": {},
   "outputs": [],
   "source": [
    "faiss.write_index(index,os.getcwd() + '/../../models/vector.index')"
   ]
  },
  {
   "cell_type": "code",
   "execution_count": 18,
   "id": "9947b795",
   "metadata": {},
   "outputs": [
    {
     "data": {
      "text/plain": [
       "(array([[0.        , 0.0164094 , 0.01658845]], dtype=float32),\n",
       " array([[   0, 2386, 9180]], dtype=int64))"
      ]
     },
     "execution_count": 18,
     "metadata": {},
     "output_type": "execute_result"
    }
   ],
   "source": [
    "result=index.search(doc_embeddings[0].reshape(1, -1), 3)\n",
    "result"
   ]
  },
  {
   "cell_type": "code",
   "execution_count": 19,
   "id": "bd44a6dc",
   "metadata": {},
   "outputs": [
    {
     "data": {
      "text/plain": [
       "array([   0, 2386, 9180], dtype=int64)"
      ]
     },
     "execution_count": 19,
     "metadata": {},
     "output_type": "execute_result"
    }
   ],
   "source": [
    "result[1][0]"
   ]
  },
  {
   "cell_type": "code",
   "execution_count": 20,
   "id": "3f4b9e06",
   "metadata": {},
   "outputs": [
    {
     "data": {
      "text/plain": [
       "1    9574\n",
       "2    1939\n",
       "Name: label, dtype: int64"
      ]
     },
     "execution_count": 20,
     "metadata": {},
     "output_type": "execute_result"
    }
   ],
   "source": [
    "df.label.value_counts()"
   ]
  },
  {
   "cell_type": "code",
   "execution_count": 21,
   "id": "4fae1b35",
   "metadata": {},
   "outputs": [
    {
     "data": {
      "text/html": [
       "<div>\n",
       "<style scoped>\n",
       "    .dataframe tbody tr th:only-of-type {\n",
       "        vertical-align: middle;\n",
       "    }\n",
       "\n",
       "    .dataframe tbody tr th {\n",
       "        vertical-align: top;\n",
       "    }\n",
       "\n",
       "    .dataframe thead th {\n",
       "        text-align: right;\n",
       "    }\n",
       "</style>\n",
       "<table border=\"1\" class=\"dataframe\">\n",
       "  <thead>\n",
       "    <tr style=\"text-align: right;\">\n",
       "      <th></th>\n",
       "      <th>id</th>\n",
       "      <th>text</th>\n",
       "      <th>text_len</th>\n",
       "      <th>lang</th>\n",
       "      <th>text_tokens</th>\n",
       "      <th>nc_vec</th>\n",
       "      <th>label</th>\n",
       "      <th>label_name</th>\n",
       "      <th>title</th>\n",
       "      <th>pubDate</th>\n",
       "      <th>url</th>\n",
       "    </tr>\n",
       "  </thead>\n",
       "  <tbody>\n",
       "    <tr>\n",
       "      <th>0</th>\n",
       "      <td>210705_news_328064</td>\n",
       "      <td>PRESS STATEMENT \\nMICHAEL R. POMPEO, SECRETARY...</td>\n",
       "      <td>320</td>\n",
       "      <td>en</td>\n",
       "      <td>[PRESS STATEMENT \\nMICHAEL R. POMPEO, SECRETAR...</td>\n",
       "      <td>[[-0.004804640542715788, 1.7863454559119418e-0...</td>\n",
       "      <td>1</td>\n",
       "      <td>technology</td>\n",
       "      <td>United States Charges Russian Military Intelli...</td>\n",
       "      <td>2020-10-20 07:53:39</td>\n",
       "      <td>https://ru.usembassy.gov/united-states-charges...</td>\n",
       "    </tr>\n",
       "    <tr>\n",
       "      <th>2386</th>\n",
       "      <td>210705_news_327019</td>\n",
       "      <td>The alleged cyberattackers hacked into softwar...</td>\n",
       "      <td>884</td>\n",
       "      <td>en</td>\n",
       "      <td>[the allege cyberattacker, software, destructi...</td>\n",
       "      <td>[[-0.007118138950318098, 0.0011028514709323645...</td>\n",
       "      <td>1</td>\n",
       "      <td>technology</td>\n",
       "      <td>6 Russian military officers charged with a wor...</td>\n",
       "      <td>2020-10-19 18:08:00</td>\n",
       "      <td>https://www.cnn.com/2020/10/19/politics/russia...</td>\n",
       "    </tr>\n",
       "    <tr>\n",
       "      <th>9180</th>\n",
       "      <td>210705_news_327510</td>\n",
       "      <td>WASHINGTON  - U.S. prosecutors on Monday anno...</td>\n",
       "      <td>942</td>\n",
       "      <td>en</td>\n",
       "      <td>[WASHINGTON  - U.S. prosecutor, Monday, charge...</td>\n",
       "      <td>[[-0.0029839028138667345, 0.005981412716209888...</td>\n",
       "      <td>1</td>\n",
       "      <td>technology</td>\n",
       "      <td>US Charges Six Russian Military Officers in Gl...</td>\n",
       "      <td>2020-10-19 23:26:15</td>\n",
       "      <td>https://www.voanews.com/usa/us-charges-six-rus...</td>\n",
       "    </tr>\n",
       "  </tbody>\n",
       "</table>\n",
       "</div>"
      ],
      "text/plain": [
       "                      id                                               text  \\\n",
       "0     210705_news_328064  PRESS STATEMENT \\nMICHAEL R. POMPEO, SECRETARY...   \n",
       "2386  210705_news_327019  The alleged cyberattackers hacked into softwar...   \n",
       "9180  210705_news_327510   WASHINGTON  - U.S. prosecutors on Monday anno...   \n",
       "\n",
       "      text_len lang                                        text_tokens  \\\n",
       "0          320   en  [PRESS STATEMENT \\nMICHAEL R. POMPEO, SECRETAR...   \n",
       "2386       884   en  [the allege cyberattacker, software, destructi...   \n",
       "9180       942   en  [WASHINGTON  - U.S. prosecutor, Monday, charge...   \n",
       "\n",
       "                                                 nc_vec  label  label_name  \\\n",
       "0     [[-0.004804640542715788, 1.7863454559119418e-0...      1  technology   \n",
       "2386  [[-0.007118138950318098, 0.0011028514709323645...      1  technology   \n",
       "9180  [[-0.0029839028138667345, 0.005981412716209888...      1  technology   \n",
       "\n",
       "                                                  title             pubDate  \\\n",
       "0     United States Charges Russian Military Intelli... 2020-10-20 07:53:39   \n",
       "2386  6 Russian military officers charged with a wor... 2020-10-19 18:08:00   \n",
       "9180  US Charges Six Russian Military Officers in Gl... 2020-10-19 23:26:15   \n",
       "\n",
       "                                                    url  \n",
       "0     https://ru.usembassy.gov/united-states-charges...  \n",
       "2386  https://www.cnn.com/2020/10/19/politics/russia...  \n",
       "9180  https://www.voanews.com/usa/us-charges-six-rus...  "
      ]
     },
     "execution_count": 21,
     "metadata": {},
     "output_type": "execute_result"
    }
   ],
   "source": [
    "df.iloc[result[1][0]]"
   ]
  }
 ],
 "metadata": {
  "kernelspec": {
   "display_name": "Python 3 (ipykernel)",
   "language": "python",
   "name": "python3"
  },
  "language_info": {
   "codemirror_mode": {
    "name": "ipython",
    "version": 3
   },
   "file_extension": ".py",
   "mimetype": "text/x-python",
   "name": "python",
   "nbconvert_exporter": "python",
   "pygments_lexer": "ipython3",
   "version": "3.7.9"
  }
 },
 "nbformat": 4,
 "nbformat_minor": 5
}
