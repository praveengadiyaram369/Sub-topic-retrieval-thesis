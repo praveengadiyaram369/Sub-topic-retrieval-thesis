{
 "cells": [
  {
   "cell_type": "markdown",
   "id": "151c2255",
   "metadata": {},
   "source": [
    "# Hypothesis\n",
    "\n",
    "1. Null Hypothesis: Both the samples namely \"System A\" and \"System B\" mean ratings are equal\n",
    "2. Alternate Hypothesis: Both the samples namely \"System A\" and \"System B\" mean ratings are not equal"
   ]
  },
  {
   "cell_type": "markdown",
   "id": "4e87e7e7",
   "metadata": {},
   "source": [
    "# T-test\n",
    "\n",
    "1. The t-test is a way to determine whether two numbers are significantly different from one another.\n",
    "2. 95 % confidence level, C = 1 - alpha\n",
    "3. significance level, alpha = 0.05\n",
    "4. Two-tail: (alpha/2) tails, 2 critical points, (-z, z)\n",
    "3. p-value: How likely you are to have found a particular set of observations if the null hypothesis were true"
   ]
  },
  {
   "cell_type": "code",
   "execution_count": 3,
   "id": "7a07522e",
   "metadata": {},
   "outputs": [],
   "source": [
    "import sqlite3\n",
    "import os\n",
    "import pandas as pd\n",
    "import numpy as np\n",
    "\n",
    "from scipy.stats import ttest_rel\n",
    "from scipy.stats import wilcoxon\n",
    "\n",
    "import matplotlib.pyplot as plt\n",
    "import seaborn as sns \n",
    "%matplotlib inline\n",
    "\n",
    "import warnings\n",
    "warnings.filterwarnings('ignore')"
   ]
  },
  {
   "cell_type": "code",
   "execution_count": 6,
   "id": "3d012ef8",
   "metadata": {},
   "outputs": [],
   "source": [
    "plt.rcParams.update({'font.size': 13})"
   ]
  },
  {
   "cell_type": "code",
   "execution_count": 7,
   "id": "25a612af",
   "metadata": {},
   "outputs": [],
   "source": [
    "def sqlite_common_query_seq(sql_query, sql_select=False, sql_insert_params=None):\n",
    "\n",
    "    print('running sqlite_common_query_seq')\n",
    "\n",
    "    try:\n",
    "        conn = sqlite3.connect(sqlite_db_path)\n",
    "\n",
    "        cursor = conn.cursor()\n",
    "\n",
    "        if sql_insert_params:\n",
    "            cursor.execute(sql_query, sql_insert_params)\n",
    "        else:\n",
    "            cursor.execute(sql_query)\n",
    "\n",
    "        if sql_select:\n",
    "            query_result = cursor.fetchall()\n",
    "            conn.close()\n",
    "\n",
    "            return query_result\n",
    "\n",
    "        conn.commit()\n",
    "        conn.close()\n",
    "\n",
    "        print('finished sqlite_common_query_seq')\n",
    "    except Exception as e:\n",
    "        print(e)\n",
    "        \n",
    "def get_label_name_clustering(label_id):\n",
    "    \n",
    "    if label_id == 1:\n",
    "        return 'Distinctive and well-labeled'\n",
    "    elif label_id == 2:\n",
    "        return 'Distinctive and not well-labeled'\n",
    "    elif label_id == 3:\n",
    "        return 'Not distinctive and well-labeled'\n",
    "    elif label_id == 4:\n",
    "        return 'Not distinctive and not well-labeled'\n",
    "    \n",
    "def get_label_name_survey(label_id):\n",
    "    \n",
    "    if label_id == 1:\n",
    "        return 'System A'\n",
    "    elif label_id == 2:\n",
    "        return 'System B'\n",
    "    elif label_id == 3:\n",
    "        return 'Neither System A nor B'\n",
    "    \n",
    "def get_label_name_final(label_id):\n",
    "    \n",
    "    if label_id == 1:\n",
    "        return 'Useful'\n",
    "    elif label_id == 2:\n",
    "        return 'Not useful'\n",
    "    \n",
    "def get_true_label(label, a_val, b_val):\n",
    "    \n",
    "    if label == 1 and a_val >= b_val:\n",
    "        return 1\n",
    "    elif label == 2 and b_val >= a_val:\n",
    "        return 1\n",
    "    elif label == 3:\n",
    "        return 1\n",
    "    else:\n",
    "        return 0"
   ]
  },
  {
   "cell_type": "code",
   "execution_count": 8,
   "id": "8514d840",
   "metadata": {},
   "outputs": [],
   "source": [
    "sqlite_db_path = os.getcwd() + '/../../DB/survey_results_dataset.db'"
   ]
  },
  {
   "cell_type": "code",
   "execution_count": 9,
   "id": "b289b39e",
   "metadata": {},
   "outputs": [
    {
     "name": "stdout",
     "output_type": "stream",
     "text": [
      "running sqlite_common_query_seq\n"
     ]
    },
    {
     "data": {
      "text/html": [
       "<div>\n",
       "<style scoped>\n",
       "    .dataframe tbody tr th:only-of-type {\n",
       "        vertical-align: middle;\n",
       "    }\n",
       "\n",
       "    .dataframe tbody tr th {\n",
       "        vertical-align: top;\n",
       "    }\n",
       "\n",
       "    .dataframe thead th {\n",
       "        text-align: right;\n",
       "    }\n",
       "</style>\n",
       "<table border=\"1\" class=\"dataframe\">\n",
       "  <thead>\n",
       "    <tr style=\"text-align: right;\">\n",
       "      <th></th>\n",
       "      <th>session_id</th>\n",
       "      <th>query</th>\n",
       "      <th>survey_label_1</th>\n",
       "      <th>timestamp</th>\n",
       "    </tr>\n",
       "  </thead>\n",
       "  <tbody>\n",
       "    <tr>\n",
       "      <th>18</th>\n",
       "      <td>ac3367b624c344eca87ef19d0fdd5e16</td>\n",
       "      <td>Software Defined Networking</td>\n",
       "      <td>4</td>\n",
       "      <td>2023-04-06 14:35:41.938044</td>\n",
       "    </tr>\n",
       "    <tr>\n",
       "      <th>15</th>\n",
       "      <td>39257501e4fc4cbca9f6f7786017d24c</td>\n",
       "      <td>Kryptographie</td>\n",
       "      <td>2</td>\n",
       "      <td>2023-03-31 08:07:02.301857</td>\n",
       "    </tr>\n",
       "  </tbody>\n",
       "</table>\n",
       "</div>"
      ],
      "text/plain": [
       "                          session_id                        query  \\\n",
       "18  ac3367b624c344eca87ef19d0fdd5e16  Software Defined Networking   \n",
       "15  39257501e4fc4cbca9f6f7786017d24c                Kryptographie   \n",
       "\n",
       "    survey_label_1                   timestamp  \n",
       "18               4  2023-04-06 14:35:41.938044  \n",
       "15               2  2023-03-31 08:07:02.301857  "
      ]
     },
     "execution_count": 9,
     "metadata": {},
     "output_type": "execute_result"
    }
   ],
   "source": [
    "select_table_query = \"\"\"SELECT * FROM clustering_output_survey_data;\"\"\"\n",
    "\n",
    "query_result = sqlite_common_query_seq(select_table_query, sql_select=True) \n",
    "query_result\n",
    "\n",
    "clustering_output_df = pd.DataFrame(query_result, columns=['session_id', 'query', 'survey_label_1', 'timestamp'])\n",
    "clustering_output_df.sample(2)"
   ]
  },
  {
   "cell_type": "code",
   "execution_count": 49,
   "id": "4d89c0de",
   "metadata": {},
   "outputs": [
    {
     "name": "stdout",
     "output_type": "stream",
     "text": [
      "running sqlite_common_query_seq\n"
     ]
    },
    {
     "data": {
      "text/html": [
       "<div>\n",
       "<style scoped>\n",
       "    .dataframe tbody tr th:only-of-type {\n",
       "        vertical-align: middle;\n",
       "    }\n",
       "\n",
       "    .dataframe tbody tr th {\n",
       "        vertical-align: top;\n",
       "    }\n",
       "\n",
       "    .dataframe thead th {\n",
       "        text-align: right;\n",
       "    }\n",
       "</style>\n",
       "<table border=\"1\" class=\"dataframe\">\n",
       "  <thead>\n",
       "    <tr style=\"text-align: right;\">\n",
       "      <th></th>\n",
       "      <th>session_id</th>\n",
       "      <th>query</th>\n",
       "      <th>sub_topic</th>\n",
       "      <th>survey_label_2</th>\n",
       "      <th>survey_label_3</th>\n",
       "      <th>survey_label_4</th>\n",
       "      <th>timestamp</th>\n",
       "    </tr>\n",
       "  </thead>\n",
       "  <tbody>\n",
       "    <tr>\n",
       "      <th>6</th>\n",
       "      <td>f1c61cc976ac4a2d8a3bf658060cc5fc</td>\n",
       "      <td>Edge computing</td>\n",
       "      <td>Everbetter processor</td>\n",
       "      <td>1</td>\n",
       "      <td>2.6</td>\n",
       "      <td>0.9</td>\n",
       "      <td>2023-03-22 05:58:06.702319</td>\n",
       "    </tr>\n",
       "    <tr>\n",
       "      <th>0</th>\n",
       "      <td>e6e92cf3ce6246b58f936a2a4e6ac7a6</td>\n",
       "      <td>Künstliche Intelligenz</td>\n",
       "      <td>KI</td>\n",
       "      <td>1</td>\n",
       "      <td>9.0</td>\n",
       "      <td>7.0</td>\n",
       "      <td>2023-03-21 13:20:01.835452</td>\n",
       "    </tr>\n",
       "  </tbody>\n",
       "</table>\n",
       "</div>"
      ],
      "text/plain": [
       "                         session_id                   query  \\\n",
       "6  f1c61cc976ac4a2d8a3bf658060cc5fc          Edge computing   \n",
       "0  e6e92cf3ce6246b58f936a2a4e6ac7a6  Künstliche Intelligenz   \n",
       "\n",
       "              sub_topic  survey_label_2  survey_label_3  survey_label_4  \\\n",
       "6  Everbetter processor               1             2.6             0.9   \n",
       "0                    KI               1             9.0             7.0   \n",
       "\n",
       "                    timestamp  \n",
       "6  2023-03-22 05:58:06.702319  \n",
       "0  2023-03-21 13:20:01.835452  "
      ]
     },
     "execution_count": 49,
     "metadata": {},
     "output_type": "execute_result"
    }
   ],
   "source": [
    "select_table_query = \"\"\"SELECT * FROM system_comparision_survey_data;\"\"\"\n",
    "\n",
    "query_result = sqlite_common_query_seq(select_table_query, sql_select=True)\n",
    "query_result\n",
    "\n",
    "comparision_output_df = pd.DataFrame(query_result, columns=['session_id', 'query', 'sub_topic', 'survey_label_2', 'survey_label_3', 'survey_label_4', 'timestamp'])\n",
    "comparision_output_df.sample(2)"
   ]
  },
  {
   "cell_type": "code",
   "execution_count": 11,
   "id": "09a9ce90",
   "metadata": {},
   "outputs": [
    {
     "name": "stdout",
     "output_type": "stream",
     "text": [
      "running sqlite_common_query_seq\n"
     ]
    },
    {
     "data": {
      "text/html": [
       "<div>\n",
       "<style scoped>\n",
       "    .dataframe tbody tr th:only-of-type {\n",
       "        vertical-align: middle;\n",
       "    }\n",
       "\n",
       "    .dataframe tbody tr th {\n",
       "        vertical-align: top;\n",
       "    }\n",
       "\n",
       "    .dataframe thead th {\n",
       "        text-align: right;\n",
       "    }\n",
       "</style>\n",
       "<table border=\"1\" class=\"dataframe\">\n",
       "  <thead>\n",
       "    <tr style=\"text-align: right;\">\n",
       "      <th></th>\n",
       "      <th>session_id</th>\n",
       "      <th>query</th>\n",
       "      <th>survey_label_5</th>\n",
       "      <th>timestamp</th>\n",
       "    </tr>\n",
       "  </thead>\n",
       "  <tbody>\n",
       "    <tr>\n",
       "      <th>1</th>\n",
       "      <td>f1c61cc976ac4a2d8a3bf658060cc5fc</td>\n",
       "      <td>Main Ground Combat System (MGCS)</td>\n",
       "      <td>2</td>\n",
       "      <td>2023-03-22 05:53:50.068984</td>\n",
       "    </tr>\n",
       "    <tr>\n",
       "      <th>7</th>\n",
       "      <td>5f64b4b5ae9a42728a0e80a30f64959d</td>\n",
       "      <td>Robotik</td>\n",
       "      <td>2</td>\n",
       "      <td>2023-03-27 12:03:15.386247</td>\n",
       "    </tr>\n",
       "  </tbody>\n",
       "</table>\n",
       "</div>"
      ],
      "text/plain": [
       "                         session_id                             query  \\\n",
       "1  f1c61cc976ac4a2d8a3bf658060cc5fc  Main Ground Combat System (MGCS)   \n",
       "7  5f64b4b5ae9a42728a0e80a30f64959d                           Robotik   \n",
       "\n",
       "   survey_label_5                   timestamp  \n",
       "1               2  2023-03-22 05:53:50.068984  \n",
       "7               2  2023-03-27 12:03:15.386247  "
      ]
     },
     "execution_count": 11,
     "metadata": {},
     "output_type": "execute_result"
    }
   ],
   "source": [
    "select_table_query = \"\"\"SELECT * FROM xxx_survey_output;\"\"\"\n",
    "\n",
    "query_result = sqlite_common_query_seq(select_table_query, sql_select=True)\n",
    "query_result\n",
    "\n",
    "survey_output_df = pd.DataFrame(query_result, columns=['session_id', 'query', 'survey_label_5', 'timestamp'])\n",
    "survey_output_df.sample(2)"
   ]
  },
  {
   "cell_type": "code",
   "execution_count": 12,
   "id": "1b4ee3d4",
   "metadata": {},
   "outputs": [
    {
     "data": {
      "text/html": [
       "<div>\n",
       "<style scoped>\n",
       "    .dataframe tbody tr th:only-of-type {\n",
       "        vertical-align: middle;\n",
       "    }\n",
       "\n",
       "    .dataframe tbody tr th {\n",
       "        vertical-align: top;\n",
       "    }\n",
       "\n",
       "    .dataframe thead th {\n",
       "        text-align: right;\n",
       "    }\n",
       "</style>\n",
       "<table border=\"1\" class=\"dataframe\">\n",
       "  <thead>\n",
       "    <tr style=\"text-align: right;\">\n",
       "      <th></th>\n",
       "      <th>session_id</th>\n",
       "      <th>query</th>\n",
       "      <th>survey_label_1</th>\n",
       "      <th>timestamp</th>\n",
       "    </tr>\n",
       "  </thead>\n",
       "  <tbody>\n",
       "    <tr>\n",
       "      <th>6</th>\n",
       "      <td>8fd7002669364644962d58497ebd1253</td>\n",
       "      <td>Wellenformen und -ausbreitung</td>\n",
       "      <td>1</td>\n",
       "      <td>2023-03-22 11:18:50.241864</td>\n",
       "    </tr>\n",
       "  </tbody>\n",
       "</table>\n",
       "</div>"
      ],
      "text/plain": [
       "                         session_id                          query  \\\n",
       "6  8fd7002669364644962d58497ebd1253  Wellenformen und -ausbreitung   \n",
       "\n",
       "   survey_label_1                   timestamp  \n",
       "6               1  2023-03-22 11:18:50.241864  "
      ]
     },
     "execution_count": 12,
     "metadata": {},
     "output_type": "execute_result"
    }
   ],
   "source": [
    "clustering_output_df[clustering_output_df['query'] == 'Wellenformen und -ausbreitung']"
   ]
  },
  {
   "cell_type": "code",
   "execution_count": 13,
   "id": "09bb3380",
   "metadata": {},
   "outputs": [
    {
     "data": {
      "text/html": [
       "<div>\n",
       "<style scoped>\n",
       "    .dataframe tbody tr th:only-of-type {\n",
       "        vertical-align: middle;\n",
       "    }\n",
       "\n",
       "    .dataframe tbody tr th {\n",
       "        vertical-align: top;\n",
       "    }\n",
       "\n",
       "    .dataframe thead th {\n",
       "        text-align: right;\n",
       "    }\n",
       "</style>\n",
       "<table border=\"1\" class=\"dataframe\">\n",
       "  <thead>\n",
       "    <tr style=\"text-align: right;\">\n",
       "      <th></th>\n",
       "      <th>session_id</th>\n",
       "      <th>query</th>\n",
       "      <th>sub_topic</th>\n",
       "      <th>survey_label_2</th>\n",
       "      <th>survey_label_3</th>\n",
       "      <th>survey_label_4</th>\n",
       "      <th>timestamp</th>\n",
       "    </tr>\n",
       "  </thead>\n",
       "  <tbody>\n",
       "    <tr>\n",
       "      <th>12</th>\n",
       "      <td>8fd7002669364644962d58497ebd1253</td>\n",
       "      <td>Wellenformen und -ausbreitung</td>\n",
       "      <td>Gesundheitswesen</td>\n",
       "      <td>1</td>\n",
       "      <td>0.0</td>\n",
       "      <td>0.0</td>\n",
       "      <td>2023-03-22 11:19:20.658841</td>\n",
       "    </tr>\n",
       "  </tbody>\n",
       "</table>\n",
       "</div>"
      ],
      "text/plain": [
       "                          session_id                          query  \\\n",
       "12  8fd7002669364644962d58497ebd1253  Wellenformen und -ausbreitung   \n",
       "\n",
       "           sub_topic  survey_label_2  survey_label_3  survey_label_4  \\\n",
       "12  Gesundheitswesen               1             0.0             0.0   \n",
       "\n",
       "                     timestamp  \n",
       "12  2023-03-22 11:19:20.658841  "
      ]
     },
     "execution_count": 13,
     "metadata": {},
     "output_type": "execute_result"
    }
   ],
   "source": [
    "comparision_output_df[comparision_output_df['query'] == 'Wellenformen und -ausbreitung']"
   ]
  },
  {
   "cell_type": "code",
   "execution_count": 14,
   "id": "49e2f97c",
   "metadata": {},
   "outputs": [
    {
     "data": {
      "text/html": [
       "<div>\n",
       "<style scoped>\n",
       "    .dataframe tbody tr th:only-of-type {\n",
       "        vertical-align: middle;\n",
       "    }\n",
       "\n",
       "    .dataframe tbody tr th {\n",
       "        vertical-align: top;\n",
       "    }\n",
       "\n",
       "    .dataframe thead th {\n",
       "        text-align: right;\n",
       "    }\n",
       "</style>\n",
       "<table border=\"1\" class=\"dataframe\">\n",
       "  <thead>\n",
       "    <tr style=\"text-align: right;\">\n",
       "      <th></th>\n",
       "      <th>session_id</th>\n",
       "      <th>query</th>\n",
       "      <th>survey_label_5</th>\n",
       "      <th>timestamp</th>\n",
       "    </tr>\n",
       "  </thead>\n",
       "  <tbody>\n",
       "    <tr>\n",
       "      <th>6</th>\n",
       "      <td>8fd7002669364644962d58497ebd1253</td>\n",
       "      <td>Wellenformen und -ausbreitung</td>\n",
       "      <td>1</td>\n",
       "      <td>2023-03-22 11:19:24.856778</td>\n",
       "    </tr>\n",
       "  </tbody>\n",
       "</table>\n",
       "</div>"
      ],
      "text/plain": [
       "                         session_id                          query  \\\n",
       "6  8fd7002669364644962d58497ebd1253  Wellenformen und -ausbreitung   \n",
       "\n",
       "   survey_label_5                   timestamp  \n",
       "6               1  2023-03-22 11:19:24.856778  "
      ]
     },
     "execution_count": 14,
     "metadata": {},
     "output_type": "execute_result"
    }
   ],
   "source": [
    "survey_output_df[survey_output_df['query'] == 'Wellenformen und -ausbreitung']"
   ]
  },
  {
   "cell_type": "code",
   "execution_count": 15,
   "id": "9094c134",
   "metadata": {},
   "outputs": [],
   "source": [
    "clustering_output_df = clustering_output_df[clustering_output_df['query'] != 'Wellenformen und -ausbreitung']\n",
    "comparision_output_df = comparision_output_df[comparision_output_df['query'] != 'Wellenformen und -ausbreitung']\n",
    "survey_output_df = survey_output_df[survey_output_df['query'] != 'Wellenformen und -ausbreitung']"
   ]
  },
  {
   "cell_type": "code",
   "execution_count": 16,
   "id": "cbb10367",
   "metadata": {},
   "outputs": [
    {
     "data": {
      "text/plain": [
       "12"
      ]
     },
     "execution_count": 16,
     "metadata": {},
     "output_type": "execute_result"
    }
   ],
   "source": [
    "clustering_output_df['session_id'].nunique()"
   ]
  },
  {
   "cell_type": "code",
   "execution_count": 17,
   "id": "b04be03e",
   "metadata": {},
   "outputs": [
    {
     "data": {
      "text/plain": [
       "9"
      ]
     },
     "execution_count": 17,
     "metadata": {},
     "output_type": "execute_result"
    }
   ],
   "source": [
    "comparision_output_df['session_id'].nunique()"
   ]
  },
  {
   "cell_type": "code",
   "execution_count": 18,
   "id": "8a418e13",
   "metadata": {},
   "outputs": [
    {
     "data": {
      "text/plain": [
       "8"
      ]
     },
     "execution_count": 18,
     "metadata": {},
     "output_type": "execute_result"
    }
   ],
   "source": [
    "survey_output_df['session_id'].nunique()"
   ]
  },
  {
   "cell_type": "code",
   "execution_count": 19,
   "id": "932ec097",
   "metadata": {},
   "outputs": [
    {
     "data": {
      "text/plain": [
       "23"
      ]
     },
     "execution_count": 19,
     "metadata": {},
     "output_type": "execute_result"
    }
   ],
   "source": [
    "len(comparision_output_df.index)"
   ]
  },
  {
   "cell_type": "code",
   "execution_count": 50,
   "id": "7a91d773",
   "metadata": {},
   "outputs": [],
   "source": [
    "comparision_output_df['true_label'] = comparision_output_df.apply(lambda x:get_true_label(x['survey_label_2'], x['survey_label_3'], x['survey_label_4']), axis=1)"
   ]
  },
  {
   "cell_type": "code",
   "execution_count": 51,
   "id": "c97d5091",
   "metadata": {},
   "outputs": [
    {
     "data": {
      "text/html": [
       "<div>\n",
       "<style scoped>\n",
       "    .dataframe tbody tr th:only-of-type {\n",
       "        vertical-align: middle;\n",
       "    }\n",
       "\n",
       "    .dataframe tbody tr th {\n",
       "        vertical-align: top;\n",
       "    }\n",
       "\n",
       "    .dataframe thead th {\n",
       "        text-align: right;\n",
       "    }\n",
       "</style>\n",
       "<table border=\"1\" class=\"dataframe\">\n",
       "  <thead>\n",
       "    <tr style=\"text-align: right;\">\n",
       "      <th></th>\n",
       "      <th>session_id</th>\n",
       "      <th>query</th>\n",
       "      <th>sub_topic</th>\n",
       "      <th>survey_label_2</th>\n",
       "      <th>survey_label_3</th>\n",
       "      <th>survey_label_4</th>\n",
       "      <th>timestamp</th>\n",
       "      <th>true_label</th>\n",
       "    </tr>\n",
       "  </thead>\n",
       "  <tbody>\n",
       "    <tr>\n",
       "      <th>8</th>\n",
       "      <td>677f446b0c864984a043917dbfc0a20a</td>\n",
       "      <td>Mobile Kommunikation</td>\n",
       "      <td>Auto</td>\n",
       "      <td>2</td>\n",
       "      <td>10.0</td>\n",
       "      <td>6.1</td>\n",
       "      <td>2023-03-22 07:11:12.079465</td>\n",
       "      <td>0</td>\n",
       "    </tr>\n",
       "  </tbody>\n",
       "</table>\n",
       "</div>"
      ],
      "text/plain": [
       "                         session_id                 query sub_topic  \\\n",
       "8  677f446b0c864984a043917dbfc0a20a  Mobile Kommunikation      Auto   \n",
       "\n",
       "   survey_label_2  survey_label_3  survey_label_4                   timestamp  \\\n",
       "8               2            10.0             6.1  2023-03-22 07:11:12.079465   \n",
       "\n",
       "   true_label  \n",
       "8           0  "
      ]
     },
     "execution_count": 51,
     "metadata": {},
     "output_type": "execute_result"
    }
   ],
   "source": [
    "comparision_output_df[comparision_output_df['true_label'] == 0]"
   ]
  },
  {
   "cell_type": "code",
   "execution_count": 21,
   "id": "cfbe2126",
   "metadata": {},
   "outputs": [],
   "source": [
    "comparision_output_df = comparision_output_df[comparision_output_df['true_label'] != 0]"
   ]
  },
  {
   "cell_type": "code",
   "execution_count": 22,
   "id": "accf39fa",
   "metadata": {},
   "outputs": [],
   "source": [
    "clustering_output_df['label_name'] = clustering_output_df.apply(lambda x:get_label_name_clustering(x['survey_label_1']), axis=1)\n",
    "comparision_output_df['label_name'] = comparision_output_df.apply(lambda x:get_label_name_survey(x['survey_label_2']), axis=1)\n",
    "survey_output_df['label_name'] = survey_output_df.apply(lambda x:get_label_name_final(x['survey_label_5']), axis=1)"
   ]
  },
  {
   "cell_type": "code",
   "execution_count": 23,
   "id": "f362c877",
   "metadata": {},
   "outputs": [],
   "source": [
    "comparision_output_df['survey_label_diff'] = comparision_output_df.apply(lambda x:x['survey_label_3'] - x['survey_label_4'], axis=1)"
   ]
  },
  {
   "cell_type": "code",
   "execution_count": 24,
   "id": "2d228d88",
   "metadata": {},
   "outputs": [
    {
     "data": {
      "text/plain": [
       "Distinctive and not well-labeled        8\n",
       "Distinctive and well-labeled            6\n",
       "Not distinctive and not well-labeled    3\n",
       "Not distinctive and well-labeled        1\n",
       "Name: label_name, dtype: int64"
      ]
     },
     "execution_count": 24,
     "metadata": {},
     "output_type": "execute_result"
    }
   ],
   "source": [
    "clustering_output_df.label_name.value_counts()"
   ]
  },
  {
   "cell_type": "code",
   "execution_count": 25,
   "id": "1efb6b9c",
   "metadata": {},
   "outputs": [
    {
     "data": {
      "text/plain": [
       "System A                  18\n",
       "Neither System A nor B     4\n",
       "Name: label_name, dtype: int64"
      ]
     },
     "execution_count": 25,
     "metadata": {},
     "output_type": "execute_result"
    }
   ],
   "source": [
    "comparision_output_df.label_name.value_counts()"
   ]
  },
  {
   "cell_type": "code",
   "execution_count": 26,
   "id": "056b278e",
   "metadata": {},
   "outputs": [
    {
     "data": {
      "text/plain": [
       "Useful        6\n",
       "Not useful    5\n",
       "Name: label_name, dtype: int64"
      ]
     },
     "execution_count": 26,
     "metadata": {},
     "output_type": "execute_result"
    }
   ],
   "source": [
    "survey_output_df.label_name.value_counts()"
   ]
  },
  {
   "cell_type": "code",
   "execution_count": 27,
   "id": "d8cebacb",
   "metadata": {},
   "outputs": [
    {
     "data": {
      "text/plain": [
       "0      Künstliche Intelligenz\n",
       "4        Mobile Kommunikation\n",
       "8          Quantentechnologie\n",
       "9               Kryptographie\n",
       "10     Künstliche Intelligenz\n",
       "11    china Image recognition\n",
       "Name: query, dtype: object"
      ]
     },
     "execution_count": 27,
     "metadata": {},
     "output_type": "execute_result"
    }
   ],
   "source": [
    "survey_output_df[survey_output_df['survey_label_5']==1]['query']"
   ]
  },
  {
   "cell_type": "code",
   "execution_count": 28,
   "id": "8a90d0a7",
   "metadata": {},
   "outputs": [
    {
     "data": {
      "text/plain": [
       "1    Main Ground Combat System (MGCS)\n",
       "2                      Edge computing\n",
       "3                    Geoinformationen\n",
       "5            Semantische Technologien\n",
       "7                             Robotik\n",
       "Name: query, dtype: object"
      ]
     },
     "execution_count": 28,
     "metadata": {},
     "output_type": "execute_result"
    }
   ],
   "source": [
    "survey_output_df[survey_output_df['survey_label_5']==2]['query']"
   ]
  },
  {
   "cell_type": "code",
   "execution_count": 29,
   "id": "8b7255d6",
   "metadata": {},
   "outputs": [
    {
     "data": {
      "text/plain": [
       "0          Künstliche Intelligenz\n",
       "5          Künstliche Intelligenz\n",
       "18    Software Defined Networking\n",
       "Name: query, dtype: object"
      ]
     },
     "execution_count": 29,
     "metadata": {},
     "output_type": "execute_result"
    }
   ],
   "source": [
    "clustering_output_df[clustering_output_df['survey_label_1']==4]['query']"
   ]
  },
  {
   "cell_type": "code",
   "execution_count": 30,
   "id": "81ce152d",
   "metadata": {},
   "outputs": [
    {
     "data": {
      "text/html": [
       "<div>\n",
       "<style scoped>\n",
       "    .dataframe tbody tr th:only-of-type {\n",
       "        vertical-align: middle;\n",
       "    }\n",
       "\n",
       "    .dataframe tbody tr th {\n",
       "        vertical-align: top;\n",
       "    }\n",
       "\n",
       "    .dataframe thead th {\n",
       "        text-align: right;\n",
       "    }\n",
       "</style>\n",
       "<table border=\"1\" class=\"dataframe\">\n",
       "  <thead>\n",
       "    <tr style=\"text-align: right;\">\n",
       "      <th></th>\n",
       "      <th>query</th>\n",
       "      <th>sub_topic</th>\n",
       "    </tr>\n",
       "  </thead>\n",
       "  <tbody>\n",
       "    <tr>\n",
       "      <th>4</th>\n",
       "      <td>Main Ground Combat System (MGCS)</td>\n",
       "      <td>Projekt</td>\n",
       "    </tr>\n",
       "    <tr>\n",
       "      <th>5</th>\n",
       "      <td>Edge computing</td>\n",
       "      <td>SOSA</td>\n",
       "    </tr>\n",
       "    <tr>\n",
       "      <th>6</th>\n",
       "      <td>Edge computing</td>\n",
       "      <td>Everbetter processor</td>\n",
       "    </tr>\n",
       "    <tr>\n",
       "      <th>7</th>\n",
       "      <td>Geoinformationen</td>\n",
       "      <td>Operationsführung</td>\n",
       "    </tr>\n",
       "    <tr>\n",
       "      <th>9</th>\n",
       "      <td>Semantische Technologien</td>\n",
       "      <td>March</td>\n",
       "    </tr>\n",
       "    <tr>\n",
       "      <th>18</th>\n",
       "      <td>Main Ground Combat System (MGCS)</td>\n",
       "      <td>Laser beam</td>\n",
       "    </tr>\n",
       "  </tbody>\n",
       "</table>\n",
       "</div>"
      ],
      "text/plain": [
       "                               query             sub_topic\n",
       "4   Main Ground Combat System (MGCS)               Projekt\n",
       "5                     Edge computing                  SOSA\n",
       "6                     Edge computing  Everbetter processor\n",
       "7                   Geoinformationen     Operationsführung\n",
       "9           Semantische Technologien                 March\n",
       "18  Main Ground Combat System (MGCS)            Laser beam"
      ]
     },
     "execution_count": 30,
     "metadata": {},
     "output_type": "execute_result"
    }
   ],
   "source": [
    "comparision_output_df[comparision_output_df['survey_label_3']<3.27][['query', 'sub_topic']]"
   ]
  },
  {
   "cell_type": "code",
   "execution_count": 31,
   "id": "86d12800",
   "metadata": {},
   "outputs": [
    {
     "data": {
      "text/html": [
       "<div>\n",
       "<style scoped>\n",
       "    .dataframe tbody tr th:only-of-type {\n",
       "        vertical-align: middle;\n",
       "    }\n",
       "\n",
       "    .dataframe tbody tr th {\n",
       "        vertical-align: top;\n",
       "    }\n",
       "\n",
       "    .dataframe thead th {\n",
       "        text-align: right;\n",
       "    }\n",
       "</style>\n",
       "<table border=\"1\" class=\"dataframe\">\n",
       "  <thead>\n",
       "    <tr style=\"text-align: right;\">\n",
       "      <th></th>\n",
       "      <th>query</th>\n",
       "      <th>sub_topic</th>\n",
       "    </tr>\n",
       "  </thead>\n",
       "  <tbody>\n",
       "    <tr>\n",
       "      <th>0</th>\n",
       "      <td>Künstliche Intelligenz</td>\n",
       "      <td>KI</td>\n",
       "    </tr>\n",
       "    <tr>\n",
       "      <th>2</th>\n",
       "      <td>Künstliche Intelligenz</td>\n",
       "      <td>Military</td>\n",
       "    </tr>\n",
       "    <tr>\n",
       "      <th>19</th>\n",
       "      <td>Kryptographie</td>\n",
       "      <td>Polizei Geheimdienst</td>\n",
       "    </tr>\n",
       "    <tr>\n",
       "      <th>21</th>\n",
       "      <td>china Image recognition</td>\n",
       "      <td>Privacy</td>\n",
       "    </tr>\n",
       "  </tbody>\n",
       "</table>\n",
       "</div>"
      ],
      "text/plain": [
       "                      query             sub_topic\n",
       "0    Künstliche Intelligenz                    KI\n",
       "2    Künstliche Intelligenz              Military\n",
       "19            Kryptographie  Polizei Geheimdienst\n",
       "21  china Image recognition               Privacy"
      ]
     },
     "execution_count": 31,
     "metadata": {},
     "output_type": "execute_result"
    }
   ],
   "source": [
    "comparision_output_df[comparision_output_df['survey_label_3']>8][['query', 'sub_topic']]"
   ]
  },
  {
   "cell_type": "code",
   "execution_count": 32,
   "id": "319d8595",
   "metadata": {},
   "outputs": [
    {
     "data": {
      "text/plain": [
       "count    22.000000\n",
       "mean      5.459091\n",
       "std       2.921783\n",
       "min       0.500000\n",
       "25%       3.275000\n",
       "50%       5.200000\n",
       "75%       8.000000\n",
       "max      10.000000\n",
       "Name: survey_label_3, dtype: float64"
      ]
     },
     "execution_count": 32,
     "metadata": {},
     "output_type": "execute_result"
    }
   ],
   "source": [
    "comparision_output_df.survey_label_3.describe()"
   ]
  },
  {
   "cell_type": "code",
   "execution_count": 33,
   "id": "d3c50edc",
   "metadata": {},
   "outputs": [
    {
     "data": {
      "text/html": [
       "<div>\n",
       "<style scoped>\n",
       "    .dataframe tbody tr th:only-of-type {\n",
       "        vertical-align: middle;\n",
       "    }\n",
       "\n",
       "    .dataframe tbody tr th {\n",
       "        vertical-align: top;\n",
       "    }\n",
       "\n",
       "    .dataframe thead th {\n",
       "        text-align: right;\n",
       "    }\n",
       "</style>\n",
       "<table border=\"1\" class=\"dataframe\">\n",
       "  <thead>\n",
       "    <tr style=\"text-align: right;\">\n",
       "      <th></th>\n",
       "      <th>survey_label_2</th>\n",
       "      <th>survey_label_3</th>\n",
       "      <th>survey_label_4</th>\n",
       "      <th>true_label</th>\n",
       "      <th>survey_label_diff</th>\n",
       "    </tr>\n",
       "  </thead>\n",
       "  <tbody>\n",
       "    <tr>\n",
       "      <th>count</th>\n",
       "      <td>22.000000</td>\n",
       "      <td>22.000000</td>\n",
       "      <td>22.000000</td>\n",
       "      <td>22.0</td>\n",
       "      <td>22.000000</td>\n",
       "    </tr>\n",
       "    <tr>\n",
       "      <th>mean</th>\n",
       "      <td>1.363636</td>\n",
       "      <td>5.459091</td>\n",
       "      <td>3.281818</td>\n",
       "      <td>1.0</td>\n",
       "      <td>2.177273</td>\n",
       "    </tr>\n",
       "    <tr>\n",
       "      <th>std</th>\n",
       "      <td>0.789542</td>\n",
       "      <td>2.921783</td>\n",
       "      <td>2.775168</td>\n",
       "      <td>0.0</td>\n",
       "      <td>1.829892</td>\n",
       "    </tr>\n",
       "    <tr>\n",
       "      <th>min</th>\n",
       "      <td>1.000000</td>\n",
       "      <td>0.500000</td>\n",
       "      <td>0.200000</td>\n",
       "      <td>1.0</td>\n",
       "      <td>0.000000</td>\n",
       "    </tr>\n",
       "    <tr>\n",
       "      <th>25%</th>\n",
       "      <td>1.000000</td>\n",
       "      <td>3.275000</td>\n",
       "      <td>0.825000</td>\n",
       "      <td>1.0</td>\n",
       "      <td>1.000000</td>\n",
       "    </tr>\n",
       "    <tr>\n",
       "      <th>50%</th>\n",
       "      <td>1.000000</td>\n",
       "      <td>5.200000</td>\n",
       "      <td>2.750000</td>\n",
       "      <td>1.0</td>\n",
       "      <td>1.700000</td>\n",
       "    </tr>\n",
       "    <tr>\n",
       "      <th>75%</th>\n",
       "      <td>1.000000</td>\n",
       "      <td>8.000000</td>\n",
       "      <td>4.975000</td>\n",
       "      <td>1.0</td>\n",
       "      <td>3.750000</td>\n",
       "    </tr>\n",
       "    <tr>\n",
       "      <th>max</th>\n",
       "      <td>3.000000</td>\n",
       "      <td>10.000000</td>\n",
       "      <td>9.000000</td>\n",
       "      <td>1.0</td>\n",
       "      <td>7.000000</td>\n",
       "    </tr>\n",
       "  </tbody>\n",
       "</table>\n",
       "</div>"
      ],
      "text/plain": [
       "       survey_label_2  survey_label_3  survey_label_4  true_label  \\\n",
       "count       22.000000       22.000000       22.000000        22.0   \n",
       "mean         1.363636        5.459091        3.281818         1.0   \n",
       "std          0.789542        2.921783        2.775168         0.0   \n",
       "min          1.000000        0.500000        0.200000         1.0   \n",
       "25%          1.000000        3.275000        0.825000         1.0   \n",
       "50%          1.000000        5.200000        2.750000         1.0   \n",
       "75%          1.000000        8.000000        4.975000         1.0   \n",
       "max          3.000000       10.000000        9.000000         1.0   \n",
       "\n",
       "       survey_label_diff  \n",
       "count          22.000000  \n",
       "mean            2.177273  \n",
       "std             1.829892  \n",
       "min             0.000000  \n",
       "25%             1.000000  \n",
       "50%             1.700000  \n",
       "75%             3.750000  \n",
       "max             7.000000  "
      ]
     },
     "execution_count": 33,
     "metadata": {},
     "output_type": "execute_result"
    }
   ],
   "source": [
    "comparision_output_df.describe()"
   ]
  },
  {
   "cell_type": "code",
   "execution_count": 57,
   "id": "423d4765",
   "metadata": {},
   "outputs": [],
   "source": [
    "def plot_seaborn_subplots(df, figure_title, col_name_1, col_name_2, x_label, y_label, filename, color1, color2):\n",
    "    \n",
    "    sns.set_palette(\"pastel\")\n",
    "    sns.set_style(\"darkgrid\", {'axes.grid' : True})\n",
    "\n",
    "    fig, axes = plt.subplots(1, 2, figsize=(10,5))\n",
    "    fig.suptitle(figure_title)\n",
    "    axes[0].set_title('System A')\n",
    "    axes[1].set_title('System B')\n",
    "    \n",
    "    axes[0].set(xlabel='System A ratings')\n",
    "    axes[1].set(xlabel='System B ratings')\n",
    "\n",
    "    sns.histplot(ax=axes[0], data=df, x=col_name_1, kde=True, color=color1, bins=13)\n",
    "    sns.histplot(ax=axes[1], data=df, x=col_name_2, kde=True, color=color2, bins=13)\n",
    "    \n",
    "\n",
    "    plt.savefig(filename+'.png', bbox_inches='tight')\n",
    "    plt.show()\n",
    "    \n",
    "def plot_seaborn_barplots(filename):\n",
    "    \n",
    "    sns.set_palette(\"pastel\")\n",
    "    sns.set_style(\"darkgrid\", {'axes.grid' : True})\n",
    "\n",
    "    fig, axes = plt.subplots(1, 2, figsize=(10,5))\n",
    "    fig.suptitle('Individual response analysis regarding the clustering output')\n",
    "#     axes[0].set_title('Distinctiveness')\n",
    "#     axes[1].set_title('Well-labeled')\n",
    "    \n",
    "    distinctiveness = [{'label':'Distinctive', 'Count': 14}, {'label':'Non distinctive', 'Count': 4}]\n",
    "    well_labeled = [{'label': 'Well-labeled','Count': 7}, {'label':'Not well-labeled', 'Count': 11}]\n",
    "    \n",
    "    df1 = pd.DataFrame(distinctiveness)\n",
    "    df2 = pd.DataFrame(well_labeled)\n",
    "\n",
    "    sns.barplot(ax=axes[0], data=df1, x=\"label\", y=\"Count\")\n",
    "    sns.barplot(ax=axes[1], data=df2, x=\"label\", y=\"Count\")\n",
    "    \n",
    "    axes[0].set_xlabel(xlabel='')\n",
    "    axes[1].set_xlabel(xlabel='')\n",
    "\n",
    "    plt.savefig(filename+'.png', bbox_inches='tight')\n",
    "    plt.show()\n",
    "    \n",
    "def plot_seaborn_pieplots(filename):\n",
    "    \n",
    "    data = [8, 6, 3, 1]\n",
    "    labels = ['Distinctive and not well-labeled', 'Distinctive and well-labeled', 'Not distinctive and not well-labeled', 'Not distinctive and well-labeled']\n",
    "\n",
    "    #define Seaborn color palette to use\n",
    "    colors = sns.color_palette('pastel')[0:5]\n",
    "\n",
    "    #create pie chart\n",
    "    plt.pie(data, labels = labels, colors = colors, autopct='%.0f%%')\n",
    "    plt.savefig(filename+'.png', bbox_inches='tight')\n",
    "    plt.show()\n",
    "    \n",
    "    \n",
    "def plot_seaborn_barplots_systems(filename):\n",
    "    \n",
    "    sns.set_palette(\"pastel\")\n",
    "    sns.set_style(\"darkgrid\", {'axes.grid' : True})\n",
    "    \n",
    "#     fig, axes = plt.subplots(1, 1, figsize=(10,5))\n",
    "#     fig.suptitle('IR system comparison feedback')\n",
    "\n",
    "    data = [{'label': 'System A','Count': 18}, {'label': 'System B','Count': 0}, {'label': 'Neither system A nor system B','Count': 4}]\n",
    "    \n",
    "    df1 = pd.DataFrame(data)\n",
    "    \n",
    "    sns.barplot(data=df1, x=\"label\", y=\"Count\")\n",
    "    \n",
    "    plt.savefig(filename+'.png', bbox_inches='tight')\n",
    "    plt.show()"
   ]
  },
  {
   "cell_type": "code",
   "execution_count": 58,
   "id": "176f1e23",
   "metadata": {},
   "outputs": [
    {
     "data": {
      "image/png": "[encoded data removed]",
      "text/plain": [
       "<Figure size 640x480 with 1 Axes>"
      ]
     },
     "metadata": {},
     "output_type": "display_data"
    }
   ],
   "source": [
    "plot_seaborn_barplots_systems('barplot_system_comparison')"
   ]
  },
  {
   "cell_type": "code",
   "execution_count": 36,
   "id": "a4eee813",
   "metadata": {},
   "outputs": [
    {
     "data": {
      "image/png": "[encoded data removed]",
      "text/plain": [
       "<Figure size 1000x500 with 2 Axes>"
      ]
     },
     "metadata": {},
     "output_type": "display_data"
    }
   ],
   "source": [
    "plot_seaborn_barplots('barplots')"
   ]
  },
  {
   "cell_type": "code",
   "execution_count": 37,
   "id": "a9a12351",
   "metadata": {},
   "outputs": [
    {
     "data": {
      "image/png": "[encoded data removed]",
      "text/plain": [
       "<Figure size 640x480 with 1 Axes>"
      ]
     },
     "metadata": {},
     "output_type": "display_data"
    }
   ],
   "source": [
    "plot_seaborn_pieplots('rating_piecharts')"
   ]
  },
  {
   "cell_type": "code",
   "execution_count": 38,
   "id": "4168428d",
   "metadata": {},
   "outputs": [
    {
     "data": {
      "text/plain": [
       "Distinctive and not well-labeled        8\n",
       "Distinctive and well-labeled            6\n",
       "Not distinctive and not well-labeled    3\n",
       "Not distinctive and well-labeled        1\n",
       "Name: label_name, dtype: int64"
      ]
     },
     "execution_count": 38,
     "metadata": {},
     "output_type": "execute_result"
    }
   ],
   "source": [
    "clustering_output_df.label_name.value_counts()"
   ]
  },
  {
   "cell_type": "code",
   "execution_count": 39,
   "id": "1f0cb023",
   "metadata": {},
   "outputs": [
    {
     "data": {
      "image/png": "[encoded data removed]",
      "text/plain": [
       "<Figure size 1000x500 with 2 Axes>"
      ]
     },
     "metadata": {},
     "output_type": "display_data"
    }
   ],
   "source": [
    "figure_title = 'Distribution of system A and B ratings'\n",
    "plot_seaborn_subplots(comparision_output_df, figure_title, \"survey_label_3\", \"survey_label_4\", 'Mean clusters count', \"Mean targeted negative document ratio\", 'rating_histograms', 'blue', 'green')"
   ]
  },
  {
   "cell_type": "code",
   "execution_count": 40,
   "id": "ee4d0cb9",
   "metadata": {},
   "outputs": [
    {
     "data": {
      "image/png": "[encoded data removed]",
      "text/plain": [
       "<Figure size 1000x500 with 2 Axes>"
      ]
     },
     "metadata": {},
     "output_type": "display_data"
    }
   ],
   "source": [
    "figure_title = 'Distribution of system A and B ratings'\n",
    "plot_seaborn_subplots(comparision_output_df, figure_title, \"survey_label_3\", \"survey_label_4\", 'Mean clusters count', \"Mean targeted negative document ratio\", 'rating_histograms', 'blue', 'green')"
   ]
  },
  {
   "cell_type": "code",
   "execution_count": 41,
   "id": "e0af9fd5",
   "metadata": {},
   "outputs": [
    {
     "data": {
      "text/plain": [
       "<AxesSubplot:>"
      ]
     },
     "execution_count": 41,
     "metadata": {},
     "output_type": "execute_result"
    },
    {
     "data": {
      "image/png": "[encoded data removed]",
      "text/plain": [
       "<Figure size 640x480 with 1 Axes>"
      ]
     },
     "metadata": {},
     "output_type": "display_data"
    }
   ],
   "source": [
    "comparision_output_df.survey_label_diff.hist(bins=10)"
   ]
  },
  {
   "cell_type": "code",
   "execution_count": 42,
   "id": "fb49ee88",
   "metadata": {},
   "outputs": [
    {
     "data": {
      "text/plain": [
       "8.536818181818184"
      ]
     },
     "execution_count": 42,
     "metadata": {},
     "output_type": "execute_result"
    }
   ],
   "source": [
    "comparision_output_df.survey_label_3.var()"
   ]
  },
  {
   "cell_type": "code",
   "execution_count": 43,
   "id": "8b8cd27c",
   "metadata": {},
   "outputs": [
    {
     "data": {
      "text/plain": [
       "7.701558441558441"
      ]
     },
     "execution_count": 43,
     "metadata": {},
     "output_type": "execute_result"
    }
   ],
   "source": [
    "comparision_output_df.survey_label_4.var()"
   ]
  },
  {
   "cell_type": "code",
   "execution_count": 44,
   "id": "4d40eda6",
   "metadata": {},
   "outputs": [],
   "source": [
    "sample_1 = comparision_output_df.survey_label_3.values\n",
    "sample_2 = comparision_output_df.survey_label_4.values\n",
    "\n",
    "alpha = 0.05"
   ]
  },
  {
   "cell_type": "code",
   "execution_count": 45,
   "id": "c62112bf",
   "metadata": {},
   "outputs": [],
   "source": [
    "def get_test_results(sample_1, sample_2, test_type):\n",
    "    \n",
    "    if test_type == 't-test':\n",
    "        stat, p_value = ttest_rel(sample_1, sample_2)\n",
    "    elif test_type == 'wilcoxon':\n",
    "        stat, p_value = wilcoxon(sample_1, sample_2, alternative='two-sided', mode = 'approx')\n",
    "        print(wilcoxon(sample_1- sample_2, alternative='two-sided', mode = 'approx'))\n",
    "        \n",
    "    print(f'statistic value: {stat}')\n",
    "    print(f'p-value: {p_value}\\n')\n",
    "    \n",
    "    if p_value <= alpha:\n",
    "        print('Reject the null hypothesis')\n",
    "    elif p_value > alpha:\n",
    "        print('Fail to reject the null hypothesis')"
   ]
  },
  {
   "cell_type": "code",
   "execution_count": 46,
   "id": "77ce54e8",
   "metadata": {},
   "outputs": [
    {
     "name": "stdout",
     "output_type": "stream",
     "text": [
      "statistic value: 5.580827517028029\n",
      "p-value: 1.5420927260436062e-05\n",
      "\n",
      "Reject the null hypothesis\n"
     ]
    }
   ],
   "source": [
    "get_test_results(sample_1, sample_2, test_type='t-test')"
   ]
  },
  {
   "cell_type": "code",
   "execution_count": 47,
   "id": "4e88f0a9",
   "metadata": {},
   "outputs": [
    {
     "name": "stdout",
     "output_type": "stream",
     "text": [
      "WilcoxonResult(statistic=0.0, pvalue=8.69545403378786e-05)\n",
      "statistic value: 0.0\n",
      "p-value: 8.69545403378786e-05\n",
      "\n",
      "Reject the null hypothesis\n"
     ]
    }
   ],
   "source": [
    "get_test_results(sample_1, sample_2, test_type='wilcoxon')"
   ]
  },
  {
   "cell_type": "code",
   "execution_count": 48,
   "id": "20c20b7d",
   "metadata": {},
   "outputs": [
    {
     "ename": "NameError",
     "evalue": "name 'pgWilc' is not defined",
     "output_type": "error",
     "traceback": [
      "\u001b[1;31m---------------------------------------------------------------------------\u001b[0m",
      "\u001b[1;31mNameError\u001b[0m                                 Traceback (most recent call last)",
      "\u001b[1;32m~\\AppData\\Local\\Temp\\ipykernel_20080\\1269922938.py\u001b[0m in \u001b[0;36m<module>\u001b[1;34m\u001b[0m\n\u001b[1;32m----> 1\u001b[1;33m \u001b[0mpgWilc\u001b[0m\u001b[1;33m(\u001b[0m\u001b[0msample_1\u001b[0m\u001b[1;33m,\u001b[0m \u001b[0msample_2\u001b[0m\u001b[1;33m)\u001b[0m\u001b[1;33m\u001b[0m\u001b[1;33m\u001b[0m\u001b[0m\n\u001b[0m",
      "\u001b[1;31mNameError\u001b[0m: name 'pgWilc' is not defined"
     ]
    }
   ],
   "source": [
    "pgWilc(sample_1, sample_2)"
   ]
  },
  {
   "cell_type": "code",
   "execution_count": null,
   "id": "a467bdbd",
   "metadata": {},
   "outputs": [],
   "source": [
    "from researchpy import ttest"
   ]
  },
  {
   "cell_type": "code",
   "execution_count": null,
   "id": "8752df5b",
   "metadata": {},
   "outputs": [],
   "source": [
    "rpRes = ttest(comparision_output_df['survey_label_3'], comparision_output_df['survey_label_4'], equal_variances=False, paired=True)\n",
    "rpRes"
   ]
  },
  {
   "cell_type": "code",
   "execution_count": null,
   "id": "f03068e9",
   "metadata": {},
   "outputs": [],
   "source": [
    "from researchpy import ttest\n",
    "from pingouin import wilcoxon as pgWilc"
   ]
  }
 ],
 "metadata": {
  "kernelspec": {
   "display_name": "Python 3 (ipykernel)",
   "language": "python",
   "name": "python3"
  },
  "language_info": {
   "codemirror_mode": {
    "name": "ipython",
    "version": 3
   },
   "file_extension": ".py",
   "mimetype": "text/x-python",
   "name": "python",
   "nbconvert_exporter": "python",
   "pygments_lexer": "ipython3",
   "version": "3.7.9"
  }
 },
 "nbformat": 4,
 "nbformat_minor": 5
}
