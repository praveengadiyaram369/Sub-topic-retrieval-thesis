{
 "cells": [
  {
   "cell_type": "code",
   "execution_count": 4,
   "id": "65a9f515",
   "metadata": {},
   "outputs": [],
   "source": [
    "import tensorflow as tf\n",
    "import tensorflow_text\n",
    "import tensorflow_hub as hub\n",
    "\n",
    "from sklearn.metrics.pairwise import cosine_similarity\n",
    "import numpy as np\n",
    "import pandas as pd\n",
    "import os"
   ]
  },
  {
   "cell_type": "code",
   "execution_count": 2,
   "id": "45df899b",
   "metadata": {},
   "outputs": [],
   "source": [
    "keywords_list = ['Quantum Technology', 'technological application', 'quantum system', 'quantum computer', 'quantum communication', 'Quantum application', 'quantum bit', 'Quantum sensing', 'quantum radar', 'quantum physics', 'Sciences', 'a compute unit', 'a quantum computer increase', 'electronic warfare capability', 'NAS', 'the Defense Science Board', 'nuclear material', 'military', 'encode information', 'military personnel', 'military sensing', 'Military Applications', 'Defense Primer', 'enhanced military capability', 'the National Academy', 'potential military application', 'sea-base nuclear deterrent']\n",
    "query = 'Quantentechnologie'"
   ]
  },
  {
   "cell_type": "code",
   "execution_count": 5,
   "id": "28c154a8",
   "metadata": {},
   "outputs": [],
   "source": [
    "tf_model = hub.load(os.getcwd()+ '/../../models/USE_model')"
   ]
  },
  {
   "cell_type": "code",
   "execution_count": 7,
   "id": "301964fb",
   "metadata": {},
   "outputs": [],
   "source": [
    "def get_modified_vectors(vec_data):\n",
    "    \n",
    "    new_data = []\n",
    "    for val in vec_data:\n",
    "        new_data.append(val)\n",
    "    \n",
    "    new_data = np.array(new_data).reshape(-1, 512)\n",
    "    return new_data\n",
    "\n",
    "def get_cosine_sim(vec_1, vec_2):\n",
    "    \n",
    "    return cosine_similarity(vec_1.reshape(1, -1), vec_2.reshape(1, -1))[0][0]"
   ]
  },
  {
   "cell_type": "code",
   "execution_count": 8,
   "id": "16235200",
   "metadata": {},
   "outputs": [
    {
     "data": {
      "text/html": [
       "<div>\n",
       "<style scoped>\n",
       "    .dataframe tbody tr th:only-of-type {\n",
       "        vertical-align: middle;\n",
       "    }\n",
       "\n",
       "    .dataframe tbody tr th {\n",
       "        vertical-align: top;\n",
       "    }\n",
       "\n",
       "    .dataframe thead th {\n",
       "        text-align: right;\n",
       "    }\n",
       "</style>\n",
       "<table border=\"1\" class=\"dataframe\">\n",
       "  <thead>\n",
       "    <tr style=\"text-align: right;\">\n",
       "      <th></th>\n",
       "      <th>keywords</th>\n",
       "    </tr>\n",
       "  </thead>\n",
       "  <tbody>\n",
       "    <tr>\n",
       "      <th>20</th>\n",
       "      <td>military sensing</td>\n",
       "    </tr>\n",
       "    <tr>\n",
       "      <th>6</th>\n",
       "      <td>quantum bit</td>\n",
       "    </tr>\n",
       "  </tbody>\n",
       "</table>\n",
       "</div>"
      ],
      "text/plain": [
       "            keywords\n",
       "20  military sensing\n",
       "6        quantum bit"
      ]
     },
     "execution_count": 8,
     "metadata": {},
     "output_type": "execute_result"
    }
   ],
   "source": [
    "df = pd.DataFrame(keywords_list, columns=['keywords'])\n",
    "df.sample(2)"
   ]
  },
  {
   "cell_type": "code",
   "execution_count": 9,
   "id": "92035f74",
   "metadata": {},
   "outputs": [],
   "source": [
    "query_vec = tf_model(query)['outputs'].numpy()[0].reshape(1, -1)"
   ]
  },
  {
   "cell_type": "code",
   "execution_count": 10,
   "id": "815215ec",
   "metadata": {},
   "outputs": [],
   "source": [
    "df['keyword_vec'] = df.apply(lambda x:tf_model(x['keywords'])['outputs'].numpy()[0].reshape(1, -1), axis=1)\n",
    "df['sim'] = df.apply(lambda x:get_cosine_sim(x['keyword_vec'], query_vec), axis=1)"
   ]
  },
  {
   "cell_type": "code",
   "execution_count": 17,
   "id": "201f9d56",
   "metadata": {},
   "outputs": [
    {
     "data": {
      "text/html": [
       "<div>\n",
       "<style scoped>\n",
       "    .dataframe tbody tr th:only-of-type {\n",
       "        vertical-align: middle;\n",
       "    }\n",
       "\n",
       "    .dataframe tbody tr th {\n",
       "        vertical-align: top;\n",
       "    }\n",
       "\n",
       "    .dataframe thead th {\n",
       "        text-align: right;\n",
       "    }\n",
       "</style>\n",
       "<table border=\"1\" class=\"dataframe\">\n",
       "  <thead>\n",
       "    <tr style=\"text-align: right;\">\n",
       "      <th></th>\n",
       "      <th>keywords</th>\n",
       "      <th>keyword_vec</th>\n",
       "      <th>sim</th>\n",
       "    </tr>\n",
       "  </thead>\n",
       "  <tbody>\n",
       "    <tr>\n",
       "      <th>0</th>\n",
       "      <td>Quantum Technology</td>\n",
       "      <td>[[-0.07843952, 0.054803964, 0.0028398666, -0.0...</td>\n",
       "      <td>0.812254</td>\n",
       "    </tr>\n",
       "    <tr>\n",
       "      <th>1</th>\n",
       "      <td>technological application</td>\n",
       "      <td>[[-0.034145337, 0.07561023, 0.02808445, 0.0090...</td>\n",
       "      <td>0.576806</td>\n",
       "    </tr>\n",
       "    <tr>\n",
       "      <th>2</th>\n",
       "      <td>quantum system</td>\n",
       "      <td>[[-0.011369725, -0.0029329406, 0.0061733443, -...</td>\n",
       "      <td>0.543468</td>\n",
       "    </tr>\n",
       "    <tr>\n",
       "      <th>3</th>\n",
       "      <td>quantum computer</td>\n",
       "      <td>[[-0.013426571, -0.023783872, -0.018854404, -0...</td>\n",
       "      <td>0.530896</td>\n",
       "    </tr>\n",
       "    <tr>\n",
       "      <th>4</th>\n",
       "      <td>quantum communication</td>\n",
       "      <td>[[-0.09681769, 0.017721318, -0.014489609, 0.01...</td>\n",
       "      <td>0.520388</td>\n",
       "    </tr>\n",
       "    <tr>\n",
       "      <th>5</th>\n",
       "      <td>Quantum application</td>\n",
       "      <td>[[-0.032896187, 0.05245216, 0.0048448294, 0.02...</td>\n",
       "      <td>0.500975</td>\n",
       "    </tr>\n",
       "    <tr>\n",
       "      <th>6</th>\n",
       "      <td>quantum bit</td>\n",
       "      <td>[[-0.041787297, -0.06263489, 0.010755033, -0.0...</td>\n",
       "      <td>0.493008</td>\n",
       "    </tr>\n",
       "    <tr>\n",
       "      <th>7</th>\n",
       "      <td>Quantum sensing</td>\n",
       "      <td>[[-0.027116165, -0.009281477, 0.023528038, 0.0...</td>\n",
       "      <td>0.490860</td>\n",
       "    </tr>\n",
       "    <tr>\n",
       "      <th>8</th>\n",
       "      <td>quantum radar</td>\n",
       "      <td>[[-0.03031327, 0.029639818, 0.034956638, 0.004...</td>\n",
       "      <td>0.471275</td>\n",
       "    </tr>\n",
       "    <tr>\n",
       "      <th>9</th>\n",
       "      <td>quantum physics</td>\n",
       "      <td>[[-0.042057022, 0.018567365, 0.0010471853, -0....</td>\n",
       "      <td>0.461624</td>\n",
       "    </tr>\n",
       "    <tr>\n",
       "      <th>10</th>\n",
       "      <td>Sciences</td>\n",
       "      <td>[[-0.057012014, 0.011264643, -0.004077408, -0....</td>\n",
       "      <td>0.432706</td>\n",
       "    </tr>\n",
       "    <tr>\n",
       "      <th>11</th>\n",
       "      <td>a compute unit</td>\n",
       "      <td>[[0.03240382, -0.04618275, -0.030695213, -0.03...</td>\n",
       "      <td>0.399752</td>\n",
       "    </tr>\n",
       "    <tr>\n",
       "      <th>12</th>\n",
       "      <td>a quantum computer increase</td>\n",
       "      <td>[[-0.029399747, -0.010823618, -0.032966178, -0...</td>\n",
       "      <td>0.373694</td>\n",
       "    </tr>\n",
       "    <tr>\n",
       "      <th>13</th>\n",
       "      <td>electronic warfare capability</td>\n",
       "      <td>[[0.017449051, 0.068132706, 0.029964415, 0.002...</td>\n",
       "      <td>0.324187</td>\n",
       "    </tr>\n",
       "    <tr>\n",
       "      <th>14</th>\n",
       "      <td>NAS</td>\n",
       "      <td>[[-0.039646745, 0.05250549, -0.019325845, -0.0...</td>\n",
       "      <td>0.314255</td>\n",
       "    </tr>\n",
       "    <tr>\n",
       "      <th>15</th>\n",
       "      <td>the Defense Science Board</td>\n",
       "      <td>[[-0.09230226, -0.04154584, 0.020066831, 0.017...</td>\n",
       "      <td>0.300368</td>\n",
       "    </tr>\n",
       "    <tr>\n",
       "      <th>16</th>\n",
       "      <td>nuclear material</td>\n",
       "      <td>[[-0.006161306, 0.091310255, 0.0027053712, 0.0...</td>\n",
       "      <td>0.296729</td>\n",
       "    </tr>\n",
       "    <tr>\n",
       "      <th>17</th>\n",
       "      <td>military</td>\n",
       "      <td>[[0.07548128, 0.02053867, -0.0057246573, -0.07...</td>\n",
       "      <td>0.293870</td>\n",
       "    </tr>\n",
       "    <tr>\n",
       "      <th>18</th>\n",
       "      <td>encode information</td>\n",
       "      <td>[[-0.066146284, 0.01025791, -0.0009883257, 0.0...</td>\n",
       "      <td>0.273340</td>\n",
       "    </tr>\n",
       "    <tr>\n",
       "      <th>19</th>\n",
       "      <td>military personnel</td>\n",
       "      <td>[[0.061881438, 0.034363087, -0.0021176534, -0....</td>\n",
       "      <td>0.246801</td>\n",
       "    </tr>\n",
       "    <tr>\n",
       "      <th>20</th>\n",
       "      <td>military sensing</td>\n",
       "      <td>[[0.06121375, -0.0059135687, 0.04778077, -0.01...</td>\n",
       "      <td>0.237739</td>\n",
       "    </tr>\n",
       "    <tr>\n",
       "      <th>21</th>\n",
       "      <td>Military Applications</td>\n",
       "      <td>[[0.07012727, 0.07673032, 0.016109677, 0.00721...</td>\n",
       "      <td>0.234992</td>\n",
       "    </tr>\n",
       "    <tr>\n",
       "      <th>22</th>\n",
       "      <td>Defense Primer</td>\n",
       "      <td>[[-0.024909915, 0.06813039, -0.04012421, 0.041...</td>\n",
       "      <td>0.228975</td>\n",
       "    </tr>\n",
       "    <tr>\n",
       "      <th>23</th>\n",
       "      <td>enhanced military capability</td>\n",
       "      <td>[[0.0321417, 0.04553743, 0.033454336, -0.00749...</td>\n",
       "      <td>0.226974</td>\n",
       "    </tr>\n",
       "    <tr>\n",
       "      <th>24</th>\n",
       "      <td>the National Academy</td>\n",
       "      <td>[[-0.07807967, 0.06660559, 0.018595861, -0.026...</td>\n",
       "      <td>0.200236</td>\n",
       "    </tr>\n",
       "    <tr>\n",
       "      <th>25</th>\n",
       "      <td>potential military application</td>\n",
       "      <td>[[0.07135028, 0.061194956, 0.03446909, -0.0127...</td>\n",
       "      <td>0.183960</td>\n",
       "    </tr>\n",
       "    <tr>\n",
       "      <th>26</th>\n",
       "      <td>sea-base nuclear deterrent</td>\n",
       "      <td>[[-0.043963715, 0.052453376, -0.10625462, 0.00...</td>\n",
       "      <td>0.175994</td>\n",
       "    </tr>\n",
       "  </tbody>\n",
       "</table>\n",
       "</div>"
      ],
      "text/plain": [
       "                          keywords  \\\n",
       "0               Quantum Technology   \n",
       "1        technological application   \n",
       "2                   quantum system   \n",
       "3                 quantum computer   \n",
       "4            quantum communication   \n",
       "5              Quantum application   \n",
       "6                      quantum bit   \n",
       "7                  Quantum sensing   \n",
       "8                    quantum radar   \n",
       "9                  quantum physics   \n",
       "10                        Sciences   \n",
       "11                  a compute unit   \n",
       "12     a quantum computer increase   \n",
       "13   electronic warfare capability   \n",
       "14                             NAS   \n",
       "15       the Defense Science Board   \n",
       "16                nuclear material   \n",
       "17                        military   \n",
       "18              encode information   \n",
       "19              military personnel   \n",
       "20                military sensing   \n",
       "21           Military Applications   \n",
       "22                  Defense Primer   \n",
       "23    enhanced military capability   \n",
       "24            the National Academy   \n",
       "25  potential military application   \n",
       "26      sea-base nuclear deterrent   \n",
       "\n",
       "                                          keyword_vec       sim  \n",
       "0   [[-0.07843952, 0.054803964, 0.0028398666, -0.0...  0.812254  \n",
       "1   [[-0.034145337, 0.07561023, 0.02808445, 0.0090...  0.576806  \n",
       "2   [[-0.011369725, -0.0029329406, 0.0061733443, -...  0.543468  \n",
       "3   [[-0.013426571, -0.023783872, -0.018854404, -0...  0.530896  \n",
       "4   [[-0.09681769, 0.017721318, -0.014489609, 0.01...  0.520388  \n",
       "5   [[-0.032896187, 0.05245216, 0.0048448294, 0.02...  0.500975  \n",
       "6   [[-0.041787297, -0.06263489, 0.010755033, -0.0...  0.493008  \n",
       "7   [[-0.027116165, -0.009281477, 0.023528038, 0.0...  0.490860  \n",
       "8   [[-0.03031327, 0.029639818, 0.034956638, 0.004...  0.471275  \n",
       "9   [[-0.042057022, 0.018567365, 0.0010471853, -0....  0.461624  \n",
       "10  [[-0.057012014, 0.011264643, -0.004077408, -0....  0.432706  \n",
       "11  [[0.03240382, -0.04618275, -0.030695213, -0.03...  0.399752  \n",
       "12  [[-0.029399747, -0.010823618, -0.032966178, -0...  0.373694  \n",
       "13  [[0.017449051, 0.068132706, 0.029964415, 0.002...  0.324187  \n",
       "14  [[-0.039646745, 0.05250549, -0.019325845, -0.0...  0.314255  \n",
       "15  [[-0.09230226, -0.04154584, 0.020066831, 0.017...  0.300368  \n",
       "16  [[-0.006161306, 0.091310255, 0.0027053712, 0.0...  0.296729  \n",
       "17  [[0.07548128, 0.02053867, -0.0057246573, -0.07...  0.293870  \n",
       "18  [[-0.066146284, 0.01025791, -0.0009883257, 0.0...  0.273340  \n",
       "19  [[0.061881438, 0.034363087, -0.0021176534, -0....  0.246801  \n",
       "20  [[0.06121375, -0.0059135687, 0.04778077, -0.01...  0.237739  \n",
       "21  [[0.07012727, 0.07673032, 0.016109677, 0.00721...  0.234992  \n",
       "22  [[-0.024909915, 0.06813039, -0.04012421, 0.041...  0.228975  \n",
       "23  [[0.0321417, 0.04553743, 0.033454336, -0.00749...  0.226974  \n",
       "24  [[-0.07807967, 0.06660559, 0.018595861, -0.026...  0.200236  \n",
       "25  [[0.07135028, 0.061194956, 0.03446909, -0.0127...  0.183960  \n",
       "26  [[-0.043963715, 0.052453376, -0.10625462, 0.00...  0.175994  "
      ]
     },
     "execution_count": 17,
     "metadata": {},
     "output_type": "execute_result"
    }
   ],
   "source": [
    "df"
   ]
  },
  {
   "cell_type": "code",
   "execution_count": 26,
   "id": "2529eec1",
   "metadata": {},
   "outputs": [
    {
     "data": {
      "text/plain": [
       "<AxesSubplot:>"
      ]
     },
     "execution_count": 26,
     "metadata": {},
     "output_type": "execute_result"
    },
    {
     "data": {
      "image/png": "[encoded data removed]",
      "text/plain": [
       "<Figure size 640x480 with 1 Axes>"
      ]
     },
     "metadata": {},
     "output_type": "display_data"
    }
   ],
   "source": [
    "df.boxplot(column=['sim'], showfliers=False)"
   ]
  },
  {
   "cell_type": "code",
   "execution_count": 25,
   "id": "a5dc1703",
   "metadata": {},
   "outputs": [
    {
     "name": "stdout",
     "output_type": "stream",
     "text": [
      "0.242\n",
      "0.324\n",
      "0.492\n",
      "0.812\n"
     ]
    }
   ],
   "source": [
    "sim_values = df.sim.values\n",
    "for val in range(25, 101, 25):\n",
    "    print(round(np.percentile(sim_values, val), 3))"
   ]
  },
  {
   "cell_type": "code",
   "execution_count": 16,
   "id": "d46bb5ac",
   "metadata": {},
   "outputs": [
    {
     "data": {
      "text/plain": [
       "<AxesSubplot:>"
      ]
     },
     "execution_count": 16,
     "metadata": {},
     "output_type": "execute_result"
    },
    {
     "data": {
      "image/png": "[encoded data removed]",
      "text/plain": [
       "<Figure size 640x480 with 1 Axes>"
      ]
     },
     "metadata": {},
     "output_type": "display_data"
    }
   ],
   "source": [
    "df.sim.hist(bins=25)"
   ]
  }
 ],
 "metadata": {
  "kernelspec": {
   "display_name": "Python 3 (ipykernel)",
   "language": "python",
   "name": "python3"
  },
  "language_info": {
   "codemirror_mode": {
    "name": "ipython",
    "version": 3
   },
   "file_extension": ".py",
   "mimetype": "text/x-python",
   "name": "python",
   "nbconvert_exporter": "python",
   "pygments_lexer": "ipython3",
   "version": "3.7.9"
  }
 },
 "nbformat": 4,
 "nbformat_minor": 5
}
