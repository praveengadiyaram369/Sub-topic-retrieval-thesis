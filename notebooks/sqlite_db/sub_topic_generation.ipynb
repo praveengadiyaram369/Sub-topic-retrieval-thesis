{
 "cells": [
  {
   "cell_type": "markdown",
   "id": "fcebc200",
   "metadata": {},
   "source": [
    "## Sub-topic generation\n",
    "\n",
    "#### 1. keywords extraction\n",
    "#### 2. Candidate pool extraction\n",
    "#### 3. Clustering\n",
    "#### 4. Topic assignment"
   ]
  },
  {
   "cell_type": "code",
   "execution_count": 1,
   "id": "18f82459",
   "metadata": {},
   "outputs": [
    {
     "name": "stderr",
     "output_type": "stream",
     "text": [
      "C:\\Users\\sri.sai.praveen.gadi\\.virtualenvs\\xxx-eAHl9Gue\\lib\\site-packages\\tqdm\\auto.py:22: TqdmWarning: IProgress not found. Please update jupyter and ipywidgets. See https://ipywidgets.readthedocs.io/en/stable/user_install.html\n",
      "  from .autonotebook import tqdm as notebook_tqdm\n",
      "C:\\Users\\sri.sai.praveen.gadi\\.virtualenvs\\xxx-eAHl9Gue\\lib\\site-packages\\spacy\\util.py:865: UserWarning: [W095] Model 'en_core_web_sm' (3.2.0) was trained with spaCy v3.2 and may not be 100% compatible with the current version (3.4.1). If you see errors or degraded performance, download a newer compatible model or retrain your custom model with the current spaCy version. For more details and available updates, run: python -m spacy validate\n",
      "  warnings.warn(warn_msg)\n",
      "C:\\Users\\sri.sai.praveen.gadi\\.virtualenvs\\xxx-eAHl9Gue\\lib\\site-packages\\fuzzywuzzy\\fuzz.py:11: UserWarning: Using slow pure-python SequenceMatcher. Install python-Levenshtein to remove this warning\n",
      "  warnings.warn('Using slow pure-python SequenceMatcher. Install python-Levenshtein to remove this warning')\n"
     ]
    }
   ],
   "source": [
    "import pandas as pd\n",
    "import os\n",
    "import string\n",
    "import numpy as np\n",
    "import hdbscan\n",
    "\n",
    "import tensorflow as tf\n",
    "import tensorflow_text\n",
    "import tensorflow_hub as hub\n",
    "\n",
    "from nltk.corpus import stopwords\n",
    "from nltk.tokenize import word_tokenize\n",
    "\n",
    "from sklearn.metrics.pairwise import cosine_similarity\n",
    "\n",
    "import texthero as hero\n",
    "from texthero import preprocessing\n",
    "\n",
    "from fuzzywuzzy import fuzz\n",
    "from fuzzywuzzy import process\n",
    "\n",
    "import matplotlib.pyplot as plt\n",
    "import seaborn as sns \n",
    "%matplotlib inline\n",
    "\n",
    "import umap\n",
    "\n",
    "import warnings\n",
    "warnings.filterwarnings('ignore')"
   ]
  },
  {
   "cell_type": "code",
   "execution_count": 2,
   "id": "72afdc35",
   "metadata": {},
   "outputs": [],
   "source": [
    "import msgpack\n",
    "import msgpack_numpy as m\n",
    "m.patch()\n",
    "\n",
    "import redis"
   ]
  },
  {
   "cell_type": "code",
   "execution_count": 3,
   "id": "bed0aca8",
   "metadata": {},
   "outputs": [],
   "source": [
    "rdb = redis.StrictRedis(\n",
    "    host='host.docker.internal',\n",
    "    port=6379,\n",
    ")\n",
    "\n",
    "# rdb.set('France', 'Paris')"
   ]
  },
  {
   "cell_type": "code",
   "execution_count": 4,
   "id": "0cc99e58",
   "metadata": {},
   "outputs": [],
   "source": [
    "tf_model = hub.load(os.getcwd()+ '/../../models/USE_model')"
   ]
  },
  {
   "cell_type": "code",
   "execution_count": 5,
   "id": "95d3c3c0",
   "metadata": {},
   "outputs": [
    {
     "data": {
      "text/html": [
       "<div>\n",
       "<style scoped>\n",
       "    .dataframe tbody tr th:only-of-type {\n",
       "        vertical-align: middle;\n",
       "    }\n",
       "\n",
       "    .dataframe tbody tr th {\n",
       "        vertical-align: top;\n",
       "    }\n",
       "\n",
       "    .dataframe thead th {\n",
       "        text-align: right;\n",
       "    }\n",
       "</style>\n",
       "<table border=\"1\" class=\"dataframe\">\n",
       "  <thead>\n",
       "    <tr style=\"text-align: right;\">\n",
       "      <th></th>\n",
       "      <th>page_id</th>\n",
       "      <th>query</th>\n",
       "      <th>label</th>\n",
       "      <th>text</th>\n",
       "      <th>text_len</th>\n",
       "      <th>noun_chunks</th>\n",
       "      <th>mean_nc_vec</th>\n",
       "      <th>title</th>\n",
       "      <th>published_date</th>\n",
       "      <th>source_url</th>\n",
       "    </tr>\n",
       "  </thead>\n",
       "  <tbody>\n",
       "    <tr>\n",
       "      <th>0</th>\n",
       "      <td>210705_news_167749</td>\n",
       "      <td>Methode Architektur</td>\n",
       "      <td>3</td>\n",
       "      <td>ROME, N.Y. –  U.S. Air Force researchers are a...</td>\n",
       "      <td>467</td>\n",
       "      <td>[N.Y., industry help, big improvement, small, ...</td>\n",
       "      <td>[[-0.010767139494419098, -0.001241824007593095...</td>\n",
       "      <td>SWaP embedded computing artificial intelligenc...</td>\n",
       "      <td>2020-04-27 07:30:41</td>\n",
       "      <td>https://www.militaryaerospace.com/computers/ar...</td>\n",
       "    </tr>\n",
       "    <tr>\n",
       "      <th>1</th>\n",
       "      <td>210705_news_499712</td>\n",
       "      <td>Methode Architektur</td>\n",
       "      <td>3</td>\n",
       "      <td>A recently published 156-page paper from a tea...</td>\n",
       "      <td>758</td>\n",
       "      <td>[a recently publish 156-page paper, a team, Im...</td>\n",
       "      <td>[[-0.008159193210303783, -0.001107345684431493...</td>\n",
       "      <td>An Erlangen Programme to Establish the Geometr...</td>\n",
       "      <td>2021-05-17 11:45:17</td>\n",
       "      <td>https://syncedreview.com/2021/05/05/deepmind-p...</td>\n",
       "    </tr>\n",
       "  </tbody>\n",
       "</table>\n",
       "</div>"
      ],
      "text/plain": [
       "              page_id                query  label  \\\n",
       "0  210705_news_167749  Methode Architektur      3   \n",
       "1  210705_news_499712  Methode Architektur      3   \n",
       "\n",
       "                                                text  text_len  \\\n",
       "0  ROME, N.Y. –  U.S. Air Force researchers are a...       467   \n",
       "1  A recently published 156-page paper from a tea...       758   \n",
       "\n",
       "                                         noun_chunks  \\\n",
       "0  [N.Y., industry help, big improvement, small, ...   \n",
       "1  [a recently publish 156-page paper, a team, Im...   \n",
       "\n",
       "                                         mean_nc_vec  \\\n",
       "0  [[-0.010767139494419098, -0.001241824007593095...   \n",
       "1  [[-0.008159193210303783, -0.001107345684431493...   \n",
       "\n",
       "                                               title      published_date  \\\n",
       "0  SWaP embedded computing artificial intelligenc... 2020-04-27 07:30:41   \n",
       "1  An Erlangen Programme to Establish the Geometr... 2021-05-17 11:45:17   \n",
       "\n",
       "                                          source_url  \n",
       "0  https://www.militaryaerospace.com/computers/ar...  \n",
       "1  https://syncedreview.com/2021/05/05/deepmind-p...  "
      ]
     },
     "execution_count": 5,
     "metadata": {},
     "output_type": "execute_result"
    }
   ],
   "source": [
    "final_df = pd.read_pickle(os.getcwd()+'/../dataframes/retrieval_dataset.pkl')\n",
    "final_df.head(2)"
   ]
  },
  {
   "cell_type": "code",
   "execution_count": 3,
   "id": "2f2f293e",
   "metadata": {},
   "outputs": [
    {
     "data": {
      "text/html": [
       "<div>\n",
       "<style scoped>\n",
       "    .dataframe tbody tr th:only-of-type {\n",
       "        vertical-align: middle;\n",
       "    }\n",
       "\n",
       "    .dataframe tbody tr th {\n",
       "        vertical-align: top;\n",
       "    }\n",
       "\n",
       "    .dataframe thead th {\n",
       "        text-align: right;\n",
       "    }\n",
       "</style>\n",
       "<table border=\"1\" class=\"dataframe\">\n",
       "  <thead>\n",
       "    <tr style=\"text-align: right;\">\n",
       "      <th></th>\n",
       "      <th>id</th>\n",
       "      <th>query</th>\n",
       "      <th>ranking_label</th>\n",
       "      <th>text</th>\n",
       "      <th>text_len</th>\n",
       "      <th>lang</th>\n",
       "      <th>text_tokens</th>\n",
       "      <th>nc_vec</th>\n",
       "      <th>label</th>\n",
       "      <th>label_name</th>\n",
       "      <th>title</th>\n",
       "      <th>pubDate</th>\n",
       "      <th>url</th>\n",
       "    </tr>\n",
       "  </thead>\n",
       "  <tbody>\n",
       "    <tr>\n",
       "      <th>0</th>\n",
       "      <td>210705_news_53540</td>\n",
       "      <td>Quantentechnologie</td>\n",
       "      <td>3</td>\n",
       "      <td>Nach Cyberangriffen auf den Bundestag und das ...</td>\n",
       "      <td>445</td>\n",
       "      <td>de</td>\n",
       "      <td>[Cyberangriffe, der Bundestag, der Datennetzwe...</td>\n",
       "      <td>[[-0.01808716543018818, -0.0072739748284220695...</td>\n",
       "      <td>1</td>\n",
       "      <td>technology</td>\n",
       "      <td>Netze deutscher Ministerien: Quantenkommunikat...</td>\n",
       "      <td>2019-12-16 10:26:15</td>\n",
       "      <td>https://www.spiegel.de/netzwelt/netzpolitik/qu...</td>\n",
       "    </tr>\n",
       "    <tr>\n",
       "      <th>1</th>\n",
       "      <td>210705_news_509066</td>\n",
       "      <td>Quantentechnologie</td>\n",
       "      <td>2</td>\n",
       "      <td>The following is the May 24, 2021 Congressiona...</td>\n",
       "      <td>506</td>\n",
       "      <td>en</td>\n",
       "      <td>[the following, the May 24, 2021 Congressional...</td>\n",
       "      <td>[[-0.009140371344983578, -0.002850867807865143...</td>\n",
       "      <td>1</td>\n",
       "      <td>technology</td>\n",
       "      <td>Report on Military Applications for Quantum Co...</td>\n",
       "      <td>2021-05-27 14:12:00</td>\n",
       "      <td>https://news.usni.org/2021/05/27/report-on-mil...</td>\n",
       "    </tr>\n",
       "  </tbody>\n",
       "</table>\n",
       "</div>"
      ],
      "text/plain": [
       "                   id               query  ranking_label  \\\n",
       "0   210705_news_53540  Quantentechnologie              3   \n",
       "1  210705_news_509066  Quantentechnologie              2   \n",
       "\n",
       "                                                text  text_len lang  \\\n",
       "0  Nach Cyberangriffen auf den Bundestag und das ...       445   de   \n",
       "1  The following is the May 24, 2021 Congressiona...       506   en   \n",
       "\n",
       "                                         text_tokens  \\\n",
       "0  [Cyberangriffe, der Bundestag, der Datennetzwe...   \n",
       "1  [the following, the May 24, 2021 Congressional...   \n",
       "\n",
       "                                              nc_vec  label  label_name  \\\n",
       "0  [[-0.01808716543018818, -0.0072739748284220695...      1  technology   \n",
       "1  [[-0.009140371344983578, -0.002850867807865143...      1  technology   \n",
       "\n",
       "                                               title             pubDate  \\\n",
       "0  Netze deutscher Ministerien: Quantenkommunikat... 2019-12-16 10:26:15   \n",
       "1  Report on Military Applications for Quantum Co... 2021-05-27 14:12:00   \n",
       "\n",
       "                                                 url  \n",
       "0  https://www.spiegel.de/netzwelt/netzpolitik/qu...  \n",
       "1  https://news.usni.org/2021/05/27/report-on-mil...  "
      ]
     },
     "execution_count": 3,
     "metadata": {},
     "output_type": "execute_result"
    }
   ],
   "source": [
    "final_df = pd.read_pickle(os.getcwd()+'/../dataframes/quantum_rank_df.pkl')\n",
    "final_df.head(2)"
   ]
  },
  {
   "cell_type": "code",
   "execution_count": 6,
   "id": "34b91dfc",
   "metadata": {},
   "outputs": [],
   "source": [
    "custom_pipeline = [preprocessing.fillna,\n",
    "                   preprocessing.remove_html_tags,\n",
    "                   preprocessing.remove_urls,\n",
    "                   preprocessing.remove_digits,\n",
    "                   preprocessing.remove_whitespace,\n",
    "                  ]\n",
    "\n",
    "final_df['text_clean'] = hero.clean(final_df['text'], custom_pipeline)\n",
    "# final_df.head(3)"
   ]
  },
  {
   "cell_type": "code",
   "execution_count": 7,
   "id": "dbe45524",
   "metadata": {},
   "outputs": [],
   "source": [
    "stopwords_de = stopwords.words('german')\n",
    "stopwords_en = stopwords.words('english')\n",
    "\n",
    "with open(os.getcwd()+'/../../conf/stopwords_de.txt', 'r') as f:\n",
    "    stopwords_de_extra = f.read().splitlines()\n",
    "\n",
    "stopwords_full = []\n",
    "stopwords_full.extend(stopwords_de)\n",
    "stopwords_full.extend(stopwords_en)\n",
    "stopwords_full.extend(stopwords_de_extra)\n",
    "\n",
    "stopwords_full = [word.lower() for word in stopwords_full]\n",
    "\n",
    "stop_all = set(stopwords_full + list(string.punctuation))"
   ]
  },
  {
   "cell_type": "code",
   "execution_count": 8,
   "id": "65deb065",
   "metadata": {},
   "outputs": [],
   "source": [
    "def get_modified_vectors(vec_data):\n",
    "    \n",
    "    new_data = []\n",
    "    for val in vec_data:\n",
    "        new_data.append(val)\n",
    "    \n",
    "    new_data = np.array(new_data).reshape(-1, 512)\n",
    "    return new_data\n",
    "\n",
    "def get_pool_vec(doc_vec_list, pool):\n",
    "    \n",
    "    doc_vec_list = get_modified_vectors(doc_vec_list)\n",
    "    if pool == 'mean':\n",
    "        return np.nanmean(doc_vec_list, axis=0)\n",
    "    elif pool == 'max':\n",
    "        return np.nanmax(doc_vec_list, axis=0)\n",
    "\n",
    "def get_document_vec(text):\n",
    "    \n",
    "    return tf_model(text)['outputs'].numpy()[0].reshape(1, -1)\n",
    "\n",
    "def get_representation_vector(document, title):\n",
    "    \n",
    "    title_vec = get_document_vec(title)\n",
    "    \n",
    "    document_tokens = document.split()\n",
    "    doc_len = len(document_tokens)\n",
    "    doc_vecs = []\n",
    "    \n",
    "    doc_vecs.append(title_vec)\n",
    "    \n",
    "    if doc_len < 550:\n",
    "        doc_vecs.append(get_document_vec(document))\n",
    "    else:\n",
    "        doc_parts = int(doc_len/500)\n",
    "        for idx in range(doc_parts):\n",
    "            if (idx+1)*500 >= doc_len:\n",
    "                doc_temp = ' '.join(document_tokens[idx*500:])\n",
    "            else:\n",
    "                doc_temp = ' '.join(document_tokens[idx*500:(idx+1)*500])\n",
    "                \n",
    "            doc_vecs.append(get_document_vec(doc_temp))\n",
    "        \n",
    "    return get_pool_vec(get_modified_vectors(doc_vecs), pool='mean')\n",
    "\n",
    "def get_shorter_text(phrase_1, phrase_2):\n",
    "    \n",
    "    if len(phrase_1) < len(phrase_2):\n",
    "        return phrase_1\n",
    "    else:\n",
    "        return phrase_2\n",
    "    \n",
    "def remove_stopwords(noun_chunks):\n",
    "    \n",
    "    filtered_noun_chunks = []\n",
    "    \n",
    "    for word_token in noun_chunks:\n",
    "        if word_token.lower() not in stop_all:\n",
    "            filtered_noun_chunks.append(word_token)\n",
    "            \n",
    "    return filtered_noun_chunks\n",
    "\n",
    "def get_filtered_nc(noun_chunks):\n",
    "    \n",
    "    noun_chunks = list(set(noun_chunks))\n",
    "    noun_chunks = remove_stopwords(noun_chunks)\n",
    "    phrases_len = len(noun_chunks)\n",
    "    remove_phrases = [] \n",
    "\n",
    "    for idx_1 in range(phrases_len):\n",
    "\n",
    "        phrase_1 = noun_chunks[idx_1]\n",
    "        for idx_2 in range(idx_1 + 1, phrases_len):\n",
    "            phrase_2 = noun_chunks[idx_2]\n",
    "\n",
    "            if fuzz.ratio(phrase_1, phrase_2) > 80:\n",
    "                remove_phrases.append(get_shorter_text(phrase_1, phrase_2))\n",
    "\n",
    "    final_noun_chunks = list(set(noun_chunks) - set(remove_phrases))\n",
    "    return final_noun_chunks\n",
    "\n",
    "def get_sent_transformers_keywords(repr_vec, noun_chunks, query_vec, max_keyword_cnt = 30):\n",
    "    \n",
    "    noun_chunks = get_filtered_nc(noun_chunks)\n",
    "    candidate_embeddings = [tf_model(nc)['outputs'].numpy()[0] for nc in noun_chunks]\n",
    "    \n",
    "    data_insert_dict = dict()\n",
    "    \n",
    "    kw_distances = cosine_similarity([repr_vec], candidate_embeddings)\n",
    "    \n",
    "    keywords = []\n",
    "    for index in kw_distances.argsort()[0][-max_keyword_cnt:]: \n",
    "        data_insert_dict[noun_chunks[index]] =  m.packb(candidate_embeddings[index])\n",
    "        keywords.append(noun_chunks[index])\n",
    "        \n",
    "    rdb.mset(data_insert_dict)\n",
    "        \n",
    "    return keywords\n",
    "\n",
    "def get_sent_transformers_keywords_use(keywords, query_vec, max_keyword_cnt = 30):\n",
    "    \n",
    "    candidate_embeddings_keywords = [tf_model(kw)['outputs'].numpy()[0] for kw in keywords]\n",
    "        \n",
    "    query_distances = cosine_similarity([query_vec], candidate_embeddings_keywords)\n",
    "    subtopic_keywords_dict = dict()\n",
    "    for index in query_distances.argsort()[0][-max_keyword_cnt:]: \n",
    "        \n",
    "        subtopic_keywords_dict[keywords[index]] = query_distances[0][index]\n",
    "    \n",
    "    subtopic_keywords_dict = sorted(subtopic_keywords_dict.items(), key=lambda x: x[1], reverse=True)\n",
    "\n",
    "    return subtopic_keywords_dict\n",
    "\n",
    "def get_sent_transformers_keywords_redis(keywords, query_vec, max_keyword_cnt = 30):\n",
    "    \n",
    "    candidate_embeddings_keywords = [m.unpackb(rdb.get(kw)) for kw in keywords]\n",
    "    \n",
    "    query_distances = cosine_similarity([query_vec], candidate_embeddings_keywords)\n",
    "    subtopic_keywords_dict = dict()\n",
    "    for index in query_distances.argsort()[0][-max_keyword_cnt:]: \n",
    "        \n",
    "        subtopic_keywords_dict[keywords[index]] = query_distances[0][index]\n",
    "    \n",
    "    subtopic_keywords_dict = sorted(subtopic_keywords_dict.items(), key=lambda x: x[1], reverse=True)\n",
    "\n",
    "    return subtopic_keywords_dict\n",
    "\n",
    "def get_candidate_pool(subtopic_keywords_list):\n",
    "    \n",
    "    candidate_pool = []\n",
    "    \n",
    "    lower_limit = 0.2\n",
    "    upper_limit = 0.4\n",
    "    \n",
    "    for key, value in subtopic_keywords_list:\n",
    "        \n",
    "        if value > 0.2 and value < 0.4:\n",
    "            candidate_pool.append(key)\n",
    "            \n",
    "    return candidate_pool"
   ]
  },
  {
   "cell_type": "code",
   "execution_count": 10,
   "id": "717404fe",
   "metadata": {},
   "outputs": [],
   "source": [
    "query = 'Quantentechnologie'\n",
    "\n",
    "query_vec = tf_model(query)['outputs'].numpy()[0]"
   ]
  },
  {
   "cell_type": "code",
   "execution_count": 12,
   "id": "d40b6904",
   "metadata": {},
   "outputs": [],
   "source": [
    "final_df['doc_repr_vec'] = final_df.apply(lambda x:get_representation_vector(x['text_clean'], x['title']), axis=1)"
   ]
  },
  {
   "cell_type": "code",
   "execution_count": 13,
   "id": "0de9e6b6",
   "metadata": {},
   "outputs": [
    {
     "ename": "ConnectionError",
     "evalue": "Error 10053 while writing to socket. Eine bestehende Verbindung wurde softwaregesteuert\r\ndurch den Hostcomputer abgebrochen.",
     "output_type": "error",
     "traceback": [
      "\u001b[1;31m---------------------------------------------------------------------------\u001b[0m",
      "\u001b[1;31mConnectionAbortedError\u001b[0m                    Traceback (most recent call last)",
      "\u001b[1;32m~\\.virtualenvs\\xxx-eAHl9Gue\\lib\\site-packages\\redis\\connection.py\u001b[0m in \u001b[0;36msend_packed_command\u001b[1;34m(self, command, check_health)\u001b[0m\n\u001b[0;32m    780\u001b[0m             \u001b[1;32mfor\u001b[0m \u001b[0mitem\u001b[0m \u001b[1;32min\u001b[0m \u001b[0mcommand\u001b[0m\u001b[1;33m:\u001b[0m\u001b[1;33m\u001b[0m\u001b[1;33m\u001b[0m\u001b[0m\n\u001b[1;32m--> 781\u001b[1;33m                 \u001b[0mself\u001b[0m\u001b[1;33m.\u001b[0m\u001b[0m_sock\u001b[0m\u001b[1;33m.\u001b[0m\u001b[0msendall\u001b[0m\u001b[1;33m(\u001b[0m\u001b[0mitem\u001b[0m\u001b[1;33m)\u001b[0m\u001b[1;33m\u001b[0m\u001b[1;33m\u001b[0m\u001b[0m\n\u001b[0m\u001b[0;32m    782\u001b[0m         \u001b[1;32mexcept\u001b[0m \u001b[0msocket\u001b[0m\u001b[1;33m.\u001b[0m\u001b[0mtimeout\u001b[0m\u001b[1;33m:\u001b[0m\u001b[1;33m\u001b[0m\u001b[1;33m\u001b[0m\u001b[0m\n",
      "\u001b[1;31mConnectionAbortedError\u001b[0m: [WinError 10053] Eine bestehende Verbindung wurde softwaregesteuert\r\ndurch den Hostcomputer abgebrochen",
      "\nDuring handling of the above exception, another exception occurred:\n",
      "\u001b[1;31mConnectionError\u001b[0m                           Traceback (most recent call last)",
      "\u001b[1;32m~\\AppData\\Local\\Temp\\ipykernel_4440\\2048185707.py\u001b[0m in \u001b[0;36m<module>\u001b[1;34m\u001b[0m\n\u001b[1;32m----> 1\u001b[1;33m \u001b[0mget_ipython\u001b[0m\u001b[1;33m(\u001b[0m\u001b[1;33m)\u001b[0m\u001b[1;33m.\u001b[0m\u001b[0mrun_line_magic\u001b[0m\u001b[1;33m(\u001b[0m\u001b[1;34m'timeit'\u001b[0m\u001b[1;33m,\u001b[0m \u001b[1;34m\"final_df['keywords'] = final_df.apply(lambda x:get_sent_transformers_keywords(x['doc_repr_vec'], x['noun_chunks'], query_vec, max_keyword_cnt = 30), axis=1)\"\u001b[0m\u001b[1;33m)\u001b[0m\u001b[1;33m\u001b[0m\u001b[1;33m\u001b[0m\u001b[0m\n\u001b[0m",
      "\u001b[1;32m~\\.virtualenvs\\xxx-eAHl9Gue\\lib\\site-packages\\IPython\\core\\interactiveshell.py\u001b[0m in \u001b[0;36mrun_line_magic\u001b[1;34m(self, magic_name, line, _stack_depth)\u001b[0m\n\u001b[0;32m   2416\u001b[0m                 \u001b[0mkwargs\u001b[0m\u001b[1;33m[\u001b[0m\u001b[1;34m'local_ns'\u001b[0m\u001b[1;33m]\u001b[0m \u001b[1;33m=\u001b[0m \u001b[0mself\u001b[0m\u001b[1;33m.\u001b[0m\u001b[0mget_local_scope\u001b[0m\u001b[1;33m(\u001b[0m\u001b[0mstack_depth\u001b[0m\u001b[1;33m)\u001b[0m\u001b[1;33m\u001b[0m\u001b[1;33m\u001b[0m\u001b[0m\n\u001b[0;32m   2417\u001b[0m             \u001b[1;32mwith\u001b[0m \u001b[0mself\u001b[0m\u001b[1;33m.\u001b[0m\u001b[0mbuiltin_trap\u001b[0m\u001b[1;33m:\u001b[0m\u001b[1;33m\u001b[0m\u001b[1;33m\u001b[0m\u001b[0m\n\u001b[1;32m-> 2418\u001b[1;33m                 \u001b[0mresult\u001b[0m \u001b[1;33m=\u001b[0m \u001b[0mfn\u001b[0m\u001b[1;33m(\u001b[0m\u001b[1;33m*\u001b[0m\u001b[0margs\u001b[0m\u001b[1;33m,\u001b[0m \u001b[1;33m**\u001b[0m\u001b[0mkwargs\u001b[0m\u001b[1;33m)\u001b[0m\u001b[1;33m\u001b[0m\u001b[1;33m\u001b[0m\u001b[0m\n\u001b[0m\u001b[0;32m   2419\u001b[0m             \u001b[1;32mreturn\u001b[0m \u001b[0mresult\u001b[0m\u001b[1;33m\u001b[0m\u001b[1;33m\u001b[0m\u001b[0m\n\u001b[0;32m   2420\u001b[0m \u001b[1;33m\u001b[0m\u001b[0m\n",
      "\u001b[1;32m~\\.virtualenvs\\xxx-eAHl9Gue\\lib\\site-packages\\decorator.py\u001b[0m in \u001b[0;36mfun\u001b[1;34m(*args, **kw)\u001b[0m\n\u001b[0;32m    230\u001b[0m             \u001b[1;32mif\u001b[0m \u001b[1;32mnot\u001b[0m \u001b[0mkwsyntax\u001b[0m\u001b[1;33m:\u001b[0m\u001b[1;33m\u001b[0m\u001b[1;33m\u001b[0m\u001b[0m\n\u001b[0;32m    231\u001b[0m                 \u001b[0margs\u001b[0m\u001b[1;33m,\u001b[0m \u001b[0mkw\u001b[0m \u001b[1;33m=\u001b[0m \u001b[0mfix\u001b[0m\u001b[1;33m(\u001b[0m\u001b[0margs\u001b[0m\u001b[1;33m,\u001b[0m \u001b[0mkw\u001b[0m\u001b[1;33m,\u001b[0m \u001b[0msig\u001b[0m\u001b[1;33m)\u001b[0m\u001b[1;33m\u001b[0m\u001b[1;33m\u001b[0m\u001b[0m\n\u001b[1;32m--> 232\u001b[1;33m             \u001b[1;32mreturn\u001b[0m \u001b[0mcaller\u001b[0m\u001b[1;33m(\u001b[0m\u001b[0mfunc\u001b[0m\u001b[1;33m,\u001b[0m \u001b[1;33m*\u001b[0m\u001b[1;33m(\u001b[0m\u001b[0mextras\u001b[0m \u001b[1;33m+\u001b[0m \u001b[0margs\u001b[0m\u001b[1;33m)\u001b[0m\u001b[1;33m,\u001b[0m \u001b[1;33m**\u001b[0m\u001b[0mkw\u001b[0m\u001b[1;33m)\u001b[0m\u001b[1;33m\u001b[0m\u001b[1;33m\u001b[0m\u001b[0m\n\u001b[0m\u001b[0;32m    233\u001b[0m     \u001b[0mfun\u001b[0m\u001b[1;33m.\u001b[0m\u001b[0m__name__\u001b[0m \u001b[1;33m=\u001b[0m \u001b[0mfunc\u001b[0m\u001b[1;33m.\u001b[0m\u001b[0m__name__\u001b[0m\u001b[1;33m\u001b[0m\u001b[1;33m\u001b[0m\u001b[0m\n\u001b[0;32m    234\u001b[0m     \u001b[0mfun\u001b[0m\u001b[1;33m.\u001b[0m\u001b[0m__doc__\u001b[0m \u001b[1;33m=\u001b[0m \u001b[0mfunc\u001b[0m\u001b[1;33m.\u001b[0m\u001b[0m__doc__\u001b[0m\u001b[1;33m\u001b[0m\u001b[1;33m\u001b[0m\u001b[0m\n",
      "\u001b[1;32m~\\.virtualenvs\\xxx-eAHl9Gue\\lib\\site-packages\\IPython\\core\\magic.py\u001b[0m in \u001b[0;36m<lambda>\u001b[1;34m(f, *a, **k)\u001b[0m\n\u001b[0;32m    185\u001b[0m     \u001b[1;31m# but it's overkill for just that one bit of state.\u001b[0m\u001b[1;33m\u001b[0m\u001b[1;33m\u001b[0m\u001b[1;33m\u001b[0m\u001b[0m\n\u001b[0;32m    186\u001b[0m     \u001b[1;32mdef\u001b[0m \u001b[0mmagic_deco\u001b[0m\u001b[1;33m(\u001b[0m\u001b[0marg\u001b[0m\u001b[1;33m)\u001b[0m\u001b[1;33m:\u001b[0m\u001b[1;33m\u001b[0m\u001b[1;33m\u001b[0m\u001b[0m\n\u001b[1;32m--> 187\u001b[1;33m         \u001b[0mcall\u001b[0m \u001b[1;33m=\u001b[0m \u001b[1;32mlambda\u001b[0m \u001b[0mf\u001b[0m\u001b[1;33m,\u001b[0m \u001b[1;33m*\u001b[0m\u001b[0ma\u001b[0m\u001b[1;33m,\u001b[0m \u001b[1;33m**\u001b[0m\u001b[0mk\u001b[0m\u001b[1;33m:\u001b[0m \u001b[0mf\u001b[0m\u001b[1;33m(\u001b[0m\u001b[1;33m*\u001b[0m\u001b[0ma\u001b[0m\u001b[1;33m,\u001b[0m \u001b[1;33m**\u001b[0m\u001b[0mk\u001b[0m\u001b[1;33m)\u001b[0m\u001b[1;33m\u001b[0m\u001b[1;33m\u001b[0m\u001b[0m\n\u001b[0m\u001b[0;32m    188\u001b[0m \u001b[1;33m\u001b[0m\u001b[0m\n\u001b[0;32m    189\u001b[0m         \u001b[1;32mif\u001b[0m \u001b[0mcallable\u001b[0m\u001b[1;33m(\u001b[0m\u001b[0marg\u001b[0m\u001b[1;33m)\u001b[0m\u001b[1;33m:\u001b[0m\u001b[1;33m\u001b[0m\u001b[1;33m\u001b[0m\u001b[0m\n",
      "\u001b[1;32m~\\.virtualenvs\\xxx-eAHl9Gue\\lib\\site-packages\\IPython\\core\\magics\\execution.py\u001b[0m in \u001b[0;36mtimeit\u001b[1;34m(self, line, cell, local_ns)\u001b[0m\n\u001b[0;32m   1178\u001b[0m             \u001b[1;32mfor\u001b[0m \u001b[0mindex\u001b[0m \u001b[1;32min\u001b[0m \u001b[0mrange\u001b[0m\u001b[1;33m(\u001b[0m\u001b[1;36m0\u001b[0m\u001b[1;33m,\u001b[0m \u001b[1;36m10\u001b[0m\u001b[1;33m)\u001b[0m\u001b[1;33m:\u001b[0m\u001b[1;33m\u001b[0m\u001b[1;33m\u001b[0m\u001b[0m\n\u001b[0;32m   1179\u001b[0m                 \u001b[0mnumber\u001b[0m \u001b[1;33m=\u001b[0m \u001b[1;36m10\u001b[0m \u001b[1;33m**\u001b[0m \u001b[0mindex\u001b[0m\u001b[1;33m\u001b[0m\u001b[1;33m\u001b[0m\u001b[0m\n\u001b[1;32m-> 1180\u001b[1;33m                 \u001b[0mtime_number\u001b[0m \u001b[1;33m=\u001b[0m \u001b[0mtimer\u001b[0m\u001b[1;33m.\u001b[0m\u001b[0mtimeit\u001b[0m\u001b[1;33m(\u001b[0m\u001b[0mnumber\u001b[0m\u001b[1;33m)\u001b[0m\u001b[1;33m\u001b[0m\u001b[1;33m\u001b[0m\u001b[0m\n\u001b[0m\u001b[0;32m   1181\u001b[0m                 \u001b[1;32mif\u001b[0m \u001b[0mtime_number\u001b[0m \u001b[1;33m>=\u001b[0m \u001b[1;36m0.2\u001b[0m\u001b[1;33m:\u001b[0m\u001b[1;33m\u001b[0m\u001b[1;33m\u001b[0m\u001b[0m\n\u001b[0;32m   1182\u001b[0m                     \u001b[1;32mbreak\u001b[0m\u001b[1;33m\u001b[0m\u001b[1;33m\u001b[0m\u001b[0m\n",
      "\u001b[1;32m~\\.virtualenvs\\xxx-eAHl9Gue\\lib\\site-packages\\IPython\\core\\magics\\execution.py\u001b[0m in \u001b[0;36mtimeit\u001b[1;34m(self, number)\u001b[0m\n\u001b[0;32m    167\u001b[0m         \u001b[0mgc\u001b[0m\u001b[1;33m.\u001b[0m\u001b[0mdisable\u001b[0m\u001b[1;33m(\u001b[0m\u001b[1;33m)\u001b[0m\u001b[1;33m\u001b[0m\u001b[1;33m\u001b[0m\u001b[0m\n\u001b[0;32m    168\u001b[0m         \u001b[1;32mtry\u001b[0m\u001b[1;33m:\u001b[0m\u001b[1;33m\u001b[0m\u001b[1;33m\u001b[0m\u001b[0m\n\u001b[1;32m--> 169\u001b[1;33m             \u001b[0mtiming\u001b[0m \u001b[1;33m=\u001b[0m \u001b[0mself\u001b[0m\u001b[1;33m.\u001b[0m\u001b[0minner\u001b[0m\u001b[1;33m(\u001b[0m\u001b[0mit\u001b[0m\u001b[1;33m,\u001b[0m \u001b[0mself\u001b[0m\u001b[1;33m.\u001b[0m\u001b[0mtimer\u001b[0m\u001b[1;33m)\u001b[0m\u001b[1;33m\u001b[0m\u001b[1;33m\u001b[0m\u001b[0m\n\u001b[0m\u001b[0;32m    170\u001b[0m         \u001b[1;32mfinally\u001b[0m\u001b[1;33m:\u001b[0m\u001b[1;33m\u001b[0m\u001b[1;33m\u001b[0m\u001b[0m\n\u001b[0;32m    171\u001b[0m             \u001b[1;32mif\u001b[0m \u001b[0mgcold\u001b[0m\u001b[1;33m:\u001b[0m\u001b[1;33m\u001b[0m\u001b[1;33m\u001b[0m\u001b[0m\n",
      "\u001b[1;32m<magic-timeit>\u001b[0m in \u001b[0;36minner\u001b[1;34m(_it, _timer)\u001b[0m\n",
      "\u001b[1;32m~\\.virtualenvs\\xxx-eAHl9Gue\\lib\\site-packages\\pandas\\core\\frame.py\u001b[0m in \u001b[0;36mapply\u001b[1;34m(self, func, axis, raw, result_type, args, **kwargs)\u001b[0m\n\u001b[0;32m   8738\u001b[0m             \u001b[0mkwargs\u001b[0m\u001b[1;33m=\u001b[0m\u001b[0mkwargs\u001b[0m\u001b[1;33m,\u001b[0m\u001b[1;33m\u001b[0m\u001b[1;33m\u001b[0m\u001b[0m\n\u001b[0;32m   8739\u001b[0m         )\n\u001b[1;32m-> 8740\u001b[1;33m         \u001b[1;32mreturn\u001b[0m \u001b[0mop\u001b[0m\u001b[1;33m.\u001b[0m\u001b[0mapply\u001b[0m\u001b[1;33m(\u001b[0m\u001b[1;33m)\u001b[0m\u001b[1;33m\u001b[0m\u001b[1;33m\u001b[0m\u001b[0m\n\u001b[0m\u001b[0;32m   8741\u001b[0m \u001b[1;33m\u001b[0m\u001b[0m\n\u001b[0;32m   8742\u001b[0m     def applymap(\n",
      "\u001b[1;32m~\\.virtualenvs\\xxx-eAHl9Gue\\lib\\site-packages\\pandas\\core\\apply.py\u001b[0m in \u001b[0;36mapply\u001b[1;34m(self)\u001b[0m\n\u001b[0;32m    686\u001b[0m             \u001b[1;32mreturn\u001b[0m \u001b[0mself\u001b[0m\u001b[1;33m.\u001b[0m\u001b[0mapply_raw\u001b[0m\u001b[1;33m(\u001b[0m\u001b[1;33m)\u001b[0m\u001b[1;33m\u001b[0m\u001b[1;33m\u001b[0m\u001b[0m\n\u001b[0;32m    687\u001b[0m \u001b[1;33m\u001b[0m\u001b[0m\n\u001b[1;32m--> 688\u001b[1;33m         \u001b[1;32mreturn\u001b[0m \u001b[0mself\u001b[0m\u001b[1;33m.\u001b[0m\u001b[0mapply_standard\u001b[0m\u001b[1;33m(\u001b[0m\u001b[1;33m)\u001b[0m\u001b[1;33m\u001b[0m\u001b[1;33m\u001b[0m\u001b[0m\n\u001b[0m\u001b[0;32m    689\u001b[0m \u001b[1;33m\u001b[0m\u001b[0m\n\u001b[0;32m    690\u001b[0m     \u001b[1;32mdef\u001b[0m \u001b[0magg\u001b[0m\u001b[1;33m(\u001b[0m\u001b[0mself\u001b[0m\u001b[1;33m)\u001b[0m\u001b[1;33m:\u001b[0m\u001b[1;33m\u001b[0m\u001b[1;33m\u001b[0m\u001b[0m\n",
      "\u001b[1;32m~\\.virtualenvs\\xxx-eAHl9Gue\\lib\\site-packages\\pandas\\core\\apply.py\u001b[0m in \u001b[0;36mapply_standard\u001b[1;34m(self)\u001b[0m\n\u001b[0;32m    810\u001b[0m \u001b[1;33m\u001b[0m\u001b[0m\n\u001b[0;32m    811\u001b[0m     \u001b[1;32mdef\u001b[0m \u001b[0mapply_standard\u001b[0m\u001b[1;33m(\u001b[0m\u001b[0mself\u001b[0m\u001b[1;33m)\u001b[0m\u001b[1;33m:\u001b[0m\u001b[1;33m\u001b[0m\u001b[1;33m\u001b[0m\u001b[0m\n\u001b[1;32m--> 812\u001b[1;33m         \u001b[0mresults\u001b[0m\u001b[1;33m,\u001b[0m \u001b[0mres_index\u001b[0m \u001b[1;33m=\u001b[0m \u001b[0mself\u001b[0m\u001b[1;33m.\u001b[0m\u001b[0mapply_series_generator\u001b[0m\u001b[1;33m(\u001b[0m\u001b[1;33m)\u001b[0m\u001b[1;33m\u001b[0m\u001b[1;33m\u001b[0m\u001b[0m\n\u001b[0m\u001b[0;32m    813\u001b[0m \u001b[1;33m\u001b[0m\u001b[0m\n\u001b[0;32m    814\u001b[0m         \u001b[1;31m# wrap results\u001b[0m\u001b[1;33m\u001b[0m\u001b[1;33m\u001b[0m\u001b[1;33m\u001b[0m\u001b[0m\n",
      "\u001b[1;32m~\\.virtualenvs\\xxx-eAHl9Gue\\lib\\site-packages\\pandas\\core\\apply.py\u001b[0m in \u001b[0;36mapply_series_generator\u001b[1;34m(self)\u001b[0m\n\u001b[0;32m    826\u001b[0m             \u001b[1;32mfor\u001b[0m \u001b[0mi\u001b[0m\u001b[1;33m,\u001b[0m \u001b[0mv\u001b[0m \u001b[1;32min\u001b[0m \u001b[0menumerate\u001b[0m\u001b[1;33m(\u001b[0m\u001b[0mseries_gen\u001b[0m\u001b[1;33m)\u001b[0m\u001b[1;33m:\u001b[0m\u001b[1;33m\u001b[0m\u001b[1;33m\u001b[0m\u001b[0m\n\u001b[0;32m    827\u001b[0m                 \u001b[1;31m# ignore SettingWithCopy here in case the user mutates\u001b[0m\u001b[1;33m\u001b[0m\u001b[1;33m\u001b[0m\u001b[1;33m\u001b[0m\u001b[0m\n\u001b[1;32m--> 828\u001b[1;33m                 \u001b[0mresults\u001b[0m\u001b[1;33m[\u001b[0m\u001b[0mi\u001b[0m\u001b[1;33m]\u001b[0m \u001b[1;33m=\u001b[0m \u001b[0mself\u001b[0m\u001b[1;33m.\u001b[0m\u001b[0mf\u001b[0m\u001b[1;33m(\u001b[0m\u001b[0mv\u001b[0m\u001b[1;33m)\u001b[0m\u001b[1;33m\u001b[0m\u001b[1;33m\u001b[0m\u001b[0m\n\u001b[0m\u001b[0;32m    829\u001b[0m                 \u001b[1;32mif\u001b[0m \u001b[0misinstance\u001b[0m\u001b[1;33m(\u001b[0m\u001b[0mresults\u001b[0m\u001b[1;33m[\u001b[0m\u001b[0mi\u001b[0m\u001b[1;33m]\u001b[0m\u001b[1;33m,\u001b[0m \u001b[0mABCSeries\u001b[0m\u001b[1;33m)\u001b[0m\u001b[1;33m:\u001b[0m\u001b[1;33m\u001b[0m\u001b[1;33m\u001b[0m\u001b[0m\n\u001b[0;32m    830\u001b[0m                     \u001b[1;31m# If we have a view on v, we need to make a copy because\u001b[0m\u001b[1;33m\u001b[0m\u001b[1;33m\u001b[0m\u001b[1;33m\u001b[0m\u001b[0m\n",
      "\u001b[1;32m<magic-timeit>\u001b[0m in \u001b[0;36m<lambda>\u001b[1;34m(x)\u001b[0m\n",
      "\u001b[1;32m~\\AppData\\Local\\Temp\\ipykernel_4440\\3843494094.py\u001b[0m in \u001b[0;36mget_sent_transformers_keywords\u001b[1;34m(repr_vec, noun_chunks, query_vec, max_keyword_cnt)\u001b[0m\n\u001b[0;32m     94\u001b[0m         \u001b[0mkeywords\u001b[0m\u001b[1;33m.\u001b[0m\u001b[0mappend\u001b[0m\u001b[1;33m(\u001b[0m\u001b[0mnoun_chunks\u001b[0m\u001b[1;33m[\u001b[0m\u001b[0mindex\u001b[0m\u001b[1;33m]\u001b[0m\u001b[1;33m)\u001b[0m\u001b[1;33m\u001b[0m\u001b[1;33m\u001b[0m\u001b[0m\n\u001b[0;32m     95\u001b[0m \u001b[1;33m\u001b[0m\u001b[0m\n\u001b[1;32m---> 96\u001b[1;33m     \u001b[0mrdb\u001b[0m\u001b[1;33m.\u001b[0m\u001b[0mmset\u001b[0m\u001b[1;33m(\u001b[0m\u001b[0mdata_insert_dict\u001b[0m\u001b[1;33m)\u001b[0m\u001b[1;33m\u001b[0m\u001b[1;33m\u001b[0m\u001b[0m\n\u001b[0m\u001b[0;32m     97\u001b[0m \u001b[1;33m\u001b[0m\u001b[0m\n\u001b[0;32m     98\u001b[0m     \u001b[1;32mreturn\u001b[0m \u001b[0mkeywords\u001b[0m\u001b[1;33m\u001b[0m\u001b[1;33m\u001b[0m\u001b[0m\n",
      "\u001b[1;32m~\\.virtualenvs\\xxx-eAHl9Gue\\lib\\site-packages\\redis\\commands\\core.py\u001b[0m in \u001b[0;36mmset\u001b[1;34m(self, mapping)\u001b[0m\n\u001b[0;32m   1904\u001b[0m         \u001b[1;32mfor\u001b[0m \u001b[0mpair\u001b[0m \u001b[1;32min\u001b[0m \u001b[0mmapping\u001b[0m\u001b[1;33m.\u001b[0m\u001b[0mitems\u001b[0m\u001b[1;33m(\u001b[0m\u001b[1;33m)\u001b[0m\u001b[1;33m:\u001b[0m\u001b[1;33m\u001b[0m\u001b[1;33m\u001b[0m\u001b[0m\n\u001b[0;32m   1905\u001b[0m             \u001b[0mitems\u001b[0m\u001b[1;33m.\u001b[0m\u001b[0mextend\u001b[0m\u001b[1;33m(\u001b[0m\u001b[0mpair\u001b[0m\u001b[1;33m)\u001b[0m\u001b[1;33m\u001b[0m\u001b[1;33m\u001b[0m\u001b[0m\n\u001b[1;32m-> 1906\u001b[1;33m         \u001b[1;32mreturn\u001b[0m \u001b[0mself\u001b[0m\u001b[1;33m.\u001b[0m\u001b[0mexecute_command\u001b[0m\u001b[1;33m(\u001b[0m\u001b[1;34m\"MSET\"\u001b[0m\u001b[1;33m,\u001b[0m \u001b[1;33m*\u001b[0m\u001b[0mitems\u001b[0m\u001b[1;33m)\u001b[0m\u001b[1;33m\u001b[0m\u001b[1;33m\u001b[0m\u001b[0m\n\u001b[0m\u001b[0;32m   1907\u001b[0m \u001b[1;33m\u001b[0m\u001b[0m\n\u001b[0;32m   1908\u001b[0m     \u001b[1;32mdef\u001b[0m \u001b[0mmsetnx\u001b[0m\u001b[1;33m(\u001b[0m\u001b[0mself\u001b[0m\u001b[1;33m,\u001b[0m \u001b[0mmapping\u001b[0m\u001b[1;33m:\u001b[0m \u001b[0mMapping\u001b[0m\u001b[1;33m[\u001b[0m\u001b[0mAnyKeyT\u001b[0m\u001b[1;33m,\u001b[0m \u001b[0mEncodableT\u001b[0m\u001b[1;33m]\u001b[0m\u001b[1;33m)\u001b[0m \u001b[1;33m->\u001b[0m \u001b[0mResponseT\u001b[0m\u001b[1;33m:\u001b[0m\u001b[1;33m\u001b[0m\u001b[1;33m\u001b[0m\u001b[0m\n",
      "\u001b[1;32m~\\.virtualenvs\\xxx-eAHl9Gue\\lib\\site-packages\\redis\\client.py\u001b[0m in \u001b[0;36mexecute_command\u001b[1;34m(self, *args, **options)\u001b[0m\n\u001b[0;32m   1240\u001b[0m                     \u001b[0mconn\u001b[0m\u001b[1;33m,\u001b[0m \u001b[0mcommand_name\u001b[0m\u001b[1;33m,\u001b[0m \u001b[1;33m*\u001b[0m\u001b[0margs\u001b[0m\u001b[1;33m,\u001b[0m \u001b[1;33m**\u001b[0m\u001b[0moptions\u001b[0m\u001b[1;33m\u001b[0m\u001b[1;33m\u001b[0m\u001b[0m\n\u001b[0;32m   1241\u001b[0m                 ),\n\u001b[1;32m-> 1242\u001b[1;33m                 \u001b[1;32mlambda\u001b[0m \u001b[0merror\u001b[0m\u001b[1;33m:\u001b[0m \u001b[0mself\u001b[0m\u001b[1;33m.\u001b[0m\u001b[0m_disconnect_raise\u001b[0m\u001b[1;33m(\u001b[0m\u001b[0mconn\u001b[0m\u001b[1;33m,\u001b[0m \u001b[0merror\u001b[0m\u001b[1;33m)\u001b[0m\u001b[1;33m,\u001b[0m\u001b[1;33m\u001b[0m\u001b[1;33m\u001b[0m\u001b[0m\n\u001b[0m\u001b[0;32m   1243\u001b[0m             )\n\u001b[0;32m   1244\u001b[0m         \u001b[1;32mfinally\u001b[0m\u001b[1;33m:\u001b[0m\u001b[1;33m\u001b[0m\u001b[1;33m\u001b[0m\u001b[0m\n",
      "\u001b[1;32m~\\.virtualenvs\\xxx-eAHl9Gue\\lib\\site-packages\\redis\\retry.py\u001b[0m in \u001b[0;36mcall_with_retry\u001b[1;34m(self, do, fail)\u001b[0m\n\u001b[0;32m     47\u001b[0m             \u001b[1;32mexcept\u001b[0m \u001b[0mself\u001b[0m\u001b[1;33m.\u001b[0m\u001b[0m_supported_errors\u001b[0m \u001b[1;32mas\u001b[0m \u001b[0merror\u001b[0m\u001b[1;33m:\u001b[0m\u001b[1;33m\u001b[0m\u001b[1;33m\u001b[0m\u001b[0m\n\u001b[0;32m     48\u001b[0m                 \u001b[0mfailures\u001b[0m \u001b[1;33m+=\u001b[0m \u001b[1;36m1\u001b[0m\u001b[1;33m\u001b[0m\u001b[1;33m\u001b[0m\u001b[0m\n\u001b[1;32m---> 49\u001b[1;33m                 \u001b[0mfail\u001b[0m\u001b[1;33m(\u001b[0m\u001b[0merror\u001b[0m\u001b[1;33m)\u001b[0m\u001b[1;33m\u001b[0m\u001b[1;33m\u001b[0m\u001b[0m\n\u001b[0m\u001b[0;32m     50\u001b[0m                 \u001b[1;32mif\u001b[0m \u001b[0mself\u001b[0m\u001b[1;33m.\u001b[0m\u001b[0m_retries\u001b[0m \u001b[1;33m>=\u001b[0m \u001b[1;36m0\u001b[0m \u001b[1;32mand\u001b[0m \u001b[0mfailures\u001b[0m \u001b[1;33m>\u001b[0m \u001b[0mself\u001b[0m\u001b[1;33m.\u001b[0m\u001b[0m_retries\u001b[0m\u001b[1;33m:\u001b[0m\u001b[1;33m\u001b[0m\u001b[1;33m\u001b[0m\u001b[0m\n\u001b[0;32m     51\u001b[0m                     \u001b[1;32mraise\u001b[0m \u001b[0merror\u001b[0m\u001b[1;33m\u001b[0m\u001b[1;33m\u001b[0m\u001b[0m\n",
      "\u001b[1;32m~\\.virtualenvs\\xxx-eAHl9Gue\\lib\\site-packages\\redis\\client.py\u001b[0m in \u001b[0;36m<lambda>\u001b[1;34m(error)\u001b[0m\n\u001b[0;32m   1240\u001b[0m                     \u001b[0mconn\u001b[0m\u001b[1;33m,\u001b[0m \u001b[0mcommand_name\u001b[0m\u001b[1;33m,\u001b[0m \u001b[1;33m*\u001b[0m\u001b[0margs\u001b[0m\u001b[1;33m,\u001b[0m \u001b[1;33m**\u001b[0m\u001b[0moptions\u001b[0m\u001b[1;33m\u001b[0m\u001b[1;33m\u001b[0m\u001b[0m\n\u001b[0;32m   1241\u001b[0m                 ),\n\u001b[1;32m-> 1242\u001b[1;33m                 \u001b[1;32mlambda\u001b[0m \u001b[0merror\u001b[0m\u001b[1;33m:\u001b[0m \u001b[0mself\u001b[0m\u001b[1;33m.\u001b[0m\u001b[0m_disconnect_raise\u001b[0m\u001b[1;33m(\u001b[0m\u001b[0mconn\u001b[0m\u001b[1;33m,\u001b[0m \u001b[0merror\u001b[0m\u001b[1;33m)\u001b[0m\u001b[1;33m,\u001b[0m\u001b[1;33m\u001b[0m\u001b[1;33m\u001b[0m\u001b[0m\n\u001b[0m\u001b[0;32m   1243\u001b[0m             )\n\u001b[0;32m   1244\u001b[0m         \u001b[1;32mfinally\u001b[0m\u001b[1;33m:\u001b[0m\u001b[1;33m\u001b[0m\u001b[1;33m\u001b[0m\u001b[0m\n",
      "\u001b[1;32m~\\.virtualenvs\\xxx-eAHl9Gue\\lib\\site-packages\\redis\\client.py\u001b[0m in \u001b[0;36m_disconnect_raise\u001b[1;34m(self, conn, error)\u001b[0m\n\u001b[0;32m   1226\u001b[0m             \u001b[1;32mor\u001b[0m \u001b[0misinstance\u001b[0m\u001b[1;33m(\u001b[0m\u001b[0merror\u001b[0m\u001b[1;33m,\u001b[0m \u001b[0mtuple\u001b[0m\u001b[1;33m(\u001b[0m\u001b[0mconn\u001b[0m\u001b[1;33m.\u001b[0m\u001b[0mretry_on_error\u001b[0m\u001b[1;33m)\u001b[0m\u001b[1;33m)\u001b[0m \u001b[1;32mis\u001b[0m \u001b[1;32mFalse\u001b[0m\u001b[1;33m\u001b[0m\u001b[1;33m\u001b[0m\u001b[0m\n\u001b[0;32m   1227\u001b[0m         ):\n\u001b[1;32m-> 1228\u001b[1;33m             \u001b[1;32mraise\u001b[0m \u001b[0merror\u001b[0m\u001b[1;33m\u001b[0m\u001b[1;33m\u001b[0m\u001b[0m\n\u001b[0m\u001b[0;32m   1229\u001b[0m \u001b[1;33m\u001b[0m\u001b[0m\n\u001b[0;32m   1230\u001b[0m     \u001b[1;31m# COMMAND EXECUTION AND PROTOCOL PARSING\u001b[0m\u001b[1;33m\u001b[0m\u001b[1;33m\u001b[0m\u001b[1;33m\u001b[0m\u001b[0m\n",
      "\u001b[1;32m~\\.virtualenvs\\xxx-eAHl9Gue\\lib\\site-packages\\redis\\retry.py\u001b[0m in \u001b[0;36mcall_with_retry\u001b[1;34m(self, do, fail)\u001b[0m\n\u001b[0;32m     44\u001b[0m         \u001b[1;32mwhile\u001b[0m \u001b[1;32mTrue\u001b[0m\u001b[1;33m:\u001b[0m\u001b[1;33m\u001b[0m\u001b[1;33m\u001b[0m\u001b[0m\n\u001b[0;32m     45\u001b[0m             \u001b[1;32mtry\u001b[0m\u001b[1;33m:\u001b[0m\u001b[1;33m\u001b[0m\u001b[1;33m\u001b[0m\u001b[0m\n\u001b[1;32m---> 46\u001b[1;33m                 \u001b[1;32mreturn\u001b[0m \u001b[0mdo\u001b[0m\u001b[1;33m(\u001b[0m\u001b[1;33m)\u001b[0m\u001b[1;33m\u001b[0m\u001b[1;33m\u001b[0m\u001b[0m\n\u001b[0m\u001b[0;32m     47\u001b[0m             \u001b[1;32mexcept\u001b[0m \u001b[0mself\u001b[0m\u001b[1;33m.\u001b[0m\u001b[0m_supported_errors\u001b[0m \u001b[1;32mas\u001b[0m \u001b[0merror\u001b[0m\u001b[1;33m:\u001b[0m\u001b[1;33m\u001b[0m\u001b[1;33m\u001b[0m\u001b[0m\n\u001b[0;32m     48\u001b[0m                 \u001b[0mfailures\u001b[0m \u001b[1;33m+=\u001b[0m \u001b[1;36m1\u001b[0m\u001b[1;33m\u001b[0m\u001b[1;33m\u001b[0m\u001b[0m\n",
      "\u001b[1;32m~\\.virtualenvs\\xxx-eAHl9Gue\\lib\\site-packages\\redis\\client.py\u001b[0m in \u001b[0;36m<lambda>\u001b[1;34m()\u001b[0m\n\u001b[0;32m   1238\u001b[0m             return conn.retry.call_with_retry(\n\u001b[0;32m   1239\u001b[0m                 lambda: self._send_command_parse_response(\n\u001b[1;32m-> 1240\u001b[1;33m                     \u001b[0mconn\u001b[0m\u001b[1;33m,\u001b[0m \u001b[0mcommand_name\u001b[0m\u001b[1;33m,\u001b[0m \u001b[1;33m*\u001b[0m\u001b[0margs\u001b[0m\u001b[1;33m,\u001b[0m \u001b[1;33m**\u001b[0m\u001b[0moptions\u001b[0m\u001b[1;33m\u001b[0m\u001b[1;33m\u001b[0m\u001b[0m\n\u001b[0m\u001b[0;32m   1241\u001b[0m                 ),\n\u001b[0;32m   1242\u001b[0m                 \u001b[1;32mlambda\u001b[0m \u001b[0merror\u001b[0m\u001b[1;33m:\u001b[0m \u001b[0mself\u001b[0m\u001b[1;33m.\u001b[0m\u001b[0m_disconnect_raise\u001b[0m\u001b[1;33m(\u001b[0m\u001b[0mconn\u001b[0m\u001b[1;33m,\u001b[0m \u001b[0merror\u001b[0m\u001b[1;33m)\u001b[0m\u001b[1;33m,\u001b[0m\u001b[1;33m\u001b[0m\u001b[1;33m\u001b[0m\u001b[0m\n",
      "\u001b[1;32m~\\.virtualenvs\\xxx-eAHl9Gue\\lib\\site-packages\\redis\\client.py\u001b[0m in \u001b[0;36m_send_command_parse_response\u001b[1;34m(self, conn, command_name, *args, **options)\u001b[0m\n\u001b[0;32m   1212\u001b[0m         \u001b[0mSend\u001b[0m \u001b[0ma\u001b[0m \u001b[0mcommand\u001b[0m \u001b[1;32mand\u001b[0m \u001b[0mparse\u001b[0m \u001b[0mthe\u001b[0m \u001b[0mresponse\u001b[0m\u001b[1;33m\u001b[0m\u001b[1;33m\u001b[0m\u001b[0m\n\u001b[0;32m   1213\u001b[0m         \"\"\"\n\u001b[1;32m-> 1214\u001b[1;33m         \u001b[0mconn\u001b[0m\u001b[1;33m.\u001b[0m\u001b[0msend_command\u001b[0m\u001b[1;33m(\u001b[0m\u001b[1;33m*\u001b[0m\u001b[0margs\u001b[0m\u001b[1;33m)\u001b[0m\u001b[1;33m\u001b[0m\u001b[1;33m\u001b[0m\u001b[0m\n\u001b[0m\u001b[0;32m   1215\u001b[0m         \u001b[1;32mreturn\u001b[0m \u001b[0mself\u001b[0m\u001b[1;33m.\u001b[0m\u001b[0mparse_response\u001b[0m\u001b[1;33m(\u001b[0m\u001b[0mconn\u001b[0m\u001b[1;33m,\u001b[0m \u001b[0mcommand_name\u001b[0m\u001b[1;33m,\u001b[0m \u001b[1;33m**\u001b[0m\u001b[0moptions\u001b[0m\u001b[1;33m)\u001b[0m\u001b[1;33m\u001b[0m\u001b[1;33m\u001b[0m\u001b[0m\n\u001b[0;32m   1216\u001b[0m \u001b[1;33m\u001b[0m\u001b[0m\n",
      "\u001b[1;32m~\\.virtualenvs\\xxx-eAHl9Gue\\lib\\site-packages\\redis\\connection.py\u001b[0m in \u001b[0;36msend_command\u001b[1;34m(self, *args, **kwargs)\u001b[0m\n\u001b[0;32m    798\u001b[0m         \u001b[1;34m\"\"\"Pack and send a command to the Redis server\"\"\"\u001b[0m\u001b[1;33m\u001b[0m\u001b[1;33m\u001b[0m\u001b[0m\n\u001b[0;32m    799\u001b[0m         self.send_packed_command(\n\u001b[1;32m--> 800\u001b[1;33m             \u001b[0mself\u001b[0m\u001b[1;33m.\u001b[0m\u001b[0mpack_command\u001b[0m\u001b[1;33m(\u001b[0m\u001b[1;33m*\u001b[0m\u001b[0margs\u001b[0m\u001b[1;33m)\u001b[0m\u001b[1;33m,\u001b[0m \u001b[0mcheck_health\u001b[0m\u001b[1;33m=\u001b[0m\u001b[0mkwargs\u001b[0m\u001b[1;33m.\u001b[0m\u001b[0mget\u001b[0m\u001b[1;33m(\u001b[0m\u001b[1;34m\"check_health\"\u001b[0m\u001b[1;33m,\u001b[0m \u001b[1;32mTrue\u001b[0m\u001b[1;33m)\u001b[0m\u001b[1;33m\u001b[0m\u001b[1;33m\u001b[0m\u001b[0m\n\u001b[0m\u001b[0;32m    801\u001b[0m         )\n\u001b[0;32m    802\u001b[0m \u001b[1;33m\u001b[0m\u001b[0m\n",
      "\u001b[1;32m~\\.virtualenvs\\xxx-eAHl9Gue\\lib\\site-packages\\redis\\connection.py\u001b[0m in \u001b[0;36msend_packed_command\u001b[1;34m(self, command, check_health)\u001b[0m\n\u001b[0;32m    790\u001b[0m                 \u001b[0merrno\u001b[0m \u001b[1;33m=\u001b[0m \u001b[0me\u001b[0m\u001b[1;33m.\u001b[0m\u001b[0margs\u001b[0m\u001b[1;33m[\u001b[0m\u001b[1;36m0\u001b[0m\u001b[1;33m]\u001b[0m\u001b[1;33m\u001b[0m\u001b[1;33m\u001b[0m\u001b[0m\n\u001b[0;32m    791\u001b[0m                 \u001b[0merrmsg\u001b[0m \u001b[1;33m=\u001b[0m \u001b[0me\u001b[0m\u001b[1;33m.\u001b[0m\u001b[0margs\u001b[0m\u001b[1;33m[\u001b[0m\u001b[1;36m1\u001b[0m\u001b[1;33m]\u001b[0m\u001b[1;33m\u001b[0m\u001b[1;33m\u001b[0m\u001b[0m\n\u001b[1;32m--> 792\u001b[1;33m             \u001b[1;32mraise\u001b[0m \u001b[0mConnectionError\u001b[0m\u001b[1;33m(\u001b[0m\u001b[1;34mf\"Error {errno} while writing to socket. {errmsg}.\"\u001b[0m\u001b[1;33m)\u001b[0m\u001b[1;33m\u001b[0m\u001b[1;33m\u001b[0m\u001b[0m\n\u001b[0m\u001b[0;32m    793\u001b[0m         \u001b[1;32mexcept\u001b[0m \u001b[0mBaseException\u001b[0m\u001b[1;33m:\u001b[0m\u001b[1;33m\u001b[0m\u001b[1;33m\u001b[0m\u001b[0m\n\u001b[0;32m    794\u001b[0m             \u001b[0mself\u001b[0m\u001b[1;33m.\u001b[0m\u001b[0mdisconnect\u001b[0m\u001b[1;33m(\u001b[0m\u001b[1;33m)\u001b[0m\u001b[1;33m\u001b[0m\u001b[1;33m\u001b[0m\u001b[0m\n",
      "\u001b[1;31mConnectionError\u001b[0m: Error 10053 while writing to socket. Eine bestehende Verbindung wurde softwaregesteuert\r\ndurch den Hostcomputer abgebrochen."
     ]
    }
   ],
   "source": [
    "%timeit final_df['keywords'] = final_df.apply(lambda x:get_sent_transformers_keywords(x['doc_repr_vec'], x['noun_chunks'], query_vec, max_keyword_cnt = 30), axis=1)"
   ]
  },
  {
   "cell_type": "code",
   "execution_count": 14,
   "id": "e67c1e71",
   "metadata": {},
   "outputs": [
    {
     "data": {
      "text/plain": [
       "Index(['page_id', 'query', 'label', 'text', 'text_len', 'noun_chunks',\n",
       "       'mean_nc_vec', 'title', 'published_date', 'source_url', 'text_clean',\n",
       "       'doc_repr_vec'],\n",
       "      dtype='object')"
      ]
     },
     "execution_count": 14,
     "metadata": {},
     "output_type": "execute_result"
    }
   ],
   "source": [
    "final_df.columns"
   ]
  },
  {
   "cell_type": "code",
   "execution_count": null,
   "id": "a59f3e84",
   "metadata": {},
   "outputs": [],
   "source": [
    "final_df.drop_columns(['text_clean'])\n",
    "final_df.to_pickle(os.getcwd()+'/../dataframes/retrieval_dataset.pkl')"
   ]
  },
  {
   "cell_type": "code",
   "execution_count": 13,
   "id": "8484d602",
   "metadata": {},
   "outputs": [
    {
     "name": "stdout",
     "output_type": "stream",
     "text": [
      "1min 22s ± 436 ms per loop (mean ± std. dev. of 7 runs, 1 loop each)\n"
     ]
    }
   ],
   "source": [
    "%timeit final_df['keywords'] = final_df.apply(lambda x:get_sent_transformers_keywords(x['doc_repr_vec'], x['text_tokens'], query_vec, max_keyword_cnt = 30), axis=1)"
   ]
  },
  {
   "cell_type": "code",
   "execution_count": 16,
   "id": "384f13cf",
   "metadata": {},
   "outputs": [
    {
     "name": "stdout",
     "output_type": "stream",
     "text": [
      "25.5 s ± 154 ms per loop (mean ± std. dev. of 7 runs, 1 loop each)\n"
     ]
    }
   ],
   "source": [
    "%timeit final_df['keywords_use'] = final_df.apply(lambda x:get_sent_transformers_keywords_use(x['keywords'], query_vec, max_keyword_cnt = 30), axis=1)"
   ]
  },
  {
   "cell_type": "code",
   "execution_count": 17,
   "id": "1e0c3fb6",
   "metadata": {},
   "outputs": [
    {
     "name": "stdout",
     "output_type": "stream",
     "text": [
      "943 ms ± 43.3 ms per loop (mean ± std. dev. of 7 runs, 1 loop each)\n"
     ]
    }
   ],
   "source": [
    "%timeit final_df['keywords_rdb'] = final_df.apply(lambda x:get_sent_transformers_keywords_redis(x['keywords'], query_vec, max_keyword_cnt = 30), axis=1)"
   ]
  },
  {
   "cell_type": "code",
   "execution_count": 24,
   "id": "ffc7fb7e",
   "metadata": {},
   "outputs": [],
   "source": [
    "final_df['candidate_pool'] = final_df.apply(lambda x:get_candidate_pool(x['keywords_use']), axis=1)"
   ]
  },
  {
   "cell_type": "code",
   "execution_count": 107,
   "id": "aa9602a5",
   "metadata": {},
   "outputs": [
    {
     "data": {
      "text/plain": [
       "[('Quantentechnologien', 0.99378365),\n",
       " ('der Quanteninformation', 0.621655),\n",
       " ('der Quantenphysik', 0.54227066),\n",
       " ('der Quantenkommunikation', 0.5379448),\n",
       " ('Quantenrepeater', 0.5358043),\n",
       " ('ein Quant', 0.50813645),\n",
       " ('QuNet', 0.42542356),\n",
       " ('sogenannter Quantenrepeater', 0.4179596),\n",
       " ('der sogenannter Quantenkommunikation', 0.3961449),\n",
       " ('Kommunikation', 0.36897558),\n",
       " ('der Bundestags-IT', 0.33925346),\n",
       " ('Cyberangriffe', 0.3357282),\n",
       " ('ein --abhörsicher Quantennetz', 0.3317344),\n",
       " ('Datensicherheit', 0.32892507),\n",
       " ('Kanzleramt', 0.31358832),\n",
       " ('der Datennetzwerk', 0.28580377),\n",
       " ('ein quantengesichert Videokonferenz', 0.26693088),\n",
       " ('Datenverbindung', 0.2649808),\n",
       " ('heterogen Netzwerke', 0.25009),\n",
       " ('übertragen Information', 0.2424685),\n",
       " ('sicher Kommunikationsnetz', 0.23277518),\n",
       " ('Bundesnetzbetreibern', 0.21559438),\n",
       " ('nicht auf mathematisch basiert Strategie', 0.21250601),\n",
       " ('der Forschungsministerium', 0.21107861),\n",
       " ('der neu Datenleitung', 0.1854986),\n",
       " ('zwei Bundeseinrichtung', 0.17096926),\n",
       " ('Sicherheitseinschränkungen', 0.15764159),\n",
       " ('der Sicherheitsprinzip', 0.15116769),\n",
       " ('der Nachrichtenagentur dpa', 0.13277975),\n",
       " ('Fraunhofer-Präsident Reimund Neugebauer', 0.033696257)]"
      ]
     },
     "execution_count": 107,
     "metadata": {},
     "output_type": "execute_result"
    }
   ],
   "source": [
    "get_sent_transformers_keywords(final_df.doc_repr_vec[0], final_df.text_tokens[0], query_vec, max_keyword_cnt = 30)"
   ]
  },
  {
   "cell_type": "code",
   "execution_count": 108,
   "id": "7b7d2f0c",
   "metadata": {},
   "outputs": [
    {
     "data": {
      "text/plain": [
       "[('Quantum Technology', 0.81225383),\n",
       " ('technological application', 0.576806),\n",
       " ('quantum system', 0.543468),\n",
       " ('quantum computer', 0.5308959),\n",
       " ('quantum communication', 0.520388),\n",
       " ('Quantum application', 0.5009754),\n",
       " ('quantum bit', 0.49300754),\n",
       " ('Quantum sensing', 0.49085987),\n",
       " ('quantum radar', 0.47127515),\n",
       " ('quantum physics', 0.4616241),\n",
       " ('Sciences', 0.432706),\n",
       " ('a compute unit', 0.3997519),\n",
       " ('Quantum Sensing\\xa0 Quantum sensing', 0.39084092),\n",
       " ('a quantum computer increase', 0.37369415),\n",
       " ('electronic warfare capability', 0.32418722),\n",
       " ('NAS', 0.31425458),\n",
       " ('two or more quantum object', 0.31178305),\n",
       " ('the Defense Science Board', 0.3003675),\n",
       " ('nuclear material', 0.29672897),\n",
       " ('military', 0.29387018),\n",
       " ('encode information', 0.2733398),\n",
       " ('military personnel', 0.24680126),\n",
       " ('military sensing', 0.23773894),\n",
       " ('Military Applications', 0.23499191),\n",
       " ('Defense Primer', 0.22897533),\n",
       " ('enhanced military capability', 0.2269738),\n",
       " ('the National Academy', 0.20023635),\n",
       " ('potential military application', 0.18395983),\n",
       " ('sea-base nuclear deterrent', 0.17599446),\n",
       " ('the most mature military application', 0.07346709)]"
      ]
     },
     "execution_count": 108,
     "metadata": {},
     "output_type": "execute_result"
    }
   ],
   "source": [
    "get_sent_transformers_keywords(final_df.doc_repr_vec[1], final_df.text_tokens[1], query_vec, max_keyword_cnt = 30)"
   ]
  },
  {
   "cell_type": "code",
   "execution_count": 109,
   "id": "2bf0d579",
   "metadata": {},
   "outputs": [
    {
     "data": {
      "text/plain": [
       "[('Quantum computing', 0.6012658),\n",
       " ('the CERN Quantum Technology Initiative', 0.52976155),\n",
       " ('quantum annealing', 0.52378696),\n",
       " ('algorithm', 0.47221375),\n",
       " ('quantum machine learning', 0.4689152),\n",
       " ('quantum physics', 0.4616241),\n",
       " ('actual quantum computer', 0.45516345),\n",
       " ('important quantum algorithm', 0.43744746),\n",
       " ('quantum simulator', 0.42929018),\n",
       " ('quantum compute\\n       a series', 0.42479184),\n",
       " ('CERN', 0.40608716),\n",
       " ('quantum variational classifier', 0.39122272),\n",
       " ('the Computer Science Department', 0.38876498),\n",
       " ('the variational quantum eigensolver', 0.3828769),\n",
       " ('the IBM Quantum Experience', 0.3407883),\n",
       " ('the quantum circuit model', 0.33540055),\n",
       " ('quantum support vector machine', 0.3334496),\n",
       " ('(BB84, quantum teleportation', 0.32437554),\n",
       " ('CERN openlab', 0.31006056),\n",
       " ('chemistry simulation', 0.30911267),\n",
       " ('the University', 0.30006924),\n",
       " ('basic linear algebra', 0.2498492),\n",
       " ('new lecture', 0.24594848),\n",
       " ('weekly lecture', 0.24102129),\n",
       " ('high-energy physics problem', 0.20009351),\n",
       " ('no previous knowledge', 0.1883562),\n",
       " ('this course', 0.18772003),\n",
       " ('the Python programming language', 0.16821507),\n",
       " ('these open, free lecture', 0.09178554),\n",
       " ('the next seven week', 0.08678223)]"
      ]
     },
     "execution_count": 109,
     "metadata": {},
     "output_type": "execute_result"
    }
   ],
   "source": [
    "get_sent_transformers_keywords(final_df.doc_repr_vec[2], final_df.text_tokens[2], query_vec, max_keyword_cnt = 30)"
   ]
  },
  {
   "cell_type": "code",
   "execution_count": 110,
   "id": "e72fee2c",
   "metadata": {},
   "outputs": [
    {
     "data": {
      "text/plain": [
       "[('der Quanten-Eigenschaft', 0.6304775),\n",
       " ('jeglicher Quanten-System', 0.58393824),\n",
       " ('Quanten-Bits', 0.5657451),\n",
       " ('jeder Quantencomputer', 0.5396085),\n",
       " ('Quanten-Experimente', 0.51809406),\n",
       " ('Quanten-Forscher', 0.49203813),\n",
       " ('Qubits', 0.4644632),\n",
       " ('sodass echt Quantencomputing', 0.45882294),\n",
       " ('solcher Quanten-Bit', 0.43737507),\n",
       " ('mehr Zahlen-Variatione', 0.41835287),\n",
       " ('ein Quantencomputer-Forscher', 0.41234338),\n",
       " ('ihr Quantenzustand', 0.39938062),\n",
       " ('auch Qubits', 0.37025714),\n",
       " ('der Computer', 0.36913356),\n",
       " ('Strahlung', 0.35180277),\n",
       " ('Elektronen-Paar', 0.34524807),\n",
       " ('der Teilchenphysik', 0.33493495),\n",
       " ('selbst einiger Millisekunde', 0.31086254),\n",
       " ('Kosmische Strahlung', 0.30798897),\n",
       " ('geladen Elektronen-Paar', 0.30030715),\n",
       " ('ein solcher Qubit-Zustand', 0.2876907),\n",
       " ('konkret Wert', 0.27971432),\n",
       " ('natürlich Strahlung', 0.26929423),\n",
       " ('dunkel Materie', 0.26583263),\n",
       " ('wie sehr Strahlung', 0.25712907),\n",
       " ('bestrahlte Kupfer', 0.20833221),\n",
       " ('subatomar Partikel', 0.19769531),\n",
       " ('fantastisch Strahlungsdetektoren', 0.19227782),\n",
       " ('der Keller', 0.18073574),\n",
       " ('lediglich natürlich Strahlung', 0.16368839)]"
      ]
     },
     "execution_count": 110,
     "metadata": {},
     "output_type": "execute_result"
    }
   ],
   "source": [
    "get_sent_transformers_keywords(final_df.doc_repr_vec[3], final_df.text_tokens[3], query_vec, max_keyword_cnt = 30)"
   ]
  },
  {
   "cell_type": "code",
   "execution_count": 111,
   "id": "8766db97",
   "metadata": {},
   "outputs": [
    {
     "data": {
      "text/plain": [
       "[('the technology', 0.6901102),\n",
       " ('Quantum computing', 0.6012658),\n",
       " ('different quantum hardware technology', 0.58821034),\n",
       " ('computing', 0.558813),\n",
       " ('quantum algorithm', 0.5498059),\n",
       " ('quantum mechanic', 0.53955203),\n",
       " ('quantum compute hardware', 0.45082703),\n",
       " ('quantum annealer', 0.44582573),\n",
       " ('different quantum computer', 0.4437202),\n",
       " ('chemical engineering', 0.4329464),\n",
       " ('your own quantum algorithm', 0.40138796),\n",
       " ('expertise', 0.3959148),\n",
       " ('your algorithm', 0.38710028),\n",
       " ('material science', 0.3820883),\n",
       " ('computational problem', 0.38060182),\n",
       " ('quantum circuit simulator', 0.36164755),\n",
       " ('new skill', 0.35454324),\n",
       " ('IonQ.', 0.34593052),\n",
       " ('machine learning', 0.34333718),\n",
       " ('researcher', 0.32982093),\n",
       " ('discovery', 0.32080126),\n",
       " ('classical computer', 0.31379676),\n",
       " ('simulator', 0.30000114),\n",
       " ('a fully manage quantum computing service', 0.28985125),\n",
       " ('gate-base computer', 0.27467966),\n",
       " ('pre-build algorithm', 0.24240135),\n",
       " ('drug discovery', 0.2271811),\n",
       " ('Amazon Braket', 0.17335057),\n",
       " ('financial portfolio optimization', 0.1476241),\n",
       " ('these challenge', 0.12426405)]"
      ]
     },
     "execution_count": 111,
     "metadata": {},
     "output_type": "execute_result"
    }
   ],
   "source": [
    "get_sent_transformers_keywords(final_df.doc_repr_vec[4], final_df.text_tokens[4], query_vec, max_keyword_cnt = 30)"
   ]
  },
  {
   "cell_type": "markdown",
   "id": "a7c6d157",
   "metadata": {},
   "source": [
    "### 3. Clustering"
   ]
  },
  {
   "cell_type": "code",
   "execution_count": 136,
   "id": "3018ee2a",
   "metadata": {},
   "outputs": [],
   "source": [
    "final_candidate_pool = []\n",
    "\n",
    "for idx, row in final_df.iterrows():\n",
    "    final_candidate_pool.extend(row['candidate_pool'])"
   ]
  },
  {
   "cell_type": "code",
   "execution_count": 164,
   "id": "51201a21",
   "metadata": {},
   "outputs": [],
   "source": [
    "def get_umap_output(vec_array, dim_size=5):\n",
    "    \n",
    "    umap_obj = umap.UMAP(n_neighbors=40, \n",
    "                        n_components=dim_size, \n",
    "                        min_dist=0.01,\n",
    "                        metric='cosine',\n",
    "                        random_state=123).fit(vec_array) \n",
    "    \n",
    "    umap_output = umap_obj.transform(vec_array) \n",
    "    return umap_output, umap_obj\n",
    "\n",
    "def get_hdbscan_output(data_points, cluster_size=7):\n",
    "    \n",
    "    hdbscan_output = hdbscan.HDBSCAN(\n",
    "        #min_cluster_size=cluster_size,\n",
    "#                                       min_samples=2,\n",
    "                                      metric='euclidean',\n",
    "                                     cluster_selection_method='eom').fit(data_points)\n",
    "    return hdbscan_output\n",
    "\n",
    "def project_on_2Dplane(umap_output, cluster_ids):\n",
    "    \n",
    "    umap_df = pd.DataFrame(np.column_stack((umap_output, cluster_ids)), columns=['x', 'y', 'cluster ids'])\n",
    "    grid = sns.FacetGrid(umap_df, hue='cluster ids', height=7)\n",
    "    grid.map(plt.scatter, 'x', 'y').add_legend()"
   ]
  },
  {
   "cell_type": "code",
   "execution_count": 137,
   "id": "b11ccad2",
   "metadata": {},
   "outputs": [],
   "source": [
    "final_candidate_pool_vecs = [tf_model(nc)['outputs'].numpy()[0] for nc in final_candidate_pool]"
   ]
  },
  {
   "cell_type": "code",
   "execution_count": 142,
   "id": "590ef3b8",
   "metadata": {},
   "outputs": [
    {
     "data": {
      "text/html": [
       "<div>\n",
       "<style scoped>\n",
       "    .dataframe tbody tr th:only-of-type {\n",
       "        vertical-align: middle;\n",
       "    }\n",
       "\n",
       "    .dataframe tbody tr th {\n",
       "        vertical-align: top;\n",
       "    }\n",
       "\n",
       "    .dataframe thead th {\n",
       "        text-align: right;\n",
       "    }\n",
       "</style>\n",
       "<table border=\"1\" class=\"dataframe\">\n",
       "  <thead>\n",
       "    <tr style=\"text-align: right;\">\n",
       "      <th></th>\n",
       "      <th>candidate_words</th>\n",
       "      <th>candidate_vecs</th>\n",
       "    </tr>\n",
       "  </thead>\n",
       "  <tbody>\n",
       "    <tr>\n",
       "      <th>85</th>\n",
       "      <td>der  Ionenfallen-Computer</td>\n",
       "      <td>[-0.021121925, -0.0335759, -0.041325208, -0.01...</td>\n",
       "    </tr>\n",
       "    <tr>\n",
       "      <th>68</th>\n",
       "      <td>machine learning</td>\n",
       "      <td>[-0.008927658, -0.025966378, -0.034051377, 0.0...</td>\n",
       "    </tr>\n",
       "  </tbody>\n",
       "</table>\n",
       "</div>"
      ],
      "text/plain": [
       "              candidate_words  \\\n",
       "85  der  Ionenfallen-Computer   \n",
       "68           machine learning   \n",
       "\n",
       "                                       candidate_vecs  \n",
       "85  [-0.021121925, -0.0335759, -0.041325208, -0.01...  \n",
       "68  [-0.008927658, -0.025966378, -0.034051377, 0.0...  "
      ]
     },
     "execution_count": 142,
     "metadata": {},
     "output_type": "execute_result"
    }
   ],
   "source": [
    "df_data = []\n",
    "for word, vec in zip(final_candidate_pool, final_candidate_pool_vecs):\n",
    "    df_data.append((word, vec))\n",
    "\n",
    "cluster_df = pd.DataFrame(df_data, columns= ['candidate_words', 'candidate_vecs'])\n",
    "cluster_df.sample(2)"
   ]
  },
  {
   "cell_type": "code",
   "execution_count": 182,
   "id": "21ab75f3",
   "metadata": {},
   "outputs": [],
   "source": [
    "def get_clustering_analysis(dimen_size=5, cluster_size=7):\n",
    "    \n",
    "    umap_output_5, umap_5 = get_umap_output(final_candidate_pool_vecs, dim_size=dimen_size)\n",
    "    hdbscan_output = get_hdbscan_output(umap_output_5, cluster_size=cluster_size)\n",
    "    \n",
    "    cluster_df['cluster_id'] = hdbscan_output.labels_\n",
    "    cluster_df.cluster_id.hist(bins=150)\n",
    "    \n",
    "    umap_output_2, umap_2 = get_umap_output(final_candidate_pool_vecs, dim_size=2)\n",
    "    project_on_2Dplane(umap_output_2, cluster_df['cluster_id'])"
   ]
  },
  {
   "cell_type": "code",
   "execution_count": 165,
   "id": "fe8a1624",
   "metadata": {},
   "outputs": [
    {
     "data": {
      "image/png": "[encoded data removed]",
      "text/plain": [
       "<Figure size 640x480 with 1 Axes>"
      ]
     },
     "metadata": {},
     "output_type": "display_data"
    },
    {
     "data": {
      "image/png": "[encoded data removed]",
      "text/plain": [
       "<Figure size 782.486x700 with 1 Axes>"
      ]
     },
     "metadata": {},
     "output_type": "display_data"
    }
   ],
   "source": [
    "get_clustering_analysis(dimen_size=5, cluster_size=8)"
   ]
  },
  {
   "cell_type": "code",
   "execution_count": 188,
   "id": "a7803650",
   "metadata": {},
   "outputs": [],
   "source": [
    "# cluster_df.cluster_id.value_counts()"
   ]
  },
  {
   "cell_type": "code",
   "execution_count": 175,
   "id": "17b581dc",
   "metadata": {},
   "outputs": [],
   "source": [
    "cluster_data = []\n",
    "\n",
    "for cluster_id in set(cluster_df.cluster_id.values):\n",
    "    \n",
    "    if cluster_id != -1:\n",
    "        df = cluster_df[cluster_df['cluster_id'] == cluster_id]\n",
    "        cluster_data.append((cluster_id, df.candidate_words.values, df.candidate_vecs.values))"
   ]
  },
  {
   "cell_type": "code",
   "execution_count": 176,
   "id": "350edf31",
   "metadata": {},
   "outputs": [
    {
     "data": {
      "text/html": [
       "<div>\n",
       "<style scoped>\n",
       "    .dataframe tbody tr th:only-of-type {\n",
       "        vertical-align: middle;\n",
       "    }\n",
       "\n",
       "    .dataframe tbody tr th {\n",
       "        vertical-align: top;\n",
       "    }\n",
       "\n",
       "    .dataframe thead th {\n",
       "        text-align: right;\n",
       "    }\n",
       "</style>\n",
       "<table border=\"1\" class=\"dataframe\">\n",
       "  <thead>\n",
       "    <tr style=\"text-align: right;\">\n",
       "      <th></th>\n",
       "      <th>cluster_id</th>\n",
       "      <th>candidate_words</th>\n",
       "      <th>candidate_vecs</th>\n",
       "    </tr>\n",
       "  </thead>\n",
       "  <tbody>\n",
       "    <tr>\n",
       "      <th>8</th>\n",
       "      <td>8</td>\n",
       "      <td>[electronic warfare capability, military, mili...</td>\n",
       "      <td>[[0.017449051, 0.068132706, 0.029964415, 0.002...</td>\n",
       "    </tr>\n",
       "    <tr>\n",
       "      <th>7</th>\n",
       "      <td>7</td>\n",
       "      <td>[chemistry simulation, simulator, Simulation, ...</td>\n",
       "      <td>[[-0.05543056, 0.008927665, -0.016811466, -0.0...</td>\n",
       "    </tr>\n",
       "  </tbody>\n",
       "</table>\n",
       "</div>"
      ],
      "text/plain": [
       "   cluster_id                                    candidate_words  \\\n",
       "8           8  [electronic warfare capability, military, mili...   \n",
       "7           7  [chemistry simulation, simulator, Simulation, ...   \n",
       "\n",
       "                                      candidate_vecs  \n",
       "8  [[0.017449051, 0.068132706, 0.029964415, 0.002...  \n",
       "7  [[-0.05543056, 0.008927665, -0.016811466, -0.0...  "
      ]
     },
     "execution_count": 176,
     "metadata": {},
     "output_type": "execute_result"
    }
   ],
   "source": [
    "cluster_data_df = pd.DataFrame(cluster_data, columns=['cluster_id', 'candidate_words', 'candidate_vecs'])\n",
    "cluster_data_df.sample(2)"
   ]
  },
  {
   "cell_type": "markdown",
   "id": "9b8f3d43",
   "metadata": {},
   "source": [
    "### 4. Topic assignment"
   ]
  },
  {
   "cell_type": "code",
   "execution_count": 189,
   "id": "844065b1",
   "metadata": {},
   "outputs": [],
   "source": [
    "def get_nearest_keyword(keywords, keyword_vecs, mean_vec):\n",
    "    \n",
    "    query_distances = cosine_similarity([mean_vec], list(keyword_vecs))\n",
    "    subtopic_keywords_dict = dict()\n",
    "    for index in query_distances.argsort()[0]: \n",
    "        \n",
    "        subtopic_keywords_dict[keywords[index]] = query_distances[0][index]\n",
    "    \n",
    "    subtopic_keywords_dict = sorted(subtopic_keywords_dict.items(), key=lambda x: x[1], reverse=True)\n",
    "    return subtopic_keywords_dict[0][0]"
   ]
  },
  {
   "cell_type": "code",
   "execution_count": 177,
   "id": "f52a3227",
   "metadata": {},
   "outputs": [],
   "source": [
    "cluster_data_df['mean_vec'] = cluster_data_df.apply(lambda x:get_pool_vec(x['candidate_vecs'], 'mean'), axis=1)"
   ]
  },
  {
   "cell_type": "code",
   "execution_count": 184,
   "id": "adb7f2f6",
   "metadata": {},
   "outputs": [],
   "source": [
    "cluster_data_df['topic'] = cluster_data_df.apply(lambda x:get_nearest_keyword(x['candidate_words'], x['candidate_vecs'], x['mean_vec']), axis=1)"
   ]
  },
  {
   "cell_type": "code",
   "execution_count": 187,
   "id": "1e5da20f",
   "metadata": {},
   "outputs": [
    {
     "data": {
      "text/html": [
       "<div>\n",
       "<style scoped>\n",
       "    .dataframe tbody tr th:only-of-type {\n",
       "        vertical-align: middle;\n",
       "    }\n",
       "\n",
       "    .dataframe tbody tr th {\n",
       "        vertical-align: top;\n",
       "    }\n",
       "\n",
       "    .dataframe thead th {\n",
       "        text-align: right;\n",
       "    }\n",
       "</style>\n",
       "<table border=\"1\" class=\"dataframe\">\n",
       "  <thead>\n",
       "    <tr style=\"text-align: right;\">\n",
       "      <th></th>\n",
       "      <th>cluster_id</th>\n",
       "      <th>candidate_words</th>\n",
       "      <th>topic</th>\n",
       "    </tr>\n",
       "  </thead>\n",
       "  <tbody>\n",
       "    <tr>\n",
       "      <th>0</th>\n",
       "      <td>0</td>\n",
       "      <td>[the IBM Quantum Experience, Intel, IBM, der I...</td>\n",
       "      <td>IBM</td>\n",
       "    </tr>\n",
       "    <tr>\n",
       "      <th>1</th>\n",
       "      <td>1</td>\n",
       "      <td>[der Bundestags-IT, Kanzleramt, NAS, the Natio...</td>\n",
       "      <td>der BSI</td>\n",
       "    </tr>\n",
       "    <tr>\n",
       "      <th>2</th>\n",
       "      <td>2</td>\n",
       "      <td>[nicht auf mathematisch basiert Strategie, bas...</td>\n",
       "      <td>solcher Algorithm</td>\n",
       "    </tr>\n",
       "    <tr>\n",
       "      <th>3</th>\n",
       "      <td>3</td>\n",
       "      <td>[Cyberangriffe, Datensicherheit, der Datennetz...</td>\n",
       "      <td>der Datennetzwerk</td>\n",
       "    </tr>\n",
       "    <tr>\n",
       "      <th>4</th>\n",
       "      <td>4</td>\n",
       "      <td>[der sogenannter Quantenkommunikation, ein --a...</td>\n",
       "      <td>ein quantensicher Verbindung</td>\n",
       "    </tr>\n",
       "    <tr>\n",
       "      <th>5</th>\n",
       "      <td>5</td>\n",
       "      <td>[elektronisch nulldimensional Quantenpunkte, G...</td>\n",
       "      <td>--nulldimensional-- Quantenpunkte</td>\n",
       "    </tr>\n",
       "    <tr>\n",
       "      <th>6</th>\n",
       "      <td>6</td>\n",
       "      <td>[Quantum Sensing  Quantum sensing, the variati...</td>\n",
       "      <td>Quantum Sensing  Quantum sensing</td>\n",
       "    </tr>\n",
       "    <tr>\n",
       "      <th>7</th>\n",
       "      <td>7</td>\n",
       "      <td>[chemistry simulation, simulator, Simulation, ...</td>\n",
       "      <td>simulator</td>\n",
       "    </tr>\n",
       "    <tr>\n",
       "      <th>8</th>\n",
       "      <td>8</td>\n",
       "      <td>[electronic warfare capability, military, mili...</td>\n",
       "      <td>military</td>\n",
       "    </tr>\n",
       "    <tr>\n",
       "      <th>9</th>\n",
       "      <td>9</td>\n",
       "      <td>[Elektronen-Paar, der Teilchenphysik, geladen ...</td>\n",
       "      <td>der Teilchenphysik</td>\n",
       "    </tr>\n",
       "    <tr>\n",
       "      <th>10</th>\n",
       "      <td>10</td>\n",
       "      <td>[a fully manage quantum computing service, a f...</td>\n",
       "      <td>-- verteilt Quantencomputer-Berechnunge</td>\n",
       "    </tr>\n",
       "    <tr>\n",
       "      <th>11</th>\n",
       "      <td>11</td>\n",
       "      <td>[the Computer Science Department, der Computer...</td>\n",
       "      <td>Heutige Computer</td>\n",
       "    </tr>\n",
       "    <tr>\n",
       "      <th>12</th>\n",
       "      <td>12</td>\n",
       "      <td>[Entwickler, der Programmierung, der meister E...</td>\n",
       "      <td>der führend Entwickler</td>\n",
       "    </tr>\n",
       "    <tr>\n",
       "      <th>13</th>\n",
       "      <td>13</td>\n",
       "      <td>[Strahlung, Kosmische Strahlung, natürlich Str...</td>\n",
       "      <td>der Weltraum</td>\n",
       "    </tr>\n",
       "    <tr>\n",
       "      <th>14</th>\n",
       "      <td>14</td>\n",
       "      <td>[ein vielfache, ein vielfache, noch mehr Mensc...</td>\n",
       "      <td>ein vielfache</td>\n",
       "    </tr>\n",
       "    <tr>\n",
       "      <th>15</th>\n",
       "      <td>15</td>\n",
       "      <td>[selbst einiger Millisekunde, tausend-- wenn n...</td>\n",
       "      <td>1 Million Qubit</td>\n",
       "    </tr>\n",
       "    <tr>\n",
       "      <th>16</th>\n",
       "      <td>16</td>\n",
       "      <td>[the Defense Science Board, material science, ...</td>\n",
       "      <td>material science</td>\n",
       "    </tr>\n",
       "    <tr>\n",
       "      <th>17</th>\n",
       "      <td>17</td>\n",
       "      <td>[discovery, drug discovery, Medikament, der Ph...</td>\n",
       "      <td>drug discovery</td>\n",
       "    </tr>\n",
       "    <tr>\n",
       "      <th>18</th>\n",
       "      <td>18</td>\n",
       "      <td>[der Forschungsministerium, new lecture, weekl...</td>\n",
       "      <td>Forscher</td>\n",
       "    </tr>\n",
       "  </tbody>\n",
       "</table>\n",
       "</div>"
      ],
      "text/plain": [
       "    cluster_id                                    candidate_words  \\\n",
       "0            0  [the IBM Quantum Experience, Intel, IBM, der I...   \n",
       "1            1  [der Bundestags-IT, Kanzleramt, NAS, the Natio...   \n",
       "2            2  [nicht auf mathematisch basiert Strategie, bas...   \n",
       "3            3  [Cyberangriffe, Datensicherheit, der Datennetz...   \n",
       "4            4  [der sogenannter Quantenkommunikation, ein --a...   \n",
       "5            5  [elektronisch nulldimensional Quantenpunkte, G...   \n",
       "6            6  [Quantum Sensing  Quantum sensing, the variati...   \n",
       "7            7  [chemistry simulation, simulator, Simulation, ...   \n",
       "8            8  [electronic warfare capability, military, mili...   \n",
       "9            9  [Elektronen-Paar, der Teilchenphysik, geladen ...   \n",
       "10          10  [a fully manage quantum computing service, a f...   \n",
       "11          11  [the Computer Science Department, der Computer...   \n",
       "12          12  [Entwickler, der Programmierung, der meister E...   \n",
       "13          13  [Strahlung, Kosmische Strahlung, natürlich Str...   \n",
       "14          14  [ein vielfache, ein vielfache, noch mehr Mensc...   \n",
       "15          15  [selbst einiger Millisekunde, tausend-- wenn n...   \n",
       "16          16  [the Defense Science Board, material science, ...   \n",
       "17          17  [discovery, drug discovery, Medikament, der Ph...   \n",
       "18          18  [der Forschungsministerium, new lecture, weekl...   \n",
       "\n",
       "                                      topic  \n",
       "0                                       IBM  \n",
       "1                                   der BSI  \n",
       "2                         solcher Algorithm  \n",
       "3                         der Datennetzwerk  \n",
       "4              ein quantensicher Verbindung  \n",
       "5         --nulldimensional-- Quantenpunkte  \n",
       "6          Quantum Sensing  Quantum sensing  \n",
       "7                                 simulator  \n",
       "8                                  military  \n",
       "9                        der Teilchenphysik  \n",
       "10  -- verteilt Quantencomputer-Berechnunge  \n",
       "11                         Heutige Computer  \n",
       "12                   der führend Entwickler  \n",
       "13                             der Weltraum  \n",
       "14                            ein vielfache  \n",
       "15                          1 Million Qubit  \n",
       "16                         material science  \n",
       "17                           drug discovery  \n",
       "18                                 Forscher  "
      ]
     },
     "execution_count": 187,
     "metadata": {},
     "output_type": "execute_result"
    }
   ],
   "source": [
    "cluster_data_df[['cluster_id', 'candidate_words', 'topic']]"
   ]
  }
 ],
 "metadata": {
  "kernelspec": {
   "display_name": "Python 3 (ipykernel)",
   "language": "python",
   "name": "python3"
  },
  "language_info": {
   "codemirror_mode": {
    "name": "ipython",
    "version": 3
   },
   "file_extension": ".py",
   "mimetype": "text/x-python",
   "name": "python",
   "nbconvert_exporter": "python",
   "pygments_lexer": "ipython3",
   "version": "3.7.9"
  }
 },
 "nbformat": 4,
 "nbformat_minor": 5
}
