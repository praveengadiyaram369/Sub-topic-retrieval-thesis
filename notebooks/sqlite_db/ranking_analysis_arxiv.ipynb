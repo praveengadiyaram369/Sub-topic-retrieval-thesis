{
 "cells": [
  {
   "cell_type": "markdown",
   "id": "0d85ea1e",
   "metadata": {},
   "source": [
    "# Co-relation analysis with arXiv abstracts"
   ]
  },
  {
   "cell_type": "code",
   "execution_count": 50,
   "id": "f4c7568d",
   "metadata": {},
   "outputs": [],
   "source": [
    "import sqlite3\n",
    "import os\n",
    "import pandas as pd\n",
    "import numpy as np\n",
    "import math\n",
    "\n",
    "import json\n",
    "\n",
    "import pickle\n",
    "from sklearn.metrics.pairwise import cosine_similarity\n",
    "from sklearn.metrics import ndcg_score\n",
    "\n",
    "import warnings\n",
    "warnings.filterwarnings('ignore')"
   ]
  },
  {
   "cell_type": "code",
   "execution_count": 147,
   "id": "5f334388",
   "metadata": {},
   "outputs": [],
   "source": [
    "query = 'robotik'\n",
    "query_updated = query.lower().replace(' ', '_')\n",
    "\n",
    "with open(f'search_results_index/{query_updated}_bm25_result.json', 'r') as f:\n",
    "    bm25_ranking = json.load(f)\n",
    "\n",
    "with open(f'search_results_index/{query_updated}_semantic_result.json', 'r') as f:\n",
    "    semantic_ranking = json.load(f)\n",
    "\n",
    "dataframe_folder_path = f'dataframes/{query.lower()}/'\n",
    "results_folder_path = f'results/{query.lower()}/'\n",
    "\n",
    "final_df_filepath = dataframe_folder_path+'final_df.pkl'\n",
    "arxiv_query_df_filepath = dataframe_folder_path+'arxiv_query_tf_df.pkl'\n",
    "\n",
    "ndcg_results_filepath = results_folder_path+f'{query_updated}_ndcg_results.csv'\n",
    "correlation_results_filepath = results_folder_path+f'{query_updated}_correlation_results.csv'\n",
    "\n",
    "if not os.path.isdir(results_folder_path):\n",
    "    os.mkdir(results_folder_path)\n",
    "    \n",
    "ndcg_results = []\n",
    "correal_results = []"
   ]
  },
  {
   "cell_type": "code",
   "execution_count": 148,
   "id": "3f5d3bc8",
   "metadata": {},
   "outputs": [],
   "source": [
    "final_df = pd.read_pickle(final_df_filepath)\n",
    "arxiv_query_df = pd.read_pickle(arxiv_query_df_filepath)"
   ]
  },
  {
   "cell_type": "code",
   "execution_count": 149,
   "id": "0c653985",
   "metadata": {},
   "outputs": [],
   "source": [
    "def transform_gt_rank(rank):\n",
    "    \n",
    "    if rank == 1:\n",
    "        return 3\n",
    "    elif rank == 2:\n",
    "        return 2\n",
    "    elif rank == 3:\n",
    "        return 1\n",
    "    elif rank == 4:\n",
    "        return 0\n",
    "    \n",
    "def transform_gt_rank_new(rank):\n",
    "    \n",
    "    if rank == 3:\n",
    "        return 3\n",
    "    elif rank == 2:\n",
    "        return 2\n",
    "    elif rank == 0:\n",
    "        return 1\n",
    "    \n",
    "def get_rank_from_rank_df(idx):\n",
    "    return arxiv_query_df[arxiv_query_df['id'] == idx]['gt_rank'].values[0]"
   ]
  },
  {
   "cell_type": "code",
   "execution_count": 150,
   "id": "ba1116cc",
   "metadata": {},
   "outputs": [],
   "source": [
    "final_df['gt_rank'] = final_df.apply(lambda x:transform_gt_rank(x['gt_rank']), axis=1)"
   ]
  },
  {
   "cell_type": "code",
   "execution_count": 151,
   "id": "7068d6e3",
   "metadata": {},
   "outputs": [
    {
     "data": {
      "text/plain": [
       "2    13\n",
       "3     9\n",
       "1     7\n",
       "Name: gt_rank, dtype: int64"
      ]
     },
     "execution_count": 151,
     "metadata": {},
     "output_type": "execute_result"
    }
   ],
   "source": [
    "final_df['gt_rank'].value_counts()"
   ]
  },
  {
   "cell_type": "code",
   "execution_count": 152,
   "id": "416d9eec",
   "metadata": {},
   "outputs": [
    {
     "data": {
      "text/html": [
       "<div>\n",
       "<style scoped>\n",
       "    .dataframe tbody tr th:only-of-type {\n",
       "        vertical-align: middle;\n",
       "    }\n",
       "\n",
       "    .dataframe tbody tr th {\n",
       "        vertical-align: top;\n",
       "    }\n",
       "\n",
       "    .dataframe thead th {\n",
       "        text-align: right;\n",
       "    }\n",
       "</style>\n",
       "<table border=\"1\" class=\"dataframe\">\n",
       "  <thead>\n",
       "    <tr style=\"text-align: right;\">\n",
       "      <th></th>\n",
       "      <th>id</th>\n",
       "      <th>gt_rank</th>\n",
       "    </tr>\n",
       "  </thead>\n",
       "  <tbody>\n",
       "    <tr>\n",
       "      <th>14</th>\n",
       "      <td>210705_news_324381</td>\n",
       "      <td>3</td>\n",
       "    </tr>\n",
       "    <tr>\n",
       "      <th>8</th>\n",
       "      <td>210705_news_230374</td>\n",
       "      <td>3</td>\n",
       "    </tr>\n",
       "  </tbody>\n",
       "</table>\n",
       "</div>"
      ],
      "text/plain": [
       "                    id  gt_rank\n",
       "14  210705_news_324381        3\n",
       "8   210705_news_230374        3"
      ]
     },
     "execution_count": 152,
     "metadata": {},
     "output_type": "execute_result"
    }
   ],
   "source": [
    "gt_rank_df = final_df[['id', 'gt_rank']].sort_values('gt_rank', ascending=False)\n",
    "gt_rank_df.head(2)"
   ]
  },
  {
   "cell_type": "markdown",
   "id": "ece7b055",
   "metadata": {},
   "source": [
    "# Performance evaluation using nDCG\n",
    "\n",
    "1. BM25\n",
    "2. Semantic search"
   ]
  },
  {
   "cell_type": "code",
   "execution_count": 153,
   "id": "91b1a61e",
   "metadata": {},
   "outputs": [],
   "source": [
    "bm25_doc_list = []\n",
    "semantic_doc_list = []\n",
    "\n",
    "for key, item in bm25_ranking.items():\n",
    "    bm25_doc_list.append(item)\n",
    "\n",
    "for key, item in semantic_ranking.items():\n",
    "    semantic_doc_list.append(item)"
   ]
  },
  {
   "cell_type": "code",
   "execution_count": 154,
   "id": "8a7513a7",
   "metadata": {},
   "outputs": [],
   "source": [
    "gt_rank_bm25_df = gt_rank_df[gt_rank_df['id'].isin(bm25_doc_list)]\n",
    "gt_rank_semantic_df = gt_rank_df[gt_rank_df['id'].isin(semantic_doc_list)]"
   ]
  },
  {
   "cell_type": "code",
   "execution_count": 155,
   "id": "d819c485",
   "metadata": {},
   "outputs": [],
   "source": [
    "def get_gt_ranking(df):\n",
    "    return df.gt_rank.values\n",
    "\n",
    "def get_gt_rank_for_id(idx):\n",
    "    return gt_rank_df[gt_rank_df['id'] == idx]['gt_rank'].values[0]\n",
    "\n",
    "def get_bm25_semantic_relevance():\n",
    "    \n",
    "    bm25_relevance = []\n",
    "    semantic_relevance = []\n",
    "    \n",
    "    for key, item in bm25_ranking.items():\n",
    "        bm25_relevance.append(get_gt_rank_for_id(item))\n",
    "        \n",
    "    for key, item in semantic_ranking.items():\n",
    "        semantic_relevance.append(get_gt_rank_for_id(item))\n",
    "        \n",
    "    return np.asarray([bm25_relevance]), np.asarray([semantic_relevance])\n",
    "\n",
    "def get_ndcg_scores(true_ranking, predicted_ranking):\n",
    "    \n",
    "    ndcg_15 = ndcg_score(true_ranking, predicted_ranking, k=15)\n",
    "    ndcg_10 = ndcg_score(true_ranking, predicted_ranking, k=10)\n",
    "    ndcg_5 = ndcg_score(true_ranking, predicted_ranking, k=5)\n",
    "    \n",
    "    print(f'NDCG@15 -- {ndcg_15}')\n",
    "    print(f'NDCG@10 -- {ndcg_10}')\n",
    "    print(f'NDCG@5 -- {ndcg_5}')\n",
    "    \n",
    "    return (ndcg_15, ndcg_10, ndcg_5)"
   ]
  },
  {
   "cell_type": "code",
   "execution_count": 156,
   "id": "5d895a76",
   "metadata": {},
   "outputs": [],
   "source": [
    "true_relevance_bm25 = np.asarray([get_gt_ranking(gt_rank_bm25_df)])\n",
    "true_relevance_semantic = np.asarray([get_gt_ranking(gt_rank_semantic_df)])\n",
    "\n",
    "bm25_relevance, semantc_relevance = get_bm25_semantic_relevance()"
   ]
  },
  {
   "cell_type": "code",
   "execution_count": 157,
   "id": "c8150657",
   "metadata": {},
   "outputs": [
    {
     "data": {
      "text/plain": [
       "array([[3, 3, 3, 2, 2, 2, 2, 2, 2, 1, 1, 1, 1, 1, 1]], dtype=int64)"
      ]
     },
     "execution_count": 157,
     "metadata": {},
     "output_type": "execute_result"
    }
   ],
   "source": [
    "true_relevance_bm25"
   ]
  },
  {
   "cell_type": "code",
   "execution_count": 158,
   "id": "d39a7214",
   "metadata": {},
   "outputs": [
    {
     "data": {
      "text/plain": [
       "array([[3, 3, 3, 3, 3, 3, 2, 2, 2, 2, 2, 2, 2, 1, 1]], dtype=int64)"
      ]
     },
     "execution_count": 158,
     "metadata": {},
     "output_type": "execute_result"
    }
   ],
   "source": [
    "true_relevance_semantic"
   ]
  },
  {
   "cell_type": "code",
   "execution_count": 159,
   "id": "e71b534c",
   "metadata": {},
   "outputs": [
    {
     "data": {
      "text/plain": [
       "array([[3, 3, 3, 3, 2, 2, 3, 2, 1, 2, 3, 2, 2, 2, 1]], dtype=int64)"
      ]
     },
     "execution_count": 159,
     "metadata": {},
     "output_type": "execute_result"
    }
   ],
   "source": [
    "semantc_relevance"
   ]
  },
  {
   "cell_type": "code",
   "execution_count": 160,
   "id": "23214429",
   "metadata": {},
   "outputs": [
    {
     "data": {
      "text/plain": [
       "array([[1, 1, 1, 1, 3, 2, 2, 3, 2, 1, 3, 1, 2, 2, 2]], dtype=int64)"
      ]
     },
     "execution_count": 160,
     "metadata": {},
     "output_type": "execute_result"
    }
   ],
   "source": [
    "bm25_relevance"
   ]
  },
  {
   "cell_type": "code",
   "execution_count": 161,
   "id": "0fe02595",
   "metadata": {},
   "outputs": [
    {
     "name": "stdout",
     "output_type": "stream",
     "text": [
      "NDCG@15 -- 0.8343759803568778\n",
      "NDCG@10 -- 0.673731805029147\n",
      "NDCG@5 -- 0.595158707838956\n"
     ]
    }
   ],
   "source": [
    "bm25_ndcg_results = get_ndcg_scores(true_relevance_bm25, bm25_relevance)\n",
    "ndcg_results.append((query, 'BM-25', bm25_ndcg_results[0], bm25_ndcg_results[1], bm25_ndcg_results[2]))"
   ]
  },
  {
   "cell_type": "code",
   "execution_count": 162,
   "id": "5d35b0bd",
   "metadata": {},
   "outputs": [
    {
     "name": "stdout",
     "output_type": "stream",
     "text": [
      "NDCG@15 -- 0.9617381426458651\n",
      "NDCG@10 -- 0.9253884151646965\n",
      "NDCG@5 -- 0.8888888888888887\n"
     ]
    }
   ],
   "source": [
    "semantic_ndcg_results = get_ndcg_scores(true_relevance_semantic, semantc_relevance)\n",
    "ndcg_results.append((query, 'Semantic', semantic_ndcg_results[0], semantic_ndcg_results[1], semantic_ndcg_results[2]))"
   ]
  },
  {
   "cell_type": "markdown",
   "id": "b3832bb5",
   "metadata": {},
   "source": [
    "# Arxiv dataset loading"
   ]
  },
  {
   "cell_type": "code",
   "execution_count": 163,
   "id": "4df9e9bf",
   "metadata": {},
   "outputs": [],
   "source": [
    "def query_docs(abstract):\n",
    "    \n",
    "    abstract = abstract.lower()\n",
    "    if 'quantum technology' in abstract:\n",
    "        return 1\n",
    "    return 0"
   ]
  },
  {
   "cell_type": "code",
   "execution_count": 164,
   "id": "124d926d",
   "metadata": {},
   "outputs": [],
   "source": [
    "# arxiv_query_df['quant_label'] = arxiv_query_df.apply(lambda x:query_docs(x['abstract']), axis=1)\n",
    "# arxiv_query_df = arxiv_query_df[arxiv_query_df['quant_label'] == 1]"
   ]
  },
  {
   "cell_type": "code",
   "execution_count": 165,
   "id": "217703dc",
   "metadata": {},
   "outputs": [],
   "source": [
    "# arxiv_query_df['lang'].value_counts()"
   ]
  },
  {
   "cell_type": "code",
   "execution_count": 166,
   "id": "5220b2fb",
   "metadata": {},
   "outputs": [],
   "source": [
    "# arxiv_query_df = arxiv_query_df[arxiv_query_df['abstract_len'] < 1000]\n",
    "# arxiv_query_df = arxiv_query_df[arxiv_query_df['abstract_len'] > 500]"
   ]
  },
  {
   "cell_type": "code",
   "execution_count": 167,
   "id": "b5a5f1e1",
   "metadata": {},
   "outputs": [],
   "source": [
    "# arxiv_query_df['abstract_len'] = arxiv_query_df.apply(lambda x:len(x['abstract']), axis=1)\n",
    "# arxiv_query_df['abstract_len'].hist()"
   ]
  },
  {
   "cell_type": "code",
   "execution_count": 168,
   "id": "b102d5d4",
   "metadata": {},
   "outputs": [],
   "source": [
    "# arxiv_query_df.abstract_len.describe()"
   ]
  },
  {
   "cell_type": "markdown",
   "id": "77afd20c",
   "metadata": {},
   "source": [
    "# I. Does manual labels correlate with arxiv abstracts? (cosine sim)\n",
    "\n",
    "1. Co-relation analyis between ranked result vectors and mean/max abstracts vectors\n",
    "2. Co-relation analyis between ranked result **noun-chunk** vectors and mean/max abstracts **noun-chunk** vectors\n",
    "3. Co-relation analyis between ranked result **keyword** vectors and mean/max abstracts **keyword** vectors\n",
    "4. Co-relation analyis between ranked result **paragraph** vectors and abstracts **summarization** vectors"
   ]
  },
  {
   "cell_type": "code",
   "execution_count": 169,
   "id": "18c9f027",
   "metadata": {},
   "outputs": [],
   "source": [
    "def get_modified_vectors(vec_data):\n",
    "    \n",
    "    new_data = []\n",
    "    for val in vec_data:\n",
    "        new_data.append(val)\n",
    "    \n",
    "    new_data = np.array(new_data).reshape(-1, 512)\n",
    "    return new_data\n",
    "\n",
    "def get_document_vec(text):\n",
    "    \n",
    "    return tf_model(text)['outputs'].numpy()[0].reshape(1, -1)\n",
    "\n",
    "def get_pool_vec(doc_vec_list, pool):\n",
    "    \n",
    "    doc_vec_list = get_modified_vectors(doc_vec_list)\n",
    "    if pool == 'mean':\n",
    "        return np.nanmean(doc_vec_list, axis=0)\n",
    "    elif pool == 'max':\n",
    "        return np.nanmax(doc_vec_list, axis=0)\n",
    "    \n",
    "def get_cosine_sim(vec_1, vec_2):\n",
    "    \n",
    "    return cosine_similarity(vec_1.reshape(1, -1), vec_2.reshape(1, -1))[0][0]"
   ]
  },
  {
   "cell_type": "code",
   "execution_count": 170,
   "id": "2bda2209",
   "metadata": {},
   "outputs": [],
   "source": [
    "mean_doc_vec = get_pool_vec(arxiv_query_df.doc_vec.values, pool='mean')\n",
    "max_doc_vec = get_pool_vec(arxiv_query_df.doc_vec.values, pool='max')"
   ]
  },
  {
   "cell_type": "code",
   "execution_count": 171,
   "id": "d21fcbe5",
   "metadata": {},
   "outputs": [],
   "source": [
    "final_df['mean_doc_sim'] = final_df.apply(lambda x:get_cosine_sim(x['doc_vec'], mean_doc_vec), axis=1)\n",
    "final_df['max_doc_sim'] = final_df.apply(lambda x:get_cosine_sim(x['doc_vec'], max_doc_vec), axis=1)"
   ]
  },
  {
   "cell_type": "code",
   "execution_count": 172,
   "id": "e385ef96",
   "metadata": {},
   "outputs": [
    {
     "data": {
      "text/plain": [
       "0.10951307978491295"
      ]
     },
     "execution_count": 172,
     "metadata": {},
     "output_type": "execute_result"
    }
   ],
   "source": [
    "mean_doc_cor = final_df['gt_rank'].corr(final_df['mean_doc_sim'], method='spearman')\n",
    "mean_doc_cor"
   ]
  },
  {
   "cell_type": "code",
   "execution_count": 173,
   "id": "041bb2d4",
   "metadata": {},
   "outputs": [
    {
     "data": {
      "text/plain": [
       "-0.03914960340136985"
      ]
     },
     "execution_count": 173,
     "metadata": {},
     "output_type": "execute_result"
    }
   ],
   "source": [
    "max_doc_cor = final_df['gt_rank'].corr(final_df['max_doc_sim'], method='spearman')\n",
    "max_doc_cor"
   ]
  },
  {
   "cell_type": "code",
   "execution_count": 174,
   "id": "1aa9b92c",
   "metadata": {},
   "outputs": [
    {
     "data": {
      "text/html": [
       "<div>\n",
       "<style scoped>\n",
       "    .dataframe tbody tr th:only-of-type {\n",
       "        vertical-align: middle;\n",
       "    }\n",
       "\n",
       "    .dataframe tbody tr th {\n",
       "        vertical-align: top;\n",
       "    }\n",
       "\n",
       "    .dataframe thead th {\n",
       "        text-align: right;\n",
       "    }\n",
       "</style>\n",
       "<table border=\"1\" class=\"dataframe\">\n",
       "  <thead>\n",
       "    <tr style=\"text-align: right;\">\n",
       "      <th></th>\n",
       "      <th>mean_doc_sim</th>\n",
       "      <th>max_doc_sim</th>\n",
       "    </tr>\n",
       "    <tr>\n",
       "      <th>gt_rank</th>\n",
       "      <th></th>\n",
       "      <th></th>\n",
       "    </tr>\n",
       "  </thead>\n",
       "  <tbody>\n",
       "    <tr>\n",
       "      <th>1</th>\n",
       "      <td>0.417297</td>\n",
       "      <td>0.101856</td>\n",
       "    </tr>\n",
       "    <tr>\n",
       "      <th>2</th>\n",
       "      <td>0.440970</td>\n",
       "      <td>0.102524</td>\n",
       "    </tr>\n",
       "    <tr>\n",
       "      <th>3</th>\n",
       "      <td>0.451104</td>\n",
       "      <td>0.098856</td>\n",
       "    </tr>\n",
       "  </tbody>\n",
       "</table>\n",
       "</div>"
      ],
      "text/plain": [
       "         mean_doc_sim  max_doc_sim\n",
       "gt_rank                           \n",
       "1            0.417297     0.101856\n",
       "2            0.440970     0.102524\n",
       "3            0.451104     0.098856"
      ]
     },
     "execution_count": 174,
     "metadata": {},
     "output_type": "execute_result"
    }
   ],
   "source": [
    "final_df[['gt_rank', 'mean_doc_sim', 'max_doc_sim']].groupby('gt_rank').mean()"
   ]
  },
  {
   "cell_type": "markdown",
   "id": "aee3d063",
   "metadata": {},
   "source": [
    "#### 2. Co-relation analyis between ranked result **noun-chunk** vectors and mean/max abstracts **noun-chunk** vectors"
   ]
  },
  {
   "cell_type": "code",
   "execution_count": 175,
   "id": "2480b9bb",
   "metadata": {},
   "outputs": [],
   "source": [
    "mean_doc_vec_nounchunk = get_pool_vec(arxiv_query_df.nounchunk_mean_vec.values, pool='mean')\n",
    "max_doc_vec_nounchunk = get_pool_vec(arxiv_query_df.nounchunk_mean_vec.values, pool='max')\n",
    "\n",
    "final_df['mean_sim_nounchunk'] = final_df.apply(lambda x:get_cosine_sim(x['nounchunk_mean_vec'], mean_doc_vec_nounchunk), axis=1)\n",
    "final_df['max_sim_nounchunk'] = final_df.apply(lambda x:get_cosine_sim(x['nounchunk_mean_vec'], max_doc_vec_nounchunk), axis=1)"
   ]
  },
  {
   "cell_type": "code",
   "execution_count": 176,
   "id": "05d67c07",
   "metadata": {},
   "outputs": [
    {
     "data": {
      "text/plain": [
       "-0.12485549192869304"
      ]
     },
     "execution_count": 176,
     "metadata": {},
     "output_type": "execute_result"
    }
   ],
   "source": [
    "mean_nounchunk_cor = final_df['gt_rank'].corr(final_df['mean_sim_nounchunk'], method='spearman')\n",
    "mean_nounchunk_cor"
   ]
  },
  {
   "cell_type": "code",
   "execution_count": 177,
   "id": "f23d60b0",
   "metadata": {},
   "outputs": [
    {
     "data": {
      "text/plain": [
       "0.053962966850536816"
      ]
     },
     "execution_count": 177,
     "metadata": {},
     "output_type": "execute_result"
    }
   ],
   "source": [
    "max_nounchunk_cor = final_df['gt_rank'].corr(final_df['max_sim_nounchunk'], method='spearman' )\n",
    "max_nounchunk_cor"
   ]
  },
  {
   "cell_type": "code",
   "execution_count": 178,
   "id": "fe4d40f3",
   "metadata": {},
   "outputs": [
    {
     "data": {
      "text/html": [
       "<div>\n",
       "<style scoped>\n",
       "    .dataframe tbody tr th:only-of-type {\n",
       "        vertical-align: middle;\n",
       "    }\n",
       "\n",
       "    .dataframe tbody tr th {\n",
       "        vertical-align: top;\n",
       "    }\n",
       "\n",
       "    .dataframe thead th {\n",
       "        text-align: right;\n",
       "    }\n",
       "</style>\n",
       "<table border=\"1\" class=\"dataframe\">\n",
       "  <thead>\n",
       "    <tr style=\"text-align: right;\">\n",
       "      <th></th>\n",
       "      <th>mean_sim_nounchunk</th>\n",
       "      <th>max_sim_nounchunk</th>\n",
       "    </tr>\n",
       "    <tr>\n",
       "      <th>gt_rank</th>\n",
       "      <th></th>\n",
       "      <th></th>\n",
       "    </tr>\n",
       "  </thead>\n",
       "  <tbody>\n",
       "    <tr>\n",
       "      <th>1</th>\n",
       "      <td>0.902752</td>\n",
       "      <td>0.510114</td>\n",
       "    </tr>\n",
       "    <tr>\n",
       "      <th>2</th>\n",
       "      <td>0.918923</td>\n",
       "      <td>0.526424</td>\n",
       "    </tr>\n",
       "    <tr>\n",
       "      <th>3</th>\n",
       "      <td>0.900972</td>\n",
       "      <td>0.515430</td>\n",
       "    </tr>\n",
       "  </tbody>\n",
       "</table>\n",
       "</div>"
      ],
      "text/plain": [
       "         mean_sim_nounchunk  max_sim_nounchunk\n",
       "gt_rank                                       \n",
       "1                  0.902752           0.510114\n",
       "2                  0.918923           0.526424\n",
       "3                  0.900972           0.515430"
      ]
     },
     "execution_count": 178,
     "metadata": {},
     "output_type": "execute_result"
    }
   ],
   "source": [
    "final_df[['gt_rank', 'mean_sim_nounchunk', 'max_sim_nounchunk']].groupby('gt_rank').mean()"
   ]
  },
  {
   "cell_type": "code",
   "execution_count": 179,
   "id": "5532c299",
   "metadata": {},
   "outputs": [
    {
     "data": {
      "text/html": [
       "<div>\n",
       "<style scoped>\n",
       "    .dataframe tbody tr th:only-of-type {\n",
       "        vertical-align: middle;\n",
       "    }\n",
       "\n",
       "    .dataframe tbody tr th {\n",
       "        vertical-align: top;\n",
       "    }\n",
       "\n",
       "    .dataframe thead th {\n",
       "        text-align: right;\n",
       "    }\n",
       "</style>\n",
       "<table border=\"1\" class=\"dataframe\">\n",
       "  <thead>\n",
       "    <tr style=\"text-align: right;\">\n",
       "      <th></th>\n",
       "      <th>id</th>\n",
       "      <th>mean_sim_nounchunk</th>\n",
       "    </tr>\n",
       "  </thead>\n",
       "  <tbody>\n",
       "    <tr>\n",
       "      <th>8</th>\n",
       "      <td>210705_news_230374</td>\n",
       "      <td>0.902723</td>\n",
       "    </tr>\n",
       "    <tr>\n",
       "      <th>12</th>\n",
       "      <td>210705_news_275343</td>\n",
       "      <td>0.932061</td>\n",
       "    </tr>\n",
       "  </tbody>\n",
       "</table>\n",
       "</div>"
      ],
      "text/plain": [
       "                    id  mean_sim_nounchunk\n",
       "8   210705_news_230374            0.902723\n",
       "12  210705_news_275343            0.932061"
      ]
     },
     "execution_count": 179,
     "metadata": {},
     "output_type": "execute_result"
    }
   ],
   "source": [
    "noun_chunk_scores_df = final_df[['id', 'mean_sim_nounchunk']]\n",
    "noun_chunk_scores_df.sample(2)"
   ]
  },
  {
   "cell_type": "code",
   "execution_count": 180,
   "id": "1d9e310e",
   "metadata": {},
   "outputs": [],
   "source": [
    "bm25_nounchunk_ranking_df = pd.concat([noun_chunk_scores_df.set_index('id'),gt_rank_bm25_df.set_index('id')], axis=1, join='inner').reset_index()\n",
    "semantic_nounchunk_ranking_df = pd.concat([noun_chunk_scores_df.set_index('id'),gt_rank_semantic_df.set_index('id')], axis=1, join='inner').reset_index()"
   ]
  },
  {
   "cell_type": "code",
   "execution_count": 181,
   "id": "4ea9636d",
   "metadata": {},
   "outputs": [],
   "source": [
    "bm25_nounchunk_ranking_df = bm25_nounchunk_ranking_df.sort_values(['mean_sim_nounchunk'], ascending=False)\n",
    "semantic_nounchunk_ranking_df = semantic_nounchunk_ranking_df.sort_values(['mean_sim_nounchunk'], ascending=False)"
   ]
  },
  {
   "cell_type": "code",
   "execution_count": 182,
   "id": "d451ed2e",
   "metadata": {},
   "outputs": [],
   "source": [
    "bm25_nc_relevance = np.asarray([get_gt_ranking(bm25_nounchunk_ranking_df)])\n",
    "semantic_nc_relevance = np.asarray([get_gt_ranking(semantic_nounchunk_ranking_df)])"
   ]
  },
  {
   "cell_type": "code",
   "execution_count": 183,
   "id": "e4dd71fb",
   "metadata": {},
   "outputs": [
    {
     "name": "stdout",
     "output_type": "stream",
     "text": [
      "NDCG@15 -- 0.826371681748925\n",
      "NDCG@10 -- 0.7250510793674484\n",
      "NDCG@5 -- 0.5745690876613313\n"
     ]
    }
   ],
   "source": [
    "bm25_nc_ndcg_results = get_ndcg_scores(true_relevance_bm25, bm25_nc_relevance)\n",
    "ndcg_results.append((query, 'BM-25 and Noun-chunk', bm25_nc_ndcg_results[0], bm25_nc_ndcg_results[1], bm25_nc_ndcg_results[2]))"
   ]
  },
  {
   "cell_type": "code",
   "execution_count": 184,
   "id": "e4550597",
   "metadata": {},
   "outputs": [
    {
     "name": "stdout",
     "output_type": "stream",
     "text": [
      "NDCG@15 -- 0.8702134212763282\n",
      "NDCG@10 -- 0.7602830880644119\n",
      "NDCG@5 -- 0.611111111111111\n"
     ]
    }
   ],
   "source": [
    "semantic_nc_ndcg_results = get_ndcg_scores(true_relevance_semantic, semantic_nc_relevance)\n",
    "ndcg_results.append((query, 'Semantic and Noun-chunk', semantic_nc_ndcg_results[0], semantic_nc_ndcg_results[1], semantic_nc_ndcg_results[2]))"
   ]
  },
  {
   "cell_type": "markdown",
   "id": "0eb92b6b",
   "metadata": {},
   "source": [
    "#### 3. Co-relation analyis between ranked result **keyword** vectors and mean/max abstracts **keyword** vectors"
   ]
  },
  {
   "cell_type": "code",
   "execution_count": 185,
   "id": "783197a6",
   "metadata": {},
   "outputs": [],
   "source": [
    "mean_doc_vec_keyword = get_pool_vec(arxiv_query_df.keyword_mean_vec.values, pool='mean')\n",
    "max_doc_vec_keyword = get_pool_vec(arxiv_query_df.keyword_mean_vec.values, pool='max')\n",
    "\n",
    "final_df['mean_sim_keyword'] = final_df.apply(lambda x:get_cosine_sim(x['keyword_mean_vec'], mean_doc_vec_keyword), axis=1)\n",
    "final_df['max_sim_keyword'] = final_df.apply(lambda x:get_cosine_sim(x['keyword_mean_vec'], max_doc_vec_keyword), axis=1)"
   ]
  },
  {
   "cell_type": "code",
   "execution_count": 186,
   "id": "e3891f40",
   "metadata": {},
   "outputs": [
    {
     "data": {
      "text/plain": [
       "-0.004232389556904848"
      ]
     },
     "execution_count": 186,
     "metadata": {},
     "output_type": "execute_result"
    }
   ],
   "source": [
    "mean_keyword_cor = final_df['gt_rank'].corr(final_df['mean_sim_keyword'], method='spearman')\n",
    "mean_keyword_cor"
   ]
  },
  {
   "cell_type": "code",
   "execution_count": 187,
   "id": "2b9f7dce",
   "metadata": {},
   "outputs": [
    {
     "data": {
      "text/plain": [
       "-0.09099637547345422"
      ]
     },
     "execution_count": 187,
     "metadata": {},
     "output_type": "execute_result"
    }
   ],
   "source": [
    "max_keyword_cor = final_df['gt_rank'].corr(final_df['max_sim_keyword'], method='spearman')\n",
    "max_keyword_cor"
   ]
  },
  {
   "cell_type": "code",
   "execution_count": 188,
   "id": "1edf2533",
   "metadata": {},
   "outputs": [],
   "source": [
    "# final_df[['gt_rank', 'mean_sim_keyword', 'max_sim_keyword']].sort_values('gt_rank')"
   ]
  },
  {
   "cell_type": "markdown",
   "id": "227fdf14",
   "metadata": {},
   "source": [
    "#### 4. Co-relation analyis between ranked result **paragraph** vectors and abstracts summarization vectors"
   ]
  },
  {
   "cell_type": "code",
   "execution_count": 189,
   "id": "f519c4b4",
   "metadata": {},
   "outputs": [
    {
     "data": {
      "text/plain": [
       "0.038620554706756745"
      ]
     },
     "execution_count": 189,
     "metadata": {},
     "output_type": "execute_result"
    }
   ],
   "source": [
    "mean_paragraph_cor = final_df['gt_rank'].corr(final_df['mean_sim_summ'], method='spearman')\n",
    "mean_paragraph_cor"
   ]
  },
  {
   "cell_type": "code",
   "execution_count": 190,
   "id": "3ad0d69d",
   "metadata": {},
   "outputs": [],
   "source": [
    "# final_df.to_pickle('dataframes/quantum_technologie/final_df.pkl')\n",
    "# quant_df.to_pickle('dataframes/quantum_technologie/quant_df.pkl')"
   ]
  },
  {
   "cell_type": "code",
   "execution_count": 191,
   "id": "a011a4c2",
   "metadata": {},
   "outputs": [
    {
     "data": {
      "text/html": [
       "<div>\n",
       "<style scoped>\n",
       "    .dataframe tbody tr th:only-of-type {\n",
       "        vertical-align: middle;\n",
       "    }\n",
       "\n",
       "    .dataframe tbody tr th {\n",
       "        vertical-align: top;\n",
       "    }\n",
       "\n",
       "    .dataframe thead th {\n",
       "        text-align: right;\n",
       "    }\n",
       "</style>\n",
       "<table border=\"1\" class=\"dataframe\">\n",
       "  <thead>\n",
       "    <tr style=\"text-align: right;\">\n",
       "      <th></th>\n",
       "      <th>Query</th>\n",
       "      <th>method</th>\n",
       "      <th>ndcg@15</th>\n",
       "      <th>ndcg@10</th>\n",
       "      <th>ndcg@5</th>\n",
       "    </tr>\n",
       "  </thead>\n",
       "  <tbody>\n",
       "    <tr>\n",
       "      <th>0</th>\n",
       "      <td>robotik</td>\n",
       "      <td>BM-25</td>\n",
       "      <td>0.834376</td>\n",
       "      <td>0.673732</td>\n",
       "      <td>0.595159</td>\n",
       "    </tr>\n",
       "    <tr>\n",
       "      <th>1</th>\n",
       "      <td>robotik</td>\n",
       "      <td>Semantic</td>\n",
       "      <td>0.961738</td>\n",
       "      <td>0.925388</td>\n",
       "      <td>0.888889</td>\n",
       "    </tr>\n",
       "    <tr>\n",
       "      <th>2</th>\n",
       "      <td>robotik</td>\n",
       "      <td>BM-25 and Noun-chunk</td>\n",
       "      <td>0.826372</td>\n",
       "      <td>0.725051</td>\n",
       "      <td>0.574569</td>\n",
       "    </tr>\n",
       "    <tr>\n",
       "      <th>3</th>\n",
       "      <td>robotik</td>\n",
       "      <td>Semantic and Noun-chunk</td>\n",
       "      <td>0.870213</td>\n",
       "      <td>0.760283</td>\n",
       "      <td>0.611111</td>\n",
       "    </tr>\n",
       "  </tbody>\n",
       "</table>\n",
       "</div>"
      ],
      "text/plain": [
       "     Query                   method   ndcg@15   ndcg@10    ndcg@5\n",
       "0  robotik                    BM-25  0.834376  0.673732  0.595159\n",
       "1  robotik                 Semantic  0.961738  0.925388  0.888889\n",
       "2  robotik     BM-25 and Noun-chunk  0.826372  0.725051  0.574569\n",
       "3  robotik  Semantic and Noun-chunk  0.870213  0.760283  0.611111"
      ]
     },
     "execution_count": 191,
     "metadata": {},
     "output_type": "execute_result"
    }
   ],
   "source": [
    "ndcg_df = pd.DataFrame(ndcg_results, columns=['Query', 'method', 'ndcg@15', 'ndcg@10', 'ndcg@5'])\n",
    "ndcg_df"
   ]
  },
  {
   "cell_type": "code",
   "execution_count": 192,
   "id": "d7e50e61",
   "metadata": {},
   "outputs": [],
   "source": [
    "ndcg_df.to_csv(ndcg_results_filepath, encoding='utf-8', index=False, sep='|')"
   ]
  },
  {
   "cell_type": "code",
   "execution_count": 193,
   "id": "acd7c00c",
   "metadata": {},
   "outputs": [
    {
     "data": {
      "text/html": [
       "<div>\n",
       "<style scoped>\n",
       "    .dataframe tbody tr th:only-of-type {\n",
       "        vertical-align: middle;\n",
       "    }\n",
       "\n",
       "    .dataframe tbody tr th {\n",
       "        vertical-align: top;\n",
       "    }\n",
       "\n",
       "    .dataframe thead th {\n",
       "        text-align: right;\n",
       "    }\n",
       "</style>\n",
       "<table border=\"1\" class=\"dataframe\">\n",
       "  <thead>\n",
       "    <tr style=\"text-align: right;\">\n",
       "      <th></th>\n",
       "      <th>Query</th>\n",
       "      <th>mean doc corr</th>\n",
       "      <th>max doc corr</th>\n",
       "      <th>mean nounchunk corr</th>\n",
       "      <th>max nounchunk corr</th>\n",
       "      <th>mean keyword corr</th>\n",
       "      <th>max keyword corr</th>\n",
       "      <th>mean paragraph corr</th>\n",
       "    </tr>\n",
       "  </thead>\n",
       "  <tbody>\n",
       "    <tr>\n",
       "      <th>0</th>\n",
       "      <td>robotik</td>\n",
       "      <td>0.109513</td>\n",
       "      <td>-0.03915</td>\n",
       "      <td>-0.124855</td>\n",
       "      <td>0.053963</td>\n",
       "      <td>-0.004232</td>\n",
       "      <td>-0.090996</td>\n",
       "      <td>0.038621</td>\n",
       "    </tr>\n",
       "  </tbody>\n",
       "</table>\n",
       "</div>"
      ],
      "text/plain": [
       "     Query  mean doc corr  max doc corr  mean nounchunk corr  \\\n",
       "0  robotik       0.109513      -0.03915            -0.124855   \n",
       "\n",
       "   max nounchunk corr  mean keyword corr  max keyword corr  \\\n",
       "0            0.053963          -0.004232         -0.090996   \n",
       "\n",
       "   mean paragraph corr  \n",
       "0             0.038621  "
      ]
     },
     "execution_count": 193,
     "metadata": {},
     "output_type": "execute_result"
    }
   ],
   "source": [
    "correal_results = [(query, mean_doc_cor, max_doc_cor, mean_nounchunk_cor, max_nounchunk_cor, mean_keyword_cor, max_keyword_cor, mean_paragraph_cor)]\n",
    "corr_df = pd.DataFrame(correal_results, columns=['Query', 'mean doc corr', 'max doc corr', 'mean nounchunk corr', 'max nounchunk corr', 'mean keyword corr', 'max keyword corr', 'mean paragraph corr'])\n",
    "corr_df"
   ]
  },
  {
   "cell_type": "code",
   "execution_count": 194,
   "id": "6a41e324",
   "metadata": {},
   "outputs": [],
   "source": [
    "corr_df.to_csv(correlation_results_filepath, encoding='utf-8', index=False, sep='|')"
   ]
  },
  {
   "cell_type": "markdown",
   "id": "8644a9ff",
   "metadata": {},
   "source": [
    "## II. Can arxiv abstracts be used for knowledge set creation? (related keywords)"
   ]
  },
  {
   "cell_type": "code",
   "execution_count": null,
   "id": "c3547fb9",
   "metadata": {},
   "outputs": [],
   "source": []
  }
 ],
 "metadata": {
  "kernelspec": {
   "display_name": "Python 3 (ipykernel)",
   "language": "python",
   "name": "python3"
  },
  "language_info": {
   "codemirror_mode": {
    "name": "ipython",
    "version": 3
   },
   "file_extension": ".py",
   "mimetype": "text/x-python",
   "name": "python",
   "nbconvert_exporter": "python",
   "pygments_lexer": "ipython3",
   "version": "3.7.9"
  }
 },
 "nbformat": 4,
 "nbformat_minor": 5
}
