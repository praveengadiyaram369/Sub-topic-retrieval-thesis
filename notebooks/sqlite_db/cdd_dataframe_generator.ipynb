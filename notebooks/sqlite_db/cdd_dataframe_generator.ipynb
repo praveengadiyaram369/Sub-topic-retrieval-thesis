{
 "cells": [
  {
   "cell_type": "code",
   "execution_count": 1,
   "id": "60837c38",
   "metadata": {},
   "outputs": [],
   "source": [
    "import pandas as pd\n",
    "import os\n",
    "import string\n",
    "import numpy as np\n",
    "import hdbscan\n",
    "import itertools\n",
    "import json\n",
    "\n",
    "import tensorflow as tf\n",
    "import tensorflow_text\n",
    "import tensorflow_hub as hub\n",
    "\n",
    "import warnings\n",
    "warnings.filterwarnings('ignore')"
   ]
  },
  {
   "cell_type": "code",
   "execution_count": 28,
   "id": "1b12e199",
   "metadata": {},
   "outputs": [],
   "source": [
    "tf_model = hub.load(os.getcwd()+ '/../../models/USE_model')"
   ]
  },
  {
   "cell_type": "code",
   "execution_count": 3,
   "id": "94cffccc",
   "metadata": {},
   "outputs": [],
   "source": [
    "def read_document_data(filepath):\n",
    "\n",
    "    try:\n",
    "        with open(filepath, 'r') as f:\n",
    "            data_dict = json.load(f)\n",
    "    except Exception as e:\n",
    "        data_dict = dict()\n",
    "        print(e)\n",
    "\n",
    "    return data_dict"
   ]
  },
  {
   "cell_type": "code",
   "execution_count": null,
   "id": "61cdb90e",
   "metadata": {},
   "outputs": [],
   "source": []
  },
  {
   "cell_type": "code",
   "execution_count": 37,
   "id": "4ab86323",
   "metadata": {},
   "outputs": [],
   "source": [
    "# keywords_df = pd.read_pickle(os.getcwd()+'/final_keywords_dataframe.pkl')\n",
    "keywords_df = pd.read_pickle(os.getcwd()+'/../dataframes/final_keywords_dataframe_cdd.pkl')\n",
    "\n",
    "# keywords_df = keywords_df.rename(columns={'id': 'page_id', 'nc_vec': 'mean_nc_vec', 'text_tokens': 'noun_chunks'})"
   ]
  },
  {
   "cell_type": "code",
   "execution_count": null,
   "id": "d686d24b",
   "metadata": {},
   "outputs": [],
   "source": [
    "def get_modified_vectors(vec_data):\n",
    "    \n",
    "    new_data = []\n",
    "    for val in vec_data:\n",
    "        new_data.append(val)\n",
    "    \n",
    "    new_data = np.array(new_data).reshape(-1, 512)\n",
    "    return new_data\n",
    "\n",
    "def get_pool_vec(doc_vec_list, pool):\n",
    "    \n",
    "    doc_vec_list = get_modified_vectors(doc_vec_list)\n",
    "    if pool == 'mean':\n",
    "        return np.nanmean(doc_vec_list, axis=0)\n",
    "    elif pool == 'max':\n",
    "        return np.nanmax(doc_vec_list, axis=0)\n",
    "\n",
    "def get_document_vec(text):\n",
    "    \n",
    "    return tf_model(text)['outputs'].numpy()[0].reshape(1, -1)\n",
    "\n",
    "def get_sent_transformers_keywords_use(keywords, query_vec, max_keyword_cnt = 30):\n",
    "    \n",
    "    keywords = list(dict(keywords).keys())\n",
    "    \n",
    "    candidate_embeddings_keywords = [tf_model(kw)['outputs'].numpy()[0] for kw in keywords]\n",
    "        \n",
    "    query_distances = cosine_similarity([query_vec], candidate_embeddings_keywords)\n",
    "    subtopic_keywords_dict = dict()\n",
    "    for index in query_distances.argsort()[0][-max_keyword_cnt:]: \n",
    "        \n",
    "        subtopic_keywords_dict[keywords[index]] = query_distances[0][index]\n",
    "    \n",
    "    subtopic_keywords_dict = sorted(subtopic_keywords_dict.items(), key=lambda x: x[1], reverse=True)\n",
    "\n",
    "    return subtopic_keywords_dict\n",
    "\n",
    "def get_candidate_pool(subtopic_keywords_list):\n",
    "    \n",
    "    candidate_pool = []\n",
    "    \n",
    "    lower_limit = 0.2\n",
    "    upper_limit = 0.4\n",
    "    \n",
    "    for key, value in subtopic_keywords_list:\n",
    "        \n",
    "        if value > 0.2 and value < 0.4:\n",
    "            candidate_pool.append(key)\n",
    "            \n",
    "    return candidate_pool"
   ]
  },
  {
   "cell_type": "code",
   "execution_count": 35,
   "id": "527090b2",
   "metadata": {},
   "outputs": [
    {
     "data": {
      "text/plain": [
       "numpy.ndarray"
      ]
     },
     "execution_count": 35,
     "metadata": {},
     "output_type": "execute_result"
    }
   ],
   "source": [
    "type(keywords_df[keywords_df['id'] == '210705_news_213812']['keywords'].values[0])"
   ]
  },
  {
   "cell_type": "code",
   "execution_count": 38,
   "id": "4ec55164",
   "metadata": {},
   "outputs": [
    {
     "data": {
      "text/plain": [
       "Index(['id', 'text', 'text_len', 'lang', 'nc_vec', 'label', 'label_name',\n",
       "       'title', 'pubDate', 'url', 'doc_repr_vec', 'text_tokens', 'keywords'],\n",
       "      dtype='object')"
      ]
     },
     "execution_count": 38,
     "metadata": {},
     "output_type": "execute_result"
    }
   ],
   "source": [
    "keywords_df.columns"
   ]
  },
  {
   "cell_type": "code",
   "execution_count": 29,
   "id": "8783762a",
   "metadata": {},
   "outputs": [
    {
     "data": {
      "text/html": [
       "<div>\n",
       "<style scoped>\n",
       "    .dataframe tbody tr th:only-of-type {\n",
       "        vertical-align: middle;\n",
       "    }\n",
       "\n",
       "    .dataframe tbody tr th {\n",
       "        vertical-align: top;\n",
       "    }\n",
       "\n",
       "    .dataframe thead th {\n",
       "        text-align: right;\n",
       "    }\n",
       "</style>\n",
       "<table border=\"1\" class=\"dataframe\">\n",
       "  <thead>\n",
       "    <tr style=\"text-align: right;\">\n",
       "      <th></th>\n",
       "      <th>id</th>\n",
       "      <th>text</th>\n",
       "      <th>text_len</th>\n",
       "      <th>lang</th>\n",
       "      <th>text_tokens</th>\n",
       "      <th>nc_vec</th>\n",
       "      <th>label</th>\n",
       "      <th>label_name</th>\n",
       "      <th>title</th>\n",
       "      <th>pubDate</th>\n",
       "      <th>url</th>\n",
       "      <th>doc_repr_vec</th>\n",
       "      <th>keywords</th>\n",
       "      <th>text_tokens</th>\n",
       "      <th>keywords</th>\n",
       "    </tr>\n",
       "  </thead>\n",
       "  <tbody>\n",
       "    <tr>\n",
       "      <th>1861</th>\n",
       "      <td>210705_news_423869</td>\n",
       "      <td>Three workers died and three more were injured...</td>\n",
       "      <td>271</td>\n",
       "      <td>en</td>\n",
       "      <td>[three worker, Saturday, repair work, a proces...</td>\n",
       "      <td>[[-0.004616789054125547, -0.012914112769067287...</td>\n",
       "      <td>1</td>\n",
       "      <td>technology</td>\n",
       "      <td>3 Dead in Russian Mining Giant's Arctic Accident</td>\n",
       "      <td>2021-02-21 08:05:19</td>\n",
       "      <td>https://www.themoscowtimes.com/2021/02/21/3-de...</td>\n",
       "      <td>[-0.006567743, -0.020839494, 0.072888, 0.00717...</td>\n",
       "      <td>[(russian mining giant Norilsk Nickel, 0.64577...</td>\n",
       "      <td>[orereloading facility, Russian arctic, court,...</td>\n",
       "      <td>[(Russian arctic, 0.49613178), (Russias riches...</td>\n",
       "    </tr>\n",
       "    <tr>\n",
       "      <th>2522</th>\n",
       "      <td>210705_news_213812</td>\n",
       "      <td>Photo: GomSpace The Norwegian Defence Research...</td>\n",
       "      <td>154</td>\n",
       "      <td>en</td>\n",
       "      <td>[photo, GomSpace, FFI, GomSpace, a contract, a...</td>\n",
       "      <td>[[-0.012575079686939716, 0.0164578128606081, 0...</td>\n",
       "      <td>2</td>\n",
       "      <td>military</td>\n",
       "      <td>GomSpace to Develop Norwegian Military Satelli...</td>\n",
       "      <td>2020-06-11 18:37:31</td>\n",
       "      <td>https://www.satellitetoday.com/government-mili...</td>\n",
       "      <td>[0.006033211, 0.029967265, 0.09030905, 0.02045...</td>\n",
       "      <td>[(a military communication nanosatellite, 0.49...</td>\n",
       "      <td>[polar LowEarth orbit, Arctic satellite relay,...</td>\n",
       "      <td>[(military communications nanosatellite, 0.499...</td>\n",
       "    </tr>\n",
       "  </tbody>\n",
       "</table>\n",
       "</div>"
      ],
      "text/plain": [
       "                      id                                               text  \\\n",
       "1861  210705_news_423869  Three workers died and three more were injured...   \n",
       "2522  210705_news_213812  Photo: GomSpace The Norwegian Defence Research...   \n",
       "\n",
       "      text_len lang                                        text_tokens  \\\n",
       "1861       271   en  [three worker, Saturday, repair work, a proces...   \n",
       "2522       154   en  [photo, GomSpace, FFI, GomSpace, a contract, a...   \n",
       "\n",
       "                                                 nc_vec  label  label_name  \\\n",
       "1861  [[-0.004616789054125547, -0.012914112769067287...      1  technology   \n",
       "2522  [[-0.012575079686939716, 0.0164578128606081, 0...      2    military   \n",
       "\n",
       "                                                  title             pubDate  \\\n",
       "1861   3 Dead in Russian Mining Giant's Arctic Accident 2021-02-21 08:05:19   \n",
       "2522  GomSpace to Develop Norwegian Military Satelli... 2020-06-11 18:37:31   \n",
       "\n",
       "                                                    url  \\\n",
       "1861  https://www.themoscowtimes.com/2021/02/21/3-de...   \n",
       "2522  https://www.satellitetoday.com/government-mili...   \n",
       "\n",
       "                                           doc_repr_vec  \\\n",
       "1861  [-0.006567743, -0.020839494, 0.072888, 0.00717...   \n",
       "2522  [0.006033211, 0.029967265, 0.09030905, 0.02045...   \n",
       "\n",
       "                                               keywords  \\\n",
       "1861  [(russian mining giant Norilsk Nickel, 0.64577...   \n",
       "2522  [(a military communication nanosatellite, 0.49...   \n",
       "\n",
       "                                            text_tokens  \\\n",
       "1861  [orereloading facility, Russian arctic, court,...   \n",
       "2522  [polar LowEarth orbit, Arctic satellite relay,...   \n",
       "\n",
       "                                               keywords  \n",
       "1861  [(Russian arctic, 0.49613178), (Russias riches...  \n",
       "2522  [(military communications nanosatellite, 0.499...  "
      ]
     },
     "execution_count": 29,
     "metadata": {},
     "output_type": "execute_result"
    }
   ],
   "source": [
    "keywords_df.sample(2)"
   ]
  },
  {
   "cell_type": "code",
   "execution_count": 9,
   "id": "009d47ca",
   "metadata": {},
   "outputs": [
    {
     "name": "stdout",
     "output_type": "stream",
     "text": [
      "107\n",
      "102\n",
      "106\n",
      "110\n",
      "106\n",
      "108\n",
      "110\n",
      "103\n",
      "108\n",
      "58\n",
      "91\n",
      "105\n",
      "107\n",
      "106\n",
      "101\n",
      "106\n",
      "108\n",
      "97\n",
      "105\n",
      "104\n",
      "73\n",
      "86\n"
     ]
    }
   ],
   "source": [
    "document_cnt_data = []\n",
    "final_page_id_list = []\n",
    "target_queries = ['Schutz von unbemannten Systemen', 'Waffen Systeme', 'Defense', 'militärische Entscheidungsfindung', 'unbemannte Wirksysteme', 'Data Centric Warfare', 'Militärische Kommunikation', 'Unbemannte Landsysteme', 'Cyber Attack', 'Kryptologie', 'Quantentechnologie', 'Satellitenkommunikation', 'Big Data, KI für Analyse', 'IT-Standards', 'Edge computing', 'Mixed Reality', 'Architekturanalyse', 'Kommunikationsnetze', 'Methode Architektur', 'Robotik', 'Visualisierung', 'Wellenformen und -ausbreitung']\n",
    "search_results_folder = os.getcwd() + '/../dataframes/search_results_index/'\n",
    "\n",
    "for query in target_queries:\n",
    "    query_updated = query.lower().replace(' ', '_')\n",
    "    query_vec = tf_model(query)['outputs'].numpy()[0]\n",
    "    \n",
    "    search_type = 'bm25'    \n",
    "    es_data = read_document_data(search_results_folder + f'{query_updated}_{search_type}_result.json')\n",
    "    search_type = 'semantic'  \n",
    "    semantic_data = read_document_data(search_results_folder + f'{query_updated}_{search_type}_result.json')\n",
    "    \n",
    "    cdd_page_id_list = list(set(list(es_data.values()) + list(semantic_data.values())))\n",
    "    \n",
    "    cdd_df = keywords_df[keywords_df['page_id'].isin(cdd_page_id_list)]\n",
    "    cdd_df['query'] = query\n",
    "    \n",
    "    cdd_df['keywords_use'] = cdd_df.apply(lambda x:get_sent_transformers_keywords_use(x['keywords'], query_vec_1, max_keyword_cnt = 25), axis=1)\n",
    "    cdd_df['candidate_pool'] = cdd_df.apply(lambda x:get_candidate_pool(x['keywords_use']), axis=1)\n",
    "    \n",
    "    cdd_df['label'] = cdd_df.apply(lambda x:get_cdd_label(x['page_id']) , axis=1)\n",
    "    \n",
    "    \n",
    "    "
   ]
  },
  {
   "cell_type": "code",
   "execution_count": null,
   "id": "dc23fe25",
   "metadata": {},
   "outputs": [],
   "source": [
    "es_mr_data = read_document_data(os.getcwd()+'/../dataframes/search_results_index/mixed_reality_bm25_result.json')\n",
    "ss_mr_data = read_document_data(os.getcwd()+'/../dataframes/search_results_index/mixed_reality_semantic_result.json')"
   ]
  }
 ],
 "metadata": {
  "kernelspec": {
   "display_name": "Python 3.7.9 ('xxx-eAHl9Gue')",
   "language": "python",
   "name": "python3"
  },
  "language_info": {
   "codemirror_mode": {
    "name": "ipython",
    "version": 3
   },
   "file_extension": ".py",
   "mimetype": "text/x-python",
   "name": "python",
   "nbconvert_exporter": "python",
   "pygments_lexer": "ipython3",
   "version": "3.7.9"
  },
  "vscode": {
   "interpreter": {
    "hash": "4ff63ab35ad57fb4ebf113256f5a4e16b29fc9f1ca638a7a05d763042e9f85c5"
   }
  }
 },
 "nbformat": 4,
 "nbformat_minor": 5
}
