{
 "cells": [
  {
   "cell_type": "markdown",
   "id": "0d85ea1e",
   "metadata": {},
   "source": [
    "# Co-relation analysis with arXiv abstracts"
   ]
  },
  {
   "cell_type": "code",
   "execution_count": 1,
   "id": "f4c7568d",
   "metadata": {},
   "outputs": [
    {
     "name": "stderr",
     "output_type": "stream",
     "text": [
      "C:\\Users\\sri.sai.praveen.gadi\\.virtualenvs\\xxx-eAHl9Gue\\lib\\site-packages\\tqdm\\auto.py:22: TqdmWarning: IProgress not found. Please update jupyter and ipywidgets. See https://ipywidgets.readthedocs.io/en/stable/user_install.html\n",
      "  from .autonotebook import tqdm as notebook_tqdm\n"
     ]
    }
   ],
   "source": [
    "import sqlite3\n",
    "import os\n",
    "import pandas as pd\n",
    "import numpy as np\n",
    "\n",
    "import json\n",
    "import tensorflow as tf\n",
    "import tensorflow_text\n",
    "import tensorflow_hub as hub\n",
    "from keybert import KeyBERT\n",
    "\n",
    "import pickle\n",
    "from sklearn.metrics.pairwise import cosine_similarity\n",
    "from sklearn.metrics import ndcg_score\n",
    "\n",
    "from nltk.tokenize import sent_tokenize\n",
    "\n",
    "import warnings\n",
    "warnings.filterwarnings('ignore')\n",
    "\n",
    "import fasttext\n",
    "import fasttext.util\n",
    "\n",
    "import spacy"
   ]
  },
  {
   "cell_type": "code",
   "execution_count": 2,
   "id": "a9311f23",
   "metadata": {},
   "outputs": [],
   "source": [
    "query = 'Quantentechnologie'\n",
    "query_search_arxiv = 'quantum technology'\n",
    "query_updated = query.lower().replace(' ', '_')\n",
    "\n",
    "sqlite_db_path = 'retrieval_test_dataset.db'\n",
    "select_table_query = \"\"\"SELECT * FROM retrieval_dataset where query='\"\"\"+query+\"\"\"'\"\"\"\n",
    "\n",
    "with open(f'search_results_index/{query_updated}_bm25_result.json', 'r') as f:\n",
    "    bm25_ranking = json.load(f)\n",
    "\n",
    "with open(f'search_results_index/{query_updated}_semantic_result.json', 'r') as f:\n",
    "    semantic_ranking = json.load(f)\n",
    "    \n",
    "    \n",
    "dataframe_folder_path = f'dataframes/{query.lower()}/'\n",
    "results_folder_path = f'results/{query.lower()}/'\n",
    "\n",
    "final_df_filepath = dataframe_folder_path+'final_df.pkl'\n",
    "arxiv_query_df_filepath = dataframe_folder_path+'arxiv_query_sent_df.pkl'"
   ]
  },
  {
   "cell_type": "code",
   "execution_count": 3,
   "id": "95fa6cfd",
   "metadata": {},
   "outputs": [],
   "source": [
    "def sqlite_common_query_seq(sql_query, sql_select=False, sql_insert_params=None):\n",
    "\n",
    "    print('running sqlite_common_query_seq')\n",
    "\n",
    "    try:\n",
    "        conn = sqlite3.connect(sqlite_db_path)\n",
    "\n",
    "        cursor = conn.cursor()\n",
    "\n",
    "        if sql_insert_params:\n",
    "            cursor.execute(sql_query, sql_insert_params)\n",
    "        else:\n",
    "            cursor.execute(sql_query)\n",
    "\n",
    "        if sql_select:\n",
    "            query_result = cursor.fetchall()\n",
    "            conn.close()\n",
    "\n",
    "            return query_result\n",
    "\n",
    "        conn.commit()\n",
    "        conn.close()\n",
    "\n",
    "        print('finished sqlite_common_query_seq')\n",
    "    except Exception as e:\n",
    "        print(e)"
   ]
  },
  {
   "cell_type": "code",
   "execution_count": 4,
   "id": "20cdb0ce",
   "metadata": {},
   "outputs": [
    {
     "name": "stdout",
     "output_type": "stream",
     "text": [
      "running sqlite_common_query_seq\n"
     ]
    }
   ],
   "source": [
    "query_result = sqlite_common_query_seq(select_table_query, sql_select=True) "
   ]
  },
  {
   "cell_type": "code",
   "execution_count": 5,
   "id": "c00a2121",
   "metadata": {},
   "outputs": [
    {
     "data": {
      "text/html": [
       "<div>\n",
       "<style scoped>\n",
       "    .dataframe tbody tr th:only-of-type {\n",
       "        vertical-align: middle;\n",
       "    }\n",
       "\n",
       "    .dataframe tbody tr th {\n",
       "        vertical-align: top;\n",
       "    }\n",
       "\n",
       "    .dataframe thead th {\n",
       "        text-align: right;\n",
       "    }\n",
       "</style>\n",
       "<table border=\"1\" class=\"dataframe\">\n",
       "  <thead>\n",
       "    <tr style=\"text-align: right;\">\n",
       "      <th></th>\n",
       "      <th>query</th>\n",
       "      <th>id</th>\n",
       "      <th>gt_rank</th>\n",
       "    </tr>\n",
       "  </thead>\n",
       "  <tbody>\n",
       "    <tr>\n",
       "      <th>11</th>\n",
       "      <td>Quantentechnologie</td>\n",
       "      <td>210705_news_392072</td>\n",
       "      <td>2</td>\n",
       "    </tr>\n",
       "    <tr>\n",
       "      <th>5</th>\n",
       "      <td>Quantentechnologie</td>\n",
       "      <td>210705_news_304057</td>\n",
       "      <td>1</td>\n",
       "    </tr>\n",
       "  </tbody>\n",
       "</table>\n",
       "</div>"
      ],
      "text/plain": [
       "                 query                  id  gt_rank\n",
       "11  Quantentechnologie  210705_news_392072        2\n",
       "5   Quantentechnologie  210705_news_304057        1"
      ]
     },
     "execution_count": 5,
     "metadata": {},
     "output_type": "execute_result"
    }
   ],
   "source": [
    "rank_df = pd.DataFrame(query_result, columns=['query', 'id', 'gt_rank'])\n",
    "rank_df.sample(2)"
   ]
  },
  {
   "cell_type": "code",
   "execution_count": 6,
   "id": "ce1598f8",
   "metadata": {},
   "outputs": [
    {
     "data": {
      "text/html": [
       "<div>\n",
       "<style scoped>\n",
       "    .dataframe tbody tr th:only-of-type {\n",
       "        vertical-align: middle;\n",
       "    }\n",
       "\n",
       "    .dataframe tbody tr th {\n",
       "        vertical-align: top;\n",
       "    }\n",
       "\n",
       "    .dataframe thead th {\n",
       "        text-align: right;\n",
       "    }\n",
       "</style>\n",
       "<table border=\"1\" class=\"dataframe\">\n",
       "  <thead>\n",
       "    <tr style=\"text-align: right;\">\n",
       "      <th></th>\n",
       "      <th>id</th>\n",
       "      <th>text</th>\n",
       "      <th>lang</th>\n",
       "      <th>title</th>\n",
       "      <th>pubDate</th>\n",
       "      <th>label</th>\n",
       "      <th>text_len</th>\n",
       "    </tr>\n",
       "  </thead>\n",
       "  <tbody>\n",
       "    <tr>\n",
       "      <th>10400</th>\n",
       "      <td>210705_news_486351</td>\n",
       "      <td>In gerade mal 120 Tagen will die neue stellver...</td>\n",
       "      <td>de</td>\n",
       "      <td>US-Vizegeneralstaatsanwältin: Strafverfolgung ...</td>\n",
       "      <td>2021-05-02 11:32:00</td>\n",
       "      <td>1</td>\n",
       "      <td>354</td>\n",
       "    </tr>\n",
       "    <tr>\n",
       "      <th>10813</th>\n",
       "      <td>210705_news_339750</td>\n",
       "      <td>Die deutschen Netzbetreiber fürchten, dass die...</td>\n",
       "      <td>de</td>\n",
       "      <td>Brandbrief: Netzbetreiber fordern Umsteuern be...</td>\n",
       "      <td>2020-11-12 16:18:00</td>\n",
       "      <td>1</td>\n",
       "      <td>468</td>\n",
       "    </tr>\n",
       "  </tbody>\n",
       "</table>\n",
       "</div>"
      ],
      "text/plain": [
       "                       id                                               text  \\\n",
       "10400  210705_news_486351  In gerade mal 120 Tagen will die neue stellver...   \n",
       "10813  210705_news_339750  Die deutschen Netzbetreiber fürchten, dass die...   \n",
       "\n",
       "      lang                                              title  \\\n",
       "10400   de  US-Vizegeneralstaatsanwältin: Strafverfolgung ...   \n",
       "10813   de  Brandbrief: Netzbetreiber fordern Umsteuern be...   \n",
       "\n",
       "                  pubDate  label  text_len  \n",
       "10400 2021-05-02 11:32:00      1       354  \n",
       "10813 2020-11-12 16:18:00      1       468  "
      ]
     },
     "execution_count": 6,
     "metadata": {},
     "output_type": "execute_result"
    }
   ],
   "source": [
    "df_xlm = pd.read_pickle('final_dataframe.pkl')\n",
    "df_xlm = df_xlm[['id', 'text', 'lang', 'title', 'pubDate', 'label', 'text_len']]\n",
    "df_xlm.sample(2)"
   ]
  },
  {
   "cell_type": "code",
   "execution_count": 7,
   "id": "b9d9458a",
   "metadata": {},
   "outputs": [
    {
     "data": {
      "text/html": [
       "<div>\n",
       "<style scoped>\n",
       "    .dataframe tbody tr th:only-of-type {\n",
       "        vertical-align: middle;\n",
       "    }\n",
       "\n",
       "    .dataframe tbody tr th {\n",
       "        vertical-align: top;\n",
       "    }\n",
       "\n",
       "    .dataframe thead th {\n",
       "        text-align: right;\n",
       "    }\n",
       "</style>\n",
       "<table border=\"1\" class=\"dataframe\">\n",
       "  <thead>\n",
       "    <tr style=\"text-align: right;\">\n",
       "      <th></th>\n",
       "      <th>id</th>\n",
       "      <th>query</th>\n",
       "      <th>gt_rank</th>\n",
       "      <th>text</th>\n",
       "      <th>lang</th>\n",
       "      <th>title</th>\n",
       "      <th>pubDate</th>\n",
       "      <th>label</th>\n",
       "      <th>text_len</th>\n",
       "    </tr>\n",
       "  </thead>\n",
       "  <tbody>\n",
       "    <tr>\n",
       "      <th>8</th>\n",
       "      <td>210705_news_357644</td>\n",
       "      <td>Quantentechnologie</td>\n",
       "      <td>2</td>\n",
       "      <td>Eine quantensichere Verbindung zweier Behörden...</td>\n",
       "      <td>de</td>\n",
       "      <td>Absolut abhörsicher: Quantensicher verschlüsse...</td>\n",
       "      <td>2020-12-03 10:20:00</td>\n",
       "      <td>1</td>\n",
       "      <td>427</td>\n",
       "    </tr>\n",
       "    <tr>\n",
       "      <th>0</th>\n",
       "      <td>210705_news_139039</td>\n",
       "      <td>Quantentechnologie</td>\n",
       "      <td>2</td>\n",
       "      <td>Das Bundesamt für Sicherheit in der Informatio...</td>\n",
       "      <td>de</td>\n",
       "      <td>BSI veröffentlicht Handlungsempfehlungen für P...</td>\n",
       "      <td>2020-03-27 12:26:00</td>\n",
       "      <td>1</td>\n",
       "      <td>338</td>\n",
       "    </tr>\n",
       "  </tbody>\n",
       "</table>\n",
       "</div>"
      ],
      "text/plain": [
       "                   id               query  gt_rank  \\\n",
       "8  210705_news_357644  Quantentechnologie        2   \n",
       "0  210705_news_139039  Quantentechnologie        2   \n",
       "\n",
       "                                                text lang  \\\n",
       "8  Eine quantensichere Verbindung zweier Behörden...   de   \n",
       "0  Das Bundesamt für Sicherheit in der Informatio...   de   \n",
       "\n",
       "                                               title             pubDate  \\\n",
       "8  Absolut abhörsicher: Quantensicher verschlüsse... 2020-12-03 10:20:00   \n",
       "0  BSI veröffentlicht Handlungsempfehlungen für P... 2020-03-27 12:26:00   \n",
       "\n",
       "   label  text_len  \n",
       "8      1       427  \n",
       "0      1       338  "
      ]
     },
     "execution_count": 7,
     "metadata": {},
     "output_type": "execute_result"
    }
   ],
   "source": [
    "final_df = pd.concat([rank_df.set_index('id'),df_xlm.set_index('id')], axis=1, join='inner').reset_index()\n",
    "final_df.sample(2)"
   ]
  },
  {
   "cell_type": "code",
   "execution_count": 8,
   "id": "0c653985",
   "metadata": {},
   "outputs": [],
   "source": [
    "def transform_gt_rank(rank):\n",
    "    \n",
    "    if rank == 1:\n",
    "        return 3\n",
    "    elif rank == 2:\n",
    "        return 2\n",
    "    elif rank == 3:\n",
    "        return 1\n",
    "    elif rank == 4:\n",
    "        return 0\n",
    "    \n",
    "def get_rank_from_rank_df(idx):\n",
    "    return rank_df[rank_df['id'] == idx]['gt_rank'].values[0]"
   ]
  },
  {
   "cell_type": "code",
   "execution_count": 32,
   "id": "fb56a54c",
   "metadata": {},
   "outputs": [],
   "source": [
    "final_df = pd.read_pickle(final_df_filepath)"
   ]
  },
  {
   "cell_type": "code",
   "execution_count": 9,
   "id": "4adc8b13",
   "metadata": {},
   "outputs": [],
   "source": [
    "final_df['gt_rank'] = final_df.apply(lambda x:get_rank_from_rank_df(x['id']), axis=1)"
   ]
  },
  {
   "cell_type": "code",
   "execution_count": 10,
   "id": "7068d6e3",
   "metadata": {},
   "outputs": [
    {
     "data": {
      "text/plain": [
       "1    12\n",
       "2     5\n",
       "3     4\n",
       "Name: gt_rank, dtype: int64"
      ]
     },
     "execution_count": 10,
     "metadata": {},
     "output_type": "execute_result"
    }
   ],
   "source": [
    "final_df['gt_rank'] = final_df.apply(lambda x:transform_gt_rank(x['gt_rank']), axis=1)\n",
    "final_df['gt_rank'].value_counts()"
   ]
  },
  {
   "cell_type": "code",
   "execution_count": 11,
   "id": "416d9eec",
   "metadata": {},
   "outputs": [
    {
     "data": {
      "text/html": [
       "<div>\n",
       "<style scoped>\n",
       "    .dataframe tbody tr th:only-of-type {\n",
       "        vertical-align: middle;\n",
       "    }\n",
       "\n",
       "    .dataframe tbody tr th {\n",
       "        vertical-align: top;\n",
       "    }\n",
       "\n",
       "    .dataframe thead th {\n",
       "        text-align: right;\n",
       "    }\n",
       "</style>\n",
       "<table border=\"1\" class=\"dataframe\">\n",
       "  <thead>\n",
       "    <tr style=\"text-align: right;\">\n",
       "      <th></th>\n",
       "      <th>id</th>\n",
       "      <th>gt_rank</th>\n",
       "    </tr>\n",
       "  </thead>\n",
       "  <tbody>\n",
       "    <tr>\n",
       "      <th>5</th>\n",
       "      <td>210705_news_304057</td>\n",
       "      <td>3</td>\n",
       "    </tr>\n",
       "    <tr>\n",
       "      <th>9</th>\n",
       "      <td>210705_news_376449</td>\n",
       "      <td>3</td>\n",
       "    </tr>\n",
       "  </tbody>\n",
       "</table>\n",
       "</div>"
      ],
      "text/plain": [
       "                   id  gt_rank\n",
       "5  210705_news_304057        3\n",
       "9  210705_news_376449        3"
      ]
     },
     "execution_count": 11,
     "metadata": {},
     "output_type": "execute_result"
    }
   ],
   "source": [
    "gt_rank_df = final_df[['id', 'gt_rank']].sort_values('gt_rank', ascending=False)\n",
    "gt_rank_df.head(2)"
   ]
  },
  {
   "cell_type": "markdown",
   "id": "ece7b055",
   "metadata": {},
   "source": [
    "# Performance evaluation using nDCG\n",
    "\n",
    "1. BM25\n",
    "2. Semantic search"
   ]
  },
  {
   "cell_type": "code",
   "execution_count": 12,
   "id": "91b1a61e",
   "metadata": {},
   "outputs": [],
   "source": [
    "bm25_doc_list = []\n",
    "semantic_doc_list = []\n",
    "\n",
    "for key, item in bm25_ranking.items():\n",
    "    bm25_doc_list.append(item)\n",
    "\n",
    "for key, item in semantic_ranking.items():\n",
    "    semantic_doc_list.append(item)"
   ]
  },
  {
   "cell_type": "code",
   "execution_count": 13,
   "id": "8a7513a7",
   "metadata": {},
   "outputs": [],
   "source": [
    "gt_rank_bm25_df = gt_rank_df[gt_rank_df['id'].isin(bm25_doc_list)]\n",
    "gt_rank_semantic_df = gt_rank_df[gt_rank_df['id'].isin(semantic_doc_list)]"
   ]
  },
  {
   "cell_type": "code",
   "execution_count": 14,
   "id": "d819c485",
   "metadata": {},
   "outputs": [],
   "source": [
    "def get_gt_ranking(df):\n",
    "    return df.gt_rank.values\n",
    "\n",
    "def get_gt_rank_for_id(idx):\n",
    "    return gt_rank_df[gt_rank_df['id'] == idx]['gt_rank'].values[0]\n",
    "\n",
    "def get_bm25_semantic_relevance():\n",
    "    \n",
    "    bm25_relevance = []\n",
    "    semantic_relevance = []\n",
    "    \n",
    "    for key, item in bm25_ranking.items():\n",
    "        bm25_relevance.append(get_gt_rank_for_id(item))\n",
    "        \n",
    "    for key, item in semantic_ranking.items():\n",
    "        semantic_relevance.append(get_gt_rank_for_id(item))\n",
    "        \n",
    "    return np.asarray([bm25_relevance]), np.asarray([semantic_relevance])\n",
    "\n",
    "def get_ndcg_scores(true_ranking, predicted_ranking):\n",
    "    \n",
    "    ndcg_15 = ndcg_score(true_ranking, predicted_ranking, k=15)\n",
    "    ndcg_10 = ndcg_score(true_ranking, predicted_ranking, k=10)\n",
    "    ndcg_5 = ndcg_score(true_ranking, predicted_ranking, k=5)\n",
    "    \n",
    "    print(f'NDCG@15 -- {ndcg_15}')\n",
    "    print(f'NDCG@10 -- {ndcg_10}')\n",
    "    print(f'NDCG@5 -- {ndcg_5}')"
   ]
  },
  {
   "cell_type": "code",
   "execution_count": 15,
   "id": "5d895a76",
   "metadata": {},
   "outputs": [],
   "source": [
    "true_relevance_bm25 = np.asarray([get_gt_ranking(gt_rank_bm25_df)])\n",
    "true_relevance_semantic = np.asarray([get_gt_ranking(gt_rank_semantic_df)])\n",
    "\n",
    "bm25_relevance, semantc_relevance = get_bm25_semantic_relevance()"
   ]
  },
  {
   "cell_type": "code",
   "execution_count": 16,
   "id": "0fe02595",
   "metadata": {},
   "outputs": [
    {
     "name": "stdout",
     "output_type": "stream",
     "text": [
      "NDCG@15 -- 0.8884657626415814\n",
      "NDCG@10 -- 0.8262936413057995\n",
      "NDCG@5 -- 0.7345577848667816\n"
     ]
    }
   ],
   "source": [
    "get_ndcg_scores(true_relevance_bm25, bm25_relevance)"
   ]
  },
  {
   "cell_type": "code",
   "execution_count": 17,
   "id": "5d35b0bd",
   "metadata": {},
   "outputs": [
    {
     "name": "stdout",
     "output_type": "stream",
     "text": [
      "NDCG@15 -- 0.8788977123201883\n",
      "NDCG@10 -- 0.8148664326306773\n",
      "NDCG@5 -- 0.7026810891499645\n"
     ]
    }
   ],
   "source": [
    "get_ndcg_scores(true_relevance_semantic, semantc_relevance)"
   ]
  },
  {
   "cell_type": "markdown",
   "id": "b3832bb5",
   "metadata": {},
   "source": [
    "# Arxiv dataset loading"
   ]
  },
  {
   "cell_type": "markdown",
   "id": "143a9c9f",
   "metadata": {},
   "source": [
    "### https://arxiv.org/\n",
    "\n",
    "1. Physics -- not related\n",
    "2. Quantitative Biology -- not related\n",
    "3. Quantitative Finance -- not related\n",
    "4. Economics -- not related\n",
    "<br>\n",
    "\n",
    "5. Mathematics -- related\n",
    "6. Computer Science -- related\n",
    "7. Statistics -- related\n",
    "8. Electrical Engineering and Systems Science -- related\n"
   ]
  },
  {
   "cell_type": "code",
   "execution_count": 4,
   "id": "11f58e20",
   "metadata": {},
   "outputs": [],
   "source": [
    "articles = []\n",
    "with open(\"arxiv-metadata-oai-snapshot.json\", \"r\") as f:\n",
    "    for l in f:\n",
    "        d = json.loads(l)\n",
    "        articles.append((d['id'], d['title'], d['abstract'], d['categories']))"
   ]
  },
  {
   "cell_type": "code",
   "execution_count": 5,
   "id": "ff29c46f",
   "metadata": {},
   "outputs": [],
   "source": [
    "arxiv_df = pd.DataFrame(articles, columns=['id', 'title', 'abstract', 'categories'])"
   ]
  },
  {
   "cell_type": "code",
   "execution_count": 6,
   "id": "c18dee3a",
   "metadata": {},
   "outputs": [
    {
     "data": {
      "text/html": [
       "<div>\n",
       "<style scoped>\n",
       "    .dataframe tbody tr th:only-of-type {\n",
       "        vertical-align: middle;\n",
       "    }\n",
       "\n",
       "    .dataframe tbody tr th {\n",
       "        vertical-align: top;\n",
       "    }\n",
       "\n",
       "    .dataframe thead th {\n",
       "        text-align: right;\n",
       "    }\n",
       "</style>\n",
       "<table border=\"1\" class=\"dataframe\">\n",
       "  <thead>\n",
       "    <tr style=\"text-align: right;\">\n",
       "      <th></th>\n",
       "      <th>id</th>\n",
       "      <th>title</th>\n",
       "      <th>abstract</th>\n",
       "      <th>categories</th>\n",
       "    </tr>\n",
       "  </thead>\n",
       "  <tbody>\n",
       "    <tr>\n",
       "      <th>812472</th>\n",
       "      <td>1701.07064</td>\n",
       "      <td>Summatory relations and prime products for the...</td>\n",
       "      <td>The Stieltjes constants $\\gamma_k(a)$ appear...</td>\n",
       "      <td>math.NT math.CV</td>\n",
       "    </tr>\n",
       "    <tr>\n",
       "      <th>1244707</th>\n",
       "      <td>2002.07284</td>\n",
       "      <td>Sharp Asymptotics and Optimal Performance for ...</td>\n",
       "      <td>We study convex empirical risk minimization ...</td>\n",
       "      <td>math.ST cs.IT eess.SP math.IT stat.ML stat.TH</td>\n",
       "    </tr>\n",
       "  </tbody>\n",
       "</table>\n",
       "</div>"
      ],
      "text/plain": [
       "                 id                                              title  \\\n",
       "812472   1701.07064  Summatory relations and prime products for the...   \n",
       "1244707  2002.07284  Sharp Asymptotics and Optimal Performance for ...   \n",
       "\n",
       "                                                  abstract  \\\n",
       "812472     The Stieltjes constants $\\gamma_k(a)$ appear...   \n",
       "1244707    We study convex empirical risk minimization ...   \n",
       "\n",
       "                                            categories  \n",
       "812472                                 math.NT math.CV  \n",
       "1244707  math.ST cs.IT eess.SP math.IT stat.ML stat.TH  "
      ]
     },
     "execution_count": 6,
     "metadata": {},
     "output_type": "execute_result"
    }
   ],
   "source": [
    "arxiv_df.sample(2)"
   ]
  },
  {
   "cell_type": "code",
   "execution_count": 27,
   "id": "d09734f4",
   "metadata": {},
   "outputs": [],
   "source": [
    "def get_target_category(category):\n",
    "    \n",
    "    category_list = category.split(' ')\n",
    "    main_categories = []\n",
    "    \n",
    "    for cat in category_list:\n",
    "        main_categories.append(cat.split('.')[0])\n",
    "    \n",
    "    return main_categories\n",
    "\n",
    "def get_category_label(category):\n",
    "    \n",
    "    for cat in category:\n",
    "        if cat in target_list:\n",
    "            return 1\n",
    "    \n",
    "    return 0"
   ]
  },
  {
   "cell_type": "code",
   "execution_count": 14,
   "id": "45c4f80a",
   "metadata": {},
   "outputs": [],
   "source": [
    "arxiv_df['main_categories'] = arxiv_df.apply(lambda x:get_target_category(x['categories']), axis=1)"
   ]
  },
  {
   "cell_type": "code",
   "execution_count": 15,
   "id": "7ee769f8",
   "metadata": {},
   "outputs": [],
   "source": [
    "final_main_categories = []\n",
    "\n",
    "for main_cat in arxiv_df.main_categories.values:\n",
    "    \n",
    "    final_main_categories.extend(main_cat)"
   ]
  },
  {
   "cell_type": "code",
   "execution_count": 20,
   "id": "6177b96e",
   "metadata": {},
   "outputs": [],
   "source": [
    "from collections import Counter\n",
    "\n",
    "counter = Counter(final_main_categories)"
   ]
  },
  {
   "cell_type": "code",
   "execution_count": 21,
   "id": "add106df",
   "metadata": {},
   "outputs": [
    {
     "data": {
      "text/plain": [
       "756101"
      ]
     },
     "execution_count": 21,
     "metadata": {},
     "output_type": "execute_result"
    }
   ],
   "source": [
    "counter['math']"
   ]
  },
  {
   "cell_type": "code",
   "execution_count": 22,
   "id": "3f31816c",
   "metadata": {},
   "outputs": [
    {
     "data": {
      "text/plain": [
       "645302"
      ]
     },
     "execution_count": 22,
     "metadata": {},
     "output_type": "execute_result"
    }
   ],
   "source": [
    "counter['cs']"
   ]
  },
  {
   "cell_type": "code",
   "execution_count": 23,
   "id": "b3022080",
   "metadata": {},
   "outputs": [
    {
     "data": {
      "text/plain": [
       "117051"
      ]
     },
     "execution_count": 23,
     "metadata": {},
     "output_type": "execute_result"
    }
   ],
   "source": [
    "counter['stat']"
   ]
  },
  {
   "cell_type": "code",
   "execution_count": 24,
   "id": "66805acf",
   "metadata": {},
   "outputs": [
    {
     "data": {
      "text/plain": [
       "55560"
      ]
     },
     "execution_count": 24,
     "metadata": {},
     "output_type": "execute_result"
    }
   ],
   "source": [
    "counter['eess']"
   ]
  },
  {
   "cell_type": "code",
   "execution_count": 28,
   "id": "df6a76e4",
   "metadata": {},
   "outputs": [],
   "source": [
    "target_list = ['math', 'cs', 'stat', 'eess']\n",
    "\n",
    "arxiv_df['category_list'] = arxiv_df.apply(lambda x:get_category_label(x['main_categories']), axis=1)"
   ]
  },
  {
   "cell_type": "code",
   "execution_count": null,
   "id": "5b0f6b7d",
   "metadata": {},
   "outputs": [],
   "source": [
    "arxiv_df.cate"
   ]
  },
  {
   "cell_type": "code",
   "execution_count": 17,
   "id": "3fd31182",
   "metadata": {},
   "outputs": [
    {
     "data": {
      "text/plain": [
       "Counter({'hep-ph': 165922,\n",
       "         'math': 756101,\n",
       "         'cs': 645302,\n",
       "         'physics': 261021,\n",
       "         'cond-mat': 433734,\n",
       "         'gr-qc': 95077,\n",
       "         'astro-ph': 365225,\n",
       "         'hep-th': 152519,\n",
       "         'hep-ex': 47982,\n",
       "         'nlin': 41854,\n",
       "         'q-bio': 44563,\n",
       "         'quant-ph': 125828,\n",
       "         'hep-lat': 25742,\n",
       "         'nucl-th': 52382,\n",
       "         'math-ph': 70688,\n",
       "         'nucl-ex': 23259,\n",
       "         'stat': 117051,\n",
       "         'q-fin': 18991,\n",
       "         'econ': 6444,\n",
       "         'eess': 55560,\n",
       "         'acc-phys': 49,\n",
       "         'adap-org': 584,\n",
       "         'chao-dyn': 2398,\n",
       "         'patt-sol': 650,\n",
       "         'dg-ga': 732,\n",
       "         'solv-int': 1413,\n",
       "         'bayes-an': 16,\n",
       "         'comp-gas': 221,\n",
       "         'alg-geom': 1423,\n",
       "         'funct-an': 427,\n",
       "         'q-alg': 1578,\n",
       "         'ao-sci': 17,\n",
       "         'atom-ph': 123,\n",
       "         'chem-ph': 251,\n",
       "         'plasm-ph': 38,\n",
       "         'mtrl-th': 262,\n",
       "         'cmp-lg': 894,\n",
       "         'supr-con': 175})"
      ]
     },
     "execution_count": 17,
     "metadata": {},
     "output_type": "execute_result"
    }
   ],
   "source": [
    "Counter(final_main_categories)"
   ]
  },
  {
   "cell_type": "code",
   "execution_count": 56,
   "id": "29f53615",
   "metadata": {},
   "outputs": [],
   "source": [
    "# query_concept_list = ['quantum technology', 'quantentechnologie', 'quantem computing', 'quantencomputer']"
   ]
  },
  {
   "cell_type": "code",
   "execution_count": 99,
   "id": "c9868534",
   "metadata": {},
   "outputs": [],
   "source": [
    "def query_docs_sent(abstract):\n",
    "    \n",
    "    if query_search_arxiv not in abstract.lower():\n",
    "        return 'NA'\n",
    "    \n",
    "    sentences = sent_tokenize(abstract)\n",
    "    sentences_list = []\n",
    "    \n",
    "    for sent in sentences:\n",
    "        if query_search_arxiv in sent.lower():\n",
    "            sentences_list.append(sent)\n",
    "    \n",
    "    if len(sentences_list) == 0:\n",
    "        return 'NA'\n",
    "    else:\n",
    "        return ' '.join(sentences_list)\n",
    "    \n",
    "def query_docs_tf(abstract):\n",
    "    \n",
    "    return abstract.lower().count(query_search_arxiv)"
   ]
  },
  {
   "cell_type": "code",
   "execution_count": 91,
   "id": "6810f4c4",
   "metadata": {},
   "outputs": [],
   "source": [
    "# arxiv_df['abstract_sents'] = arxiv_df.apply(lambda x:query_docs_sent(x['abstract']), axis=1)\n",
    "# arxiv_df['abstract_len'] = arxiv_df.apply(lambda x:len(x['abstract_sents']), axis=1)"
   ]
  },
  {
   "cell_type": "code",
   "execution_count": 92,
   "id": "56690fe7",
   "metadata": {},
   "outputs": [],
   "source": [
    "arxiv_df['quant_label'] = arxiv_df.apply(lambda x:query_docs_tf(x['abstract']), axis=1)"
   ]
  },
  {
   "cell_type": "code",
   "execution_count": 93,
   "id": "73164b2d",
   "metadata": {},
   "outputs": [
    {
     "data": {
      "text/plain": [
       "<AxesSubplot:>"
      ]
     },
     "execution_count": 93,
     "metadata": {},
     "output_type": "execute_result"
    },
    {
     "data": {
      "image/png": "[encoded data removed]",
      "text/plain": [
       "<Figure size 432x288 with 1 Axes>"
      ]
     },
     "metadata": {
      "needs_background": "light"
     },
     "output_type": "display_data"
    }
   ],
   "source": [
    "arxiv_df['quant_label'].hist()"
   ]
  },
  {
   "cell_type": "code",
   "execution_count": 94,
   "id": "0bbe525a",
   "metadata": {},
   "outputs": [],
   "source": [
    "# arxiv_df['quant_label'] = arxiv_df.apply(lambda x:query_docs(x['abstract']), axis=1)"
   ]
  },
  {
   "cell_type": "code",
   "execution_count": 95,
   "id": "147e1936",
   "metadata": {},
   "outputs": [
    {
     "name": "stdout",
     "output_type": "stream",
     "text": [
      "31\n"
     ]
    },
    {
     "data": {
      "text/plain": [
       "<AxesSubplot:>"
      ]
     },
     "execution_count": 95,
     "metadata": {},
     "output_type": "execute_result"
    },
    {
     "data": {
      "image/png": "[encoded data removed]",
      "text/plain": [
       "<Figure size 432x288 with 1 Axes>"
      ]
     },
     "metadata": {
      "needs_background": "light"
     },
     "output_type": "display_data"
    }
   ],
   "source": [
    "# quant_df = arxiv_df[arxiv_df['quant_label'] == 1]\n",
    "quant_df = arxiv_df[arxiv_df['quant_label'] > 1]\n",
    "print(len(quant_df.index))\n",
    "quant_df['quant_label'].hist()"
   ]
  },
  {
   "cell_type": "code",
   "execution_count": 96,
   "id": "a0184b6b",
   "metadata": {},
   "outputs": [
    {
     "data": {
      "text/plain": [
       "2104306"
      ]
     },
     "execution_count": 96,
     "metadata": {},
     "output_type": "execute_result"
    }
   ],
   "source": [
    "len(arxiv_df.index)"
   ]
  },
  {
   "cell_type": "code",
   "execution_count": 97,
   "id": "170e234d",
   "metadata": {},
   "outputs": [
    {
     "data": {
      "text/plain": [
       "31"
      ]
     },
     "execution_count": 97,
     "metadata": {},
     "output_type": "execute_result"
    }
   ],
   "source": [
    "len(quant_df.index)"
   ]
  },
  {
   "cell_type": "code",
   "execution_count": 100,
   "id": "2de809bc",
   "metadata": {},
   "outputs": [],
   "source": [
    "quant_df['abstract_sents'] = quant_df.apply(lambda x:query_docs_sent(x['abstract']), axis=1)"
   ]
  },
  {
   "cell_type": "code",
   "execution_count": 101,
   "id": "b5a5f1e1",
   "metadata": {},
   "outputs": [],
   "source": [
    "# quant_df['abstract_len'] = quant_df.apply(lambda x:len(x['abstract_sents']), axis=1)\n",
    "# quant_df['abstract_len'].hist()"
   ]
  },
  {
   "cell_type": "code",
   "execution_count": 102,
   "id": "b102d5d4",
   "metadata": {},
   "outputs": [],
   "source": [
    "# quant_df.abstract_len.describe()"
   ]
  },
  {
   "cell_type": "markdown",
   "id": "77afd20c",
   "metadata": {},
   "source": [
    "# I. Does manual labels correlate with arxiv abstracts? (cosine sim)\n",
    "\n",
    "1. Co-relation analyis between ranked result vectors and mean/max abstracts vectors\n",
    "2. Co-relation analyis between ranked result **noun-chunk** vectors and mean/max abstracts **noun-chunk** vectors\n",
    "3. Co-relation analyis between ranked result **keyword** vectors and mean/max abstracts **keyword** vectors\n",
    "4. Co-relation analyis between ranked result **paragraph** vectors and abstracts **summarization** vectors"
   ]
  },
  {
   "cell_type": "code",
   "execution_count": 103,
   "id": "2646a367",
   "metadata": {},
   "outputs": [],
   "source": [
    "# tf_model = hub.load(os.getcwd()+ '/../../models/USE_model')"
   ]
  },
  {
   "cell_type": "code",
   "execution_count": 104,
   "id": "18c9f027",
   "metadata": {},
   "outputs": [],
   "source": [
    "def get_modified_vectors(vec_data):\n",
    "    \n",
    "    new_data = []\n",
    "    for val in vec_data:\n",
    "        new_data.append(val)\n",
    "    \n",
    "    new_data = np.array(new_data).reshape(-1, 512)\n",
    "    return new_data\n",
    "\n",
    "def get_document_vec(text):\n",
    "    \n",
    "    return tf_model(text)['outputs'].numpy()[0].reshape(1, -1)\n",
    "\n",
    "def get_pool_vec(doc_vec_list, pool):\n",
    "    \n",
    "    doc_vec_list = get_modified_vectors(doc_vec_list)\n",
    "    if pool == 'mean':\n",
    "        return np.nanmean(doc_vec_list, axis=0)\n",
    "    elif pool == 'max':\n",
    "        return np.nanmax(doc_vec_list, axis=0)\n",
    "    \n",
    "def get_cosine_sim(vec_1, vec_2):\n",
    "    \n",
    "    return cosine_similarity(vec_1.reshape(1, -1), vec_2.reshape(1, -1))[0][0]"
   ]
  },
  {
   "cell_type": "code",
   "execution_count": 105,
   "id": "5af80107",
   "metadata": {},
   "outputs": [],
   "source": [
    "quant_df['doc_vec'] = quant_df.apply(lambda x:get_document_vec(x['abstract_sents']), axis=1)"
   ]
  },
  {
   "cell_type": "code",
   "execution_count": 106,
   "id": "94cb1551",
   "metadata": {},
   "outputs": [],
   "source": [
    "# final_df['doc_vec'] = final_df.apply(lambda x:get_document_vec(x['text']), axis=1)"
   ]
  },
  {
   "cell_type": "code",
   "execution_count": 107,
   "id": "2bda2209",
   "metadata": {},
   "outputs": [],
   "source": [
    "mean_doc_vec = get_pool_vec(quant_df.doc_vec.values, pool='mean')\n",
    "max_doc_vec = get_pool_vec(quant_df.doc_vec.values, pool='max')"
   ]
  },
  {
   "cell_type": "code",
   "execution_count": 108,
   "id": "d21fcbe5",
   "metadata": {},
   "outputs": [],
   "source": [
    "final_df['mean_sim'] = final_df.apply(lambda x:get_cosine_sim(x['doc_vec'], mean_doc_vec), axis=1)\n",
    "final_df['max_sim'] = final_df.apply(lambda x:get_cosine_sim(x['doc_vec'], max_doc_vec), axis=1)"
   ]
  },
  {
   "cell_type": "code",
   "execution_count": 109,
   "id": "e385ef96",
   "metadata": {},
   "outputs": [
    {
     "data": {
      "text/plain": [
       "-0.2514190748671617"
      ]
     },
     "execution_count": 109,
     "metadata": {},
     "output_type": "execute_result"
    }
   ],
   "source": [
    "final_df['gt_rank'].corr(final_df['mean_sim'])"
   ]
  },
  {
   "cell_type": "code",
   "execution_count": 110,
   "id": "041bb2d4",
   "metadata": {},
   "outputs": [
    {
     "data": {
      "text/plain": [
       "-0.10121444522995372"
      ]
     },
     "execution_count": 110,
     "metadata": {},
     "output_type": "execute_result"
    }
   ],
   "source": [
    "final_df['gt_rank'].corr(final_df['max_sim'])"
   ]
  },
  {
   "cell_type": "code",
   "execution_count": 111,
   "id": "1aa9b92c",
   "metadata": {},
   "outputs": [],
   "source": [
    "# final_df[['gt_rank', 'mean_sim', 'max_sim']].sort_values('gt_rank')"
   ]
  },
  {
   "cell_type": "markdown",
   "id": "aee3d063",
   "metadata": {},
   "source": [
    "#### 2. Co-relation analyis between ranked result **noun-chunk** vectors and mean/max abstracts **noun-chunk** vectors"
   ]
  },
  {
   "cell_type": "code",
   "execution_count": 112,
   "id": "c92da266",
   "metadata": {},
   "outputs": [],
   "source": [
    "nlp_de = spacy.load(\"de_core_news_sm\")\n",
    "nlp_en = spacy.load(\"en_core_web_sm\")"
   ]
  },
  {
   "cell_type": "code",
   "execution_count": 113,
   "id": "90c30de1",
   "metadata": {},
   "outputs": [],
   "source": [
    "PRETRAINED_FASTTRACK_MODEL = os.getcwd()+ '/../../models/lid.176.bin'\n",
    "\n",
    "LANG_EN = \"__label__en\"\n",
    "LANG_DE = \"__label__de\"\n",
    "\n",
    "fasttext.FastText.eprint = lambda x: None\n",
    "# fasttext_model = fasttext.load_model(PRETRAINED_FASTTRACK_MODEL)\n",
    "\n",
    "def detect_language(text):\n",
    "    \n",
    "    lang_label = fasttext_model.predict(text.replace(\"\\n\",\" \"))[0][0].split('__label__')[1]\n",
    "    return lang_label"
   ]
  },
  {
   "cell_type": "code",
   "execution_count": 114,
   "id": "6e308c45",
   "metadata": {},
   "outputs": [],
   "source": [
    "def get_nounchunks_vector(nounchunk_list):\n",
    "    \n",
    "    nounchunk_vec_list = []\n",
    "    for nc in nounchunk_list:\n",
    "        nounchunk_vec_list.append(get_document_vec(nc))\n",
    "        \n",
    "    return get_pool_vec(np.array(nounchunk_vec_list), pool='mean')\n",
    "\n",
    "def get_noun_chunks(text, lang):\n",
    "    \n",
    "    doc = None\n",
    "\n",
    "    try:\n",
    "        if len(text) >= 999999:\n",
    "            return None\n",
    "\n",
    "        if lang == 'en':\n",
    "            doc = nlp_en(text)\n",
    "        elif lang == 'de':\n",
    "            doc = nlp_de(text)\n",
    "        else:\n",
    "            return None\n",
    "        \n",
    "        noun_phrases_list = []\n",
    "        \n",
    "        for nc in doc.noun_chunks:\n",
    "            noun_phrases_list.append(nc.lemma_) \n",
    "            \n",
    "        return noun_phrases_list\n",
    "    except Exception as e:\n",
    "        print(e)\n",
    "        return None"
   ]
  },
  {
   "cell_type": "code",
   "execution_count": 115,
   "id": "22925779",
   "metadata": {},
   "outputs": [],
   "source": [
    "quant_df['lang'] = quant_df.apply(lambda x:detect_language(x['abstract_sents']), axis=1)\n",
    "\n",
    "quant_df['noun_chunks'] = quant_df.apply(lambda x:get_noun_chunks(x['abstract_sents'], x['lang']), axis=1)\n",
    "# final_df['noun_chunks'] = final_df.apply(lambda x:get_noun_chunks(x['text'], x['lang']), axis=1)"
   ]
  },
  {
   "cell_type": "code",
   "execution_count": 116,
   "id": "2480b9bb",
   "metadata": {},
   "outputs": [],
   "source": [
    "quant_df['nounchunk_mean_vec'] = quant_df.apply(lambda x:get_nounchunks_vector(x['noun_chunks']), axis=1)\n",
    "# final_df['nounchunk_mean_vec'] = final_df.apply(lambda x:get_nounchunks_vector(x['noun_chunks']), axis=1)\n",
    "\n",
    "mean_doc_vec_nounchunk = get_pool_vec(quant_df.nounchunk_mean_vec.values, pool='mean')\n",
    "max_doc_vec_nounchunk = get_pool_vec(quant_df.nounchunk_mean_vec.values, pool='max')\n",
    "\n",
    "final_df['mean_sim_nounchunk'] = final_df.apply(lambda x:get_cosine_sim(x['nounchunk_mean_vec'], mean_doc_vec_nounchunk), axis=1)\n",
    "final_df['max_sim_nounchunk'] = final_df.apply(lambda x:get_cosine_sim(x['nounchunk_mean_vec'], max_doc_vec_nounchunk), axis=1)"
   ]
  },
  {
   "cell_type": "code",
   "execution_count": 117,
   "id": "05d67c07",
   "metadata": {},
   "outputs": [
    {
     "data": {
      "text/plain": [
       "0.21115233526485677"
      ]
     },
     "execution_count": 117,
     "metadata": {},
     "output_type": "execute_result"
    }
   ],
   "source": [
    "final_df['gt_rank'].corr(final_df['mean_sim_nounchunk'])"
   ]
  },
  {
   "cell_type": "code",
   "execution_count": 118,
   "id": "f23d60b0",
   "metadata": {},
   "outputs": [
    {
     "data": {
      "text/plain": [
       "0.026809977992466483"
      ]
     },
     "execution_count": 118,
     "metadata": {},
     "output_type": "execute_result"
    }
   ],
   "source": [
    "final_df['gt_rank'].corr(final_df['max_sim_nounchunk'])"
   ]
  },
  {
   "cell_type": "code",
   "execution_count": 119,
   "id": "fe4d40f3",
   "metadata": {},
   "outputs": [
    {
     "data": {
      "text/html": [
       "<div>\n",
       "<style scoped>\n",
       "    .dataframe tbody tr th:only-of-type {\n",
       "        vertical-align: middle;\n",
       "    }\n",
       "\n",
       "    .dataframe tbody tr th {\n",
       "        vertical-align: top;\n",
       "    }\n",
       "\n",
       "    .dataframe thead th {\n",
       "        text-align: right;\n",
       "    }\n",
       "</style>\n",
       "<table border=\"1\" class=\"dataframe\">\n",
       "  <thead>\n",
       "    <tr style=\"text-align: right;\">\n",
       "      <th></th>\n",
       "      <th>gt_rank</th>\n",
       "      <th>mean_sim_nounchunk</th>\n",
       "      <th>max_sim_nounchunk</th>\n",
       "    </tr>\n",
       "  </thead>\n",
       "  <tbody>\n",
       "    <tr>\n",
       "      <th>10</th>\n",
       "      <td>0</td>\n",
       "      <td>0.907703</td>\n",
       "      <td>0.611960</td>\n",
       "    </tr>\n",
       "    <tr>\n",
       "      <th>18</th>\n",
       "      <td>0</td>\n",
       "      <td>0.881509</td>\n",
       "      <td>0.595990</td>\n",
       "    </tr>\n",
       "    <tr>\n",
       "      <th>17</th>\n",
       "      <td>0</td>\n",
       "      <td>0.905592</td>\n",
       "      <td>0.603056</td>\n",
       "    </tr>\n",
       "    <tr>\n",
       "      <th>16</th>\n",
       "      <td>0</td>\n",
       "      <td>0.891994</td>\n",
       "      <td>0.578404</td>\n",
       "    </tr>\n",
       "    <tr>\n",
       "      <th>14</th>\n",
       "      <td>0</td>\n",
       "      <td>0.906083</td>\n",
       "      <td>0.589287</td>\n",
       "    </tr>\n",
       "    <tr>\n",
       "      <th>13</th>\n",
       "      <td>0</td>\n",
       "      <td>0.895283</td>\n",
       "      <td>0.583553</td>\n",
       "    </tr>\n",
       "    <tr>\n",
       "      <th>12</th>\n",
       "      <td>0</td>\n",
       "      <td>0.877160</td>\n",
       "      <td>0.578992</td>\n",
       "    </tr>\n",
       "    <tr>\n",
       "      <th>20</th>\n",
       "      <td>0</td>\n",
       "      <td>0.890943</td>\n",
       "      <td>0.572797</td>\n",
       "    </tr>\n",
       "    <tr>\n",
       "      <th>6</th>\n",
       "      <td>0</td>\n",
       "      <td>0.838840</td>\n",
       "      <td>0.568291</td>\n",
       "    </tr>\n",
       "    <tr>\n",
       "      <th>4</th>\n",
       "      <td>0</td>\n",
       "      <td>0.888563</td>\n",
       "      <td>0.581538</td>\n",
       "    </tr>\n",
       "    <tr>\n",
       "      <th>3</th>\n",
       "      <td>0</td>\n",
       "      <td>0.898009</td>\n",
       "      <td>0.579717</td>\n",
       "    </tr>\n",
       "    <tr>\n",
       "      <th>7</th>\n",
       "      <td>0</td>\n",
       "      <td>0.881536</td>\n",
       "      <td>0.578742</td>\n",
       "    </tr>\n",
       "    <tr>\n",
       "      <th>8</th>\n",
       "      <td>2</td>\n",
       "      <td>0.875441</td>\n",
       "      <td>0.564815</td>\n",
       "    </tr>\n",
       "    <tr>\n",
       "      <th>19</th>\n",
       "      <td>2</td>\n",
       "      <td>0.894207</td>\n",
       "      <td>0.573505</td>\n",
       "    </tr>\n",
       "    <tr>\n",
       "      <th>11</th>\n",
       "      <td>2</td>\n",
       "      <td>0.918996</td>\n",
       "      <td>0.601595</td>\n",
       "    </tr>\n",
       "    <tr>\n",
       "      <th>2</th>\n",
       "      <td>2</td>\n",
       "      <td>0.869087</td>\n",
       "      <td>0.570609</td>\n",
       "    </tr>\n",
       "    <tr>\n",
       "      <th>0</th>\n",
       "      <td>2</td>\n",
       "      <td>0.904203</td>\n",
       "      <td>0.596867</td>\n",
       "    </tr>\n",
       "    <tr>\n",
       "      <th>9</th>\n",
       "      <td>3</td>\n",
       "      <td>0.915185</td>\n",
       "      <td>0.604313</td>\n",
       "    </tr>\n",
       "    <tr>\n",
       "      <th>5</th>\n",
       "      <td>3</td>\n",
       "      <td>0.895484</td>\n",
       "      <td>0.587423</td>\n",
       "    </tr>\n",
       "    <tr>\n",
       "      <th>15</th>\n",
       "      <td>3</td>\n",
       "      <td>0.875841</td>\n",
       "      <td>0.570756</td>\n",
       "    </tr>\n",
       "    <tr>\n",
       "      <th>1</th>\n",
       "      <td>3</td>\n",
       "      <td>0.909690</td>\n",
       "      <td>0.592059</td>\n",
       "    </tr>\n",
       "  </tbody>\n",
       "</table>\n",
       "</div>"
      ],
      "text/plain": [
       "    gt_rank  mean_sim_nounchunk  max_sim_nounchunk\n",
       "10        0            0.907703           0.611960\n",
       "18        0            0.881509           0.595990\n",
       "17        0            0.905592           0.603056\n",
       "16        0            0.891994           0.578404\n",
       "14        0            0.906083           0.589287\n",
       "13        0            0.895283           0.583553\n",
       "12        0            0.877160           0.578992\n",
       "20        0            0.890943           0.572797\n",
       "6         0            0.838840           0.568291\n",
       "4         0            0.888563           0.581538\n",
       "3         0            0.898009           0.579717\n",
       "7         0            0.881536           0.578742\n",
       "8         2            0.875441           0.564815\n",
       "19        2            0.894207           0.573505\n",
       "11        2            0.918996           0.601595\n",
       "2         2            0.869087           0.570609\n",
       "0         2            0.904203           0.596867\n",
       "9         3            0.915185           0.604313\n",
       "5         3            0.895484           0.587423\n",
       "15        3            0.875841           0.570756\n",
       "1         3            0.909690           0.592059"
      ]
     },
     "execution_count": 119,
     "metadata": {},
     "output_type": "execute_result"
    }
   ],
   "source": [
    "final_df[['gt_rank', 'mean_sim_nounchunk', 'max_sim_nounchunk']].sort_values('gt_rank')"
   ]
  },
  {
   "cell_type": "code",
   "execution_count": 120,
   "id": "5532c299",
   "metadata": {},
   "outputs": [
    {
     "data": {
      "text/html": [
       "<div>\n",
       "<style scoped>\n",
       "    .dataframe tbody tr th:only-of-type {\n",
       "        vertical-align: middle;\n",
       "    }\n",
       "\n",
       "    .dataframe tbody tr th {\n",
       "        vertical-align: top;\n",
       "    }\n",
       "\n",
       "    .dataframe thead th {\n",
       "        text-align: right;\n",
       "    }\n",
       "</style>\n",
       "<table border=\"1\" class=\"dataframe\">\n",
       "  <thead>\n",
       "    <tr style=\"text-align: right;\">\n",
       "      <th></th>\n",
       "      <th>id</th>\n",
       "      <th>mean_sim_nounchunk</th>\n",
       "    </tr>\n",
       "  </thead>\n",
       "  <tbody>\n",
       "    <tr>\n",
       "      <th>4</th>\n",
       "      <td>210705_news_289800</td>\n",
       "      <td>0.888563</td>\n",
       "    </tr>\n",
       "    <tr>\n",
       "      <th>16</th>\n",
       "      <td>210705_news_488902</td>\n",
       "      <td>0.891994</td>\n",
       "    </tr>\n",
       "  </tbody>\n",
       "</table>\n",
       "</div>"
      ],
      "text/plain": [
       "                    id  mean_sim_nounchunk\n",
       "4   210705_news_289800            0.888563\n",
       "16  210705_news_488902            0.891994"
      ]
     },
     "execution_count": 120,
     "metadata": {},
     "output_type": "execute_result"
    }
   ],
   "source": [
    "noun_chunk_scores_df = final_df[['id', 'mean_sim_nounchunk']]\n",
    "noun_chunk_scores_df.sample(2)"
   ]
  },
  {
   "cell_type": "code",
   "execution_count": 121,
   "id": "1d9e310e",
   "metadata": {},
   "outputs": [],
   "source": [
    "bm25_nounchunk_ranking_df = pd.concat([noun_chunk_scores_df.set_index('id'),gt_rank_bm25_df.set_index('id')], axis=1, join='inner').reset_index()\n",
    "semantic_nounchunk_ranking_df = pd.concat([noun_chunk_scores_df.set_index('id'),gt_rank_semantic_df.set_index('id')], axis=1, join='inner').reset_index()"
   ]
  },
  {
   "cell_type": "code",
   "execution_count": 122,
   "id": "4ea9636d",
   "metadata": {},
   "outputs": [],
   "source": [
    "bm25_nounchunk_ranking_df = bm25_nounchunk_ranking_df.sort_values(['mean_sim_nounchunk'], ascending=False)\n",
    "semantic_nounchunk_ranking_df = semantic_nounchunk_ranking_df.sort_values(['mean_sim_nounchunk'], ascending=False)"
   ]
  },
  {
   "cell_type": "code",
   "execution_count": 123,
   "id": "d451ed2e",
   "metadata": {},
   "outputs": [],
   "source": [
    "bm25_nc_relevance = np.asarray([get_gt_ranking(bm25_nounchunk_ranking_df)])\n",
    "semantic_nc_relevance = np.asarray([get_gt_ranking(semantic_nounchunk_ranking_df)])"
   ]
  },
  {
   "cell_type": "code",
   "execution_count": 124,
   "id": "e4dd71fb",
   "metadata": {},
   "outputs": [
    {
     "name": "stdout",
     "output_type": "stream",
     "text": [
      "NDCG@15 -- 0.8427884084594189\n",
      "NDCG@10 -- 0.7428329474757139\n",
      "NDCG@5 -- 0.6206178771639991\n"
     ]
    }
   ],
   "source": [
    "get_ndcg_scores(true_relevance_bm25, bm25_nc_relevance)"
   ]
  },
  {
   "cell_type": "code",
   "execution_count": 125,
   "id": "e4550597",
   "metadata": {},
   "outputs": [
    {
     "name": "stdout",
     "output_type": "stream",
     "text": [
      "NDCG@15 -- 0.9023042696507532\n",
      "NDCG@10 -- 0.8568591449409623\n",
      "NDCG@5 -- 0.777237482687555\n"
     ]
    }
   ],
   "source": [
    "get_ndcg_scores(true_relevance_semantic, semantic_nc_relevance)"
   ]
  },
  {
   "cell_type": "markdown",
   "id": "0eb92b6b",
   "metadata": {},
   "source": [
    "#### 3. Co-relation analyis between ranked result **keyword** vectors and mean/max abstracts **keyword** vectors"
   ]
  },
  {
   "cell_type": "code",
   "execution_count": 126,
   "id": "192a6ba2",
   "metadata": {},
   "outputs": [],
   "source": [
    "# kw_model = KeyBERT(model=tf_model)\n",
    "\n",
    "from sentence_transformers import SentenceTransformer\n",
    "\n",
    "# model = SentenceTransformer('sentence-transformers/paraphrase-xlm-r-multilingual-v1')\n",
    "# kw_model = KeyBERT(model=model)"
   ]
  },
  {
   "cell_type": "code",
   "execution_count": 127,
   "id": "59bec99a",
   "metadata": {},
   "outputs": [],
   "source": [
    "def get_top_keywords(text):\n",
    "    \n",
    "    return kw_model.extract_keywords(text, keyphrase_ngram_range=(1, 2),\n",
    "                              use_maxsum=True, nr_candidates=20, top_n=15)\n",
    "\n",
    "def get_keywords_vector(keywords_list):\n",
    "    \n",
    "    keyword_vec_list = []\n",
    "    for keyword in keywords_list:\n",
    "        keyword_vec_list.append(get_document_vec(keyword[0]))\n",
    "        \n",
    "    return get_pool_vec(np.array(keyword_vec_list), pool='mean')"
   ]
  },
  {
   "cell_type": "code",
   "execution_count": 128,
   "id": "783197a6",
   "metadata": {},
   "outputs": [],
   "source": [
    "quant_df['keywords'] = quant_df.apply(lambda x:get_top_keywords(x['abstract_sents']), axis=1)\n",
    "# final_df['keywords'] = final_df.apply(lambda x:get_top_keywords(x['text']), axis=1)\n",
    "\n",
    "quant_df['keyword_mean_vec'] = quant_df.apply(lambda x:get_keywords_vector(x['keywords']), axis=1)\n",
    "# final_df['keyword_mean_vec'] = final_df.apply(lambda x:get_keywords_vector(x['keywords']), axis=1)\n",
    "\n",
    "mean_doc_vec_keyword = get_pool_vec(quant_df.keyword_mean_vec.values, pool='mean')\n",
    "max_doc_vec_keyword = get_pool_vec(quant_df.keyword_mean_vec.values, pool='max')\n",
    "\n",
    "final_df['mean_sim_keyword'] = final_df.apply(lambda x:get_cosine_sim(x['keyword_mean_vec'], mean_doc_vec_keyword), axis=1)\n",
    "final_df['max_sim_keyword'] = final_df.apply(lambda x:get_cosine_sim(x['keyword_mean_vec'], max_doc_vec_keyword), axis=1)"
   ]
  },
  {
   "cell_type": "code",
   "execution_count": 129,
   "id": "e3891f40",
   "metadata": {},
   "outputs": [
    {
     "data": {
      "text/plain": [
       "-0.12332569018557901"
      ]
     },
     "execution_count": 129,
     "metadata": {},
     "output_type": "execute_result"
    }
   ],
   "source": [
    "final_df['gt_rank'].corr(final_df['mean_sim_keyword'])"
   ]
  },
  {
   "cell_type": "code",
   "execution_count": 130,
   "id": "2b9f7dce",
   "metadata": {},
   "outputs": [
    {
     "data": {
      "text/plain": [
       "-0.09738077824388684"
      ]
     },
     "execution_count": 130,
     "metadata": {},
     "output_type": "execute_result"
    }
   ],
   "source": [
    "final_df['gt_rank'].corr(final_df['max_sim_keyword'])"
   ]
  },
  {
   "cell_type": "code",
   "execution_count": 131,
   "id": "1edf2533",
   "metadata": {},
   "outputs": [],
   "source": [
    "# final_df[['gt_rank', 'mean_sim_keyword', 'max_sim_keyword']].sort_values('gt_rank')"
   ]
  },
  {
   "cell_type": "markdown",
   "id": "227fdf14",
   "metadata": {},
   "source": [
    "#### 4. Co-relation analyis between ranked result **paragraph** vectors and abstracts summarization vectors"
   ]
  },
  {
   "cell_type": "code",
   "execution_count": 132,
   "id": "27b79b9a",
   "metadata": {},
   "outputs": [],
   "source": [
    "from transformers import pipeline\n",
    "model_name = 'deutsche-telekom/mt5-small-sum-de-en-v1'\n",
    "summarizer = pipeline(\"summarization\", model=model_name, tokenizer=model_name)"
   ]
  },
  {
   "cell_type": "code",
   "execution_count": 133,
   "id": "067ba857",
   "metadata": {},
   "outputs": [],
   "source": [
    "def get_summarization_text(text):\n",
    "    return summarizer(text, min_length=50, max_length=100)[0]['summary_text']\n",
    "\n",
    "def get_abstract_summarization_vectors(text):\n",
    "    \n",
    "    text_tokens = text.split()\n",
    "    summarizer_vec_list = []\n",
    "    \n",
    "    if len(text_tokens) < 512:\n",
    "        summarizer_vec_list.append(get_summarization_text(text))\n",
    "    else:\n",
    "        text_1 = ' '.join(text_tokens[:512])\n",
    "        text_2 = ' '.join(text_tokens[512:])\n",
    "        \n",
    "        summarizer_vec_list.append(get_summarization_text(text_1))\n",
    "        summarizer_vec_list.append(get_summarization_text(text_2))\n",
    "        \n",
    "    return get_nounchunks_vector(summarizer_vec_list)\n",
    "\n",
    "def get_text_summarization_data(text):\n",
    "    \n",
    "    paragraph_vecs = []\n",
    "    sentences = sent_tokenize(text)\n",
    "    num_sent = 5\n",
    "    \n",
    "    for idx in range(0, num_sent, 5):\n",
    "        idx_end = idx+5\n",
    "        if idx_end < num_sent and num_sent-idx_end < 3:\n",
    "            gt_sentences = sentences[idx:idx_end]\n",
    "        else:\n",
    "            gt_sentences = sentences[idx:]\n",
    "\n",
    "        paragraph_vecs.append(get_document_vec(''.join(gt_sentences))) \n",
    "    \n",
    "    \n",
    "    sim_scores = []\n",
    "    for paragraph_vec in paragraph_vecs:\n",
    "        for gt_vec in quant_df.summarizer_vec:\n",
    "            sim_scores.append(get_cosine_sim(paragraph_vec, gt_vec))\n",
    "\n",
    "    return np.mean(np.array(sim_scores), axis=0)"
   ]
  },
  {
   "cell_type": "code",
   "execution_count": 134,
   "id": "0d04fba4",
   "metadata": {},
   "outputs": [
    {
     "name": "stderr",
     "output_type": "stream",
     "text": [
      "Your max_length is set to 100, but you input_length is only 93. You might consider decreasing max_length manually, e.g. summarizer('...', max_length=46)\n",
      "Your max_length is set to 100, but you input_length is only 92. You might consider decreasing max_length manually, e.g. summarizer('...', max_length=46)\n",
      "Your max_length is set to 100, but you input_length is only 96. You might consider decreasing max_length manually, e.g. summarizer('...', max_length=48)\n",
      "Your max_length is set to 100, but you input_length is only 66. You might consider decreasing max_length manually, e.g. summarizer('...', max_length=33)\n",
      "Your max_length is set to 100, but you input_length is only 71. You might consider decreasing max_length manually, e.g. summarizer('...', max_length=35)\n",
      "Your max_length is set to 100, but you input_length is only 64. You might consider decreasing max_length manually, e.g. summarizer('...', max_length=32)\n",
      "Your max_length is set to 100, but you input_length is only 55. You might consider decreasing max_length manually, e.g. summarizer('...', max_length=27)\n",
      "Your max_length is set to 100, but you input_length is only 93. You might consider decreasing max_length manually, e.g. summarizer('...', max_length=46)\n",
      "Your max_length is set to 100, but you input_length is only 68. You might consider decreasing max_length manually, e.g. summarizer('...', max_length=34)\n",
      "Your max_length is set to 100, but you input_length is only 61. You might consider decreasing max_length manually, e.g. summarizer('...', max_length=30)\n",
      "Your max_length is set to 100, but you input_length is only 91. You might consider decreasing max_length manually, e.g. summarizer('...', max_length=45)\n",
      "Your max_length is set to 100, but you input_length is only 89. You might consider decreasing max_length manually, e.g. summarizer('...', max_length=44)\n",
      "Your max_length is set to 100, but you input_length is only 74. You might consider decreasing max_length manually, e.g. summarizer('...', max_length=37)\n",
      "Your max_length is set to 100, but you input_length is only 50. You might consider decreasing max_length manually, e.g. summarizer('...', max_length=25)\n",
      "Your max_length is set to 100, but you input_length is only 69. You might consider decreasing max_length manually, e.g. summarizer('...', max_length=34)\n",
      "Your max_length is set to 100, but you input_length is only 98. You might consider decreasing max_length manually, e.g. summarizer('...', max_length=49)\n",
      "Your max_length is set to 100, but you input_length is only 56. You might consider decreasing max_length manually, e.g. summarizer('...', max_length=28)\n",
      "Your max_length is set to 100, but you input_length is only 88. You might consider decreasing max_length manually, e.g. summarizer('...', max_length=44)\n",
      "Your max_length is set to 100, but you input_length is only 47. You might consider decreasing max_length manually, e.g. summarizer('...', max_length=23)\n",
      "Your max_length is set to 100, but you input_length is only 71. You might consider decreasing max_length manually, e.g. summarizer('...', max_length=35)\n"
     ]
    }
   ],
   "source": [
    "quant_df['summarizer_vec'] = quant_df.apply(lambda x:get_abstract_summarization_vectors(x['abstract_sents']), axis=1) "
   ]
  },
  {
   "cell_type": "code",
   "execution_count": 135,
   "id": "43b0584b",
   "metadata": {},
   "outputs": [],
   "source": [
    "final_df['mean_sim_summ'] = final_df.apply(lambda x:get_text_summarization_data(x['text']), axis=1)\n",
    "# final_df['max_sim_summ'] = final_df.apply(lambda x:get_cosine_sim(x['nounchunk_mean_vec'], max_doc_vec_summ), axis=1)"
   ]
  },
  {
   "cell_type": "code",
   "execution_count": 136,
   "id": "f519c4b4",
   "metadata": {},
   "outputs": [
    {
     "data": {
      "text/plain": [
       "-0.2941355783499731"
      ]
     },
     "execution_count": 136,
     "metadata": {},
     "output_type": "execute_result"
    }
   ],
   "source": [
    "final_df['gt_rank'].corr(final_df['mean_sim_summ'])"
   ]
  },
  {
   "cell_type": "code",
   "execution_count": 137,
   "id": "7b5760ae",
   "metadata": {},
   "outputs": [],
   "source": [
    "# final_df.to_pickle('dataframes/quantum_technologie/final_df.pkl')\n",
    "# quant_df.to_pickle('dataframes/quantum_technologie/quant_df.pkl')"
   ]
  },
  {
   "cell_type": "markdown",
   "id": "8644a9ff",
   "metadata": {},
   "source": [
    "## II. Can arxiv abstracts be used for knowledge set creation? (related keywords)"
   ]
  },
  {
   "cell_type": "code",
   "execution_count": null,
   "id": "c3547fb9",
   "metadata": {},
   "outputs": [],
   "source": []
  }
 ],
 "metadata": {
  "kernelspec": {
   "display_name": "Python 3.7.9 ('xxx-eAHl9Gue')",
   "language": "python",
   "name": "python3"
  },
  "language_info": {
   "codemirror_mode": {
    "name": "ipython",
    "version": 3
   },
   "file_extension": ".py",
   "mimetype": "text/x-python",
   "name": "python",
   "nbconvert_exporter": "python",
   "pygments_lexer": "ipython3",
   "version": "3.7.9"
  },
  "vscode": {
   "interpreter": {
    "hash": "4ff63ab35ad57fb4ebf113256f5a4e16b29fc9f1ca638a7a05d763042e9f85c5"
   }
  }
 },
 "nbformat": 4,
 "nbformat_minor": 5
}
