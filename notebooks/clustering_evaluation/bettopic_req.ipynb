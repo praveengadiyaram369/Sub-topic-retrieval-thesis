{
 "cells": [
  {
   "cell_type": "code",
   "execution_count": 15,
   "id": "8ae41d70",
   "metadata": {},
   "outputs": [],
   "source": [
    "import os\n",
    "import pandas\n",
    "\n",
    "from bertopic import BERTopic"
   ]
  },
  {
   "cell_type": "code",
   "execution_count": 16,
   "id": "687d5bf8",
   "metadata": {},
   "outputs": [],
   "source": [
    "with open(os.getcwd()+'/vehicle reqs.txt', 'r', encoding=\"utf8\") as f:\n",
    "    reqs = f.read().splitlines()"
   ]
  },
  {
   "cell_type": "code",
   "execution_count": 17,
   "id": "170668af",
   "metadata": {},
   "outputs": [],
   "source": [
    "topic_model = BERTopic()\n",
    "topics, probs = topic_model.fit_transform(reqs)"
   ]
  },
  {
   "cell_type": "code",
   "execution_count": 18,
   "id": "7056eb51",
   "metadata": {},
   "outputs": [
    {
     "data": {
      "text/plain": [
       "0              -1_the_vehicle_shall_of\n",
       "1            0_the_with_vehicle_system\n",
       "2                  1_not_than_less_may\n",
       "3    2_the_shall_compartment_operators\n",
       "Name: Name, dtype: object"
      ]
     },
     "execution_count": 18,
     "metadata": {},
     "output_type": "execute_result"
    }
   ],
   "source": [
    "topic_model.get_topic_info()['Name']"
   ]
  }
 ],
 "metadata": {
  "kernelspec": {
   "display_name": "Python 3 (ipykernel)",
   "language": "python",
   "name": "python3"
  },
  "language_info": {
   "codemirror_mode": {
    "name": "ipython",
    "version": 3
   },
   "file_extension": ".py",
   "mimetype": "text/x-python",
   "name": "python",
   "nbconvert_exporter": "python",
   "pygments_lexer": "ipython3",
   "version": "3.7.9"
  }
 },
 "nbformat": 4,
 "nbformat_minor": 5
}
